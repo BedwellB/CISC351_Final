{
 "cells": [
  {
   "cell_type": "markdown",
   "source": [
    "PART 1: Data instantiating cell"
   ],
   "metadata": {
    "collapsed": false
   }
  },
  {
   "cell_type": "code",
   "execution_count": 47,
   "outputs": [
    {
     "name": "stdout",
     "output_type": "stream",
     "text": [
      "4514729\n"
     ]
    },
    {
     "data": {
      "text/plain": "                               event_id  \\\n0  cd816651-56b2-4ed9-887c-c83de732428d   \n1  82cc5228-eb80-4e0d-9f6f-e644dec3ab06   \n2  6e1f9cc4-d1df-4a6b-972d-a20765beb326   \n3  43dc27a7-a72d-4894-809c-e868de05f7ee   \n4  47b7839b-9b87-442d-b2c1-9ebedcad8e06   \n\n                                    transaction_hash  block_number  \\\n0  0x0c73daad5e6946e6b2f1374846d6ba3025d6e6a2569f...      12936373   \n1  0x0c73daad5e6946e6b2f1374846d6ba3025d6e6a2569f...      12936373   \n2  0x0c73daad5e6946e6b2f1374846d6ba3025d6e6a2569f...      12936373   \n3  0x0c73daad5e6946e6b2f1374846d6ba3025d6e6a2569f...      12936373   \n4  0x0c73daad5e6946e6b2f1374846d6ba3025d6e6a2569f...      12936373   \n\n                                  nft_address  \\\n0  0x629A673A8242c2AC4B7B8C5D8735fbeac21A6205   \n1  0x629A673A8242c2AC4B7B8C5D8735fbeac21A6205   \n2  0x629A673A8242c2AC4B7B8C5D8735fbeac21A6205   \n3  0x629A673A8242c2AC4B7B8C5D8735fbeac21A6205   \n4  0x629A673A8242c2AC4B7B8C5D8735fbeac21A6205   \n\n                                            token_id  \\\n0  6682934142305278177002530107138320246486863356...   \n1  1198507443711741845273832738859307575893198744...   \n2  1541220344281436903042142177888467401468454835...   \n3  7993840355029527745913866651030234226423689128...   \n4  1123719749142984581497870712442861055686734521...   \n\n                                 from_address  \\\n0  0x25f1d709b329C7349b8209851E90eFa3a7f60178   \n1  0x0737E7162C88E9FBB963334e4Bfe6e97447fF811   \n2  0xA0fEc186c4b3FAd39ca373dFdd52E79C2495F2c3   \n3  0x90bE22069560A9bAd99543B4A922d1FE34Ae84E9   \n4  0xA8E9C42Ebb915EeEC5080B7Bcc5D844475595091   \n\n                                   to_address  transaction_value   timestamp  \n0  0xC69b4c6fFDBaF843A0d0588c99E3C67f27069BEa                0.0  1627776481  \n1  0xC69b4c6fFDBaF843A0d0588c99E3C67f27069BEa                0.0  1627776481  \n2  0xC69b4c6fFDBaF843A0d0588c99E3C67f27069BEa                0.0  1627776481  \n3  0xC69b4c6fFDBaF843A0d0588c99E3C67f27069BEa                0.0  1627776481  \n4  0xC69b4c6fFDBaF843A0d0588c99E3C67f27069BEa                0.0  1627776481  ",
      "text/html": "<div>\n<style scoped>\n    .dataframe tbody tr th:only-of-type {\n        vertical-align: middle;\n    }\n\n    .dataframe tbody tr th {\n        vertical-align: top;\n    }\n\n    .dataframe thead th {\n        text-align: right;\n    }\n</style>\n<table border=\"1\" class=\"dataframe\">\n  <thead>\n    <tr style=\"text-align: right;\">\n      <th></th>\n      <th>event_id</th>\n      <th>transaction_hash</th>\n      <th>block_number</th>\n      <th>nft_address</th>\n      <th>token_id</th>\n      <th>from_address</th>\n      <th>to_address</th>\n      <th>transaction_value</th>\n      <th>timestamp</th>\n    </tr>\n  </thead>\n  <tbody>\n    <tr>\n      <th>0</th>\n      <td>cd816651-56b2-4ed9-887c-c83de732428d</td>\n      <td>0x0c73daad5e6946e6b2f1374846d6ba3025d6e6a2569f...</td>\n      <td>12936373</td>\n      <td>0x629A673A8242c2AC4B7B8C5D8735fbeac21A6205</td>\n      <td>6682934142305278177002530107138320246486863356...</td>\n      <td>0x25f1d709b329C7349b8209851E90eFa3a7f60178</td>\n      <td>0xC69b4c6fFDBaF843A0d0588c99E3C67f27069BEa</td>\n      <td>0.0</td>\n      <td>1627776481</td>\n    </tr>\n    <tr>\n      <th>1</th>\n      <td>82cc5228-eb80-4e0d-9f6f-e644dec3ab06</td>\n      <td>0x0c73daad5e6946e6b2f1374846d6ba3025d6e6a2569f...</td>\n      <td>12936373</td>\n      <td>0x629A673A8242c2AC4B7B8C5D8735fbeac21A6205</td>\n      <td>1198507443711741845273832738859307575893198744...</td>\n      <td>0x0737E7162C88E9FBB963334e4Bfe6e97447fF811</td>\n      <td>0xC69b4c6fFDBaF843A0d0588c99E3C67f27069BEa</td>\n      <td>0.0</td>\n      <td>1627776481</td>\n    </tr>\n    <tr>\n      <th>2</th>\n      <td>6e1f9cc4-d1df-4a6b-972d-a20765beb326</td>\n      <td>0x0c73daad5e6946e6b2f1374846d6ba3025d6e6a2569f...</td>\n      <td>12936373</td>\n      <td>0x629A673A8242c2AC4B7B8C5D8735fbeac21A6205</td>\n      <td>1541220344281436903042142177888467401468454835...</td>\n      <td>0xA0fEc186c4b3FAd39ca373dFdd52E79C2495F2c3</td>\n      <td>0xC69b4c6fFDBaF843A0d0588c99E3C67f27069BEa</td>\n      <td>0.0</td>\n      <td>1627776481</td>\n    </tr>\n    <tr>\n      <th>3</th>\n      <td>43dc27a7-a72d-4894-809c-e868de05f7ee</td>\n      <td>0x0c73daad5e6946e6b2f1374846d6ba3025d6e6a2569f...</td>\n      <td>12936373</td>\n      <td>0x629A673A8242c2AC4B7B8C5D8735fbeac21A6205</td>\n      <td>7993840355029527745913866651030234226423689128...</td>\n      <td>0x90bE22069560A9bAd99543B4A922d1FE34Ae84E9</td>\n      <td>0xC69b4c6fFDBaF843A0d0588c99E3C67f27069BEa</td>\n      <td>0.0</td>\n      <td>1627776481</td>\n    </tr>\n    <tr>\n      <th>4</th>\n      <td>47b7839b-9b87-442d-b2c1-9ebedcad8e06</td>\n      <td>0x0c73daad5e6946e6b2f1374846d6ba3025d6e6a2569f...</td>\n      <td>12936373</td>\n      <td>0x629A673A8242c2AC4B7B8C5D8735fbeac21A6205</td>\n      <td>1123719749142984581497870712442861055686734521...</td>\n      <td>0xA8E9C42Ebb915EeEC5080B7Bcc5D844475595091</td>\n      <td>0xC69b4c6fFDBaF843A0d0588c99E3C67f27069BEa</td>\n      <td>0.0</td>\n      <td>1627776481</td>\n    </tr>\n  </tbody>\n</table>\n</div>"
     },
     "execution_count": 47,
     "metadata": {},
     "output_type": "execute_result"
    }
   ],
   "source": [
    "import os\n",
    "import sqlite3\n",
    "import nfts.dataset\n",
    "from datetime import datetime\n",
    "import statsmodels as sm\n",
    "\n",
    "path = \"/Users/brandonbedwell/Desktop/CISC351Project/nfts.sqlite\"\n",
    "ds = nfts.dataset.FromSQLite(path)\n",
    "df = ds.load_dataframe(\"transfers\")\n",
    "df.drop_duplicates()\n",
    "#df1 = df.loc[df[\"transaction_value\"] != 0]\n",
    "df1=df\n",
    "print(len(df1))\n",
    "df1.head()"
   ],
   "metadata": {
    "collapsed": false,
    "pycharm": {
     "name": "#%%\n"
    }
   }
  },
  {
   "cell_type": "markdown",
   "source": [
    "Creating sample data\n",
    "\n",
    "Sample data will be sorted such that the transactions are grouped by nft_addresses\n",
    "\n",
    "NFT will hold all of the transactions for the given nft. Each entry is a transaction with an identical nft address to the other transactions in the list. If the following record has a different nft address, then nfts will be appended to all nfts, and nft will be cleared.\n",
    "\n",
    "Each entries in all_nft will hold all the transactions for a given nft.\n"
   ],
   "metadata": {
    "collapsed": false
   }
  },
  {
   "cell_type": "code",
   "execution_count": 48,
   "outputs": [
    {
     "data": {
      "text/plain": "                                   event_id  \\\n6343   3ee726d4-4a36-4818-b6e8-eb2e24ae8161   \n5117   f8d9f0fb-acba-44d9-9c47-cd377d777876   \n41825  2c48be54-c331-4f2f-a0b8-e44fd88d161a   \n39348  d67fc61c-196b-4db7-9458-22398c5b8b61   \n13441  a00a7c65-bef4-41ed-9535-f33925cfecc1   \n\n                                        transaction_hash  block_number  \\\n6343   0xff87f1ec036b46a51761e1af886f85ab4a66bdc970ef...      12937707   \n5117   0x5c3809806d35eb44cbd458f06d7d454972e66ba43194...      12937421   \n41825  0xcddac0114bb1477ef0c66f2aff5effdcca708fa3a6c1...      12944854   \n39348  0x4c785f73f8db509156b752c3e95f707c0c93ce25b413...      12944240   \n13441  0x29c0c0d2a21b6cacd5cdd6da866d41c97a13ef7f8017...      12939719   \n\n                                      nft_address token_id  \\\n6343   0x000000000437b3CCE2530936156388Bff5578FC3       57   \n5117   0x004f5683e183908D0f6b688239e3e2D5bbb066CA      735   \n41825  0x004f5683e183908D0f6b688239e3e2D5bbb066CA     1901   \n39348  0x004f5683e183908D0f6b688239e3e2D5bbb066CA      828   \n13441  0x004f5683e183908D0f6b688239e3e2D5bbb066CA     5429   \n\n                                     from_address  \\\n6343   0x8349Fc69c48aF23e030A655736375d8942De5347   \n5117   0x6fBb5268D691165e2dBC691a11b098680901D773   \n41825  0xA2dA43Db39C0c5344484fBaF0a2D9452ead1b45A   \n39348  0xb2F40E88E28Db5aA4459ac4e5A9BB8e7A4c882F2   \n13441  0x17082a8Fbae3C10d73A361F218aE77Bafb62bf4d   \n\n                                       to_address  transaction_value  \\\n6343   0x1111111111acCdF36DbeE012FC26BB9fcC1D140D       2.000000e+16   \n5117   0x39188fEaB56e9CfD99EA045a6c62Aa7b880a51a9       5.000000e+16   \n41825  0x816DDECcBacF0dA28e2545De171d0f1e96AB3208       3.000000e+16   \n39348  0x1e307E88DB7E3a5eaFa78428D81E9AF989E738d4       3.500000e+16   \n13441  0x053a94f686485C9C078f7cb14604A929E49B8552       4.000000e+16   \n\n                 timestamp  \n6343   2021-08-01 05:09:49  \n5117   2021-08-01 04:06:18  \n41825  2021-08-02 08:20:36  \n39348  2021-08-02 05:56:08  \n13441  2021-08-01 12:55:01  ",
      "text/html": "<div>\n<style scoped>\n    .dataframe tbody tr th:only-of-type {\n        vertical-align: middle;\n    }\n\n    .dataframe tbody tr th {\n        vertical-align: top;\n    }\n\n    .dataframe thead th {\n        text-align: right;\n    }\n</style>\n<table border=\"1\" class=\"dataframe\">\n  <thead>\n    <tr style=\"text-align: right;\">\n      <th></th>\n      <th>event_id</th>\n      <th>transaction_hash</th>\n      <th>block_number</th>\n      <th>nft_address</th>\n      <th>token_id</th>\n      <th>from_address</th>\n      <th>to_address</th>\n      <th>transaction_value</th>\n      <th>timestamp</th>\n    </tr>\n  </thead>\n  <tbody>\n    <tr>\n      <th>6343</th>\n      <td>3ee726d4-4a36-4818-b6e8-eb2e24ae8161</td>\n      <td>0xff87f1ec036b46a51761e1af886f85ab4a66bdc970ef...</td>\n      <td>12937707</td>\n      <td>0x000000000437b3CCE2530936156388Bff5578FC3</td>\n      <td>57</td>\n      <td>0x8349Fc69c48aF23e030A655736375d8942De5347</td>\n      <td>0x1111111111acCdF36DbeE012FC26BB9fcC1D140D</td>\n      <td>2.000000e+16</td>\n      <td>2021-08-01 05:09:49</td>\n    </tr>\n    <tr>\n      <th>5117</th>\n      <td>f8d9f0fb-acba-44d9-9c47-cd377d777876</td>\n      <td>0x5c3809806d35eb44cbd458f06d7d454972e66ba43194...</td>\n      <td>12937421</td>\n      <td>0x004f5683e183908D0f6b688239e3e2D5bbb066CA</td>\n      <td>735</td>\n      <td>0x6fBb5268D691165e2dBC691a11b098680901D773</td>\n      <td>0x39188fEaB56e9CfD99EA045a6c62Aa7b880a51a9</td>\n      <td>5.000000e+16</td>\n      <td>2021-08-01 04:06:18</td>\n    </tr>\n    <tr>\n      <th>41825</th>\n      <td>2c48be54-c331-4f2f-a0b8-e44fd88d161a</td>\n      <td>0xcddac0114bb1477ef0c66f2aff5effdcca708fa3a6c1...</td>\n      <td>12944854</td>\n      <td>0x004f5683e183908D0f6b688239e3e2D5bbb066CA</td>\n      <td>1901</td>\n      <td>0xA2dA43Db39C0c5344484fBaF0a2D9452ead1b45A</td>\n      <td>0x816DDECcBacF0dA28e2545De171d0f1e96AB3208</td>\n      <td>3.000000e+16</td>\n      <td>2021-08-02 08:20:36</td>\n    </tr>\n    <tr>\n      <th>39348</th>\n      <td>d67fc61c-196b-4db7-9458-22398c5b8b61</td>\n      <td>0x4c785f73f8db509156b752c3e95f707c0c93ce25b413...</td>\n      <td>12944240</td>\n      <td>0x004f5683e183908D0f6b688239e3e2D5bbb066CA</td>\n      <td>828</td>\n      <td>0xb2F40E88E28Db5aA4459ac4e5A9BB8e7A4c882F2</td>\n      <td>0x1e307E88DB7E3a5eaFa78428D81E9AF989E738d4</td>\n      <td>3.500000e+16</td>\n      <td>2021-08-02 05:56:08</td>\n    </tr>\n    <tr>\n      <th>13441</th>\n      <td>a00a7c65-bef4-41ed-9535-f33925cfecc1</td>\n      <td>0x29c0c0d2a21b6cacd5cdd6da866d41c97a13ef7f8017...</td>\n      <td>12939719</td>\n      <td>0x004f5683e183908D0f6b688239e3e2D5bbb066CA</td>\n      <td>5429</td>\n      <td>0x17082a8Fbae3C10d73A361F218aE77Bafb62bf4d</td>\n      <td>0x053a94f686485C9C078f7cb14604A929E49B8552</td>\n      <td>4.000000e+16</td>\n      <td>2021-08-01 12:55:01</td>\n    </tr>\n  </tbody>\n</table>\n</div>"
     },
     "execution_count": 48,
     "metadata": {},
     "output_type": "execute_result"
    }
   ],
   "source": [
    "import pandas as pd\n",
    "sample = df1.iloc[0:50000]\n",
    "all_nfts = []\n",
    "nft = []\n",
    "sample = sample.sort_values('nft_address')\n",
    "for i in range(0,len(sample)-1):\n",
    "    sample.iloc[i,8] = datetime.utcfromtimestamp(sample.iloc[i,8]).strftime('%Y-%m-%d %H:%M:%S')\n",
    "    nft.append(sample.iloc[i])\n",
    "    if sample.nft_address.iloc[i] != sample.nft_address.iloc[i+1]:\n",
    "        all_nfts.append(pd.DataFrame(nft.copy()))\n",
    "        nft.clear()\n",
    "    else:\n",
    "        nft.append(sample.iloc[i])\n",
    "\n",
    "nft.clear()\n",
    "sample.head()"
   ],
   "metadata": {
    "collapsed": false,
    "pycharm": {
     "name": "#%%\n"
    }
   }
  },
  {
   "cell_type": "markdown",
   "source": [],
   "metadata": {
    "collapsed": false
   }
  },
  {
   "cell_type": "code",
   "execution_count": 49,
   "outputs": [],
   "source": [
    "#Given an entry from all_nft, calculate the corresponding values listed below for the given nft_address. Returns a list storing the values of each desired value.\n",
    "def get_nft_info(df):\n",
    "    #[nft_address, min transaction, max transaction,num_transactions, average transaction value, biggest transaction difference, first_transaction, transactions_from_address_in_order,from_addresses,timestamps,num_new_recipients]\n",
    "    transaction_data = [\"\",0,0,0,0,0,0,[],[],[],0]\n",
    "    transaction_data[0] = df.iloc[0,3]\n",
    "    df = df.sort_values('timestamp')\n",
    "    transaction_data[1] = min(df[\"transaction_value\"])\n",
    "    transaction_data[2] = max(df[\"transaction_value\"])\n",
    "    transaction_data[3] = len(df)\n",
    "    timestamps = []\n",
    "    sum =0\n",
    "    diff = 0\n",
    "    diff2 = 0\n",
    "    num_recipients = 0\n",
    "    for i in range(0,len(df)):\n",
    "        sum += df.iloc[i,7]\n",
    "        #timestamps.append(df.iloc[i,8])\n",
    "        if i > 0 :\n",
    "            diff = df.iloc[i,7] - df.iloc[i-1,7]\n",
    "            if abs(diff2) < abs(diff):\n",
    "                diff2 = diff\n",
    "\n",
    "    transaction_data[4] = sum/transaction_data[3]\n",
    "    transaction_data[5] = diff2\n",
    "    transaction_data[6] = df.iloc[0,7]\n",
    "    for i in range(0,len(df)):\n",
    "        transaction_data[7].append([df.iloc[i,5],df.iloc[i,7],df.iloc[i,4]])\n",
    "        transaction_data[9].append(df.iloc[i,5])\n",
    "        timestamps.append(df.iloc[i,8])\n",
    "    transaction_data[8] = timestamps\n",
    "    return transaction_data\n",
    "all_nft_info = []\n",
    "for i in range(0,len(all_nfts)):\n",
    "    all_nft_info.append(get_nft_info(all_nfts[i]))\n"
   ],
   "metadata": {
    "collapsed": false,
    "pycharm": {
     "name": "#%%\n"
    }
   }
  },
  {
   "cell_type": "markdown",
   "source": [
    "Now, we have a dataset consisting of data on the transaction value of all nft_addresses on the given market. Upon inspection, there are numerous records that have all transaction values of 0, yet numerous transactions happening. For instance, ['0xF38d6BF300d52bA7880b43cDDB3F94ee3C6C4Ea6', 0.0, 0.0, 31, 0.0, 0]. Moreover, some records such as ['0xA914Ac9eDa58c6Ecd2E9C525555D49675DA5d6a7', 5000000000000000.0, 5000000000000000.0, 5, 5000000000000000.0, 0] with insanely high transaction values."
   ],
   "metadata": {
    "collapsed": false
   }
  },
  {
   "cell_type": "markdown",
   "source": [
    "Considering attributes for transfer learning."
   ],
   "metadata": {
    "collapsed": false
   }
  },
  {
   "cell_type": "code",
   "execution_count": 50,
   "outputs": [],
   "source": [
    "path = \"/Users/brandonbedwell/Desktop/CISC351Project/Shill Bidding Dataset.csv\"\n",
    "ebay_dataset = pd.read_csv(path)"
   ],
   "metadata": {
    "collapsed": false,
    "pycharm": {
     "name": "#%%\n"
    }
   }
  },
  {
   "cell_type": "markdown",
   "source": [
    "Lets breakdown the attributes and try to make predictions. As we will see, finding a mapping for some attributes will lead to means of mapping others.\n",
    "\n",
    "Auction_ID - Unique identifier of an auction\n",
    "Possible substitutions:\n",
    "    1) Event_id - This is a number uniquely generated with the data to signify an event on the marketplace.\n",
    "    2) token_id - An identifier that uniquely describes the smart contract for the given nft address\n",
    "\n",
    "Bidder_ID - Unique identifier of a bidder\n",
    "This one we may run into problems. Unfortunately, the most likely attributes to be used here would be from/to_address. However, these attributes only represent the address that owned the nft before the Transfer Event occurred, not the actual address of the one who initiated the transaction nor the recipient. However, there are many instances in the data where there are repeated to/from addresses across different nft_addresses. Due to the nature of the string representing the from_addresses, it is a fair assumption the one who initiates (from_address) is likely associated with the generation of the from_address, and is therefore a good pick for Bidder_ID\n",
    "\n",
    "Alternatively, we can look at the 'bidder_id' to be the nft_address itself. Instead of identifying the bidder_id as the bidder, we would identify on the bid itself. This is a possibility as it is a convenient way to still apply the same transformations listed below, however is still somewhat reliant on the to/from_addresses being representative on the bidder/buyers.\n",
    "\n",
    "Bidder_Tendacy - Quantifier specific to shill bidding on ebay, metric of describing how diversified     the sellers are for the bids they place.\n",
    "Bidding_Ratio - Quantifier specific to shill bidding on ebay, metric of describing how frequent one     raises auction price to attract higher bids from legitimate purchases\n",
    "Successive outbid - Shill bidder successfully outbid themself even though they are current winner to    increase price gradually with small increments\n",
    "Last bidding - A shill bidder becomes inactive at the final stages of the auction to avoid winning (more than 90% of the total auction)\n",
    "For these three attributes I think we can make some transformations to the dataframes in all_nft_info. For example, successive outbid can be a ratio we compute on transaction histories with repeated buyer/seller addresses. Likewise, last bidding can be computed by similar means.\n",
    "Bidder_Tendacy and Ratio we will have to find a means to define that make sense with our model.\n",
    "\n",
    "Auction Starting Price - a shill bidder usually offers a small starting price to attract legitimate bidders into the auction.\n",
    "Simply the oldest transaction's transactional value.\n",
    "\n",
    "Early Bidding - A shill bidder tends to bid pretty early in the auction (less than 25\\% of the auction duration) to get the attention of auction users.\n",
    "Could calculate this with all_nft_info again. This could be a classifier/probability measure of the likelihood the nft address will bid early in the transactional history.\n",
    "\n",
    "Winning Ratio - A shill bidder competes in many auctions but hardly wins any auctions.\n",
    "Could look at the number of times an address shows up as from_ vs to_ address.\n",
    "\n",
    "Auction Duration: How long an auction lasted.\n",
    "Could be calculated from the timestamps.\n",
    "\n",
    "All of these predictions seem plausible, however they are contingent on us having a way to identify bidder_id as the one selling the nft.\n",
    "First, lets create a set that follows the from_addresses rather than nft_addresses."
   ],
   "metadata": {
    "collapsed": false
   }
  },
  {
   "cell_type": "code",
   "execution_count": 51,
   "outputs": [],
   "source": [
    "all_from = []\n",
    "\n",
    "for i in range(0,len(sample)-1):\n",
    "    nft.append(sample.iloc[i])\n",
    "    if sample.iloc[i,5] != sample.iloc[i+1,5]:\n",
    "        all_from.append(pd.DataFrame(nft.copy()))\n",
    "        nft.clear()\n",
    "    else:\n",
    "        nft.append(sample.iloc[i])"
   ],
   "metadata": {
    "collapsed": false,
    "pycharm": {
     "name": "#%%\n"
    }
   }
  },
  {
   "cell_type": "code",
   "execution_count": 52,
   "outputs": [
    {
     "name": "stderr",
     "output_type": "stream",
     "text": [
      "IOPub data rate exceeded.\n",
      "The notebook server will temporarily stop sending output\n",
      "to the client in order to avoid crashing it.\n",
      "To change this limit, set the config variable\n",
      "`--NotebookApp.iopub_data_rate_limit`.\n",
      "\n",
      "Current values:\n",
      "NotebookApp.iopub_data_rate_limit=1000000.0 (bytes/sec)\n",
      "NotebookApp.rate_limit_window=3.0 (secs)\n",
      "\n"
     ]
    }
   ],
   "source": [
    "sample = sample.sort_values('from_address')\n",
    "sample.iloc[0:5]\n",
    "print(all_from)"
   ],
   "metadata": {
    "collapsed": false,
    "pycharm": {
     "name": "#%%\n"
    }
   }
  },
  {
   "cell_type": "code",
   "execution_count": 53,
   "outputs": [],
   "source": [
    "def getrecord_nft_address(nftarr):\n",
    "    nft_address = nftarr.iloc[0,3]\n",
    "    for elem in all_nft_info:\n",
    "          if elem[0] == nft_address:\n",
    "            return elem\n",
    "\n",
    "class ebay_to_nft:\n",
    "    auction_ID = \"\"\n",
    "    bidder_ID = \"\"\n",
    "    num_transactions = 0.0\n",
    "    bidder_Tendacy = 0.0\n",
    "    bidding_Ratio = 0.0\n",
    "    successive_bidding = 1\n",
    "    auction_starting_price = 0.0\n",
    "    early_bidding = 0.0\n",
    "    last_bidding = 0.0\n",
    "    winning_ratio = 0.0\n",
    "    auction_duration = 0.0\n",
    "    nft_transaction_info = list()\n",
    "    def __init__(self,nft_arr):\n",
    "        self.num_transactions = len(nft_arr)\n",
    "        self.set_bidder_id(nft_arr)\n",
    "        self.set_auction_ID(nft_arr)\n",
    "        self.set_transaction_info(nft_arr)\n",
    "        #self.set_auction_starting_price()\n",
    "        self.set_bidder_ratios()\n",
    "        self.set_auction_duration()\n",
    "    #[nft_address, min transaction, max transaction, ,num_transactions, average transaction value, biggest transaction difference]\n",
    "    def set_bidder_id(self,nft_arr):\n",
    "        self.bidder_ID = nft_arr.iloc[0,5]\n",
    "    def set_auction_ID(self,nft_arr):\n",
    "        self.auction_ID = nft_arr.iloc[0,4]\n",
    "    def set_transaction_info(self,nft_arr):\n",
    "        self.nft_transaction_info = getrecord_nft_address(nft_arr)\n",
    "    #def set_auction_starting_price(self):\n",
    "    #    self.auction_starting_price = self.nft_transaction_info[6]\n",
    "    def set_bidder_ratios(self):\n",
    "        #tarr = self.nft_transaction_info[7]\n",
    "        farr = self.nft_transaction_info[9]\n",
    "\n",
    "        bid_freq =0\n",
    "        bid_freq_less25 = 0\n",
    "        bid_freq_over75 = 0\n",
    "        consectbid_freq = 0\n",
    "        for i in range(0,len(farr)):\n",
    "            if(farr[i] == self.bidder_ID):\n",
    "                bid_freq += 1\n",
    "                if(i < .25*len(farr)):\n",
    "                    bid_freq_less25 += 1\n",
    "                if(i >= .90*len(farr)):\n",
    "                    bid_freq_over75 += 1\n",
    "                if i !=0:\n",
    "                    if farr[i][0] == farr[i-1][0]:\n",
    "                        consectbid_freq += 1\n",
    "        self.bidding_Ratio = bid_freq/len(farr)\n",
    "        if consectbid_freq >= 4:\n",
    "            self.successive_bidding = 0\n",
    "        elif consectbid_freq >= 3:\n",
    "            self.successive_bidding = 0.5\n",
    "        self.early_bidding = bid_freq_less25 / len(farr)\n",
    "        self.last_bidding = bid_freq_over75 / len(farr)\n",
    "    def set_auction_duration(self):\n",
    "        first_transaction = self.nft_transaction_info[8][0]\n",
    "        last_transaction = self.nft_transaction_info[8][-1]\n",
    "        FMT = '%Y-%m-%d %H:%M:%S'\n",
    "        tdelta = datetime.strptime(last_transaction, FMT) - datetime.strptime(first_transaction, FMT)\n",
    "        self.auction_duration = tdelta\n",
    "    def this_to_arr(self):\n",
    "        arr = [self.auction_ID,self.bidder_ID,self.bidder_Tendacy,self.bidding_Ratio,self.auction_starting_price,self.successive_bidding,self.early_bidding,self.last_bidding,self.auction_duration.total_seconds(),self.winning_ratio,self.num_transactions]\n",
    "        return arr\n",
    "#Need to find way for winning ratio and bidder tendacy"
   ],
   "metadata": {
    "collapsed": false,
    "pycharm": {
     "name": "#%%\n"
    }
   }
  },
  {
   "cell_type": "code",
   "execution_count": 54,
   "outputs": [],
   "source": [
    "all_records = []\n",
    "for elem in all_from:\n",
    "    try:\n",
    "        all_records.append(ebay_to_nft(elem).this_to_arr())\n",
    "    except:\n",
    "        print(elem)"
   ],
   "metadata": {
    "collapsed": false,
    "pycharm": {
     "name": "#%%\n"
    }
   }
  },
  {
   "cell_type": "code",
   "execution_count": 55,
   "outputs": [
    {
     "name": "stdout",
     "output_type": "stream",
     "text": [
      "29\n"
     ]
    }
   ],
   "source": [
    "nftdf = pd.DataFrame(all_records)\n",
    "nftdf.columns = [\"Auction ID\",\"Bidder ID\",\"Bidder Tendency\",\"Bidding Ratio\",\"Auction Starting Price\",\"Successive Bidding\",\"Early Bidding\",\"Last Bidding\",\"Auction Duration\",\"Winning Ratio\",\"num_transactions\"]\n",
    "#print(nftdf)\n",
    "new_sum =0\n",
    "for i in range(0,len(nftdf)):\n",
    "    if nftdf.iloc[i,10]>10:\n",
    "        new_sum += 1\n",
    "print(new_sum)"
   ],
   "metadata": {
    "collapsed": false,
    "pycharm": {
     "name": "#%%\n"
    }
   }
  },
  {
   "cell_type": "code",
   "execution_count": 56,
   "outputs": [],
   "source": [
    "#[self.auction_ID,self.bidder_ID,self.bidder_Tendacy,self.bidding_Ratio,self.auction_starting_price,self.successive_bidding,self.early_bidding,self.last_bidding,self.auction_duration,self.winning_ratio]\n",
    "tempdf = nftdf\n",
    "dropped = 0\n",
    "for i in range(0,len(tempdf)):\n",
    "    if tempdf.iloc[i,2] ==0:\n",
    "        dropped += 1\n",
    "        tempdf.drop([i])\n",
    "    if dropped == 4000:\n",
    "        break\n"
   ],
   "metadata": {
    "collapsed": false,
    "pycharm": {
     "name": "#%%\n"
    }
   }
  },
  {
   "cell_type": "code",
   "execution_count": 57,
   "outputs": [
    {
     "name": "stdout",
     "output_type": "stream",
     "text": [
      "['1901', '0xA2dA43Db39C0c5344484fBaF0a2D9452ead1b45A', 0.0, 0.05925925925925926, 0.0, 0, 0.009876543209876543, 0.012345679012345678, 145487.0, 0.0, 1]\n"
     ]
    }
   ],
   "source": [
    "print(all_records[2])"
   ],
   "metadata": {
    "collapsed": false,
    "pycharm": {
     "name": "#%%\n"
    }
   }
  },
  {
   "cell_type": "code",
   "execution_count": 57,
   "outputs": [],
   "source": [],
   "metadata": {
    "collapsed": false,
    "pycharm": {
     "name": "#%%\n"
    }
   }
  }
 ],
 "metadata": {
  "kernelspec": {
   "display_name": "Python 3",
   "language": "python",
   "name": "python3"
  },
  "language_info": {
   "codemirror_mode": {
    "name": "ipython",
    "version": 2
   },
   "file_extension": ".py",
   "mimetype": "text/x-python",
   "name": "python",
   "nbconvert_exporter": "python",
   "pygments_lexer": "ipython2",
   "version": "2.7.6"
  }
 },
 "nbformat": 4,
 "nbformat_minor": 0
}