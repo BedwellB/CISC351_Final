{
 "cells": [
  {
   "cell_type": "markdown",
   "source": "# EBay Model\n## Group 9\n#### CISC 351",
   "metadata": {
    "tags": [],
    "cell_id": "e8b9426e-a568-432d-8cc6-b4fe3daec770",
    "deepnote_cell_type": "markdown",
    "deepnote_cell_height": 178
   }
  },
  {
   "cell_type": "markdown",
   "source": "### Data Preparation",
   "metadata": {
    "tags": [],
    "cell_id": "00002-8e876ec1-f519-4a1e-a01e-62c888c45d6e",
    "owner_user_id": "5ffe40b5-f841-4156-af37-1522ab0aab6a",
    "deepnote_cell_type": "markdown",
    "deepnote_cell_height": 62
   }
  },
  {
   "cell_type": "code",
   "metadata": {
    "tags": [],
    "deepnote_to_be_reexecuted": false,
    "source_hash": "45cdb252",
    "execution_start": 1650215025121,
    "execution_millis": 1889,
    "cell_id": "00003-883f0aeb-2042-41f5-8775-99f6d8fb60d3",
    "deepnote_cell_type": "code",
    "deepnote_cell_height": 399.1875
   },
   "source": "# import packages\nimport os\nimport matplotlib.pyplot as plt\nimport pandas as pd\nimport seaborn as sns\nimport numpy as np\n\n# checks what is the current working directory\npath = os.getcwd()\nprint(path)\n\n# enables the ability to show multiple results(table, plots) in output\nfrom IPython.core.interactiveshell import InteractiveShell\n\nInteractiveShell.ast_node_interactivity = \"all\"\n\npd.options.display.float_format = '{:.2f}'.format  # puts scientific notion to two decimal places when using pandas",
   "execution_count": null,
   "outputs": [
    {
     "name": "stdout",
     "text": "/work\n",
     "output_type": "stream"
    }
   ]
  },
  {
   "cell_type": "markdown",
   "source": "***",
   "metadata": {
    "tags": [],
    "cell_id": "00004-7828fb24-a75c-4c8a-938b-68dcf57602e0",
    "deepnote_cell_type": "markdown",
    "deepnote_cell_height": 46
   }
  },
  {
   "cell_type": "markdown",
   "source": "### Data Exploration",
   "metadata": {
    "tags": [],
    "cell_id": "00005-f4bb3f96-6b0a-4395-a712-b91afb4032e5",
    "deepnote_cell_type": "markdown",
    "deepnote_cell_height": 62
   }
  },
  {
   "cell_type": "code",
   "metadata": {
    "tags": [],
    "deepnote_to_be_reexecuted": false,
    "source_hash": "434726cd",
    "execution_start": 1650215027014,
    "execution_millis": 108,
    "deepnote_table_state": {
     "pageSize": 10,
     "pageIndex": 0,
     "filters": [],
     "sortBy": []
    },
    "deepnote_table_loading": false,
    "cell_id": "00006-572e4e08-786c-4407-886d-3019b192ab97",
    "deepnote_cell_type": "code",
    "deepnote_cell_height": 1348.515625
   },
   "source": "#read dataframe from csv file\nall_data = pd.read_csv(\n    \"Shill Bidding Dataset.csv\")\n\n#make this bitch an object yeeeet #objectifyingvalues\nall_data['Record_ID'] = str(all_data['Record_ID'])\nall_data['Auction_ID'] = str(all_data['Auction_ID'])\nall_data['Bidder_ID'] = str(all_data['Bidder_ID'])\n#droppin\n#all_data = all_data.drop(['Record_ID'])\n\nprint(all_data.columns)\n\n# Show data types and Na.\nall_data.info()\n\n#you can easily check for all numeric columns\nall_data.describe()",
   "execution_count": null,
   "outputs": [
    {
     "name": "stdout",
     "text": "Index(['Record_ID', 'Auction_ID', 'Bidder_ID', 'Bidder_Tendency',\n       'Bidding_Ratio', 'Successive_Outbidding', 'Last_Bidding',\n       'Auction_Bids', 'Starting_Price_Average', 'Early_Bidding',\n       'Winning_Ratio', 'Auction_Duration', 'Class'],\n      dtype='object')\n<class 'pandas.core.frame.DataFrame'>\nRangeIndex: 6321 entries, 0 to 6320\nData columns (total 13 columns):\n #   Column                  Non-Null Count  Dtype  \n---  ------                  --------------  -----  \n 0   Record_ID               6321 non-null   object \n 1   Auction_ID              6321 non-null   object \n 2   Bidder_ID               6321 non-null   object \n 3   Bidder_Tendency         6321 non-null   float64\n 4   Bidding_Ratio           6321 non-null   float64\n 5   Successive_Outbidding   6321 non-null   float64\n 6   Last_Bidding            6321 non-null   float64\n 7   Auction_Bids            6321 non-null   float64\n 8   Starting_Price_Average  6321 non-null   float64\n 9   Early_Bidding           6321 non-null   float64\n 10  Winning_Ratio           6321 non-null   float64\n 11  Auction_Duration        6321 non-null   int64  \n 12  Class                   6321 non-null   int64  \ndtypes: float64(8), int64(2), object(3)\nmemory usage: 642.1+ KB\n",
     "output_type": "stream"
    },
    {
     "output_type": "execute_result",
     "execution_count": 2,
     "data": {
      "application/vnd.deepnote.dataframe.v3+json": {
       "column_count": 10,
       "row_count": 8,
       "columns": [
        {
         "name": "Bidder_Tendency",
         "dtype": "float64",
         "stats": {
          "unique_count": 8,
          "nan_count": 0,
          "min": "0.0",
          "max": "6321.0",
          "histogram": [
           {
            "bin_start": 0,
            "bin_end": 632.1,
            "count": 7
           },
           {
            "bin_start": 632.1,
            "bin_end": 1264.2,
            "count": 0
           },
           {
            "bin_start": 1264.2,
            "bin_end": 1896.3000000000002,
            "count": 0
           },
           {
            "bin_start": 1896.3000000000002,
            "bin_end": 2528.4,
            "count": 0
           },
           {
            "bin_start": 2528.4,
            "bin_end": 3160.5,
            "count": 0
           },
           {
            "bin_start": 3160.5,
            "bin_end": 3792.6000000000004,
            "count": 0
           },
           {
            "bin_start": 3792.6000000000004,
            "bin_end": 4424.7,
            "count": 0
           },
           {
            "bin_start": 4424.7,
            "bin_end": 5056.8,
            "count": 0
           },
           {
            "bin_start": 5056.8,
            "bin_end": 5688.900000000001,
            "count": 0
           },
           {
            "bin_start": 5688.900000000001,
            "bin_end": 6321,
            "count": 1
           }
          ]
         }
        },
        {
         "name": "Bidding_Ratio",
         "dtype": "float64",
         "stats": {
          "unique_count": 8,
          "nan_count": 0,
          "min": "0.011764706",
          "max": "6321.0",
          "histogram": [
           {
            "bin_start": 0.011764706,
            "bin_end": 632.1105882354001,
            "count": 7
           },
           {
            "bin_start": 632.1105882354001,
            "bin_end": 1264.2094117648,
            "count": 0
           },
           {
            "bin_start": 1264.2094117648,
            "bin_end": 1896.3082352942001,
            "count": 0
           },
           {
            "bin_start": 1896.3082352942001,
            "bin_end": 2528.4070588236004,
            "count": 0
           },
           {
            "bin_start": 2528.4070588236004,
            "bin_end": 3160.5058823530003,
            "count": 0
           },
           {
            "bin_start": 3160.5058823530003,
            "bin_end": 3792.6047058824006,
            "count": 0
           },
           {
            "bin_start": 3792.6047058824006,
            "bin_end": 4424.7035294118,
            "count": 0
           },
           {
            "bin_start": 4424.7035294118,
            "bin_end": 5056.8023529412,
            "count": 0
           },
           {
            "bin_start": 5056.8023529412,
            "bin_end": 5688.9011764706,
            "count": 0
           },
           {
            "bin_start": 5688.9011764706,
            "bin_end": 6321,
            "count": 1
           }
          ]
         }
        },
        {
         "name": "Successive_Outbidding",
         "dtype": "float64",
         "stats": {
          "unique_count": 5,
          "nan_count": 0,
          "min": "0.0",
          "max": "6321.0",
          "histogram": [
           {
            "bin_start": 0,
            "bin_end": 632.1,
            "count": 7
           },
           {
            "bin_start": 632.1,
            "bin_end": 1264.2,
            "count": 0
           },
           {
            "bin_start": 1264.2,
            "bin_end": 1896.3000000000002,
            "count": 0
           },
           {
            "bin_start": 1896.3000000000002,
            "bin_end": 2528.4,
            "count": 0
           },
           {
            "bin_start": 2528.4,
            "bin_end": 3160.5,
            "count": 0
           },
           {
            "bin_start": 3160.5,
            "bin_end": 3792.6000000000004,
            "count": 0
           },
           {
            "bin_start": 3792.6000000000004,
            "bin_end": 4424.7,
            "count": 0
           },
           {
            "bin_start": 4424.7,
            "bin_end": 5056.8,
            "count": 0
           },
           {
            "bin_start": 5056.8,
            "bin_end": 5688.900000000001,
            "count": 0
           },
           {
            "bin_start": 5688.900000000001,
            "bin_end": 6321,
            "count": 1
           }
          ]
         }
        },
        {
         "name": "Last_Bidding",
         "dtype": "float64",
         "stats": {
          "unique_count": 8,
          "nan_count": 0,
          "min": "0.0",
          "max": "6321.0",
          "histogram": [
           {
            "bin_start": 0,
            "bin_end": 632.1,
            "count": 7
           },
           {
            "bin_start": 632.1,
            "bin_end": 1264.2,
            "count": 0
           },
           {
            "bin_start": 1264.2,
            "bin_end": 1896.3000000000002,
            "count": 0
           },
           {
            "bin_start": 1896.3000000000002,
            "bin_end": 2528.4,
            "count": 0
           },
           {
            "bin_start": 2528.4,
            "bin_end": 3160.5,
            "count": 0
           },
           {
            "bin_start": 3160.5,
            "bin_end": 3792.6000000000004,
            "count": 0
           },
           {
            "bin_start": 3792.6000000000004,
            "bin_end": 4424.7,
            "count": 0
           },
           {
            "bin_start": 4424.7,
            "bin_end": 5056.8,
            "count": 0
           },
           {
            "bin_start": 5056.8,
            "bin_end": 5688.900000000001,
            "count": 0
           },
           {
            "bin_start": 5688.900000000001,
            "bin_end": 6321,
            "count": 1
           }
          ]
         }
        },
        {
         "name": "Auction_Bids",
         "dtype": "float64",
         "stats": {
          "unique_count": 7,
          "nan_count": 0,
          "min": "0.0",
          "max": "6321.0",
          "histogram": [
           {
            "bin_start": 0,
            "bin_end": 632.1,
            "count": 7
           },
           {
            "bin_start": 632.1,
            "bin_end": 1264.2,
            "count": 0
           },
           {
            "bin_start": 1264.2,
            "bin_end": 1896.3000000000002,
            "count": 0
           },
           {
            "bin_start": 1896.3000000000002,
            "bin_end": 2528.4,
            "count": 0
           },
           {
            "bin_start": 2528.4,
            "bin_end": 3160.5,
            "count": 0
           },
           {
            "bin_start": 3160.5,
            "bin_end": 3792.6000000000004,
            "count": 0
           },
           {
            "bin_start": 3792.6000000000004,
            "bin_end": 4424.7,
            "count": 0
           },
           {
            "bin_start": 4424.7,
            "bin_end": 5056.8,
            "count": 0
           },
           {
            "bin_start": 5056.8,
            "bin_end": 5688.900000000001,
            "count": 0
           },
           {
            "bin_start": 5688.900000000001,
            "bin_end": 6321,
            "count": 1
           }
          ]
         }
        },
        {
         "name": "Starting_Price_Average",
         "dtype": "float64",
         "stats": {
          "unique_count": 6,
          "nan_count": 0,
          "min": "0.0",
          "max": "6321.0",
          "histogram": [
           {
            "bin_start": 0,
            "bin_end": 632.1,
            "count": 7
           },
           {
            "bin_start": 632.1,
            "bin_end": 1264.2,
            "count": 0
           },
           {
            "bin_start": 1264.2,
            "bin_end": 1896.3000000000002,
            "count": 0
           },
           {
            "bin_start": 1896.3000000000002,
            "bin_end": 2528.4,
            "count": 0
           },
           {
            "bin_start": 2528.4,
            "bin_end": 3160.5,
            "count": 0
           },
           {
            "bin_start": 3160.5,
            "bin_end": 3792.6000000000004,
            "count": 0
           },
           {
            "bin_start": 3792.6000000000004,
            "bin_end": 4424.7,
            "count": 0
           },
           {
            "bin_start": 4424.7,
            "bin_end": 5056.8,
            "count": 0
           },
           {
            "bin_start": 5056.8,
            "bin_end": 5688.900000000001,
            "count": 0
           },
           {
            "bin_start": 5688.900000000001,
            "bin_end": 6321,
            "count": 1
           }
          ]
         }
        },
        {
         "name": "Early_Bidding",
         "dtype": "float64",
         "stats": {
          "unique_count": 8,
          "nan_count": 0,
          "min": "0.0",
          "max": "6321.0",
          "histogram": [
           {
            "bin_start": 0,
            "bin_end": 632.1,
            "count": 7
           },
           {
            "bin_start": 632.1,
            "bin_end": 1264.2,
            "count": 0
           },
           {
            "bin_start": 1264.2,
            "bin_end": 1896.3000000000002,
            "count": 0
           },
           {
            "bin_start": 1896.3000000000002,
            "bin_end": 2528.4,
            "count": 0
           },
           {
            "bin_start": 2528.4,
            "bin_end": 3160.5,
            "count": 0
           },
           {
            "bin_start": 3160.5,
            "bin_end": 3792.6000000000004,
            "count": 0
           },
           {
            "bin_start": 3792.6000000000004,
            "bin_end": 4424.7,
            "count": 0
           },
           {
            "bin_start": 4424.7,
            "bin_end": 5056.8,
            "count": 0
           },
           {
            "bin_start": 5056.8,
            "bin_end": 5688.900000000001,
            "count": 0
           },
           {
            "bin_start": 5688.900000000001,
            "bin_end": 6321,
            "count": 1
           }
          ]
         }
        },
        {
         "name": "Winning_Ratio",
         "dtype": "float64",
         "stats": {
          "unique_count": 6,
          "nan_count": 0,
          "min": "0.0",
          "max": "6321.0",
          "histogram": [
           {
            "bin_start": 0,
            "bin_end": 632.1,
            "count": 7
           },
           {
            "bin_start": 632.1,
            "bin_end": 1264.2,
            "count": 0
           },
           {
            "bin_start": 1264.2,
            "bin_end": 1896.3000000000002,
            "count": 0
           },
           {
            "bin_start": 1896.3000000000002,
            "bin_end": 2528.4,
            "count": 0
           },
           {
            "bin_start": 2528.4,
            "bin_end": 3160.5,
            "count": 0
           },
           {
            "bin_start": 3160.5,
            "bin_end": 3792.6000000000004,
            "count": 0
           },
           {
            "bin_start": 3792.6000000000004,
            "bin_end": 4424.7,
            "count": 0
           },
           {
            "bin_start": 4424.7,
            "bin_end": 5056.8,
            "count": 0
           },
           {
            "bin_start": 5056.8,
            "bin_end": 5688.900000000001,
            "count": 0
           },
           {
            "bin_start": 5688.900000000001,
            "bin_end": 6321,
            "count": 1
           }
          ]
         }
        },
        {
         "name": "Auction_Duration",
         "dtype": "float64",
         "stats": {
          "unique_count": 8,
          "nan_count": 0,
          "min": "1.0",
          "max": "6321.0",
          "histogram": [
           {
            "bin_start": 1,
            "bin_end": 633,
            "count": 7
           },
           {
            "bin_start": 633,
            "bin_end": 1265,
            "count": 0
           },
           {
            "bin_start": 1265,
            "bin_end": 1897,
            "count": 0
           },
           {
            "bin_start": 1897,
            "bin_end": 2529,
            "count": 0
           },
           {
            "bin_start": 2529,
            "bin_end": 3161,
            "count": 0
           },
           {
            "bin_start": 3161,
            "bin_end": 3793,
            "count": 0
           },
           {
            "bin_start": 3793,
            "bin_end": 4425,
            "count": 0
           },
           {
            "bin_start": 4425,
            "bin_end": 5057,
            "count": 0
           },
           {
            "bin_start": 5057,
            "bin_end": 5689,
            "count": 0
           },
           {
            "bin_start": 5689,
            "bin_end": 6321,
            "count": 1
           }
          ]
         }
        },
        {
         "name": "Class",
         "dtype": "float64",
         "stats": {
          "unique_count": 5,
          "nan_count": 0,
          "min": "0.0",
          "max": "6321.0",
          "histogram": [
           {
            "bin_start": 0,
            "bin_end": 632.1,
            "count": 7
           },
           {
            "bin_start": 632.1,
            "bin_end": 1264.2,
            "count": 0
           },
           {
            "bin_start": 1264.2,
            "bin_end": 1896.3000000000002,
            "count": 0
           },
           {
            "bin_start": 1896.3000000000002,
            "bin_end": 2528.4,
            "count": 0
           },
           {
            "bin_start": 2528.4,
            "bin_end": 3160.5,
            "count": 0
           },
           {
            "bin_start": 3160.5,
            "bin_end": 3792.6000000000004,
            "count": 0
           },
           {
            "bin_start": 3792.6000000000004,
            "bin_end": 4424.7,
            "count": 0
           },
           {
            "bin_start": 4424.7,
            "bin_end": 5056.8,
            "count": 0
           },
           {
            "bin_start": 5056.8,
            "bin_end": 5688.900000000001,
            "count": 0
           },
           {
            "bin_start": 5688.900000000001,
            "bin_end": 6321,
            "count": 1
           }
          ]
         }
        },
        {
         "name": "_deepnote_index_column",
         "dtype": "object"
        }
       ],
       "rows": [
        {
         "Bidder_Tendency": 6321,
         "Bidding_Ratio": 6321,
         "Successive_Outbidding": 6321,
         "Last_Bidding": 6321,
         "Auction_Bids": 6321,
         "Starting_Price_Average": 6321,
         "Early_Bidding": 6321,
         "Winning_Ratio": 6321,
         "Auction_Duration": 6321,
         "Class": 6321,
         "_deepnote_index_column": "count"
        },
        {
         "Bidder_Tendency": 0.14254073723714603,
         "Bidding_Ratio": 0.12766967254864736,
         "Successive_Outbidding": 0.10378104730264198,
         "Last_Bidding": 0.46311937700692923,
         "Auction_Bids": 0.23160574843537413,
         "Starting_Price_Average": 0.47282134135611453,
         "Early_Bidding": 0.43068255131901595,
         "Winning_Ratio": 0.36773119853187786,
         "Auction_Duration": 4.6150925486473655,
         "Class": 0.10678690080683437,
         "_deepnote_index_column": "mean"
        },
        {
         "Bidder_Tendency": 0.19708355531317673,
         "Bidding_Ratio": 0.13153042183922645,
         "Successive_Outbidding": 0.27969797028898225,
         "Last_Bidding": 0.3800972293899528,
         "Auction_Bids": 0.25525201465735303,
         "Starting_Price_Average": 0.4899121676025466,
         "Early_Bidding": 0.38078516662003975,
         "Winning_Ratio": 0.43657346666169583,
         "Auction_Duration": 2.4666291818401778,
         "Class": 0.30886655847195243,
         "_deepnote_index_column": "std"
        },
        {
         "Bidder_Tendency": 0,
         "Bidding_Ratio": 0.011764706,
         "Successive_Outbidding": 0,
         "Last_Bidding": 0,
         "Auction_Bids": 0,
         "Starting_Price_Average": 0,
         "Early_Bidding": 0,
         "Winning_Ratio": 0,
         "Auction_Duration": 1,
         "Class": 0,
         "_deepnote_index_column": "min"
        },
        {
         "Bidder_Tendency": 0.027027027,
         "Bidding_Ratio": 0.043478261,
         "Successive_Outbidding": 0,
         "Last_Bidding": 0.0479282407,
         "Auction_Bids": 0,
         "Starting_Price_Average": 0,
         "Early_Bidding": 0.0266203704,
         "Winning_Ratio": 0,
         "Auction_Duration": 3,
         "Class": 0,
         "_deepnote_index_column": "25%"
        },
        {
         "Bidder_Tendency": 0.0625,
         "Bidding_Ratio": 0.083333333,
         "Successive_Outbidding": 0,
         "Last_Bidding": 0.4409375,
         "Auction_Bids": 0.142857143,
         "Starting_Price_Average": 0,
         "Early_Bidding": 0.3601041667,
         "Winning_Ratio": 0,
         "Auction_Duration": 5,
         "Class": 0,
         "_deepnote_index_column": "50%"
        },
        {
         "Bidder_Tendency": 0.166666667,
         "Bidding_Ratio": 0.166666667,
         "Successive_Outbidding": 0,
         "Last_Bidding": 0.8603626543,
         "Auction_Bids": 0.454545455,
         "Starting_Price_Average": 0.993592814,
         "Early_Bidding": 0.8267607564,
         "Winning_Ratio": 0.851851852,
         "Auction_Duration": 7,
         "Class": 0,
         "_deepnote_index_column": "75%"
        },
        {
         "Bidder_Tendency": 1,
         "Bidding_Ratio": 1,
         "Successive_Outbidding": 1,
         "Last_Bidding": 0.999900463,
         "Auction_Bids": 0.788235294,
         "Starting_Price_Average": 0.999935281,
         "Early_Bidding": 0.999900463,
         "Winning_Ratio": 1,
         "Auction_Duration": 10,
         "Class": 1,
         "_deepnote_index_column": "max"
        }
       ]
      },
      "text/plain": "       Bidder_Tendency  Bidding_Ratio  Successive_Outbidding  Last_Bidding  \\\ncount          6321.00        6321.00                6321.00       6321.00   \nmean              0.14           0.13                   0.10          0.46   \nstd               0.20           0.13                   0.28          0.38   \nmin               0.00           0.01                   0.00          0.00   \n25%               0.03           0.04                   0.00          0.05   \n50%               0.06           0.08                   0.00          0.44   \n75%               0.17           0.17                   0.00          0.86   \nmax               1.00           1.00                   1.00          1.00   \n\n       Auction_Bids  Starting_Price_Average  Early_Bidding  Winning_Ratio  \\\ncount       6321.00                 6321.00        6321.00        6321.00   \nmean           0.23                    0.47           0.43           0.37   \nstd            0.26                    0.49           0.38           0.44   \nmin            0.00                    0.00           0.00           0.00   \n25%            0.00                    0.00           0.03           0.00   \n50%            0.14                    0.00           0.36           0.00   \n75%            0.45                    0.99           0.83           0.85   \nmax            0.79                    1.00           1.00           1.00   \n\n       Auction_Duration   Class  \ncount           6321.00 6321.00  \nmean               4.62    0.11  \nstd                2.47    0.31  \nmin                1.00    0.00  \n25%                3.00    0.00  \n50%                5.00    0.00  \n75%                7.00    0.00  \nmax               10.00    1.00  ",
      "text/html": "<div>\n<style scoped>\n    .dataframe tbody tr th:only-of-type {\n        vertical-align: middle;\n    }\n\n    .dataframe tbody tr th {\n        vertical-align: top;\n    }\n\n    .dataframe thead th {\n        text-align: right;\n    }\n</style>\n<table border=\"1\" class=\"dataframe\">\n  <thead>\n    <tr style=\"text-align: right;\">\n      <th></th>\n      <th>Bidder_Tendency</th>\n      <th>Bidding_Ratio</th>\n      <th>Successive_Outbidding</th>\n      <th>Last_Bidding</th>\n      <th>Auction_Bids</th>\n      <th>Starting_Price_Average</th>\n      <th>Early_Bidding</th>\n      <th>Winning_Ratio</th>\n      <th>Auction_Duration</th>\n      <th>Class</th>\n    </tr>\n  </thead>\n  <tbody>\n    <tr>\n      <th>count</th>\n      <td>6321.00</td>\n      <td>6321.00</td>\n      <td>6321.00</td>\n      <td>6321.00</td>\n      <td>6321.00</td>\n      <td>6321.00</td>\n      <td>6321.00</td>\n      <td>6321.00</td>\n      <td>6321.00</td>\n      <td>6321.00</td>\n    </tr>\n    <tr>\n      <th>mean</th>\n      <td>0.14</td>\n      <td>0.13</td>\n      <td>0.10</td>\n      <td>0.46</td>\n      <td>0.23</td>\n      <td>0.47</td>\n      <td>0.43</td>\n      <td>0.37</td>\n      <td>4.62</td>\n      <td>0.11</td>\n    </tr>\n    <tr>\n      <th>std</th>\n      <td>0.20</td>\n      <td>0.13</td>\n      <td>0.28</td>\n      <td>0.38</td>\n      <td>0.26</td>\n      <td>0.49</td>\n      <td>0.38</td>\n      <td>0.44</td>\n      <td>2.47</td>\n      <td>0.31</td>\n    </tr>\n    <tr>\n      <th>min</th>\n      <td>0.00</td>\n      <td>0.01</td>\n      <td>0.00</td>\n      <td>0.00</td>\n      <td>0.00</td>\n      <td>0.00</td>\n      <td>0.00</td>\n      <td>0.00</td>\n      <td>1.00</td>\n      <td>0.00</td>\n    </tr>\n    <tr>\n      <th>25%</th>\n      <td>0.03</td>\n      <td>0.04</td>\n      <td>0.00</td>\n      <td>0.05</td>\n      <td>0.00</td>\n      <td>0.00</td>\n      <td>0.03</td>\n      <td>0.00</td>\n      <td>3.00</td>\n      <td>0.00</td>\n    </tr>\n    <tr>\n      <th>50%</th>\n      <td>0.06</td>\n      <td>0.08</td>\n      <td>0.00</td>\n      <td>0.44</td>\n      <td>0.14</td>\n      <td>0.00</td>\n      <td>0.36</td>\n      <td>0.00</td>\n      <td>5.00</td>\n      <td>0.00</td>\n    </tr>\n    <tr>\n      <th>75%</th>\n      <td>0.17</td>\n      <td>0.17</td>\n      <td>0.00</td>\n      <td>0.86</td>\n      <td>0.45</td>\n      <td>0.99</td>\n      <td>0.83</td>\n      <td>0.85</td>\n      <td>7.00</td>\n      <td>0.00</td>\n    </tr>\n    <tr>\n      <th>max</th>\n      <td>1.00</td>\n      <td>1.00</td>\n      <td>1.00</td>\n      <td>1.00</td>\n      <td>0.79</td>\n      <td>1.00</td>\n      <td>1.00</td>\n      <td>1.00</td>\n      <td>10.00</td>\n      <td>1.00</td>\n    </tr>\n  </tbody>\n</table>\n</div>"
     },
     "metadata": {}
    }
   ]
  },
  {
   "cell_type": "code",
   "metadata": {
    "tags": [],
    "deepnote_to_be_reexecuted": false,
    "source_hash": "b7573513",
    "execution_start": 1650215027125,
    "execution_millis": 28,
    "deepnote_table_state": {
     "pageSize": 25,
     "pageIndex": 0,
     "filters": [],
     "sortBy": []
    },
    "deepnote_table_loading": false,
    "cell_id": "00007-9cff4ffe-cc0c-408c-9b33-42a5fba4936a",
    "deepnote_cell_type": "code",
    "deepnote_cell_height": 831
   },
   "source": "# describe the data\ndef describe_nan(df):\n    return pd.DataFrame([(i, df[df[i].isna()].shape[0], df[df[i].isna()].shape[0] / df.shape[0]) for i in df.columns],\n                        columns=['column', 'nan_counts', 'nan_rate'])\n\n\ndescribe_nan(all_data)",
   "execution_count": null,
   "outputs": [
    {
     "output_type": "execute_result",
     "execution_count": 3,
     "data": {
      "application/vnd.deepnote.dataframe.v3+json": {
       "column_count": 3,
       "row_count": 13,
       "columns": [
        {
         "name": "column",
         "dtype": "object",
         "stats": {
          "unique_count": 13,
          "nan_count": 0,
          "categories": [
           {
            "name": "Record_ID",
            "count": 1
           },
           {
            "name": "Auction_ID",
            "count": 1
           },
           {
            "name": "11 others",
            "count": 11
           }
          ]
         }
        },
        {
         "name": "nan_counts",
         "dtype": "int64",
         "stats": {
          "unique_count": 1,
          "nan_count": 0,
          "min": "0",
          "max": "0",
          "histogram": [
           {
            "bin_start": -0.5,
            "bin_end": -0.4,
            "count": 0
           },
           {
            "bin_start": -0.4,
            "bin_end": -0.3,
            "count": 0
           },
           {
            "bin_start": -0.3,
            "bin_end": -0.19999999999999996,
            "count": 0
           },
           {
            "bin_start": -0.19999999999999996,
            "bin_end": -0.09999999999999998,
            "count": 0
           },
           {
            "bin_start": -0.09999999999999998,
            "bin_end": 0,
            "count": 0
           },
           {
            "bin_start": 0,
            "bin_end": 0.10000000000000009,
            "count": 13
           },
           {
            "bin_start": 0.10000000000000009,
            "bin_end": 0.20000000000000007,
            "count": 0
           },
           {
            "bin_start": 0.20000000000000007,
            "bin_end": 0.30000000000000004,
            "count": 0
           },
           {
            "bin_start": 0.30000000000000004,
            "bin_end": 0.4,
            "count": 0
           },
           {
            "bin_start": 0.4,
            "bin_end": 0.5,
            "count": 0
           }
          ]
         }
        },
        {
         "name": "nan_rate",
         "dtype": "float64",
         "stats": {
          "unique_count": 1,
          "nan_count": 0,
          "min": "0.0",
          "max": "0.0",
          "histogram": [
           {
            "bin_start": -0.5,
            "bin_end": -0.4,
            "count": 0
           },
           {
            "bin_start": -0.4,
            "bin_end": -0.3,
            "count": 0
           },
           {
            "bin_start": -0.3,
            "bin_end": -0.19999999999999996,
            "count": 0
           },
           {
            "bin_start": -0.19999999999999996,
            "bin_end": -0.09999999999999998,
            "count": 0
           },
           {
            "bin_start": -0.09999999999999998,
            "bin_end": 0,
            "count": 0
           },
           {
            "bin_start": 0,
            "bin_end": 0.10000000000000009,
            "count": 13
           },
           {
            "bin_start": 0.10000000000000009,
            "bin_end": 0.20000000000000007,
            "count": 0
           },
           {
            "bin_start": 0.20000000000000007,
            "bin_end": 0.30000000000000004,
            "count": 0
           },
           {
            "bin_start": 0.30000000000000004,
            "bin_end": 0.4,
            "count": 0
           },
           {
            "bin_start": 0.4,
            "bin_end": 0.5,
            "count": 0
           }
          ]
         }
        },
        {
         "name": "_deepnote_index_column",
         "dtype": "int64"
        }
       ],
       "rows": [
        {
         "column": "Record_ID",
         "nan_counts": 0,
         "nan_rate": 0,
         "_deepnote_index_column": 0
        },
        {
         "column": "Auction_ID",
         "nan_counts": 0,
         "nan_rate": 0,
         "_deepnote_index_column": 1
        },
        {
         "column": "Bidder_ID",
         "nan_counts": 0,
         "nan_rate": 0,
         "_deepnote_index_column": 2
        },
        {
         "column": "Bidder_Tendency",
         "nan_counts": 0,
         "nan_rate": 0,
         "_deepnote_index_column": 3
        },
        {
         "column": "Bidding_Ratio",
         "nan_counts": 0,
         "nan_rate": 0,
         "_deepnote_index_column": 4
        },
        {
         "column": "Successive_Outbidding",
         "nan_counts": 0,
         "nan_rate": 0,
         "_deepnote_index_column": 5
        },
        {
         "column": "Last_Bidding",
         "nan_counts": 0,
         "nan_rate": 0,
         "_deepnote_index_column": 6
        },
        {
         "column": "Auction_Bids",
         "nan_counts": 0,
         "nan_rate": 0,
         "_deepnote_index_column": 7
        },
        {
         "column": "Starting_Price_Average",
         "nan_counts": 0,
         "nan_rate": 0,
         "_deepnote_index_column": 8
        },
        {
         "column": "Early_Bidding",
         "nan_counts": 0,
         "nan_rate": 0,
         "_deepnote_index_column": 9
        },
        {
         "column": "Winning_Ratio",
         "nan_counts": 0,
         "nan_rate": 0,
         "_deepnote_index_column": 10
        },
        {
         "column": "Auction_Duration",
         "nan_counts": 0,
         "nan_rate": 0,
         "_deepnote_index_column": 11
        },
        {
         "column": "Class",
         "nan_counts": 0,
         "nan_rate": 0,
         "_deepnote_index_column": 12
        }
       ]
      },
      "text/plain": "                    column  nan_counts  nan_rate\n0                Record_ID           0      0.00\n1               Auction_ID           0      0.00\n2                Bidder_ID           0      0.00\n3          Bidder_Tendency           0      0.00\n4            Bidding_Ratio           0      0.00\n5    Successive_Outbidding           0      0.00\n6             Last_Bidding           0      0.00\n7             Auction_Bids           0      0.00\n8   Starting_Price_Average           0      0.00\n9            Early_Bidding           0      0.00\n10           Winning_Ratio           0      0.00\n11        Auction_Duration           0      0.00\n12                   Class           0      0.00",
      "text/html": "<div>\n<style scoped>\n    .dataframe tbody tr th:only-of-type {\n        vertical-align: middle;\n    }\n\n    .dataframe tbody tr th {\n        vertical-align: top;\n    }\n\n    .dataframe thead th {\n        text-align: right;\n    }\n</style>\n<table border=\"1\" class=\"dataframe\">\n  <thead>\n    <tr style=\"text-align: right;\">\n      <th></th>\n      <th>column</th>\n      <th>nan_counts</th>\n      <th>nan_rate</th>\n    </tr>\n  </thead>\n  <tbody>\n    <tr>\n      <th>0</th>\n      <td>Record_ID</td>\n      <td>0</td>\n      <td>0.00</td>\n    </tr>\n    <tr>\n      <th>1</th>\n      <td>Auction_ID</td>\n      <td>0</td>\n      <td>0.00</td>\n    </tr>\n    <tr>\n      <th>2</th>\n      <td>Bidder_ID</td>\n      <td>0</td>\n      <td>0.00</td>\n    </tr>\n    <tr>\n      <th>3</th>\n      <td>Bidder_Tendency</td>\n      <td>0</td>\n      <td>0.00</td>\n    </tr>\n    <tr>\n      <th>4</th>\n      <td>Bidding_Ratio</td>\n      <td>0</td>\n      <td>0.00</td>\n    </tr>\n    <tr>\n      <th>5</th>\n      <td>Successive_Outbidding</td>\n      <td>0</td>\n      <td>0.00</td>\n    </tr>\n    <tr>\n      <th>6</th>\n      <td>Last_Bidding</td>\n      <td>0</td>\n      <td>0.00</td>\n    </tr>\n    <tr>\n      <th>7</th>\n      <td>Auction_Bids</td>\n      <td>0</td>\n      <td>0.00</td>\n    </tr>\n    <tr>\n      <th>8</th>\n      <td>Starting_Price_Average</td>\n      <td>0</td>\n      <td>0.00</td>\n    </tr>\n    <tr>\n      <th>9</th>\n      <td>Early_Bidding</td>\n      <td>0</td>\n      <td>0.00</td>\n    </tr>\n    <tr>\n      <th>10</th>\n      <td>Winning_Ratio</td>\n      <td>0</td>\n      <td>0.00</td>\n    </tr>\n    <tr>\n      <th>11</th>\n      <td>Auction_Duration</td>\n      <td>0</td>\n      <td>0.00</td>\n    </tr>\n    <tr>\n      <th>12</th>\n      <td>Class</td>\n      <td>0</td>\n      <td>0.00</td>\n    </tr>\n  </tbody>\n</table>\n</div>"
     },
     "metadata": {}
    }
   ]
  },
  {
   "cell_type": "markdown",
   "source": "<h4>Verification of Target Value Representation</h4>",
   "metadata": {
    "tags": [],
    "cell_id": "00008-2e5b0977-81e7-4179-8240-0270729f9455",
    "deepnote_cell_type": "markdown",
    "deepnote_cell_height": 54
   }
  },
  {
   "cell_type": "code",
   "metadata": {
    "tags": [],
    "deepnote_to_be_reexecuted": false,
    "source_hash": "6c571bd0",
    "execution_start": 1650215027156,
    "execution_millis": 223,
    "cell_id": "00009-965e234b-29b9-4295-970a-97729015f72f",
    "deepnote_cell_type": "code",
    "deepnote_cell_height": 396.171875,
    "deepnote_output_heights": [
     21.1875,
     247
    ]
   },
   "source": "all_data['Class'].value_counts().plot.bar()",
   "execution_count": null,
   "outputs": [
    {
     "output_type": "execute_result",
     "execution_count": 4,
     "data": {
      "text/plain": "<AxesSubplot:>"
     },
     "metadata": {}
    },
    {
     "data": {
      "text/plain": "<Figure size 432x288 with 1 Axes>",
      "image/png": "[encoded data removed]"
     },
     "metadata": {
      "needs_background": "light",
      "image/png": {
       "width": 381,
       "height": 245
      }
     },
     "output_type": "display_data"
    }
   ]
  },
  {
   "cell_type": "markdown",
   "source": "<h4>Visualizing Variable Distribution</h4>",
   "metadata": {
    "tags": [],
    "cell_id": "00010-e9d2053e-9119-4f46-8ad3-97776dad4146",
    "deepnote_cell_type": "markdown",
    "deepnote_cell_height": 54
   }
  },
  {
   "cell_type": "code",
   "metadata": {
    "tags": [],
    "deepnote_to_be_reexecuted": false,
    "source_hash": "8f2f313c",
    "execution_start": 1650215027428,
    "execution_millis": 5091,
    "cell_id": "00011-f8ace717-8b28-4a2e-89ad-39880c7b1a8a",
    "deepnote_cell_type": "code",
    "deepnote_cell_height": 8052.34375,
    "deepnote_output_heights": [
     null,
     354,
     null,
     279,
     null,
     354,
     null,
     279,
     null,
     354,
     null,
     279,
     null,
     354,
     null,
     279,
     null,
     354,
     null,
     279,
     null,
     354,
     null,
     279,
     null,
     354,
     null,
     279,
     null,
     354,
     null,
     279,
     21.1875,
     354,
     null,
     280
    ]
   },
   "source": "sns.displot(all_data['Bidder_Tendency'])\nplt.show()\nall_data['Bidder_Tendency'].plot.box(figsize=(16,5))\nplt.show()\n\n\nsns.displot(all_data['Bidding_Ratio'])\nplt.show()\nall_data['Bidding_Ratio'].plot.box(figsize=(16,5))\nplt.show()\n\nsns.displot(all_data['Successive_Outbidding'])\nplt.show()\nall_data['Successive_Outbidding'].plot.box(figsize=(16,5))\nplt.show()\n\nsns.displot(all_data['Auction_Bids'])\nplt.show()\nall_data['Auction_Bids'].plot.box(figsize=(16,5))\nplt.show()\n\nsns.displot(all_data['Starting_Price_Average'])\nplt.show()\nall_data['Starting_Price_Average'].plot.box(figsize=(16,5))\nplt.show()\n\nsns.displot(all_data['Early_Bidding'])\nplt.show()\nall_data['Early_Bidding'].plot.box(figsize=(16,5))\nplt.show()\n\nsns.displot(all_data['Last_Bidding'])\nplt.show()\nall_data['Last_Bidding'].plot.box(figsize=(16,5))\nplt.show()\n\nsns.displot(all_data['Winning_Ratio'])\nplt.show()\nall_data['Winning_Ratio'].plot.box(figsize=(16,5))\nplt.show()\n\nsns.displot(all_data['Auction_Duration'])\nplt.show()\nall_data['Auction_Duration'].plot.box(figsize=(16,5))\nplt.show()",
   "execution_count": null,
   "outputs": [
    {
     "output_type": "execute_result",
     "execution_count": 5,
     "data": {
      "text/plain": "<seaborn.axisgrid.FacetGrid at 0x7fd4ae0487f0>"
     },
     "metadata": {}
    },
    {
     "data": {
      "text/plain": "<Figure size 360x360 with 1 Axes>",
      "image/png": "[encoded data removed]"
     },
     "metadata": {
      "needs_background": "light",
      "image/png": {
       "width": 352,
       "height": 352
      }
     },
     "output_type": "display_data"
    },
    {
     "output_type": "execute_result",
     "execution_count": 5,
     "data": {
      "text/plain": "<AxesSubplot:>"
     },
     "metadata": {}
    },
    {
     "data": {
      "text/plain": "<Figure size 1152x360 with 1 Axes>",
      "image/png": "[encoded data removed]"
     },
     "metadata": {
      "needs_background": "light",
      "image/png": {
       "width": 930,
       "height": 304
      }
     },
     "output_type": "display_data"
    },
    {
     "output_type": "execute_result",
     "execution_count": 5,
     "data": {
      "text/plain": "<seaborn.axisgrid.FacetGrid at 0x7fd4a9f35f10>"
     },
     "metadata": {}
    },
    {
     "data": {
      "text/plain": "<Figure size 360x360 with 1 Axes>",
      "image/png": "[encoded data removed]"
     },
     "metadata": {
      "needs_background": "light",
      "image/png": {
       "width": 352,
       "height": 352
      }
     },
     "output_type": "display_data"
    },
    {
     "output_type": "execute_result",
     "execution_count": 5,
     "data": {
      "text/plain": "<AxesSubplot:>"
     },
     "metadata": {}
    },
    {
     "data": {
      "text/plain": "<Figure size 1152x360 with 1 Axes>",
      "image/png": "[encoded data removed]"
     },
     "metadata": {
      "needs_background": "light",
      "image/png": {
       "width": 930,
       "height": 304
      }
     },
     "output_type": "display_data"
    },
    {
     "output_type": "execute_result",
     "execution_count": 5,
     "data": {
      "text/plain": "<seaborn.axisgrid.FacetGrid at 0x7fd4a9d8fdc0>"
     },
     "metadata": {}
    },
    {
     "data": {
      "text/plain": "<Figure size 360x360 with 1 Axes>",
      "image/png": "[encoded data removed]"
     },
     "metadata": {
      "needs_background": "light",
      "image/png": {
       "width": 352,
       "height": 352
      }
     },
     "output_type": "display_data"
    },
    {
     "output_type": "execute_result",
     "execution_count": 5,
     "data": {
      "text/plain": "<AxesSubplot:>"
     },
     "metadata": {}
    },
    {
     "data": {
      "text/plain": "<Figure size 1152x360 with 1 Axes>",
      "image/png": "[encoded data removed]"
     },
     "metadata": {
      "needs_background": "light",
      "image/png": {
       "width": 930,
       "height": 304
      }
     },
     "output_type": "display_data"
    },
    {
     "output_type": "execute_result",
     "execution_count": 5,
     "data": {
      "text/plain": "<seaborn.axisgrid.FacetGrid at 0x7fd4a9e74670>"
     },
     "metadata": {}
    },
    {
     "data": {
      "text/plain": "<Figure size 360x360 with 1 Axes>",
      "image/png": "[encoded data removed]"
     },
     "metadata": {
      "needs_background": "light",
      "image/png": {
       "width": 352,
       "height": 352
      }
     },
     "output_type": "display_data"
    },
    {
     "output_type": "execute_result",
     "execution_count": 5,
     "data": {
      "text/plain": "<AxesSubplot:>"
     },
     "metadata": {}
    },
    {
     "data": {
      "text/plain": "<Figure size 1152x360 with 1 Axes>",
      "image/png": "[encoded data removed]"
     },
     "metadata": {
      "needs_background": "light",
      "image/png": {
       "width": 930,
       "height": 304
      }
     },
     "output_type": "display_data"
    },
    {
     "output_type": "execute_result",
     "execution_count": 5,
     "data": {
      "text/plain": "<seaborn.axisgrid.FacetGrid at 0x7fd4a9bd8a00>"
     },
     "metadata": {}
    },
    {
     "data": {
      "text/plain": "<Figure size 360x360 with 1 Axes>",
      "image/png": "[encoded data removed]"
     },
     "metadata": {
      "needs_background": "light",
      "image/png": {
       "width": 352,
       "height": 352
      }
     },
     "output_type": "display_data"
    },
    {
     "output_type": "execute_result",
     "execution_count": 5,
     "data": {
      "text/plain": "<AxesSubplot:>"
     },
     "metadata": {}
    },
    {
     "data": {
      "text/plain": "<Figure size 1152x360 with 1 Axes>",
      "image/png": "[encoded data removed]"
     },
     "metadata": {
      "needs_background": "light",
      "image/png": {
       "width": 930,
       "height": 304
      }
     },
     "output_type": "display_data"
    },
    {
     "output_type": "execute_result",
     "execution_count": 5,
     "data": {
      "text/plain": "<seaborn.axisgrid.FacetGrid at 0x7fd4a9b38640>"
     },
     "metadata": {}
    },
    {
     "data": {
      "text/plain": "<Figure size 360x360 with 1 Axes>",
      "image/png": "[encoded data removed]"
     },
     "metadata": {
      "needs_background": "light",
      "image/png": {
       "width": 352,
       "height": 352
      }
     },
     "output_type": "display_data"
    },
    {
     "output_type": "execute_result",
     "execution_count": 5,
     "data": {
      "text/plain": "<AxesSubplot:>"
     },
     "metadata": {}
    },
    {
     "data": {
      "text/plain": "<Figure size 1152x360 with 1 Axes>",
      "image/png": "[encoded data removed]"
     },
     "metadata": {
      "needs_background": "light",
      "image/png": {
       "width": 930,
       "height": 304
      }
     },
     "output_type": "display_data"
    },
    {
     "output_type": "execute_result",
     "execution_count": 5,
     "data": {
      "text/plain": "<seaborn.axisgrid.FacetGrid at 0x7fd4a9ab7d00>"
     },
     "metadata": {}
    },
    {
     "data": {
      "text/plain": "<Figure size 360x360 with 1 Axes>",
      "image/png": "[encoded data removed]"
     },
     "metadata": {
      "needs_background": "light",
      "image/png": {
       "width": 352,
       "height": 352
      }
     },
     "output_type": "display_data"
    },
    {
     "output_type": "execute_result",
     "execution_count": 5,
     "data": {
      "text/plain": "<AxesSubplot:>"
     },
     "metadata": {}
    },
    {
     "data": {
      "text/plain": "<Figure size 1152x360 with 1 Axes>",
      "image/png": "[encoded data removed]"
     },
     "metadata": {
      "needs_background": "light",
      "image/png": {
       "width": 930,
       "height": 304
      }
     },
     "output_type": "display_data"
    },
    {
     "output_type": "execute_result",
     "execution_count": 5,
     "data": {
      "text/plain": "<seaborn.axisgrid.FacetGrid at 0x7fd4a9a1a130>"
     },
     "metadata": {}
    },
    {
     "data": {
      "text/plain": "<Figure size 360x360 with 1 Axes>",
      "image/png": "[encoded data removed]"
     },
     "metadata": {
      "needs_background": "light",
      "image/png": {
       "width": 352,
       "height": 352
      }
     },
     "output_type": "display_data"
    },
    {
     "output_type": "execute_result",
     "execution_count": 5,
     "data": {
      "text/plain": "<AxesSubplot:>"
     },
     "metadata": {}
    },
    {
     "data": {
      "text/plain": "<Figure size 1152x360 with 1 Axes>",
      "image/png": "[encoded data removed]"
     },
     "metadata": {
      "needs_background": "light",
      "image/png": {
       "width": 930,
       "height": 304
      }
     },
     "output_type": "display_data"
    },
    {
     "output_type": "execute_result",
     "execution_count": 5,
     "data": {
      "text/plain": "<seaborn.axisgrid.FacetGrid at 0x7fd4a9e1aaf0>"
     },
     "metadata": {}
    },
    {
     "data": {
      "text/plain": "<Figure size 360x360 with 1 Axes>",
      "image/png": "[encoded data removed]"
     },
     "metadata": {
      "needs_background": "light",
      "image/png": {
       "width": 352,
       "height": 352
      }
     },
     "output_type": "display_data"
    },
    {
     "output_type": "execute_result",
     "execution_count": 5,
     "data": {
      "text/plain": "<AxesSubplot:>"
     },
     "metadata": {}
    },
    {
     "data": {
      "text/plain": "<Figure size 1152x360 with 1 Axes>",
      "image/png": "[encoded data removed]"
     },
     "metadata": {
      "needs_background": "light",
      "image/png": {
       "width": 926,
       "height": 304
      }
     },
     "output_type": "display_data"
    }
   ]
  },
  {
   "cell_type": "markdown",
   "source": "<h4>Understanding Distribution of Attributes by Target",
   "metadata": {
    "tags": [],
    "cell_id": "00012-a69b1578-f4d7-4041-8f59-3c42e9bef319",
    "deepnote_cell_type": "markdown",
    "deepnote_cell_height": 54
   }
  },
  {
   "cell_type": "code",
   "metadata": {
    "tags": [],
    "deepnote_to_be_reexecuted": false,
    "source_hash": "859a2c71",
    "execution_start": 1650215032435,
    "execution_millis": 1791,
    "cell_id": "00013-baa15b4c-34cb-403e-85a0-c2572f16f1f6",
    "deepnote_cell_type": "code",
    "deepnote_cell_height": 3612.71875,
    "deepnote_output_heights": [
     null,
     277,
     null,
     277,
     null,
     277,
     null,
     277,
     null,
     277,
     null,
     277,
     null,
     277,
     21.1875,
     277,
     null,
     277
    ]
   },
   "source": "all_data.groupby('Class')['Bidder_Tendency'].mean().plot.bar().set_title('Bidder_Tendency')\nplt.show()\nall_data.groupby('Class')['Bidding_Ratio'].mean().plot.bar().set_title('Bidding_Ratio')\nplt.show()\nall_data.groupby('Class')['Successive_Outbidding'].mean().plot.bar().set_title('Successive_Outbidding')\nplt.show()\nall_data.groupby('Class')['Auction_Bids'].mean().plot.bar().set_title('Auction_Bids')\nplt.show()\nall_data.groupby('Class')['Starting_Price_Average'].mean().plot.bar().set_title('Starting_Price_Average')\nplt.show()\nall_data.groupby('Class')['Early_Bidding'].mean().plot.bar().set_title('Early_Bidding')\nplt.show()\nall_data.groupby('Class')['Last_Bidding'].mean().plot.bar().set_title('Last_Bidding')\nplt.show()\nall_data.groupby('Class')['Winning_Ratio'].mean().plot.bar().set_title('Winning_Ratio')\nplt.show()\nall_data.groupby('Class')['Auction_Duration'].mean().plot.bar().set_title('Auction_Duration')\nplt.show()",
   "execution_count": null,
   "outputs": [
    {
     "output_type": "execute_result",
     "execution_count": 6,
     "data": {
      "text/plain": "Text(0.5, 1.0, 'Bidder_Tendency')"
     },
     "metadata": {}
    },
    {
     "data": {
      "text/plain": "<Figure size 432x288 with 1 Axes>",
      "image/png": "[encoded data removed]"
     },
     "metadata": {
      "needs_background": "light",
      "image/png": {
       "width": 378,
       "height": 275
      }
     },
     "output_type": "display_data"
    },
    {
     "output_type": "execute_result",
     "execution_count": 6,
     "data": {
      "text/plain": "Text(0.5, 1.0, 'Bidding_Ratio')"
     },
     "metadata": {}
    },
    {
     "data": {
      "text/plain": "<Figure size 432x288 with 1 Axes>",
      "image/png": "[encoded data removed]"
     },
     "metadata": {
      "needs_background": "light",
      "image/png": {
       "width": 378,
       "height": 275
      }
     },
     "output_type": "display_data"
    },
    {
     "output_type": "execute_result",
     "execution_count": 6,
     "data": {
      "text/plain": "Text(0.5, 1.0, 'Successive_Outbidding')"
     },
     "metadata": {}
    },
    {
     "data": {
      "text/plain": "<Figure size 432x288 with 1 Axes>",
      "image/png": "[encoded data removed]"
     },
     "metadata": {
      "needs_background": "light",
      "image/png": {
       "width": 372,
       "height": 275
      }
     },
     "output_type": "display_data"
    },
    {
     "output_type": "execute_result",
     "execution_count": 6,
     "data": {
      "text/plain": "Text(0.5, 1.0, 'Auction_Bids')"
     },
     "metadata": {}
    },
    {
     "data": {
      "text/plain": "<Figure size 432x288 with 1 Axes>",
      "image/png": "[encoded data removed]"
     },
     "metadata": {
      "needs_background": "light",
      "image/png": {
       "width": 378,
       "height": 275
      }
     },
     "output_type": "display_data"
    },
    {
     "output_type": "execute_result",
     "execution_count": 6,
     "data": {
      "text/plain": "Text(0.5, 1.0, 'Starting_Price_Average')"
     },
     "metadata": {}
    },
    {
     "data": {
      "text/plain": "<Figure size 432x288 with 1 Axes>",
      "image/png": "[encoded data removed]"
     },
     "metadata": {
      "needs_background": "light",
      "image/png": {
       "width": 372,
       "height": 275
      }
     },
     "output_type": "display_data"
    },
    {
     "output_type": "execute_result",
     "execution_count": 6,
     "data": {
      "text/plain": "Text(0.5, 1.0, 'Early_Bidding')"
     },
     "metadata": {}
    },
    {
     "data": {
      "text/plain": "<Figure size 432x288 with 1 Axes>",
      "image/png": "[encoded data removed]"
     },
     "metadata": {
      "needs_background": "light",
      "image/png": {
       "width": 372,
       "height": 275
      }
     },
     "output_type": "display_data"
    },
    {
     "output_type": "execute_result",
     "execution_count": 6,
     "data": {
      "text/plain": "Text(0.5, 1.0, 'Last_Bidding')"
     },
     "metadata": {}
    },
    {
     "data": {
      "text/plain": "<Figure size 432x288 with 1 Axes>",
      "image/png": "[encoded data removed]"
     },
     "metadata": {
      "needs_background": "light",
      "image/png": {
       "width": 372,
       "height": 275
      }
     },
     "output_type": "display_data"
    },
    {
     "output_type": "execute_result",
     "execution_count": 6,
     "data": {
      "text/plain": "Text(0.5, 1.0, 'Winning_Ratio')"
     },
     "metadata": {}
    },
    {
     "data": {
      "text/plain": "<Figure size 432x288 with 1 Axes>",
      "image/png": "[encoded data removed]"
     },
     "metadata": {
      "needs_background": "light",
      "image/png": {
       "width": 372,
       "height": 275
      }
     },
     "output_type": "display_data"
    },
    {
     "output_type": "execute_result",
     "execution_count": 6,
     "data": {
      "text/plain": "Text(0.5, 1.0, 'Auction_Duration')"
     },
     "metadata": {}
    },
    {
     "data": {
      "text/plain": "<Figure size 432x288 with 1 Axes>",
      "image/png": "[encoded data removed]"
     },
     "metadata": {
      "needs_background": "light",
      "image/png": {
       "width": 362,
       "height": 275
      }
     },
     "output_type": "display_data"
    }
   ]
  },
  {
   "cell_type": "code",
   "metadata": {
    "tags": [],
    "deepnote_to_be_reexecuted": false,
    "source_hash": "b623e53d",
    "execution_start": 1650215034104,
    "execution_millis": 6,
    "cell_id": "00014-46218dbb-fa51-4b13-b747-5a46781ab51c",
    "deepnote_cell_type": "code",
    "deepnote_cell_height": 81
   },
   "source": "",
   "execution_count": null,
   "outputs": []
  },
  {
   "cell_type": "code",
   "metadata": {
    "tags": [],
    "deepnote_to_be_reexecuted": false,
    "source_hash": "9bc3c934",
    "execution_start": 1650215034112,
    "execution_millis": 1095,
    "cell_id": "00015-1036b1df-f2c8-49fb-9b39-b0248b6319f2",
    "deepnote_cell_type": "code",
    "deepnote_cell_height": 832.171875,
    "deepnote_output_heights": [
     21.1875,
     611
    ]
   },
   "source": "#you can also do correlation analysis easily for numeric variables\n#matrix = all_data.drop(['Class'], axis = 1).corr()\nmatrix = all_data.corr()\nf, ax = plt.subplots(figsize=(15, 12))\nsns.heatmap(matrix, vmax=.5, square=True, cmap=\"BuPu\", annot=True)",
   "execution_count": null,
   "outputs": [
    {
     "output_type": "execute_result",
     "execution_count": 7,
     "data": {
      "text/plain": "<AxesSubplot:>"
     },
     "metadata": {}
    },
    {
     "data": {
      "text/plain": "<Figure size 1080x864 with 2 Axes>",
      "image/png": "[encoded data removed]"
     },
     "metadata": {
      "needs_background": "light",
      "image/png": {
       "width": 895,
       "height": 793
      }
     },
     "output_type": "display_data"
    }
   ]
  },
  {
   "cell_type": "markdown",
   "source": "<h4>MINI Trans</h4>",
   "metadata": {
    "tags": [],
    "cell_id": "00016-f7b1bf68-904b-4a04-98a7-ab0e578dfdb1",
    "deepnote_cell_type": "markdown",
    "deepnote_cell_height": 54
   }
  },
  {
   "cell_type": "code",
   "metadata": {
    "tags": [],
    "deepnote_to_be_reexecuted": false,
    "source_hash": "a8ddb4d1",
    "execution_start": 1650215035209,
    "execution_millis": 3,
    "deepnote_table_state": {
     "pageSize": 10,
     "pageIndex": 0,
     "filters": [],
     "sortBy": []
    },
    "deepnote_table_loading": false,
    "cell_id": "00017-82f0e4e7-099e-478c-b11b-80f0e81b62ca",
    "deepnote_cell_type": "code",
    "deepnote_cell_height": 225
   },
   "source": "# converts categorical variables to dummy variables\ninter_continuity = all_data['Early_Bidding'] + all_data['Last_Bidding']\n\ncontinuity = (inter_continuity - np.min(inter_continuity)) / (np.max(inter_continuity) - np.min(inter_continuity))\n\nall_data['Continuity'] = continuity\n#all_data = all_data.drop(['Early_Bidding'], axis = 1)\n#all_data = all_data.drop(['Last_Bidding'], axis = 1)\n",
   "execution_count": null,
   "outputs": []
  },
  {
   "cell_type": "code",
   "metadata": {
    "tags": [],
    "deepnote_to_be_reexecuted": false,
    "source_hash": "eb6a90e",
    "execution_start": 1650215035216,
    "execution_millis": 62,
    "cell_id": "00018-eb83ffcb-0fb1-4284-a637-d6bd6eb0f297",
    "deepnote_cell_type": "code",
    "deepnote_cell_height": 626.65625
   },
   "source": "#you can easily check for all numeric columns\ni = list(all_data.columns)\na, b = i.index('Class'), i.index('Continuity')\ni[b], i[a] = i[a], i[b]\nall_data = all_data[i]\nall_data.describe()",
   "execution_count": null,
   "outputs": [
    {
     "output_type": "execute_result",
     "execution_count": 9,
     "data": {
      "application/vnd.deepnote.dataframe.v3+json": {
       "column_count": 11,
       "row_count": 8,
       "columns": [
        {
         "name": "Bidder_Tendency",
         "dtype": "float64",
         "stats": {
          "unique_count": 8,
          "nan_count": 0,
          "min": "0.0",
          "max": "6321.0",
          "histogram": [
           {
            "bin_start": 0,
            "bin_end": 632.1,
            "count": 7
           },
           {
            "bin_start": 632.1,
            "bin_end": 1264.2,
            "count": 0
           },
           {
            "bin_start": 1264.2,
            "bin_end": 1896.3000000000002,
            "count": 0
           },
           {
            "bin_start": 1896.3000000000002,
            "bin_end": 2528.4,
            "count": 0
           },
           {
            "bin_start": 2528.4,
            "bin_end": 3160.5,
            "count": 0
           },
           {
            "bin_start": 3160.5,
            "bin_end": 3792.6000000000004,
            "count": 0
           },
           {
            "bin_start": 3792.6000000000004,
            "bin_end": 4424.7,
            "count": 0
           },
           {
            "bin_start": 4424.7,
            "bin_end": 5056.8,
            "count": 0
           },
           {
            "bin_start": 5056.8,
            "bin_end": 5688.900000000001,
            "count": 0
           },
           {
            "bin_start": 5688.900000000001,
            "bin_end": 6321,
            "count": 1
           }
          ]
         }
        },
        {
         "name": "Bidding_Ratio",
         "dtype": "float64",
         "stats": {
          "unique_count": 8,
          "nan_count": 0,
          "min": "0.011764706",
          "max": "6321.0",
          "histogram": [
           {
            "bin_start": 0.011764706,
            "bin_end": 632.1105882354001,
            "count": 7
           },
           {
            "bin_start": 632.1105882354001,
            "bin_end": 1264.2094117648,
            "count": 0
           },
           {
            "bin_start": 1264.2094117648,
            "bin_end": 1896.3082352942001,
            "count": 0
           },
           {
            "bin_start": 1896.3082352942001,
            "bin_end": 2528.4070588236004,
            "count": 0
           },
           {
            "bin_start": 2528.4070588236004,
            "bin_end": 3160.5058823530003,
            "count": 0
           },
           {
            "bin_start": 3160.5058823530003,
            "bin_end": 3792.6047058824006,
            "count": 0
           },
           {
            "bin_start": 3792.6047058824006,
            "bin_end": 4424.7035294118,
            "count": 0
           },
           {
            "bin_start": 4424.7035294118,
            "bin_end": 5056.8023529412,
            "count": 0
           },
           {
            "bin_start": 5056.8023529412,
            "bin_end": 5688.9011764706,
            "count": 0
           },
           {
            "bin_start": 5688.9011764706,
            "bin_end": 6321,
            "count": 1
           }
          ]
         }
        },
        {
         "name": "Successive_Outbidding",
         "dtype": "float64",
         "stats": {
          "unique_count": 5,
          "nan_count": 0,
          "min": "0.0",
          "max": "6321.0",
          "histogram": [
           {
            "bin_start": 0,
            "bin_end": 632.1,
            "count": 7
           },
           {
            "bin_start": 632.1,
            "bin_end": 1264.2,
            "count": 0
           },
           {
            "bin_start": 1264.2,
            "bin_end": 1896.3000000000002,
            "count": 0
           },
           {
            "bin_start": 1896.3000000000002,
            "bin_end": 2528.4,
            "count": 0
           },
           {
            "bin_start": 2528.4,
            "bin_end": 3160.5,
            "count": 0
           },
           {
            "bin_start": 3160.5,
            "bin_end": 3792.6000000000004,
            "count": 0
           },
           {
            "bin_start": 3792.6000000000004,
            "bin_end": 4424.7,
            "count": 0
           },
           {
            "bin_start": 4424.7,
            "bin_end": 5056.8,
            "count": 0
           },
           {
            "bin_start": 5056.8,
            "bin_end": 5688.900000000001,
            "count": 0
           },
           {
            "bin_start": 5688.900000000001,
            "bin_end": 6321,
            "count": 1
           }
          ]
         }
        },
        {
         "name": "Last_Bidding",
         "dtype": "float64",
         "stats": {
          "unique_count": 8,
          "nan_count": 0,
          "min": "0.0",
          "max": "6321.0",
          "histogram": [
           {
            "bin_start": 0,
            "bin_end": 632.1,
            "count": 7
           },
           {
            "bin_start": 632.1,
            "bin_end": 1264.2,
            "count": 0
           },
           {
            "bin_start": 1264.2,
            "bin_end": 1896.3000000000002,
            "count": 0
           },
           {
            "bin_start": 1896.3000000000002,
            "bin_end": 2528.4,
            "count": 0
           },
           {
            "bin_start": 2528.4,
            "bin_end": 3160.5,
            "count": 0
           },
           {
            "bin_start": 3160.5,
            "bin_end": 3792.6000000000004,
            "count": 0
           },
           {
            "bin_start": 3792.6000000000004,
            "bin_end": 4424.7,
            "count": 0
           },
           {
            "bin_start": 4424.7,
            "bin_end": 5056.8,
            "count": 0
           },
           {
            "bin_start": 5056.8,
            "bin_end": 5688.900000000001,
            "count": 0
           },
           {
            "bin_start": 5688.900000000001,
            "bin_end": 6321,
            "count": 1
           }
          ]
         }
        },
        {
         "name": "Auction_Bids",
         "dtype": "float64",
         "stats": {
          "unique_count": 7,
          "nan_count": 0,
          "min": "0.0",
          "max": "6321.0",
          "histogram": [
           {
            "bin_start": 0,
            "bin_end": 632.1,
            "count": 7
           },
           {
            "bin_start": 632.1,
            "bin_end": 1264.2,
            "count": 0
           },
           {
            "bin_start": 1264.2,
            "bin_end": 1896.3000000000002,
            "count": 0
           },
           {
            "bin_start": 1896.3000000000002,
            "bin_end": 2528.4,
            "count": 0
           },
           {
            "bin_start": 2528.4,
            "bin_end": 3160.5,
            "count": 0
           },
           {
            "bin_start": 3160.5,
            "bin_end": 3792.6000000000004,
            "count": 0
           },
           {
            "bin_start": 3792.6000000000004,
            "bin_end": 4424.7,
            "count": 0
           },
           {
            "bin_start": 4424.7,
            "bin_end": 5056.8,
            "count": 0
           },
           {
            "bin_start": 5056.8,
            "bin_end": 5688.900000000001,
            "count": 0
           },
           {
            "bin_start": 5688.900000000001,
            "bin_end": 6321,
            "count": 1
           }
          ]
         }
        },
        {
         "name": "Starting_Price_Average",
         "dtype": "float64",
         "stats": {
          "unique_count": 6,
          "nan_count": 0,
          "min": "0.0",
          "max": "6321.0",
          "histogram": [
           {
            "bin_start": 0,
            "bin_end": 632.1,
            "count": 7
           },
           {
            "bin_start": 632.1,
            "bin_end": 1264.2,
            "count": 0
           },
           {
            "bin_start": 1264.2,
            "bin_end": 1896.3000000000002,
            "count": 0
           },
           {
            "bin_start": 1896.3000000000002,
            "bin_end": 2528.4,
            "count": 0
           },
           {
            "bin_start": 2528.4,
            "bin_end": 3160.5,
            "count": 0
           },
           {
            "bin_start": 3160.5,
            "bin_end": 3792.6000000000004,
            "count": 0
           },
           {
            "bin_start": 3792.6000000000004,
            "bin_end": 4424.7,
            "count": 0
           },
           {
            "bin_start": 4424.7,
            "bin_end": 5056.8,
            "count": 0
           },
           {
            "bin_start": 5056.8,
            "bin_end": 5688.900000000001,
            "count": 0
           },
           {
            "bin_start": 5688.900000000001,
            "bin_end": 6321,
            "count": 1
           }
          ]
         }
        },
        {
         "name": "Early_Bidding",
         "dtype": "float64",
         "stats": {
          "unique_count": 8,
          "nan_count": 0,
          "min": "0.0",
          "max": "6321.0",
          "histogram": [
           {
            "bin_start": 0,
            "bin_end": 632.1,
            "count": 7
           },
           {
            "bin_start": 632.1,
            "bin_end": 1264.2,
            "count": 0
           },
           {
            "bin_start": 1264.2,
            "bin_end": 1896.3000000000002,
            "count": 0
           },
           {
            "bin_start": 1896.3000000000002,
            "bin_end": 2528.4,
            "count": 0
           },
           {
            "bin_start": 2528.4,
            "bin_end": 3160.5,
            "count": 0
           },
           {
            "bin_start": 3160.5,
            "bin_end": 3792.6000000000004,
            "count": 0
           },
           {
            "bin_start": 3792.6000000000004,
            "bin_end": 4424.7,
            "count": 0
           },
           {
            "bin_start": 4424.7,
            "bin_end": 5056.8,
            "count": 0
           },
           {
            "bin_start": 5056.8,
            "bin_end": 5688.900000000001,
            "count": 0
           },
           {
            "bin_start": 5688.900000000001,
            "bin_end": 6321,
            "count": 1
           }
          ]
         }
        },
        {
         "name": "Winning_Ratio",
         "dtype": "float64",
         "stats": {
          "unique_count": 6,
          "nan_count": 0,
          "min": "0.0",
          "max": "6321.0",
          "histogram": [
           {
            "bin_start": 0,
            "bin_end": 632.1,
            "count": 7
           },
           {
            "bin_start": 632.1,
            "bin_end": 1264.2,
            "count": 0
           },
           {
            "bin_start": 1264.2,
            "bin_end": 1896.3000000000002,
            "count": 0
           },
           {
            "bin_start": 1896.3000000000002,
            "bin_end": 2528.4,
            "count": 0
           },
           {
            "bin_start": 2528.4,
            "bin_end": 3160.5,
            "count": 0
           },
           {
            "bin_start": 3160.5,
            "bin_end": 3792.6000000000004,
            "count": 0
           },
           {
            "bin_start": 3792.6000000000004,
            "bin_end": 4424.7,
            "count": 0
           },
           {
            "bin_start": 4424.7,
            "bin_end": 5056.8,
            "count": 0
           },
           {
            "bin_start": 5056.8,
            "bin_end": 5688.900000000001,
            "count": 0
           },
           {
            "bin_start": 5688.900000000001,
            "bin_end": 6321,
            "count": 1
           }
          ]
         }
        },
        {
         "name": "Auction_Duration",
         "dtype": "float64",
         "stats": {
          "unique_count": 8,
          "nan_count": 0,
          "min": "1.0",
          "max": "6321.0",
          "histogram": [
           {
            "bin_start": 1,
            "bin_end": 633,
            "count": 7
           },
           {
            "bin_start": 633,
            "bin_end": 1265,
            "count": 0
           },
           {
            "bin_start": 1265,
            "bin_end": 1897,
            "count": 0
           },
           {
            "bin_start": 1897,
            "bin_end": 2529,
            "count": 0
           },
           {
            "bin_start": 2529,
            "bin_end": 3161,
            "count": 0
           },
           {
            "bin_start": 3161,
            "bin_end": 3793,
            "count": 0
           },
           {
            "bin_start": 3793,
            "bin_end": 4425,
            "count": 0
           },
           {
            "bin_start": 4425,
            "bin_end": 5057,
            "count": 0
           },
           {
            "bin_start": 5057,
            "bin_end": 5689,
            "count": 0
           },
           {
            "bin_start": 5689,
            "bin_end": 6321,
            "count": 1
           }
          ]
         }
        },
        {
         "name": "Continuity",
         "dtype": "float64",
         "stats": {
          "unique_count": 8,
          "nan_count": 0,
          "min": "0.0",
          "max": "6321.0",
          "histogram": [
           {
            "bin_start": 0,
            "bin_end": 632.1,
            "count": 7
           },
           {
            "bin_start": 632.1,
            "bin_end": 1264.2,
            "count": 0
           },
           {
            "bin_start": 1264.2,
            "bin_end": 1896.3000000000002,
            "count": 0
           },
           {
            "bin_start": 1896.3000000000002,
            "bin_end": 2528.4,
            "count": 0
           },
           {
            "bin_start": 2528.4,
            "bin_end": 3160.5,
            "count": 0
           },
           {
            "bin_start": 3160.5,
            "bin_end": 3792.6000000000004,
            "count": 0
           },
           {
            "bin_start": 3792.6000000000004,
            "bin_end": 4424.7,
            "count": 0
           },
           {
            "bin_start": 4424.7,
            "bin_end": 5056.8,
            "count": 0
           },
           {
            "bin_start": 5056.8,
            "bin_end": 5688.900000000001,
            "count": 0
           },
           {
            "bin_start": 5688.900000000001,
            "bin_end": 6321,
            "count": 1
           }
          ]
         }
        },
        {
         "name": "Class",
         "dtype": "float64",
         "stats": {
          "unique_count": 5,
          "nan_count": 0,
          "min": "0.0",
          "max": "6321.0",
          "histogram": [
           {
            "bin_start": 0,
            "bin_end": 632.1,
            "count": 7
           },
           {
            "bin_start": 632.1,
            "bin_end": 1264.2,
            "count": 0
           },
           {
            "bin_start": 1264.2,
            "bin_end": 1896.3000000000002,
            "count": 0
           },
           {
            "bin_start": 1896.3000000000002,
            "bin_end": 2528.4,
            "count": 0
           },
           {
            "bin_start": 2528.4,
            "bin_end": 3160.5,
            "count": 0
           },
           {
            "bin_start": 3160.5,
            "bin_end": 3792.6000000000004,
            "count": 0
           },
           {
            "bin_start": 3792.6000000000004,
            "bin_end": 4424.7,
            "count": 0
           },
           {
            "bin_start": 4424.7,
            "bin_end": 5056.8,
            "count": 0
           },
           {
            "bin_start": 5056.8,
            "bin_end": 5688.900000000001,
            "count": 0
           },
           {
            "bin_start": 5688.900000000001,
            "bin_end": 6321,
            "count": 1
           }
          ]
         }
        },
        {
         "name": "_deepnote_index_column",
         "dtype": "object"
        }
       ],
       "rows": [
        {
         "Bidder_Tendency": 6321,
         "Bidding_Ratio": 6321,
         "Successive_Outbidding": 6321,
         "Last_Bidding": 6321,
         "Auction_Bids": 6321,
         "Starting_Price_Average": 6321,
         "Early_Bidding": 6321,
         "Winning_Ratio": 6321,
         "Auction_Duration": 6321,
         "Continuity": 6321,
         "Class": 6321,
         "_deepnote_index_column": "count"
        },
        {
         "Bidder_Tendency": 0.14254073723714603,
         "Bidding_Ratio": 0.12766967254864736,
         "Successive_Outbidding": 0.10378104730264198,
         "Last_Bidding": 0.46311937700692923,
         "Auction_Bids": 0.23160574843537413,
         "Starting_Price_Average": 0.47282134135611453,
         "Early_Bidding": 0.43068255131901595,
         "Winning_Ratio": 0.36773119853187786,
         "Auction_Duration": 4.6150925486473655,
         "Continuity": 0.4469454517724057,
         "Class": 0.10678690080683437,
         "_deepnote_index_column": "mean"
        },
        {
         "Bidder_Tendency": 0.19708355531317673,
         "Bidding_Ratio": 0.13153042183922645,
         "Successive_Outbidding": 0.27969797028898225,
         "Last_Bidding": 0.3800972293899528,
         "Auction_Bids": 0.25525201465735303,
         "Starting_Price_Average": 0.4899121676025466,
         "Early_Bidding": 0.38078516662003975,
         "Winning_Ratio": 0.43657346666169583,
         "Auction_Duration": 2.4666291818401778,
         "Continuity": 0.3757022783780989,
         "Class": 0.30886655847195243,
         "_deepnote_index_column": "std"
        },
        {
         "Bidder_Tendency": 0,
         "Bidding_Ratio": 0.011764706,
         "Successive_Outbidding": 0,
         "Last_Bidding": 0,
         "Auction_Bids": 0,
         "Starting_Price_Average": 0,
         "Early_Bidding": 0,
         "Winning_Ratio": 0,
         "Auction_Duration": 1,
         "Continuity": 0,
         "Class": 0,
         "_deepnote_index_column": "min"
        },
        {
         "Bidder_Tendency": 0.027027027,
         "Bidding_Ratio": 0.043478261,
         "Successive_Outbidding": 0,
         "Last_Bidding": 0.0479282407,
         "Auction_Bids": 0,
         "Starting_Price_Average": 0,
         "Early_Bidding": 0.0266203704,
         "Winning_Ratio": 0,
         "Auction_Duration": 3,
         "Continuity": 0.04481464591541048,
         "Class": 0,
         "_deepnote_index_column": "25%"
        },
        {
         "Bidder_Tendency": 0.0625,
         "Bidding_Ratio": 0.083333333,
         "Successive_Outbidding": 0,
         "Last_Bidding": 0.4409375,
         "Auction_Bids": 0.142857143,
         "Starting_Price_Average": 0,
         "Early_Bidding": 0.3601041667,
         "Winning_Ratio": 0,
         "Auction_Duration": 5,
         "Continuity": 0.4040525638800509,
         "Class": 0,
         "_deepnote_index_column": "50%"
        },
        {
         "Bidder_Tendency": 0.166666667,
         "Bidding_Ratio": 0.166666667,
         "Successive_Outbidding": 0,
         "Last_Bidding": 0.8603626543,
         "Auction_Bids": 0.454545455,
         "Starting_Price_Average": 0.993592814,
         "Early_Bidding": 0.8267607564,
         "Winning_Ratio": 0.851851852,
         "Auction_Duration": 7,
         "Continuity": 0.8363100956979955,
         "Class": 0,
         "_deepnote_index_column": "75%"
        },
        {
         "Bidder_Tendency": 1,
         "Bidding_Ratio": 1,
         "Successive_Outbidding": 1,
         "Last_Bidding": 0.999900463,
         "Auction_Bids": 0.788235294,
         "Starting_Price_Average": 0.999935281,
         "Early_Bidding": 0.999900463,
         "Winning_Ratio": 1,
         "Auction_Duration": 10,
         "Continuity": 1,
         "Class": 1,
         "_deepnote_index_column": "max"
        }
       ]
      },
      "text/plain": "       Bidder_Tendency  Bidding_Ratio  Successive_Outbidding  Last_Bidding  \\\ncount          6321.00        6321.00                6321.00       6321.00   \nmean              0.14           0.13                   0.10          0.46   \nstd               0.20           0.13                   0.28          0.38   \nmin               0.00           0.01                   0.00          0.00   \n25%               0.03           0.04                   0.00          0.05   \n50%               0.06           0.08                   0.00          0.44   \n75%               0.17           0.17                   0.00          0.86   \nmax               1.00           1.00                   1.00          1.00   \n\n       Auction_Bids  Starting_Price_Average  Early_Bidding  Winning_Ratio  \\\ncount       6321.00                 6321.00        6321.00        6321.00   \nmean           0.23                    0.47           0.43           0.37   \nstd            0.26                    0.49           0.38           0.44   \nmin            0.00                    0.00           0.00           0.00   \n25%            0.00                    0.00           0.03           0.00   \n50%            0.14                    0.00           0.36           0.00   \n75%            0.45                    0.99           0.83           0.85   \nmax            0.79                    1.00           1.00           1.00   \n\n       Auction_Duration  Continuity   Class  \ncount           6321.00     6321.00 6321.00  \nmean               4.62        0.45    0.11  \nstd                2.47        0.38    0.31  \nmin                1.00        0.00    0.00  \n25%                3.00        0.04    0.00  \n50%                5.00        0.40    0.00  \n75%                7.00        0.84    0.00  \nmax               10.00        1.00    1.00  ",
      "text/html": "<div>\n<style scoped>\n    .dataframe tbody tr th:only-of-type {\n        vertical-align: middle;\n    }\n\n    .dataframe tbody tr th {\n        vertical-align: top;\n    }\n\n    .dataframe thead th {\n        text-align: right;\n    }\n</style>\n<table border=\"1\" class=\"dataframe\">\n  <thead>\n    <tr style=\"text-align: right;\">\n      <th></th>\n      <th>Bidder_Tendency</th>\n      <th>Bidding_Ratio</th>\n      <th>Successive_Outbidding</th>\n      <th>Last_Bidding</th>\n      <th>Auction_Bids</th>\n      <th>Starting_Price_Average</th>\n      <th>Early_Bidding</th>\n      <th>Winning_Ratio</th>\n      <th>Auction_Duration</th>\n      <th>Continuity</th>\n      <th>Class</th>\n    </tr>\n  </thead>\n  <tbody>\n    <tr>\n      <th>count</th>\n      <td>6321.00</td>\n      <td>6321.00</td>\n      <td>6321.00</td>\n      <td>6321.00</td>\n      <td>6321.00</td>\n      <td>6321.00</td>\n      <td>6321.00</td>\n      <td>6321.00</td>\n      <td>6321.00</td>\n      <td>6321.00</td>\n      <td>6321.00</td>\n    </tr>\n    <tr>\n      <th>mean</th>\n      <td>0.14</td>\n      <td>0.13</td>\n      <td>0.10</td>\n      <td>0.46</td>\n      <td>0.23</td>\n      <td>0.47</td>\n      <td>0.43</td>\n      <td>0.37</td>\n      <td>4.62</td>\n      <td>0.45</td>\n      <td>0.11</td>\n    </tr>\n    <tr>\n      <th>std</th>\n      <td>0.20</td>\n      <td>0.13</td>\n      <td>0.28</td>\n      <td>0.38</td>\n      <td>0.26</td>\n      <td>0.49</td>\n      <td>0.38</td>\n      <td>0.44</td>\n      <td>2.47</td>\n      <td>0.38</td>\n      <td>0.31</td>\n    </tr>\n    <tr>\n      <th>min</th>\n      <td>0.00</td>\n      <td>0.01</td>\n      <td>0.00</td>\n      <td>0.00</td>\n      <td>0.00</td>\n      <td>0.00</td>\n      <td>0.00</td>\n      <td>0.00</td>\n      <td>1.00</td>\n      <td>0.00</td>\n      <td>0.00</td>\n    </tr>\n    <tr>\n      <th>25%</th>\n      <td>0.03</td>\n      <td>0.04</td>\n      <td>0.00</td>\n      <td>0.05</td>\n      <td>0.00</td>\n      <td>0.00</td>\n      <td>0.03</td>\n      <td>0.00</td>\n      <td>3.00</td>\n      <td>0.04</td>\n      <td>0.00</td>\n    </tr>\n    <tr>\n      <th>50%</th>\n      <td>0.06</td>\n      <td>0.08</td>\n      <td>0.00</td>\n      <td>0.44</td>\n      <td>0.14</td>\n      <td>0.00</td>\n      <td>0.36</td>\n      <td>0.00</td>\n      <td>5.00</td>\n      <td>0.40</td>\n      <td>0.00</td>\n    </tr>\n    <tr>\n      <th>75%</th>\n      <td>0.17</td>\n      <td>0.17</td>\n      <td>0.00</td>\n      <td>0.86</td>\n      <td>0.45</td>\n      <td>0.99</td>\n      <td>0.83</td>\n      <td>0.85</td>\n      <td>7.00</td>\n      <td>0.84</td>\n      <td>0.00</td>\n    </tr>\n    <tr>\n      <th>max</th>\n      <td>1.00</td>\n      <td>1.00</td>\n      <td>1.00</td>\n      <td>1.00</td>\n      <td>0.79</td>\n      <td>1.00</td>\n      <td>1.00</td>\n      <td>1.00</td>\n      <td>10.00</td>\n      <td>1.00</td>\n      <td>1.00</td>\n    </tr>\n  </tbody>\n</table>\n</div>"
     },
     "metadata": {}
    }
   ]
  },
  {
   "cell_type": "code",
   "metadata": {
    "tags": [],
    "deepnote_to_be_reexecuted": false,
    "source_hash": "54fd8f9f",
    "execution_start": 1650215035288,
    "execution_millis": 748,
    "cell_id": "00019-44327c0d-4db2-4404-a5c5-70f41dbabd72",
    "deepnote_cell_type": "code",
    "deepnote_cell_height": 1334.53125,
    "deepnote_output_heights": [
     21.1875,
     354,
     21.1875,
     278,
     21.1875,
     261
    ]
   },
   "source": "sns.displot(all_data['Continuity'])\nplt.show()\n\nall_data['Continuity'].plot.box(figsize=(16,5))\nplt.show()\n\nall_data.groupby('Class')['Continuity'].mean().plot.bar()\nplt.show()",
   "execution_count": null,
   "outputs": [
    {
     "output_type": "execute_result",
     "execution_count": 10,
     "data": {
      "text/plain": "<seaborn.axisgrid.FacetGrid at 0x7fd4a9d47730>"
     },
     "metadata": {}
    },
    {
     "data": {
      "text/plain": "<Figure size 360x360 with 1 Axes>",
      "image/png": "[encoded data removed]"
     },
     "metadata": {
      "needs_background": "light",
      "image/png": {
       "width": 352,
       "height": 352
      }
     },
     "output_type": "display_data"
    },
    {
     "output_type": "execute_result",
     "execution_count": 10,
     "data": {
      "text/plain": "<AxesSubplot:>"
     },
     "metadata": {}
    },
    {
     "data": {
      "text/plain": "<Figure size 1152x360 with 1 Axes>",
      "image/png": "[encoded data removed]"
     },
     "metadata": {
      "needs_background": "light",
      "image/png": {
       "width": 930,
       "height": 303
      }
     },
     "output_type": "display_data"
    },
    {
     "output_type": "execute_result",
     "execution_count": 10,
     "data": {
      "text/plain": "<AxesSubplot:xlabel='Class'>"
     },
     "metadata": {}
    },
    {
     "data": {
      "text/plain": "<Figure size 432x288 with 1 Axes>",
      "image/png": "[encoded data removed]"
     },
     "metadata": {
      "needs_background": "light",
      "image/png": {
       "width": 372,
       "height": 259
      }
     },
     "output_type": "display_data"
    }
   ]
  },
  {
   "cell_type": "code",
   "metadata": {
    "tags": [],
    "deepnote_to_be_reexecuted": false,
    "source_hash": "b1f84be",
    "execution_start": 1650215036047,
    "execution_millis": 1041,
    "cell_id": "00020-52899501-2297-4773-945b-64e1449e4bdb",
    "deepnote_cell_type": "code",
    "deepnote_cell_height": 832.171875,
    "deepnote_output_heights": [
     21.1875,
     611
    ]
   },
   "source": "#you can also do correlation analysis easily for numeric variables\n#matrix = all_data.drop(['Class'], axis = 1).corr()\n#matrix = all_data.corr()\nf, ax = plt.subplots(figsize=(12, 12))\nsns.heatmap(matrix, vmax=.5, square=True, cmap=\"BuPu\", annot=True)",
   "execution_count": null,
   "outputs": [
    {
     "output_type": "execute_result",
     "execution_count": 11,
     "data": {
      "text/plain": "<AxesSubplot:>"
     },
     "metadata": {}
    },
    {
     "data": {
      "text/plain": "<Figure size 864x864 with 2 Axes>",
      "image/png": "[encoded data removed]"
     },
     "metadata": {
      "needs_background": "light",
      "image/png": {
       "width": 770,
       "height": 735
      }
     },
     "output_type": "display_data"
    }
   ]
  },
  {
   "cell_type": "markdown",
   "source": "***\n### **Building Model Try 1: Bagging**",
   "metadata": {
    "tags": [],
    "cell_id": "00023-624d6e34-a825-4d3a-bad7-5fe164fd0258",
    "deepnote_cell_type": "markdown",
    "deepnote_cell_height": 63
   }
  },
  {
   "cell_type": "markdown",
   "source": "The first model to try is a bagging model, which involves taking multiple out-of-bag (OOB) samples and using a decision tree classifier to predict an output. This is known as random forest classifier combined which utilizes ensemble learning.",
   "metadata": {
    "tags": [],
    "cell_id": "00024-e45f468a-1fba-4f16-98d3-5f66f58ad1f9",
    "deepnote_cell_type": "markdown",
    "deepnote_cell_height": 74.765625
   }
  },
  {
   "cell_type": "code",
   "metadata": {
    "tags": [],
    "deepnote_to_be_reexecuted": false,
    "source_hash": "b13c0e44",
    "execution_start": 1650215037094,
    "execution_millis": 1038,
    "cell_id": "00025-369f8aca-8914-4ced-aa46-aa30de02bac2",
    "deepnote_cell_type": "code",
    "deepnote_cell_height": 1441.125,
    "deepnote_output_heights": [
     null,
     null,
     264
    ]
   },
   "source": "from sklearn.metrics import confusion_matrix, ConfusionMatrixDisplay\nfrom sklearn.datasets import load_breast_cancer\nfrom sklearn.tree import DecisionTreeClassifier\nfrom sklearn.linear_model import LogisticRegression\nfrom sklearn import metrics\nfrom sklearn.model_selection import cross_val_score\nfrom sklearn.model_selection import train_test_split\nimport random\nfrom sklearn.ensemble import BaggingClassifier\n\n# Show data types and Na.\nall_data = all_data.drop(['Record_ID'], axis=1)\nall_data = all_data.drop(['Auction_ID'], axis=1)\nall_data = all_data.drop(['Bidder_ID'], axis=1)\n\n# converts categorical variables to dummy variables\nall_data = pd.get_dummies(all_data)\n\n# define dataset\nX = all_data.drop(['Class'], axis=1)\ny = all_data.Class\nX_train, X_test, y_train, y_test = train_test_split(X, y, train_size=0.6, random_state=1)\nmodel = BaggingClassifier(random_state=1).fit(X_train,y_train)\n\nactual = y_test\npredicted = model.predict(X_test)\n\n# confusion matrix\nprint(\"Confusion matrix: \\n\", confusion_matrix(actual, predicted))\n\n# assign tn, fp, fn, tp\ntn, fp, fn, tp = confusion_matrix(actual, predicted).ravel()\nprint(\"True Positives: \", tp, \"\\nFalse Positives: \", fp, \"\\nFalse Negatives: \", fn, \"\\nTrue Negatives: \", tn)\n\n# accuracy using metrics.precision_score()\nprint(\"Accuracy on test = \", metrics.accuracy_score(actual, predicted))\n\n# precision using metrics.precision_score()\nprint(\"Precision on test = \", metrics.precision_score(actual, predicted))\n\n# recall using metrics.precision_score()\nprint(\"Recall on test = \", metrics.recall_score(actual, predicted))\n\ndisp = ConfusionMatrixDisplay(confusion_matrix(actual, predicted))\ndisp.plot(cmap = \"BuPu\")\nplt.show()",
   "execution_count": null,
   "outputs": [
    {
     "name": "stdout",
     "text": "Confusion matrix: \n [[2270    1]\n [   4  254]]\nTrue Positives:  254 \nFalse Positives:  1 \nFalse Negatives:  4 \nTrue Negatives:  2270\nAccuracy on test =  0.9980229339659945\nPrecision on test =  0.996078431372549\nRecall on test =  0.9844961240310077\n",
     "output_type": "stream"
    },
    {
     "output_type": "execute_result",
     "execution_count": 12,
     "data": {
      "text/plain": "<sklearn.metrics._plot.confusion_matrix.ConfusionMatrixDisplay at 0x7fd4a9c63b20>"
     },
     "metadata": {}
    },
    {
     "data": {
      "text/plain": "<Figure size 432x288 with 2 Axes>",
      "image/png": "[encoded data removed]"
     },
     "metadata": {
      "needs_background": "light",
      "image/png": {
       "width": 319,
       "height": 262
      }
     },
     "output_type": "display_data"
    }
   ]
  },
  {
   "cell_type": "code",
   "metadata": {
    "tags": [],
    "deepnote_to_be_reexecuted": false,
    "source_hash": "2cbc2b1",
    "execution_start": 1650215038136,
    "execution_millis": 58,
    "cell_id": "00026-2378ba45-f170-494b-96d6-5c2fc0ae8110",
    "deepnote_cell_type": "code",
    "deepnote_cell_height": 618.65625
   },
   "source": "all_data",
   "execution_count": null,
   "outputs": [
    {
     "output_type": "execute_result",
     "execution_count": 13,
     "data": {
      "application/vnd.deepnote.dataframe.v3+json": {
       "column_count": 11,
       "row_count": 6321,
       "columns": [
        {
         "name": "Bidder_Tendency",
         "dtype": "float64",
         "stats": {
          "unique_count": 489,
          "nan_count": 0,
          "min": "0.0",
          "max": "1.0",
          "histogram": [
           {
            "bin_start": 0,
            "bin_end": 0.1,
            "count": 3887
           },
           {
            "bin_start": 0.1,
            "bin_end": 0.2,
            "count": 961
           },
           {
            "bin_start": 0.2,
            "bin_end": 0.30000000000000004,
            "count": 624
           },
           {
            "bin_start": 0.30000000000000004,
            "bin_end": 0.4,
            "count": 234
           },
           {
            "bin_start": 0.4,
            "bin_end": 0.5,
            "count": 119
           },
           {
            "bin_start": 0.5,
            "bin_end": 0.6000000000000001,
            "count": 236
           },
           {
            "bin_start": 0.6000000000000001,
            "bin_end": 0.7000000000000001,
            "count": 54
           },
           {
            "bin_start": 0.7000000000000001,
            "bin_end": 0.8,
            "count": 45
           },
           {
            "bin_start": 0.8,
            "bin_end": 0.9,
            "count": 28
           },
           {
            "bin_start": 0.9,
            "bin_end": 1,
            "count": 133
           }
          ]
         }
        },
        {
         "name": "Bidding_Ratio",
         "dtype": "float64",
         "stats": {
          "unique_count": 400,
          "nan_count": 0,
          "min": "0.011764706",
          "max": "1.0",
          "histogram": [
           {
            "bin_start": 0.011764706,
            "bin_end": 0.1105882354,
            "count": 3852
           },
           {
            "bin_start": 0.1105882354,
            "bin_end": 0.2094117648,
            "count": 1458
           },
           {
            "bin_start": 0.2094117648,
            "bin_end": 0.3082352942,
            "count": 449
           },
           {
            "bin_start": 0.3082352942,
            "bin_end": 0.4070588236,
            "count": 276
           },
           {
            "bin_start": 0.4070588236,
            "bin_end": 0.505882353,
            "count": 118
           },
           {
            "bin_start": 0.505882353,
            "bin_end": 0.6047058824,
            "count": 79
           },
           {
            "bin_start": 0.6047058824,
            "bin_end": 0.7035294118000001,
            "count": 51
           },
           {
            "bin_start": 0.7035294118000001,
            "bin_end": 0.8023529412,
            "count": 20
           },
           {
            "bin_start": 0.8023529412,
            "bin_end": 0.9011764706,
            "count": 12
           },
           {
            "bin_start": 0.9011764706,
            "bin_end": 1,
            "count": 6
           }
          ]
         }
        },
        {
         "name": "Successive_Outbidding",
         "dtype": "float64",
         "stats": {
          "unique_count": 3,
          "nan_count": 0,
          "min": "0.0",
          "max": "1.0",
          "histogram": [
           {
            "bin_start": 0,
            "bin_end": 0.1,
            "count": 5478
           },
           {
            "bin_start": 0.1,
            "bin_end": 0.2,
            "count": 0
           },
           {
            "bin_start": 0.2,
            "bin_end": 0.30000000000000004,
            "count": 0
           },
           {
            "bin_start": 0.30000000000000004,
            "bin_end": 0.4,
            "count": 0
           },
           {
            "bin_start": 0.4,
            "bin_end": 0.5,
            "count": 0
           },
           {
            "bin_start": 0.5,
            "bin_end": 0.6000000000000001,
            "count": 374
           },
           {
            "bin_start": 0.6000000000000001,
            "bin_end": 0.7000000000000001,
            "count": 0
           },
           {
            "bin_start": 0.7000000000000001,
            "bin_end": 0.8,
            "count": 0
           },
           {
            "bin_start": 0.8,
            "bin_end": 0.9,
            "count": 0
           },
           {
            "bin_start": 0.9,
            "bin_end": 1,
            "count": 469
           }
          ]
         }
        },
        {
         "name": "Last_Bidding",
         "dtype": "float64",
         "stats": {
          "unique_count": 5807,
          "nan_count": 0,
          "min": "0.0",
          "max": "0.999900463",
          "histogram": [
           {
            "bin_start": 0,
            "bin_end": 0.0999900463,
            "count": 1897
           },
           {
            "bin_start": 0.0999900463,
            "bin_end": 0.1999800926,
            "count": 445
           },
           {
            "bin_start": 0.1999800926,
            "bin_end": 0.2999701389,
            "count": 375
           },
           {
            "bin_start": 0.2999701389,
            "bin_end": 0.3999601852,
            "count": 314
           },
           {
            "bin_start": 0.3999601852,
            "bin_end": 0.49995023149999995,
            "count": 285
           },
           {
            "bin_start": 0.49995023149999995,
            "bin_end": 0.5999402778,
            "count": 329
           },
           {
            "bin_start": 0.5999402778,
            "bin_end": 0.6999303241,
            "count": 388
           },
           {
            "bin_start": 0.6999303241,
            "bin_end": 0.7999203704,
            "count": 421
           },
           {
            "bin_start": 0.7999203704,
            "bin_end": 0.8999104166999999,
            "count": 535
           },
           {
            "bin_start": 0.8999104166999999,
            "bin_end": 0.999900463,
            "count": 1332
           }
          ]
         }
        },
        {
         "name": "Auction_Bids",
         "dtype": "float64",
         "stats": {
          "unique_count": 49,
          "nan_count": 0,
          "min": "0.0",
          "max": "0.788235294",
          "histogram": [
           {
            "bin_start": 0,
            "bin_end": 0.07882352940000001,
            "count": 2972
           },
           {
            "bin_start": 0.07882352940000001,
            "bin_end": 0.15764705880000002,
            "count": 351
           },
           {
            "bin_start": 0.15764705880000002,
            "bin_end": 0.23647058820000003,
            "count": 234
           },
           {
            "bin_start": 0.23647058820000003,
            "bin_end": 0.31529411760000003,
            "count": 451
           },
           {
            "bin_start": 0.31529411760000003,
            "bin_end": 0.39411764700000007,
            "count": 348
           },
           {
            "bin_start": 0.39411764700000007,
            "bin_end": 0.47294117640000005,
            "count": 535
           },
           {
            "bin_start": 0.47294117640000005,
            "bin_end": 0.5517647058,
            "count": 382
           },
           {
            "bin_start": 0.5517647058,
            "bin_end": 0.6305882352000001,
            "count": 425
           },
           {
            "bin_start": 0.6305882352000001,
            "bin_end": 0.7094117646000001,
            "count": 415
           },
           {
            "bin_start": 0.7094117646000001,
            "bin_end": 0.788235294,
            "count": 208
           }
          ]
         }
        },
        {
         "name": "Starting_Price_Average",
         "dtype": "float64",
         "stats": {
          "unique_count": 22,
          "nan_count": 0,
          "min": "0.0",
          "max": "0.999935281",
          "histogram": [
           {
            "bin_start": 0,
            "bin_end": 0.09999352809999999,
            "count": 3253
           },
           {
            "bin_start": 0.09999352809999999,
            "bin_end": 0.19998705619999999,
            "count": 0
           },
           {
            "bin_start": 0.19998705619999999,
            "bin_end": 0.29998058429999996,
            "count": 0
           },
           {
            "bin_start": 0.29998058429999996,
            "bin_end": 0.39997411239999997,
            "count": 0
           },
           {
            "bin_start": 0.39997411239999997,
            "bin_end": 0.4999676405,
            "count": 0
           },
           {
            "bin_start": 0.4999676405,
            "bin_end": 0.5999611685999999,
            "count": 52
           },
           {
            "bin_start": 0.5999611685999999,
            "bin_end": 0.6999546967,
            "count": 72
           },
           {
            "bin_start": 0.6999546967,
            "bin_end": 0.7999482247999999,
            "count": 0
           },
           {
            "bin_start": 0.7999482247999999,
            "bin_end": 0.8999417528999999,
            "count": 34
           },
           {
            "bin_start": 0.8999417528999999,
            "bin_end": 0.999935281,
            "count": 2910
           }
          ]
         }
        },
        {
         "name": "Early_Bidding",
         "dtype": "float64",
         "stats": {
          "unique_count": 5690,
          "nan_count": 0,
          "min": "0.0",
          "max": "0.999900463",
          "histogram": [
           {
            "bin_start": 0,
            "bin_end": 0.0999900463,
            "count": 2140
           },
           {
            "bin_start": 0.0999900463,
            "bin_end": 0.1999800926,
            "count": 464
           },
           {
            "bin_start": 0.1999800926,
            "bin_end": 0.2999701389,
            "count": 361
           },
           {
            "bin_start": 0.2999701389,
            "bin_end": 0.3999601852,
            "count": 322
           },
           {
            "bin_start": 0.3999601852,
            "bin_end": 0.49995023149999995,
            "count": 271
           },
           {
            "bin_start": 0.49995023149999995,
            "bin_end": 0.5999402778,
            "count": 293
           },
           {
            "bin_start": 0.5999402778,
            "bin_end": 0.6999303241,
            "count": 358
           },
           {
            "bin_start": 0.6999303241,
            "bin_end": 0.7999203704,
            "count": 398
           },
           {
            "bin_start": 0.7999203704,
            "bin_end": 0.8999104166999999,
            "count": 516
           },
           {
            "bin_start": 0.8999104166999999,
            "bin_end": 0.999900463,
            "count": 1198
           }
          ]
         }
        },
        {
         "name": "Winning_Ratio",
         "dtype": "float64",
         "stats": {
          "unique_count": 72,
          "nan_count": 0,
          "min": "0.0",
          "max": "1.0",
          "histogram": [
           {
            "bin_start": 0,
            "bin_end": 0.1,
            "count": 3640
           },
           {
            "bin_start": 0.1,
            "bin_end": 0.2,
            "count": 0
           },
           {
            "bin_start": 0.2,
            "bin_end": 0.30000000000000004,
            "count": 0
           },
           {
            "bin_start": 0.30000000000000004,
            "bin_end": 0.4,
            "count": 12
           },
           {
            "bin_start": 0.4,
            "bin_end": 0.5,
            "count": 3
           },
           {
            "bin_start": 0.5,
            "bin_end": 0.6000000000000001,
            "count": 104
           },
           {
            "bin_start": 0.6000000000000001,
            "bin_end": 0.7000000000000001,
            "count": 154
           },
           {
            "bin_start": 0.7000000000000001,
            "bin_end": 0.8,
            "count": 355
           },
           {
            "bin_start": 0.8,
            "bin_end": 0.9,
            "count": 820
           },
           {
            "bin_start": 0.9,
            "bin_end": 1,
            "count": 1233
           }
          ]
         }
        },
        {
         "name": "Auction_Duration",
         "dtype": "int64",
         "stats": {
          "unique_count": 5,
          "nan_count": 0,
          "min": "1",
          "max": "10",
          "histogram": [
           {
            "bin_start": 1,
            "bin_end": 1.9,
            "count": 1289
           },
           {
            "bin_start": 1.9,
            "bin_end": 2.8,
            "count": 0
           },
           {
            "bin_start": 2.8,
            "bin_end": 3.7,
            "count": 1408
           },
           {
            "bin_start": 3.7,
            "bin_end": 4.6,
            "count": 0
           },
           {
            "bin_start": 4.6,
            "bin_end": 5.5,
            "count": 1060
           },
           {
            "bin_start": 5.5,
            "bin_end": 6.4,
            "count": 0
           },
           {
            "bin_start": 6.4,
            "bin_end": 7.3,
            "count": 2427
           },
           {
            "bin_start": 7.3,
            "bin_end": 8.2,
            "count": 0
           },
           {
            "bin_start": 8.2,
            "bin_end": 9.1,
            "count": 0
           },
           {
            "bin_start": 9.1,
            "bin_end": 10,
            "count": 137
           }
          ]
         }
        },
        {
         "name": "Continuity",
         "dtype": "float64",
         "stats": {
          "unique_count": 5899,
          "nan_count": 0,
          "min": "0.0",
          "max": "1.0",
          "histogram": [
           {
            "bin_start": 0,
            "bin_end": 0.1,
            "count": 1952
           },
           {
            "bin_start": 0.1,
            "bin_end": 0.2,
            "count": 457
           },
           {
            "bin_start": 0.2,
            "bin_end": 0.30000000000000004,
            "count": 394
           },
           {
            "bin_start": 0.30000000000000004,
            "bin_end": 0.4,
            "count": 343
           },
           {
            "bin_start": 0.4,
            "bin_end": 0.5,
            "count": 319
           },
           {
            "bin_start": 0.5,
            "bin_end": 0.6000000000000001,
            "count": 332
           },
           {
            "bin_start": 0.6000000000000001,
            "bin_end": 0.7000000000000001,
            "count": 372
           },
           {
            "bin_start": 0.7000000000000001,
            "bin_end": 0.8,
            "count": 404
           },
           {
            "bin_start": 0.8,
            "bin_end": 0.9,
            "count": 515
           },
           {
            "bin_start": 0.9,
            "bin_end": 1,
            "count": 1233
           }
          ]
         }
        },
        {
         "name": "Class",
         "dtype": "int64",
         "stats": {
          "unique_count": 2,
          "nan_count": 0,
          "min": "0",
          "max": "1",
          "histogram": [
           {
            "bin_start": 0,
            "bin_end": 0.1,
            "count": 5646
           },
           {
            "bin_start": 0.1,
            "bin_end": 0.2,
            "count": 0
           },
           {
            "bin_start": 0.2,
            "bin_end": 0.30000000000000004,
            "count": 0
           },
           {
            "bin_start": 0.30000000000000004,
            "bin_end": 0.4,
            "count": 0
           },
           {
            "bin_start": 0.4,
            "bin_end": 0.5,
            "count": 0
           },
           {
            "bin_start": 0.5,
            "bin_end": 0.6000000000000001,
            "count": 0
           },
           {
            "bin_start": 0.6000000000000001,
            "bin_end": 0.7000000000000001,
            "count": 0
           },
           {
            "bin_start": 0.7000000000000001,
            "bin_end": 0.8,
            "count": 0
           },
           {
            "bin_start": 0.8,
            "bin_end": 0.9,
            "count": 0
           },
           {
            "bin_start": 0.9,
            "bin_end": 1,
            "count": 675
           }
          ]
         }
        },
        {
         "name": "_deepnote_index_column",
         "dtype": "int64"
        }
       ],
       "rows": [
        {
         "Bidder_Tendency": 0.2,
         "Bidding_Ratio": 0.4,
         "Successive_Outbidding": 0,
         "Last_Bidding": 0.0000277778,
         "Auction_Bids": 0,
         "Starting_Price_Average": 0.993592814,
         "Early_Bidding": 0.0000277778,
         "Winning_Ratio": 0.666666667,
         "Auction_Duration": 5,
         "Continuity": 0.000027780565194117726,
         "Class": 0,
         "_deepnote_index_column": 0
        },
        {
         "Bidder_Tendency": 0.024390244,
         "Bidding_Ratio": 0.2,
         "Successive_Outbidding": 0,
         "Last_Bidding": 0.0131226852,
         "Auction_Bids": 0,
         "Starting_Price_Average": 0.993592814,
         "Early_Bidding": 0.0131226852,
         "Winning_Ratio": 0.944444444,
         "Auction_Duration": 5,
         "Continuity": 0.013123991522744198,
         "Class": 0,
         "_deepnote_index_column": 1
        },
        {
         "Bidder_Tendency": 0.142857143,
         "Bidding_Ratio": 0.2,
         "Successive_Outbidding": 0,
         "Last_Bidding": 0.0030416667,
         "Auction_Bids": 0,
         "Starting_Price_Average": 0.993592814,
         "Early_Bidding": 0.0030416667,
         "Winning_Ratio": 1,
         "Auction_Duration": 5,
         "Continuity": 0.0030419694885169784,
         "Class": 0,
         "_deepnote_index_column": 2
        },
        {
         "Bidder_Tendency": 0.1,
         "Bidding_Ratio": 0.2,
         "Successive_Outbidding": 0,
         "Last_Bidding": 0.0974768519,
         "Auction_Bids": 0,
         "Starting_Price_Average": 0.993592814,
         "Early_Bidding": 0.0974768519,
         "Winning_Ratio": 1,
         "Auction_Duration": 5,
         "Continuity": 0.09748655541926676,
         "Class": 0,
         "_deepnote_index_column": 3
        },
        {
         "Bidder_Tendency": 0.051282051,
         "Bidding_Ratio": 0.222222222,
         "Successive_Outbidding": 0,
         "Last_Bidding": 0.001317791,
         "Auction_Bids": 0,
         "Starting_Price_Average": 0,
         "Early_Bidding": 0.0012417328,
         "Winning_Ratio": 0.5,
         "Auction_Duration": 7,
         "Continuity": 0.00127988929634089,
         "Class": 0,
         "_deepnote_index_column": 4
        },
        {
         "Bidder_Tendency": 0.038461538,
         "Bidding_Ratio": 0.111111111,
         "Successive_Outbidding": 0,
         "Last_Bidding": 0.0168435847,
         "Auction_Bids": 0,
         "Starting_Price_Average": 0,
         "Early_Bidding": 0.0168435847,
         "Winning_Ratio": 0.8,
         "Auction_Duration": 7,
         "Continuity": 0.016845261426786638,
         "Class": 0,
         "_deepnote_index_column": 5
        },
        {
         "Bidder_Tendency": 0.4,
         "Bidding_Ratio": 0.222222222,
         "Successive_Outbidding": 0,
         "Last_Bidding": 0.006780754,
         "Auction_Bids": 0,
         "Starting_Price_Average": 0,
         "Early_Bidding": 0.0067741402,
         "Winning_Ratio": 0.75,
         "Auction_Duration": 7,
         "Continuity": 0.0067781217739070095,
         "Class": 0,
         "_deepnote_index_column": 6
        },
        {
         "Bidder_Tendency": 0.137931034,
         "Bidding_Ratio": 0.444444444,
         "Successive_Outbidding": 1,
         "Last_Bidding": 0.7680439815,
         "Auction_Bids": 0,
         "Starting_Price_Average": 0,
         "Early_Bidding": 0.0163111772,
         "Winning_Ratio": 1,
         "Auction_Duration": 7,
         "Continuity": 0.39221661941564673,
         "Class": 1,
         "_deepnote_index_column": 7
        },
        {
         "Bidder_Tendency": 0.12195122,
         "Bidding_Ratio": 0.185185185,
         "Successive_Outbidding": 1,
         "Last_Bidding": 0.0350214947,
         "Auction_Bids": 0.333333333,
         "Starting_Price_Average": 0.993528095,
         "Early_Bidding": 0.0239632937,
         "Winning_Ratio": 0.944444444,
         "Auction_Duration": 7,
         "Continuity": 0.02949533007666984,
         "Class": 1,
         "_deepnote_index_column": 8
        },
        {
         "Bidder_Tendency": 0.155172414,
         "Bidding_Ratio": 0.346153846,
         "Successive_Outbidding": 0.5,
         "Last_Bidding": 0.5709937169,
         "Auction_Bids": 0.307692308,
         "Starting_Price_Average": 0.993592814,
         "Early_Bidding": 0.4137880291,
         "Winning_Ratio": 0.611111111,
         "Auction_Duration": 7,
         "Continuity": 0.4924398889892303,
         "Class": 1,
         "_deepnote_index_column": 9
        }
       ]
      },
      "text/plain": "      Bidder_Tendency  Bidding_Ratio  Successive_Outbidding  Last_Bidding  \\\n0                0.20           0.40                   0.00          0.00   \n1                0.02           0.20                   0.00          0.01   \n2                0.14           0.20                   0.00          0.00   \n3                0.10           0.20                   0.00          0.10   \n4                0.05           0.22                   0.00          0.00   \n...               ...            ...                    ...           ...   \n6316             0.33           0.16                   1.00          0.74   \n6317             0.03           0.13                   0.00          0.01   \n6318             0.06           0.04                   0.00          0.02   \n6319             0.08           0.09                   0.00          0.07   \n6320             0.02           0.04                   0.00          0.34   \n\n      Auction_Bids  Starting_Price_Average  Early_Bidding  Winning_Ratio  \\\n0             0.00                    0.99           0.00           0.67   \n1             0.00                    0.99           0.01           0.94   \n2             0.00                    0.99           0.00           1.00   \n3             0.00                    0.99           0.10           1.00   \n4             0.00                    0.00           0.00           0.50   \n...            ...                     ...            ...            ...   \n6316          0.28                    0.99           0.69           0.89   \n6317          0.22                    0.99           0.00           0.88   \n6318          0.22                    0.99           0.02           0.00   \n6319          0.22                    0.99           0.00           0.00   \n6320          0.22                    0.99           0.34           0.00   \n\n      Auction_Duration  Continuity  Class  \n0                    5        0.00      0  \n1                    5        0.01      0  \n2                    5        0.00      0  \n3                    5        0.10      0  \n4                    7        0.00      0  \n...                ...         ...    ...  \n6316                 3        0.71      1  \n6317                 7        0.00      0  \n6318                 7        0.02      0  \n6319                 7        0.03      0  \n6320                 7        0.34      0  \n\n[6321 rows x 11 columns]",
      "text/html": "<div>\n<style scoped>\n    .dataframe tbody tr th:only-of-type {\n        vertical-align: middle;\n    }\n\n    .dataframe tbody tr th {\n        vertical-align: top;\n    }\n\n    .dataframe thead th {\n        text-align: right;\n    }\n</style>\n<table border=\"1\" class=\"dataframe\">\n  <thead>\n    <tr style=\"text-align: right;\">\n      <th></th>\n      <th>Bidder_Tendency</th>\n      <th>Bidding_Ratio</th>\n      <th>Successive_Outbidding</th>\n      <th>Last_Bidding</th>\n      <th>Auction_Bids</th>\n      <th>Starting_Price_Average</th>\n      <th>Early_Bidding</th>\n      <th>Winning_Ratio</th>\n      <th>Auction_Duration</th>\n      <th>Continuity</th>\n      <th>Class</th>\n    </tr>\n  </thead>\n  <tbody>\n    <tr>\n      <th>0</th>\n      <td>0.20</td>\n      <td>0.40</td>\n      <td>0.00</td>\n      <td>0.00</td>\n      <td>0.00</td>\n      <td>0.99</td>\n      <td>0.00</td>\n      <td>0.67</td>\n      <td>5</td>\n      <td>0.00</td>\n      <td>0</td>\n    </tr>\n    <tr>\n      <th>1</th>\n      <td>0.02</td>\n      <td>0.20</td>\n      <td>0.00</td>\n      <td>0.01</td>\n      <td>0.00</td>\n      <td>0.99</td>\n      <td>0.01</td>\n      <td>0.94</td>\n      <td>5</td>\n      <td>0.01</td>\n      <td>0</td>\n    </tr>\n    <tr>\n      <th>2</th>\n      <td>0.14</td>\n      <td>0.20</td>\n      <td>0.00</td>\n      <td>0.00</td>\n      <td>0.00</td>\n      <td>0.99</td>\n      <td>0.00</td>\n      <td>1.00</td>\n      <td>5</td>\n      <td>0.00</td>\n      <td>0</td>\n    </tr>\n    <tr>\n      <th>3</th>\n      <td>0.10</td>\n      <td>0.20</td>\n      <td>0.00</td>\n      <td>0.10</td>\n      <td>0.00</td>\n      <td>0.99</td>\n      <td>0.10</td>\n      <td>1.00</td>\n      <td>5</td>\n      <td>0.10</td>\n      <td>0</td>\n    </tr>\n    <tr>\n      <th>4</th>\n      <td>0.05</td>\n      <td>0.22</td>\n      <td>0.00</td>\n      <td>0.00</td>\n      <td>0.00</td>\n      <td>0.00</td>\n      <td>0.00</td>\n      <td>0.50</td>\n      <td>7</td>\n      <td>0.00</td>\n      <td>0</td>\n    </tr>\n    <tr>\n      <th>...</th>\n      <td>...</td>\n      <td>...</td>\n      <td>...</td>\n      <td>...</td>\n      <td>...</td>\n      <td>...</td>\n      <td>...</td>\n      <td>...</td>\n      <td>...</td>\n      <td>...</td>\n      <td>...</td>\n    </tr>\n    <tr>\n      <th>6316</th>\n      <td>0.33</td>\n      <td>0.16</td>\n      <td>1.00</td>\n      <td>0.74</td>\n      <td>0.28</td>\n      <td>0.99</td>\n      <td>0.69</td>\n      <td>0.89</td>\n      <td>3</td>\n      <td>0.71</td>\n      <td>1</td>\n    </tr>\n    <tr>\n      <th>6317</th>\n      <td>0.03</td>\n      <td>0.13</td>\n      <td>0.00</td>\n      <td>0.01</td>\n      <td>0.22</td>\n      <td>0.99</td>\n      <td>0.00</td>\n      <td>0.88</td>\n      <td>7</td>\n      <td>0.00</td>\n      <td>0</td>\n    </tr>\n    <tr>\n      <th>6318</th>\n      <td>0.06</td>\n      <td>0.04</td>\n      <td>0.00</td>\n      <td>0.02</td>\n      <td>0.22</td>\n      <td>0.99</td>\n      <td>0.02</td>\n      <td>0.00</td>\n      <td>7</td>\n      <td>0.02</td>\n      <td>0</td>\n    </tr>\n    <tr>\n      <th>6319</th>\n      <td>0.08</td>\n      <td>0.09</td>\n      <td>0.00</td>\n      <td>0.07</td>\n      <td>0.22</td>\n      <td>0.99</td>\n      <td>0.00</td>\n      <td>0.00</td>\n      <td>7</td>\n      <td>0.03</td>\n      <td>0</td>\n    </tr>\n    <tr>\n      <th>6320</th>\n      <td>0.02</td>\n      <td>0.04</td>\n      <td>0.00</td>\n      <td>0.34</td>\n      <td>0.22</td>\n      <td>0.99</td>\n      <td>0.34</td>\n      <td>0.00</td>\n      <td>7</td>\n      <td>0.34</td>\n      <td>0</td>\n    </tr>\n  </tbody>\n</table>\n<p>6321 rows × 11 columns</p>\n</div>"
     },
     "metadata": {}
    }
   ]
  },
  {
   "cell_type": "markdown",
   "source": "Bagging proves to be highly effective for classifying the data.",
   "metadata": {
    "tags": [],
    "cell_id": "00027-772be9f9-af0d-40a7-9682-c35865699c63",
    "deepnote_cell_type": "markdown",
    "deepnote_cell_height": 52.375
   }
  },
  {
   "cell_type": "markdown",
   "source": "***\n### **Building Model Try 2: Boosting**",
   "metadata": {
    "tags": [],
    "cell_id": "00028-49ced0d3-84b9-4b36-8f7f-e962476c5942",
    "deepnote_cell_type": "markdown",
    "deepnote_cell_height": 63
   }
  },
  {
   "cell_type": "markdown",
   "source": "Although bagging was highly effective, we will investigate whether boosting is even better.",
   "metadata": {
    "tags": [],
    "cell_id": "00029-17e46786-1978-4305-b3aa-8da17125ff27",
    "deepnote_cell_type": "markdown",
    "deepnote_cell_height": 52.375
   }
  },
  {
   "cell_type": "code",
   "metadata": {
    "tags": [],
    "deepnote_to_be_reexecuted": false,
    "source_hash": "103fe637",
    "execution_start": 1650215038197,
    "execution_millis": 520,
    "cell_id": "00030-9f0baf64-67de-428f-97d8-b7553f1e83ea",
    "deepnote_cell_type": "code",
    "deepnote_cell_height": 1295.328125,
    "deepnote_output_heights": [
     null,
     null,
     null,
     21.1875,
     21.1875,
     21.1875,
     21.1875,
     21.1875,
     21.1875,
     21.1875,
     21.1875
    ]
   },
   "source": "import catboost\nfrom catboost import CatBoostClassifier\nfrom sklearn.metrics import accuracy_score, precision_score, recall_score\nfrom sklearn.model_selection import StratifiedKFold\n\niteration = 1\nmean = 0\nprecision = 0\nrecall = 0\n\n# boosting model\nkf = StratifiedKFold(n_splits=10, random_state=1, shuffle=True)\nfor train_index, test_index in kf.split(X, y):\n    print('\\n{} of kfold {}'.format(iteration, kf.n_splits))\n    xtr, xvl = X.loc[train_index], X.loc[test_index]\n    ytr, yvl = y[train_index], y[test_index]\n    model = CatBoostClassifier(iterations=10)\n    model.fit(xtr, ytr)\n    pred_test = model.predict(xvl)\n    score = accuracy_score(yvl, pred_test)\n    precision += precision_score(yvl, pred_test)\n    recall += recall_score(yvl, pred_test)\n    mean += score\n    print('accuracy_score', score)\n    iteration += 1",
   "execution_count": null,
   "outputs": [
    {
     "name": "stdout",
     "text": "\n1 of kfold 10\nLearning rate set to 0.5\n0:\tlearn: 0.3427443\ttotal: 47.1ms\tremaining: 424ms\n1:\tlearn: 0.2116205\ttotal: 49ms\tremaining: 196ms\n2:\tlearn: 0.1302981\ttotal: 50.6ms\tremaining: 118ms\n3:\tlearn: 0.0903433\ttotal: 52.6ms\tremaining: 78.9ms\n4:\tlearn: 0.0597758\ttotal: 54.5ms\tremaining: 54.5ms\n5:\tlearn: 0.0425062\ttotal: 56ms\tremaining: 37.4ms\n6:\tlearn: 0.0309803\ttotal: 57.6ms\tremaining: 24.7ms\n7:\tlearn: 0.0251396\ttotal: 59.9ms\tremaining: 15ms\n8:\tlearn: 0.0197988\ttotal: 62.1ms\tremaining: 6.9ms\n9:\tlearn: 0.0167737\ttotal: 64.3ms\tremaining: 0us\n",
     "output_type": "stream"
    },
    {
     "output_type": "execute_result",
     "execution_count": 14,
     "data": {
      "text/plain": "<catboost.core.CatBoostClassifier at 0x7fd4a67158e0>"
     },
     "metadata": {},
     "text": "\n1 of kfold 10\nLearning rate set to 0.5\n0:\tlearn: 0.3427443\ttotal: 47.1ms\tremaining: 424ms\n1:\tlearn: 0.2116205\ttotal: 49ms\tremaining: 196ms\n2:\tlearn: 0.1302981\ttotal: 50.6ms\tremaining: 118ms\n3:\tlearn: 0.0903433\ttotal: 52.6ms\tremaining: 78.9ms\n4:\tlearn: 0.0597758\ttotal: 54.5ms\tremaining: 54.5ms\n5:\tlearn: 0.0425062\ttotal: 56ms\tremaining: 37.4ms\n6:\tlearn: 0.0309803\ttotal: 57.6ms\tremaining: 24.7ms\n7:\tlearn: 0.0251396\ttotal: 59.9ms\tremaining: 15ms\n8:\tlearn: 0.0197988\ttotal: 62.1ms\tremaining: 6.9ms\n9:\tlearn: 0.0167737\ttotal: 64.3ms\tremaining: 0us\naccuracy_score 0.9984202211690363\n\n2 of kfold 10\nLearning rate set to 0.5\n0:\tlearn: 0.3417590\ttotal: 1.45ms\tremaining: 13.1ms\n1:\tlearn: 0.2106097\ttotal: 3.21ms\tremaining: 12.8ms\n2:\tlearn: 0.1294275\ttotal: 4.79ms\tremaining: 11.2ms\n3:\tlearn: 0.0893986\ttotal: 6.3ms\tremaining: 9.45ms\n4:\tlearn: 0.0583601\ttotal: 7.91ms\tremaining: 7.91ms\n5:\tlearn: 0.0411497\ttotal: 9.4ms\tremaining: 6.27ms\n6:\tlearn: 0.0297531\ttotal: 11ms\tremaining: 4.71ms\n7:\tlearn: 0.0228963\ttotal: 12.5ms\tremaining: 3.12ms\n8:\tlearn: 0.0189120\ttotal: 14ms\tremaining: 1.55ms\n9:\tlearn: 0.0159978\ttotal: 15.5ms\tremaining: 0us\n"
    },
    {
     "output_type": "execute_result",
     "execution_count": 14,
     "data": {
      "text/plain": "<catboost.core.CatBoostClassifier at 0x7fd4a6715880>"
     },
     "metadata": {},
     "text": "\n1 of kfold 10\nLearning rate set to 0.5\n0:\tlearn: 0.3427443\ttotal: 47.1ms\tremaining: 424ms\n1:\tlearn: 0.2116205\ttotal: 49ms\tremaining: 196ms\n2:\tlearn: 0.1302981\ttotal: 50.6ms\tremaining: 118ms\n3:\tlearn: 0.0903433\ttotal: 52.6ms\tremaining: 78.9ms\n4:\tlearn: 0.0597758\ttotal: 54.5ms\tremaining: 54.5ms\n5:\tlearn: 0.0425062\ttotal: 56ms\tremaining: 37.4ms\n6:\tlearn: 0.0309803\ttotal: 57.6ms\tremaining: 24.7ms\n7:\tlearn: 0.0251396\ttotal: 59.9ms\tremaining: 15ms\n8:\tlearn: 0.0197988\ttotal: 62.1ms\tremaining: 6.9ms\n9:\tlearn: 0.0167737\ttotal: 64.3ms\tremaining: 0us\naccuracy_score 0.9984202211690363\n\n2 of kfold 10\nLearning rate set to 0.5\n0:\tlearn: 0.3417590\ttotal: 1.45ms\tremaining: 13.1ms\n1:\tlearn: 0.2106097\ttotal: 3.21ms\tremaining: 12.8ms\n2:\tlearn: 0.1294275\ttotal: 4.79ms\tremaining: 11.2ms\n3:\tlearn: 0.0893986\ttotal: 6.3ms\tremaining: 9.45ms\n4:\tlearn: 0.0583601\ttotal: 7.91ms\tremaining: 7.91ms\n5:\tlearn: 0.0411497\ttotal: 9.4ms\tremaining: 6.27ms\n6:\tlearn: 0.0297531\ttotal: 11ms\tremaining: 4.71ms\n7:\tlearn: 0.0228963\ttotal: 12.5ms\tremaining: 3.12ms\n8:\tlearn: 0.0189120\ttotal: 14ms\tremaining: 1.55ms\n9:\tlearn: 0.0159978\ttotal: 15.5ms\tremaining: 0us\naccuracy_score 0.9920886075949367\n\n3 of kfold 10\nLearning rate set to 0.5\n0:\tlearn: 0.3422209\ttotal: 1.57ms\tremaining: 14.1ms\n1:\tlearn: 0.2116037\ttotal: 3.36ms\tremaining: 13.4ms\n2:\tlearn: 0.1299737\ttotal: 4.93ms\tremaining: 11.5ms\n3:\tlearn: 0.0901020\ttotal: 6.46ms\tremaining: 9.69ms\n4:\tlearn: 0.0594546\ttotal: 7.97ms\tremaining: 7.97ms\n5:\tlearn: 0.0422996\ttotal: 9.43ms\tremaining: 6.29ms\n6:\tlearn: 0.0307931\ttotal: 11ms\tremaining: 4.7ms\n7:\tlearn: 0.0249919\ttotal: 12.4ms\tremaining: 3.1ms\n8:\tlearn: 0.0195973\ttotal: 13.9ms\tremaining: 1.54ms\n9:\tlearn: 0.0165523\ttotal: 15.3ms\tremaining: 0us\n"
    },
    {
     "output_type": "execute_result",
     "execution_count": 14,
     "data": {
      "text/plain": "<catboost.core.CatBoostClassifier at 0x7fd4a66d34f0>"
     },
     "metadata": {},
     "text": "\n1 of kfold 10\nLearning rate set to 0.5\n0:\tlearn: 0.3427443\ttotal: 47.1ms\tremaining: 424ms\n1:\tlearn: 0.2116205\ttotal: 49ms\tremaining: 196ms\n2:\tlearn: 0.1302981\ttotal: 50.6ms\tremaining: 118ms\n3:\tlearn: 0.0903433\ttotal: 52.6ms\tremaining: 78.9ms\n4:\tlearn: 0.0597758\ttotal: 54.5ms\tremaining: 54.5ms\n5:\tlearn: 0.0425062\ttotal: 56ms\tremaining: 37.4ms\n6:\tlearn: 0.0309803\ttotal: 57.6ms\tremaining: 24.7ms\n7:\tlearn: 0.0251396\ttotal: 59.9ms\tremaining: 15ms\n8:\tlearn: 0.0197988\ttotal: 62.1ms\tremaining: 6.9ms\n9:\tlearn: 0.0167737\ttotal: 64.3ms\tremaining: 0us\naccuracy_score 0.9984202211690363\n\n2 of kfold 10\nLearning rate set to 0.5\n0:\tlearn: 0.3417590\ttotal: 1.45ms\tremaining: 13.1ms\n1:\tlearn: 0.2106097\ttotal: 3.21ms\tremaining: 12.8ms\n2:\tlearn: 0.1294275\ttotal: 4.79ms\tremaining: 11.2ms\n3:\tlearn: 0.0893986\ttotal: 6.3ms\tremaining: 9.45ms\n4:\tlearn: 0.0583601\ttotal: 7.91ms\tremaining: 7.91ms\n5:\tlearn: 0.0411497\ttotal: 9.4ms\tremaining: 6.27ms\n6:\tlearn: 0.0297531\ttotal: 11ms\tremaining: 4.71ms\n7:\tlearn: 0.0228963\ttotal: 12.5ms\tremaining: 3.12ms\n8:\tlearn: 0.0189120\ttotal: 14ms\tremaining: 1.55ms\n9:\tlearn: 0.0159978\ttotal: 15.5ms\tremaining: 0us\naccuracy_score 0.9920886075949367\n\n3 of kfold 10\nLearning rate set to 0.5\n0:\tlearn: 0.3422209\ttotal: 1.57ms\tremaining: 14.1ms\n1:\tlearn: 0.2116037\ttotal: 3.36ms\tremaining: 13.4ms\n2:\tlearn: 0.1299737\ttotal: 4.93ms\tremaining: 11.5ms\n3:\tlearn: 0.0901020\ttotal: 6.46ms\tremaining: 9.69ms\n4:\tlearn: 0.0594546\ttotal: 7.97ms\tremaining: 7.97ms\n5:\tlearn: 0.0422996\ttotal: 9.43ms\tremaining: 6.29ms\n6:\tlearn: 0.0307931\ttotal: 11ms\tremaining: 4.7ms\n7:\tlearn: 0.0249919\ttotal: 12.4ms\tremaining: 3.1ms\n8:\tlearn: 0.0195973\ttotal: 13.9ms\tremaining: 1.54ms\n9:\tlearn: 0.0165523\ttotal: 15.3ms\tremaining: 0us\naccuracy_score 0.9968354430379747\n\n4 of kfold 10\nLearning rate set to 0.5\n0:\tlearn: 0.3420452\ttotal: 1.75ms\tremaining: 15.7ms\n1:\tlearn: 0.2102492\ttotal: 4.22ms\tremaining: 16.9ms\n2:\tlearn: 0.1294677\ttotal: 6.53ms\tremaining: 15.2ms\n3:\tlearn: 0.0894564\ttotal: 8.89ms\tremaining: 13.3ms\n4:\tlearn: 0.0587351\ttotal: 11.2ms\tremaining: 11.2ms\n5:\tlearn: 0.0414238\ttotal: 13.5ms\tremaining: 8.97ms\n6:\tlearn: 0.0300652\ttotal: 15.8ms\tremaining: 6.75ms\n7:\tlearn: 0.0245676\ttotal: 18ms\tremaining: 4.5ms\n8:\tlearn: 0.0190172\ttotal: 20.3ms\tremaining: 2.26ms\n9:\tlearn: 0.0158146\ttotal: 22.6ms\tremaining: 0us\n"
    },
    {
     "output_type": "execute_result",
     "execution_count": 14,
     "data": {
      "text/plain": "<catboost.core.CatBoostClassifier at 0x7fd4a6715e80>"
     },
     "metadata": {},
     "text": "\n1 of kfold 10\nLearning rate set to 0.5\n0:\tlearn: 0.3427443\ttotal: 47.1ms\tremaining: 424ms\n1:\tlearn: 0.2116205\ttotal: 49ms\tremaining: 196ms\n2:\tlearn: 0.1302981\ttotal: 50.6ms\tremaining: 118ms\n3:\tlearn: 0.0903433\ttotal: 52.6ms\tremaining: 78.9ms\n4:\tlearn: 0.0597758\ttotal: 54.5ms\tremaining: 54.5ms\n5:\tlearn: 0.0425062\ttotal: 56ms\tremaining: 37.4ms\n6:\tlearn: 0.0309803\ttotal: 57.6ms\tremaining: 24.7ms\n7:\tlearn: 0.0251396\ttotal: 59.9ms\tremaining: 15ms\n8:\tlearn: 0.0197988\ttotal: 62.1ms\tremaining: 6.9ms\n9:\tlearn: 0.0167737\ttotal: 64.3ms\tremaining: 0us\naccuracy_score 0.9984202211690363\n\n2 of kfold 10\nLearning rate set to 0.5\n0:\tlearn: 0.3417590\ttotal: 1.45ms\tremaining: 13.1ms\n1:\tlearn: 0.2106097\ttotal: 3.21ms\tremaining: 12.8ms\n2:\tlearn: 0.1294275\ttotal: 4.79ms\tremaining: 11.2ms\n3:\tlearn: 0.0893986\ttotal: 6.3ms\tremaining: 9.45ms\n4:\tlearn: 0.0583601\ttotal: 7.91ms\tremaining: 7.91ms\n5:\tlearn: 0.0411497\ttotal: 9.4ms\tremaining: 6.27ms\n6:\tlearn: 0.0297531\ttotal: 11ms\tremaining: 4.71ms\n7:\tlearn: 0.0228963\ttotal: 12.5ms\tremaining: 3.12ms\n8:\tlearn: 0.0189120\ttotal: 14ms\tremaining: 1.55ms\n9:\tlearn: 0.0159978\ttotal: 15.5ms\tremaining: 0us\naccuracy_score 0.9920886075949367\n\n3 of kfold 10\nLearning rate set to 0.5\n0:\tlearn: 0.3422209\ttotal: 1.57ms\tremaining: 14.1ms\n1:\tlearn: 0.2116037\ttotal: 3.36ms\tremaining: 13.4ms\n2:\tlearn: 0.1299737\ttotal: 4.93ms\tremaining: 11.5ms\n3:\tlearn: 0.0901020\ttotal: 6.46ms\tremaining: 9.69ms\n4:\tlearn: 0.0594546\ttotal: 7.97ms\tremaining: 7.97ms\n5:\tlearn: 0.0422996\ttotal: 9.43ms\tremaining: 6.29ms\n6:\tlearn: 0.0307931\ttotal: 11ms\tremaining: 4.7ms\n7:\tlearn: 0.0249919\ttotal: 12.4ms\tremaining: 3.1ms\n8:\tlearn: 0.0195973\ttotal: 13.9ms\tremaining: 1.54ms\n9:\tlearn: 0.0165523\ttotal: 15.3ms\tremaining: 0us\naccuracy_score 0.9968354430379747\n\n4 of kfold 10\nLearning rate set to 0.5\n0:\tlearn: 0.3420452\ttotal: 1.75ms\tremaining: 15.7ms\n1:\tlearn: 0.2102492\ttotal: 4.22ms\tremaining: 16.9ms\n2:\tlearn: 0.1294677\ttotal: 6.53ms\tremaining: 15.2ms\n3:\tlearn: 0.0894564\ttotal: 8.89ms\tremaining: 13.3ms\n4:\tlearn: 0.0587351\ttotal: 11.2ms\tremaining: 11.2ms\n5:\tlearn: 0.0414238\ttotal: 13.5ms\tremaining: 8.97ms\n6:\tlearn: 0.0300652\ttotal: 15.8ms\tremaining: 6.75ms\n7:\tlearn: 0.0245676\ttotal: 18ms\tremaining: 4.5ms\n8:\tlearn: 0.0190172\ttotal: 20.3ms\tremaining: 2.26ms\n9:\tlearn: 0.0158146\ttotal: 22.6ms\tremaining: 0us\naccuracy_score 0.9984177215189873\n\n5 of kfold 10\nLearning rate set to 0.5\n0:\tlearn: 0.3428245\ttotal: 1.41ms\tremaining: 12.7ms\n1:\tlearn: 0.2114973\ttotal: 3.21ms\tremaining: 12.9ms\n2:\tlearn: 0.1305655\ttotal: 4.78ms\tremaining: 11.2ms\n3:\tlearn: 0.0907406\ttotal: 6.35ms\tremaining: 9.53ms\n4:\tlearn: 0.0595581\ttotal: 7.83ms\tremaining: 7.83ms\n5:\tlearn: 0.0422721\ttotal: 9.38ms\tremaining: 6.26ms\n6:\tlearn: 0.0306157\ttotal: 11ms\tremaining: 4.7ms\n7:\tlearn: 0.0247509\ttotal: 12.5ms\tremaining: 3.13ms\n8:\tlearn: 0.0195591\ttotal: 13.9ms\tremaining: 1.55ms\n9:\tlearn: 0.0166770\ttotal: 15.3ms\tremaining: 0us\n"
    },
    {
     "output_type": "execute_result",
     "execution_count": 14,
     "data": {
      "text/plain": "<catboost.core.CatBoostClassifier at 0x7fd4a9c5f370>"
     },
     "metadata": {},
     "text": "\n1 of kfold 10\nLearning rate set to 0.5\n0:\tlearn: 0.3427443\ttotal: 47.1ms\tremaining: 424ms\n1:\tlearn: 0.2116205\ttotal: 49ms\tremaining: 196ms\n2:\tlearn: 0.1302981\ttotal: 50.6ms\tremaining: 118ms\n3:\tlearn: 0.0903433\ttotal: 52.6ms\tremaining: 78.9ms\n4:\tlearn: 0.0597758\ttotal: 54.5ms\tremaining: 54.5ms\n5:\tlearn: 0.0425062\ttotal: 56ms\tremaining: 37.4ms\n6:\tlearn: 0.0309803\ttotal: 57.6ms\tremaining: 24.7ms\n7:\tlearn: 0.0251396\ttotal: 59.9ms\tremaining: 15ms\n8:\tlearn: 0.0197988\ttotal: 62.1ms\tremaining: 6.9ms\n9:\tlearn: 0.0167737\ttotal: 64.3ms\tremaining: 0us\naccuracy_score 0.9984202211690363\n\n2 of kfold 10\nLearning rate set to 0.5\n0:\tlearn: 0.3417590\ttotal: 1.45ms\tremaining: 13.1ms\n1:\tlearn: 0.2106097\ttotal: 3.21ms\tremaining: 12.8ms\n2:\tlearn: 0.1294275\ttotal: 4.79ms\tremaining: 11.2ms\n3:\tlearn: 0.0893986\ttotal: 6.3ms\tremaining: 9.45ms\n4:\tlearn: 0.0583601\ttotal: 7.91ms\tremaining: 7.91ms\n5:\tlearn: 0.0411497\ttotal: 9.4ms\tremaining: 6.27ms\n6:\tlearn: 0.0297531\ttotal: 11ms\tremaining: 4.71ms\n7:\tlearn: 0.0228963\ttotal: 12.5ms\tremaining: 3.12ms\n8:\tlearn: 0.0189120\ttotal: 14ms\tremaining: 1.55ms\n9:\tlearn: 0.0159978\ttotal: 15.5ms\tremaining: 0us\naccuracy_score 0.9920886075949367\n\n3 of kfold 10\nLearning rate set to 0.5\n0:\tlearn: 0.3422209\ttotal: 1.57ms\tremaining: 14.1ms\n1:\tlearn: 0.2116037\ttotal: 3.36ms\tremaining: 13.4ms\n2:\tlearn: 0.1299737\ttotal: 4.93ms\tremaining: 11.5ms\n3:\tlearn: 0.0901020\ttotal: 6.46ms\tremaining: 9.69ms\n4:\tlearn: 0.0594546\ttotal: 7.97ms\tremaining: 7.97ms\n5:\tlearn: 0.0422996\ttotal: 9.43ms\tremaining: 6.29ms\n6:\tlearn: 0.0307931\ttotal: 11ms\tremaining: 4.7ms\n7:\tlearn: 0.0249919\ttotal: 12.4ms\tremaining: 3.1ms\n8:\tlearn: 0.0195973\ttotal: 13.9ms\tremaining: 1.54ms\n9:\tlearn: 0.0165523\ttotal: 15.3ms\tremaining: 0us\naccuracy_score 0.9968354430379747\n\n4 of kfold 10\nLearning rate set to 0.5\n0:\tlearn: 0.3420452\ttotal: 1.75ms\tremaining: 15.7ms\n1:\tlearn: 0.2102492\ttotal: 4.22ms\tremaining: 16.9ms\n2:\tlearn: 0.1294677\ttotal: 6.53ms\tremaining: 15.2ms\n3:\tlearn: 0.0894564\ttotal: 8.89ms\tremaining: 13.3ms\n4:\tlearn: 0.0587351\ttotal: 11.2ms\tremaining: 11.2ms\n5:\tlearn: 0.0414238\ttotal: 13.5ms\tremaining: 8.97ms\n6:\tlearn: 0.0300652\ttotal: 15.8ms\tremaining: 6.75ms\n7:\tlearn: 0.0245676\ttotal: 18ms\tremaining: 4.5ms\n8:\tlearn: 0.0190172\ttotal: 20.3ms\tremaining: 2.26ms\n9:\tlearn: 0.0158146\ttotal: 22.6ms\tremaining: 0us\naccuracy_score 0.9984177215189873\n\n5 of kfold 10\nLearning rate set to 0.5\n0:\tlearn: 0.3428245\ttotal: 1.41ms\tremaining: 12.7ms\n1:\tlearn: 0.2114973\ttotal: 3.21ms\tremaining: 12.9ms\n2:\tlearn: 0.1305655\ttotal: 4.78ms\tremaining: 11.2ms\n3:\tlearn: 0.0907406\ttotal: 6.35ms\tremaining: 9.53ms\n4:\tlearn: 0.0595581\ttotal: 7.83ms\tremaining: 7.83ms\n5:\tlearn: 0.0422721\ttotal: 9.38ms\tremaining: 6.26ms\n6:\tlearn: 0.0306157\ttotal: 11ms\tremaining: 4.7ms\n7:\tlearn: 0.0247509\ttotal: 12.5ms\tremaining: 3.13ms\n8:\tlearn: 0.0195591\ttotal: 13.9ms\tremaining: 1.55ms\n9:\tlearn: 0.0166770\ttotal: 15.3ms\tremaining: 0us\naccuracy_score 1.0\n\n6 of kfold 10\nLearning rate set to 0.5\n0:\tlearn: 0.3415989\ttotal: 1.18ms\tremaining: 10.6ms\n1:\tlearn: 0.2103285\ttotal: 2.71ms\tremaining: 10.8ms\n2:\tlearn: 0.1294368\ttotal: 4.26ms\tremaining: 9.94ms\n3:\tlearn: 0.0883392\ttotal: 5.84ms\tremaining: 8.77ms\n4:\tlearn: 0.0578805\ttotal: 7.37ms\tremaining: 7.37ms\n5:\tlearn: 0.0408622\ttotal: 8.87ms\tremaining: 5.91ms\n6:\tlearn: 0.0295664\ttotal: 10.4ms\tremaining: 4.44ms\n7:\tlearn: 0.0242466\ttotal: 11.9ms\tremaining: 2.97ms\n8:\tlearn: 0.0192811\ttotal: 13.5ms\tremaining: 1.5ms\n9:\tlearn: 0.0156204\ttotal: 15ms\tremaining: 0us\n"
    },
    {
     "output_type": "execute_result",
     "execution_count": 14,
     "data": {
      "text/plain": "<catboost.core.CatBoostClassifier at 0x7fd4a9f4e1f0>"
     },
     "metadata": {},
     "text": "\n1 of kfold 10\nLearning rate set to 0.5\n0:\tlearn: 0.3427443\ttotal: 47.1ms\tremaining: 424ms\n1:\tlearn: 0.2116205\ttotal: 49ms\tremaining: 196ms\n2:\tlearn: 0.1302981\ttotal: 50.6ms\tremaining: 118ms\n3:\tlearn: 0.0903433\ttotal: 52.6ms\tremaining: 78.9ms\n4:\tlearn: 0.0597758\ttotal: 54.5ms\tremaining: 54.5ms\n5:\tlearn: 0.0425062\ttotal: 56ms\tremaining: 37.4ms\n6:\tlearn: 0.0309803\ttotal: 57.6ms\tremaining: 24.7ms\n7:\tlearn: 0.0251396\ttotal: 59.9ms\tremaining: 15ms\n8:\tlearn: 0.0197988\ttotal: 62.1ms\tremaining: 6.9ms\n9:\tlearn: 0.0167737\ttotal: 64.3ms\tremaining: 0us\naccuracy_score 0.9984202211690363\n\n2 of kfold 10\nLearning rate set to 0.5\n0:\tlearn: 0.3417590\ttotal: 1.45ms\tremaining: 13.1ms\n1:\tlearn: 0.2106097\ttotal: 3.21ms\tremaining: 12.8ms\n2:\tlearn: 0.1294275\ttotal: 4.79ms\tremaining: 11.2ms\n3:\tlearn: 0.0893986\ttotal: 6.3ms\tremaining: 9.45ms\n4:\tlearn: 0.0583601\ttotal: 7.91ms\tremaining: 7.91ms\n5:\tlearn: 0.0411497\ttotal: 9.4ms\tremaining: 6.27ms\n6:\tlearn: 0.0297531\ttotal: 11ms\tremaining: 4.71ms\n7:\tlearn: 0.0228963\ttotal: 12.5ms\tremaining: 3.12ms\n8:\tlearn: 0.0189120\ttotal: 14ms\tremaining: 1.55ms\n9:\tlearn: 0.0159978\ttotal: 15.5ms\tremaining: 0us\naccuracy_score 0.9920886075949367\n\n3 of kfold 10\nLearning rate set to 0.5\n0:\tlearn: 0.3422209\ttotal: 1.57ms\tremaining: 14.1ms\n1:\tlearn: 0.2116037\ttotal: 3.36ms\tremaining: 13.4ms\n2:\tlearn: 0.1299737\ttotal: 4.93ms\tremaining: 11.5ms\n3:\tlearn: 0.0901020\ttotal: 6.46ms\tremaining: 9.69ms\n4:\tlearn: 0.0594546\ttotal: 7.97ms\tremaining: 7.97ms\n5:\tlearn: 0.0422996\ttotal: 9.43ms\tremaining: 6.29ms\n6:\tlearn: 0.0307931\ttotal: 11ms\tremaining: 4.7ms\n7:\tlearn: 0.0249919\ttotal: 12.4ms\tremaining: 3.1ms\n8:\tlearn: 0.0195973\ttotal: 13.9ms\tremaining: 1.54ms\n9:\tlearn: 0.0165523\ttotal: 15.3ms\tremaining: 0us\naccuracy_score 0.9968354430379747\n\n4 of kfold 10\nLearning rate set to 0.5\n0:\tlearn: 0.3420452\ttotal: 1.75ms\tremaining: 15.7ms\n1:\tlearn: 0.2102492\ttotal: 4.22ms\tremaining: 16.9ms\n2:\tlearn: 0.1294677\ttotal: 6.53ms\tremaining: 15.2ms\n3:\tlearn: 0.0894564\ttotal: 8.89ms\tremaining: 13.3ms\n4:\tlearn: 0.0587351\ttotal: 11.2ms\tremaining: 11.2ms\n5:\tlearn: 0.0414238\ttotal: 13.5ms\tremaining: 8.97ms\n6:\tlearn: 0.0300652\ttotal: 15.8ms\tremaining: 6.75ms\n7:\tlearn: 0.0245676\ttotal: 18ms\tremaining: 4.5ms\n8:\tlearn: 0.0190172\ttotal: 20.3ms\tremaining: 2.26ms\n9:\tlearn: 0.0158146\ttotal: 22.6ms\tremaining: 0us\naccuracy_score 0.9984177215189873\n\n5 of kfold 10\nLearning rate set to 0.5\n0:\tlearn: 0.3428245\ttotal: 1.41ms\tremaining: 12.7ms\n1:\tlearn: 0.2114973\ttotal: 3.21ms\tremaining: 12.9ms\n2:\tlearn: 0.1305655\ttotal: 4.78ms\tremaining: 11.2ms\n3:\tlearn: 0.0907406\ttotal: 6.35ms\tremaining: 9.53ms\n4:\tlearn: 0.0595581\ttotal: 7.83ms\tremaining: 7.83ms\n5:\tlearn: 0.0422721\ttotal: 9.38ms\tremaining: 6.26ms\n6:\tlearn: 0.0306157\ttotal: 11ms\tremaining: 4.7ms\n7:\tlearn: 0.0247509\ttotal: 12.5ms\tremaining: 3.13ms\n8:\tlearn: 0.0195591\ttotal: 13.9ms\tremaining: 1.55ms\n9:\tlearn: 0.0166770\ttotal: 15.3ms\tremaining: 0us\naccuracy_score 1.0\n\n6 of kfold 10\nLearning rate set to 0.5\n0:\tlearn: 0.3415989\ttotal: 1.18ms\tremaining: 10.6ms\n1:\tlearn: 0.2103285\ttotal: 2.71ms\tremaining: 10.8ms\n2:\tlearn: 0.1294368\ttotal: 4.26ms\tremaining: 9.94ms\n3:\tlearn: 0.0883392\ttotal: 5.84ms\tremaining: 8.77ms\n4:\tlearn: 0.0578805\ttotal: 7.37ms\tremaining: 7.37ms\n5:\tlearn: 0.0408622\ttotal: 8.87ms\tremaining: 5.91ms\n6:\tlearn: 0.0295664\ttotal: 10.4ms\tremaining: 4.44ms\n7:\tlearn: 0.0242466\ttotal: 11.9ms\tremaining: 2.97ms\n8:\tlearn: 0.0192811\ttotal: 13.5ms\tremaining: 1.5ms\n9:\tlearn: 0.0156204\ttotal: 15ms\tremaining: 0us\naccuracy_score 0.995253164556962\n\n7 of kfold 10\nLearning rate set to 0.5\n0:\tlearn: 0.3421213\ttotal: 1.7ms\tremaining: 15.3ms\n1:\tlearn: 0.2102951\ttotal: 4.07ms\tremaining: 16.3ms\n2:\tlearn: 0.1290648\ttotal: 6.43ms\tremaining: 15ms\n3:\tlearn: 0.0894009\ttotal: 8.77ms\tremaining: 13.2ms\n4:\tlearn: 0.0586504\ttotal: 11.1ms\tremaining: 11.1ms\n5:\tlearn: 0.0404005\ttotal: 13.4ms\tremaining: 8.93ms\n6:\tlearn: 0.0298533\ttotal: 16ms\tremaining: 6.84ms\n7:\tlearn: 0.0239968\ttotal: 18.3ms\tremaining: 4.58ms\n8:\tlearn: 0.0195909\ttotal: 20.6ms\tremaining: 2.29ms\n9:\tlearn: 0.0164924\ttotal: 22.8ms\tremaining: 0us\n"
    },
    {
     "output_type": "execute_result",
     "execution_count": 14,
     "data": {
      "text/plain": "<catboost.core.CatBoostClassifier at 0x7fd4a6715880>"
     },
     "metadata": {},
     "text": "\n1 of kfold 10\nLearning rate set to 0.5\n0:\tlearn: 0.3427443\ttotal: 47.1ms\tremaining: 424ms\n1:\tlearn: 0.2116205\ttotal: 49ms\tremaining: 196ms\n2:\tlearn: 0.1302981\ttotal: 50.6ms\tremaining: 118ms\n3:\tlearn: 0.0903433\ttotal: 52.6ms\tremaining: 78.9ms\n4:\tlearn: 0.0597758\ttotal: 54.5ms\tremaining: 54.5ms\n5:\tlearn: 0.0425062\ttotal: 56ms\tremaining: 37.4ms\n6:\tlearn: 0.0309803\ttotal: 57.6ms\tremaining: 24.7ms\n7:\tlearn: 0.0251396\ttotal: 59.9ms\tremaining: 15ms\n8:\tlearn: 0.0197988\ttotal: 62.1ms\tremaining: 6.9ms\n9:\tlearn: 0.0167737\ttotal: 64.3ms\tremaining: 0us\naccuracy_score 0.9984202211690363\n\n2 of kfold 10\nLearning rate set to 0.5\n0:\tlearn: 0.3417590\ttotal: 1.45ms\tremaining: 13.1ms\n1:\tlearn: 0.2106097\ttotal: 3.21ms\tremaining: 12.8ms\n2:\tlearn: 0.1294275\ttotal: 4.79ms\tremaining: 11.2ms\n3:\tlearn: 0.0893986\ttotal: 6.3ms\tremaining: 9.45ms\n4:\tlearn: 0.0583601\ttotal: 7.91ms\tremaining: 7.91ms\n5:\tlearn: 0.0411497\ttotal: 9.4ms\tremaining: 6.27ms\n6:\tlearn: 0.0297531\ttotal: 11ms\tremaining: 4.71ms\n7:\tlearn: 0.0228963\ttotal: 12.5ms\tremaining: 3.12ms\n8:\tlearn: 0.0189120\ttotal: 14ms\tremaining: 1.55ms\n9:\tlearn: 0.0159978\ttotal: 15.5ms\tremaining: 0us\naccuracy_score 0.9920886075949367\n\n3 of kfold 10\nLearning rate set to 0.5\n0:\tlearn: 0.3422209\ttotal: 1.57ms\tremaining: 14.1ms\n1:\tlearn: 0.2116037\ttotal: 3.36ms\tremaining: 13.4ms\n2:\tlearn: 0.1299737\ttotal: 4.93ms\tremaining: 11.5ms\n3:\tlearn: 0.0901020\ttotal: 6.46ms\tremaining: 9.69ms\n4:\tlearn: 0.0594546\ttotal: 7.97ms\tremaining: 7.97ms\n5:\tlearn: 0.0422996\ttotal: 9.43ms\tremaining: 6.29ms\n6:\tlearn: 0.0307931\ttotal: 11ms\tremaining: 4.7ms\n7:\tlearn: 0.0249919\ttotal: 12.4ms\tremaining: 3.1ms\n8:\tlearn: 0.0195973\ttotal: 13.9ms\tremaining: 1.54ms\n9:\tlearn: 0.0165523\ttotal: 15.3ms\tremaining: 0us\naccuracy_score 0.9968354430379747\n\n4 of kfold 10\nLearning rate set to 0.5\n0:\tlearn: 0.3420452\ttotal: 1.75ms\tremaining: 15.7ms\n1:\tlearn: 0.2102492\ttotal: 4.22ms\tremaining: 16.9ms\n2:\tlearn: 0.1294677\ttotal: 6.53ms\tremaining: 15.2ms\n3:\tlearn: 0.0894564\ttotal: 8.89ms\tremaining: 13.3ms\n4:\tlearn: 0.0587351\ttotal: 11.2ms\tremaining: 11.2ms\n5:\tlearn: 0.0414238\ttotal: 13.5ms\tremaining: 8.97ms\n6:\tlearn: 0.0300652\ttotal: 15.8ms\tremaining: 6.75ms\n7:\tlearn: 0.0245676\ttotal: 18ms\tremaining: 4.5ms\n8:\tlearn: 0.0190172\ttotal: 20.3ms\tremaining: 2.26ms\n9:\tlearn: 0.0158146\ttotal: 22.6ms\tremaining: 0us\naccuracy_score 0.9984177215189873\n\n5 of kfold 10\nLearning rate set to 0.5\n0:\tlearn: 0.3428245\ttotal: 1.41ms\tremaining: 12.7ms\n1:\tlearn: 0.2114973\ttotal: 3.21ms\tremaining: 12.9ms\n2:\tlearn: 0.1305655\ttotal: 4.78ms\tremaining: 11.2ms\n3:\tlearn: 0.0907406\ttotal: 6.35ms\tremaining: 9.53ms\n4:\tlearn: 0.0595581\ttotal: 7.83ms\tremaining: 7.83ms\n5:\tlearn: 0.0422721\ttotal: 9.38ms\tremaining: 6.26ms\n6:\tlearn: 0.0306157\ttotal: 11ms\tremaining: 4.7ms\n7:\tlearn: 0.0247509\ttotal: 12.5ms\tremaining: 3.13ms\n8:\tlearn: 0.0195591\ttotal: 13.9ms\tremaining: 1.55ms\n9:\tlearn: 0.0166770\ttotal: 15.3ms\tremaining: 0us\naccuracy_score 1.0\n\n6 of kfold 10\nLearning rate set to 0.5\n0:\tlearn: 0.3415989\ttotal: 1.18ms\tremaining: 10.6ms\n1:\tlearn: 0.2103285\ttotal: 2.71ms\tremaining: 10.8ms\n2:\tlearn: 0.1294368\ttotal: 4.26ms\tremaining: 9.94ms\n3:\tlearn: 0.0883392\ttotal: 5.84ms\tremaining: 8.77ms\n4:\tlearn: 0.0578805\ttotal: 7.37ms\tremaining: 7.37ms\n5:\tlearn: 0.0408622\ttotal: 8.87ms\tremaining: 5.91ms\n6:\tlearn: 0.0295664\ttotal: 10.4ms\tremaining: 4.44ms\n7:\tlearn: 0.0242466\ttotal: 11.9ms\tremaining: 2.97ms\n8:\tlearn: 0.0192811\ttotal: 13.5ms\tremaining: 1.5ms\n9:\tlearn: 0.0156204\ttotal: 15ms\tremaining: 0us\naccuracy_score 0.995253164556962\n\n7 of kfold 10\nLearning rate set to 0.5\n0:\tlearn: 0.3421213\ttotal: 1.7ms\tremaining: 15.3ms\n1:\tlearn: 0.2102951\ttotal: 4.07ms\tremaining: 16.3ms\n2:\tlearn: 0.1290648\ttotal: 6.43ms\tremaining: 15ms\n3:\tlearn: 0.0894009\ttotal: 8.77ms\tremaining: 13.2ms\n4:\tlearn: 0.0586504\ttotal: 11.1ms\tremaining: 11.1ms\n5:\tlearn: 0.0404005\ttotal: 13.4ms\tremaining: 8.93ms\n6:\tlearn: 0.0298533\ttotal: 16ms\tremaining: 6.84ms\n7:\tlearn: 0.0239968\ttotal: 18.3ms\tremaining: 4.58ms\n8:\tlearn: 0.0195909\ttotal: 20.6ms\tremaining: 2.29ms\n9:\tlearn: 0.0164924\ttotal: 22.8ms\tremaining: 0us\naccuracy_score 0.995253164556962\n\n8 of kfold 10\nLearning rate set to 0.5\n0:\tlearn: 0.3422915\ttotal: 1.69ms\tremaining: 15.2ms\n1:\tlearn: 0.2106159\ttotal: 4.06ms\tremaining: 16.2ms\n2:\tlearn: 0.1289738\ttotal: 6.44ms\tremaining: 15ms\n3:\tlearn: 0.0892796\ttotal: 9.15ms\tremaining: 13.7ms\n4:\tlearn: 0.0586567\ttotal: 11.6ms\tremaining: 11.6ms\n5:\tlearn: 0.0414463\ttotal: 13.8ms\tremaining: 9.22ms\n6:\tlearn: 0.0300088\ttotal: 16.1ms\tremaining: 6.91ms\n7:\tlearn: 0.0242382\ttotal: 18.5ms\tremaining: 4.61ms\n8:\tlearn: 0.0195388\ttotal: 20.7ms\tremaining: 2.3ms\n9:\tlearn: 0.0159622\ttotal: 23ms\tremaining: 0us\n"
    },
    {
     "output_type": "execute_result",
     "execution_count": 14,
     "data": {
      "text/plain": "<catboost.core.CatBoostClassifier at 0x7fd4a9c706d0>"
     },
     "metadata": {},
     "text": "\n1 of kfold 10\nLearning rate set to 0.5\n0:\tlearn: 0.3427443\ttotal: 47.1ms\tremaining: 424ms\n1:\tlearn: 0.2116205\ttotal: 49ms\tremaining: 196ms\n2:\tlearn: 0.1302981\ttotal: 50.6ms\tremaining: 118ms\n3:\tlearn: 0.0903433\ttotal: 52.6ms\tremaining: 78.9ms\n4:\tlearn: 0.0597758\ttotal: 54.5ms\tremaining: 54.5ms\n5:\tlearn: 0.0425062\ttotal: 56ms\tremaining: 37.4ms\n6:\tlearn: 0.0309803\ttotal: 57.6ms\tremaining: 24.7ms\n7:\tlearn: 0.0251396\ttotal: 59.9ms\tremaining: 15ms\n8:\tlearn: 0.0197988\ttotal: 62.1ms\tremaining: 6.9ms\n9:\tlearn: 0.0167737\ttotal: 64.3ms\tremaining: 0us\naccuracy_score 0.9984202211690363\n\n2 of kfold 10\nLearning rate set to 0.5\n0:\tlearn: 0.3417590\ttotal: 1.45ms\tremaining: 13.1ms\n1:\tlearn: 0.2106097\ttotal: 3.21ms\tremaining: 12.8ms\n2:\tlearn: 0.1294275\ttotal: 4.79ms\tremaining: 11.2ms\n3:\tlearn: 0.0893986\ttotal: 6.3ms\tremaining: 9.45ms\n4:\tlearn: 0.0583601\ttotal: 7.91ms\tremaining: 7.91ms\n5:\tlearn: 0.0411497\ttotal: 9.4ms\tremaining: 6.27ms\n6:\tlearn: 0.0297531\ttotal: 11ms\tremaining: 4.71ms\n7:\tlearn: 0.0228963\ttotal: 12.5ms\tremaining: 3.12ms\n8:\tlearn: 0.0189120\ttotal: 14ms\tremaining: 1.55ms\n9:\tlearn: 0.0159978\ttotal: 15.5ms\tremaining: 0us\naccuracy_score 0.9920886075949367\n\n3 of kfold 10\nLearning rate set to 0.5\n0:\tlearn: 0.3422209\ttotal: 1.57ms\tremaining: 14.1ms\n1:\tlearn: 0.2116037\ttotal: 3.36ms\tremaining: 13.4ms\n2:\tlearn: 0.1299737\ttotal: 4.93ms\tremaining: 11.5ms\n3:\tlearn: 0.0901020\ttotal: 6.46ms\tremaining: 9.69ms\n4:\tlearn: 0.0594546\ttotal: 7.97ms\tremaining: 7.97ms\n5:\tlearn: 0.0422996\ttotal: 9.43ms\tremaining: 6.29ms\n6:\tlearn: 0.0307931\ttotal: 11ms\tremaining: 4.7ms\n7:\tlearn: 0.0249919\ttotal: 12.4ms\tremaining: 3.1ms\n8:\tlearn: 0.0195973\ttotal: 13.9ms\tremaining: 1.54ms\n9:\tlearn: 0.0165523\ttotal: 15.3ms\tremaining: 0us\naccuracy_score 0.9968354430379747\n\n4 of kfold 10\nLearning rate set to 0.5\n0:\tlearn: 0.3420452\ttotal: 1.75ms\tremaining: 15.7ms\n1:\tlearn: 0.2102492\ttotal: 4.22ms\tremaining: 16.9ms\n2:\tlearn: 0.1294677\ttotal: 6.53ms\tremaining: 15.2ms\n3:\tlearn: 0.0894564\ttotal: 8.89ms\tremaining: 13.3ms\n4:\tlearn: 0.0587351\ttotal: 11.2ms\tremaining: 11.2ms\n5:\tlearn: 0.0414238\ttotal: 13.5ms\tremaining: 8.97ms\n6:\tlearn: 0.0300652\ttotal: 15.8ms\tremaining: 6.75ms\n7:\tlearn: 0.0245676\ttotal: 18ms\tremaining: 4.5ms\n8:\tlearn: 0.0190172\ttotal: 20.3ms\tremaining: 2.26ms\n9:\tlearn: 0.0158146\ttotal: 22.6ms\tremaining: 0us\naccuracy_score 0.9984177215189873\n\n5 of kfold 10\nLearning rate set to 0.5\n0:\tlearn: 0.3428245\ttotal: 1.41ms\tremaining: 12.7ms\n1:\tlearn: 0.2114973\ttotal: 3.21ms\tremaining: 12.9ms\n2:\tlearn: 0.1305655\ttotal: 4.78ms\tremaining: 11.2ms\n3:\tlearn: 0.0907406\ttotal: 6.35ms\tremaining: 9.53ms\n4:\tlearn: 0.0595581\ttotal: 7.83ms\tremaining: 7.83ms\n5:\tlearn: 0.0422721\ttotal: 9.38ms\tremaining: 6.26ms\n6:\tlearn: 0.0306157\ttotal: 11ms\tremaining: 4.7ms\n7:\tlearn: 0.0247509\ttotal: 12.5ms\tremaining: 3.13ms\n8:\tlearn: 0.0195591\ttotal: 13.9ms\tremaining: 1.55ms\n9:\tlearn: 0.0166770\ttotal: 15.3ms\tremaining: 0us\naccuracy_score 1.0\n\n6 of kfold 10\nLearning rate set to 0.5\n0:\tlearn: 0.3415989\ttotal: 1.18ms\tremaining: 10.6ms\n1:\tlearn: 0.2103285\ttotal: 2.71ms\tremaining: 10.8ms\n2:\tlearn: 0.1294368\ttotal: 4.26ms\tremaining: 9.94ms\n3:\tlearn: 0.0883392\ttotal: 5.84ms\tremaining: 8.77ms\n4:\tlearn: 0.0578805\ttotal: 7.37ms\tremaining: 7.37ms\n5:\tlearn: 0.0408622\ttotal: 8.87ms\tremaining: 5.91ms\n6:\tlearn: 0.0295664\ttotal: 10.4ms\tremaining: 4.44ms\n7:\tlearn: 0.0242466\ttotal: 11.9ms\tremaining: 2.97ms\n8:\tlearn: 0.0192811\ttotal: 13.5ms\tremaining: 1.5ms\n9:\tlearn: 0.0156204\ttotal: 15ms\tremaining: 0us\naccuracy_score 0.995253164556962\n\n7 of kfold 10\nLearning rate set to 0.5\n0:\tlearn: 0.3421213\ttotal: 1.7ms\tremaining: 15.3ms\n1:\tlearn: 0.2102951\ttotal: 4.07ms\tremaining: 16.3ms\n2:\tlearn: 0.1290648\ttotal: 6.43ms\tremaining: 15ms\n3:\tlearn: 0.0894009\ttotal: 8.77ms\tremaining: 13.2ms\n4:\tlearn: 0.0586504\ttotal: 11.1ms\tremaining: 11.1ms\n5:\tlearn: 0.0404005\ttotal: 13.4ms\tremaining: 8.93ms\n6:\tlearn: 0.0298533\ttotal: 16ms\tremaining: 6.84ms\n7:\tlearn: 0.0239968\ttotal: 18.3ms\tremaining: 4.58ms\n8:\tlearn: 0.0195909\ttotal: 20.6ms\tremaining: 2.29ms\n9:\tlearn: 0.0164924\ttotal: 22.8ms\tremaining: 0us\naccuracy_score 0.995253164556962\n\n8 of kfold 10\nLearning rate set to 0.5\n0:\tlearn: 0.3422915\ttotal: 1.69ms\tremaining: 15.2ms\n1:\tlearn: 0.2106159\ttotal: 4.06ms\tremaining: 16.2ms\n2:\tlearn: 0.1289738\ttotal: 6.44ms\tremaining: 15ms\n3:\tlearn: 0.0892796\ttotal: 9.15ms\tremaining: 13.7ms\n4:\tlearn: 0.0586567\ttotal: 11.6ms\tremaining: 11.6ms\n5:\tlearn: 0.0414463\ttotal: 13.8ms\tremaining: 9.22ms\n6:\tlearn: 0.0300088\ttotal: 16.1ms\tremaining: 6.91ms\n7:\tlearn: 0.0242382\ttotal: 18.5ms\tremaining: 4.61ms\n8:\tlearn: 0.0195388\ttotal: 20.7ms\tremaining: 2.3ms\n9:\tlearn: 0.0159622\ttotal: 23ms\tremaining: 0us\naccuracy_score 0.9968354430379747\n\n9 of kfold 10\nLearning rate set to 0.5\n0:\tlearn: 0.3421498\ttotal: 1.13ms\tremaining: 10.2ms\n1:\tlearn: 0.2109010\ttotal: 2.72ms\tremaining: 10.9ms\n2:\tlearn: 0.1323961\ttotal: 4.28ms\tremaining: 9.98ms\n3:\tlearn: 0.0875671\ttotal: 5.79ms\tremaining: 8.68ms\n4:\tlearn: 0.0594695\ttotal: 7.29ms\tremaining: 7.29ms\n5:\tlearn: 0.0412051\ttotal: 8.8ms\tremaining: 5.86ms\n6:\tlearn: 0.0300127\ttotal: 10.5ms\tremaining: 4.49ms\n7:\tlearn: 0.0238148\ttotal: 12.5ms\tremaining: 3.14ms\n8:\tlearn: 0.0195810\ttotal: 14.2ms\tremaining: 1.58ms\n9:\tlearn: 0.0163402\ttotal: 15.7ms\tremaining: 0us\n"
    },
    {
     "output_type": "execute_result",
     "execution_count": 14,
     "data": {
      "text/plain": "<catboost.core.CatBoostClassifier at 0x7fd4a99adaf0>"
     },
     "metadata": {},
     "text": "\n1 of kfold 10\nLearning rate set to 0.5\n0:\tlearn: 0.3427443\ttotal: 47.1ms\tremaining: 424ms\n1:\tlearn: 0.2116205\ttotal: 49ms\tremaining: 196ms\n2:\tlearn: 0.1302981\ttotal: 50.6ms\tremaining: 118ms\n3:\tlearn: 0.0903433\ttotal: 52.6ms\tremaining: 78.9ms\n4:\tlearn: 0.0597758\ttotal: 54.5ms\tremaining: 54.5ms\n5:\tlearn: 0.0425062\ttotal: 56ms\tremaining: 37.4ms\n6:\tlearn: 0.0309803\ttotal: 57.6ms\tremaining: 24.7ms\n7:\tlearn: 0.0251396\ttotal: 59.9ms\tremaining: 15ms\n8:\tlearn: 0.0197988\ttotal: 62.1ms\tremaining: 6.9ms\n9:\tlearn: 0.0167737\ttotal: 64.3ms\tremaining: 0us\naccuracy_score 0.9984202211690363\n\n2 of kfold 10\nLearning rate set to 0.5\n0:\tlearn: 0.3417590\ttotal: 1.45ms\tremaining: 13.1ms\n1:\tlearn: 0.2106097\ttotal: 3.21ms\tremaining: 12.8ms\n2:\tlearn: 0.1294275\ttotal: 4.79ms\tremaining: 11.2ms\n3:\tlearn: 0.0893986\ttotal: 6.3ms\tremaining: 9.45ms\n4:\tlearn: 0.0583601\ttotal: 7.91ms\tremaining: 7.91ms\n5:\tlearn: 0.0411497\ttotal: 9.4ms\tremaining: 6.27ms\n6:\tlearn: 0.0297531\ttotal: 11ms\tremaining: 4.71ms\n7:\tlearn: 0.0228963\ttotal: 12.5ms\tremaining: 3.12ms\n8:\tlearn: 0.0189120\ttotal: 14ms\tremaining: 1.55ms\n9:\tlearn: 0.0159978\ttotal: 15.5ms\tremaining: 0us\naccuracy_score 0.9920886075949367\n\n3 of kfold 10\nLearning rate set to 0.5\n0:\tlearn: 0.3422209\ttotal: 1.57ms\tremaining: 14.1ms\n1:\tlearn: 0.2116037\ttotal: 3.36ms\tremaining: 13.4ms\n2:\tlearn: 0.1299737\ttotal: 4.93ms\tremaining: 11.5ms\n3:\tlearn: 0.0901020\ttotal: 6.46ms\tremaining: 9.69ms\n4:\tlearn: 0.0594546\ttotal: 7.97ms\tremaining: 7.97ms\n5:\tlearn: 0.0422996\ttotal: 9.43ms\tremaining: 6.29ms\n6:\tlearn: 0.0307931\ttotal: 11ms\tremaining: 4.7ms\n7:\tlearn: 0.0249919\ttotal: 12.4ms\tremaining: 3.1ms\n8:\tlearn: 0.0195973\ttotal: 13.9ms\tremaining: 1.54ms\n9:\tlearn: 0.0165523\ttotal: 15.3ms\tremaining: 0us\naccuracy_score 0.9968354430379747\n\n4 of kfold 10\nLearning rate set to 0.5\n0:\tlearn: 0.3420452\ttotal: 1.75ms\tremaining: 15.7ms\n1:\tlearn: 0.2102492\ttotal: 4.22ms\tremaining: 16.9ms\n2:\tlearn: 0.1294677\ttotal: 6.53ms\tremaining: 15.2ms\n3:\tlearn: 0.0894564\ttotal: 8.89ms\tremaining: 13.3ms\n4:\tlearn: 0.0587351\ttotal: 11.2ms\tremaining: 11.2ms\n5:\tlearn: 0.0414238\ttotal: 13.5ms\tremaining: 8.97ms\n6:\tlearn: 0.0300652\ttotal: 15.8ms\tremaining: 6.75ms\n7:\tlearn: 0.0245676\ttotal: 18ms\tremaining: 4.5ms\n8:\tlearn: 0.0190172\ttotal: 20.3ms\tremaining: 2.26ms\n9:\tlearn: 0.0158146\ttotal: 22.6ms\tremaining: 0us\naccuracy_score 0.9984177215189873\n\n5 of kfold 10\nLearning rate set to 0.5\n0:\tlearn: 0.3428245\ttotal: 1.41ms\tremaining: 12.7ms\n1:\tlearn: 0.2114973\ttotal: 3.21ms\tremaining: 12.9ms\n2:\tlearn: 0.1305655\ttotal: 4.78ms\tremaining: 11.2ms\n3:\tlearn: 0.0907406\ttotal: 6.35ms\tremaining: 9.53ms\n4:\tlearn: 0.0595581\ttotal: 7.83ms\tremaining: 7.83ms\n5:\tlearn: 0.0422721\ttotal: 9.38ms\tremaining: 6.26ms\n6:\tlearn: 0.0306157\ttotal: 11ms\tremaining: 4.7ms\n7:\tlearn: 0.0247509\ttotal: 12.5ms\tremaining: 3.13ms\n8:\tlearn: 0.0195591\ttotal: 13.9ms\tremaining: 1.55ms\n9:\tlearn: 0.0166770\ttotal: 15.3ms\tremaining: 0us\naccuracy_score 1.0\n\n6 of kfold 10\nLearning rate set to 0.5\n0:\tlearn: 0.3415989\ttotal: 1.18ms\tremaining: 10.6ms\n1:\tlearn: 0.2103285\ttotal: 2.71ms\tremaining: 10.8ms\n2:\tlearn: 0.1294368\ttotal: 4.26ms\tremaining: 9.94ms\n3:\tlearn: 0.0883392\ttotal: 5.84ms\tremaining: 8.77ms\n4:\tlearn: 0.0578805\ttotal: 7.37ms\tremaining: 7.37ms\n5:\tlearn: 0.0408622\ttotal: 8.87ms\tremaining: 5.91ms\n6:\tlearn: 0.0295664\ttotal: 10.4ms\tremaining: 4.44ms\n7:\tlearn: 0.0242466\ttotal: 11.9ms\tremaining: 2.97ms\n8:\tlearn: 0.0192811\ttotal: 13.5ms\tremaining: 1.5ms\n9:\tlearn: 0.0156204\ttotal: 15ms\tremaining: 0us\naccuracy_score 0.995253164556962\n\n7 of kfold 10\nLearning rate set to 0.5\n0:\tlearn: 0.3421213\ttotal: 1.7ms\tremaining: 15.3ms\n1:\tlearn: 0.2102951\ttotal: 4.07ms\tremaining: 16.3ms\n2:\tlearn: 0.1290648\ttotal: 6.43ms\tremaining: 15ms\n3:\tlearn: 0.0894009\ttotal: 8.77ms\tremaining: 13.2ms\n4:\tlearn: 0.0586504\ttotal: 11.1ms\tremaining: 11.1ms\n5:\tlearn: 0.0404005\ttotal: 13.4ms\tremaining: 8.93ms\n6:\tlearn: 0.0298533\ttotal: 16ms\tremaining: 6.84ms\n7:\tlearn: 0.0239968\ttotal: 18.3ms\tremaining: 4.58ms\n8:\tlearn: 0.0195909\ttotal: 20.6ms\tremaining: 2.29ms\n9:\tlearn: 0.0164924\ttotal: 22.8ms\tremaining: 0us\naccuracy_score 0.995253164556962\n\n8 of kfold 10\nLearning rate set to 0.5\n0:\tlearn: 0.3422915\ttotal: 1.69ms\tremaining: 15.2ms\n1:\tlearn: 0.2106159\ttotal: 4.06ms\tremaining: 16.2ms\n2:\tlearn: 0.1289738\ttotal: 6.44ms\tremaining: 15ms\n3:\tlearn: 0.0892796\ttotal: 9.15ms\tremaining: 13.7ms\n4:\tlearn: 0.0586567\ttotal: 11.6ms\tremaining: 11.6ms\n5:\tlearn: 0.0414463\ttotal: 13.8ms\tremaining: 9.22ms\n6:\tlearn: 0.0300088\ttotal: 16.1ms\tremaining: 6.91ms\n7:\tlearn: 0.0242382\ttotal: 18.5ms\tremaining: 4.61ms\n8:\tlearn: 0.0195388\ttotal: 20.7ms\tremaining: 2.3ms\n9:\tlearn: 0.0159622\ttotal: 23ms\tremaining: 0us\naccuracy_score 0.9968354430379747\n\n9 of kfold 10\nLearning rate set to 0.5\n0:\tlearn: 0.3421498\ttotal: 1.13ms\tremaining: 10.2ms\n1:\tlearn: 0.2109010\ttotal: 2.72ms\tremaining: 10.9ms\n2:\tlearn: 0.1323961\ttotal: 4.28ms\tremaining: 9.98ms\n3:\tlearn: 0.0875671\ttotal: 5.79ms\tremaining: 8.68ms\n4:\tlearn: 0.0594695\ttotal: 7.29ms\tremaining: 7.29ms\n5:\tlearn: 0.0412051\ttotal: 8.8ms\tremaining: 5.86ms\n6:\tlearn: 0.0300127\ttotal: 10.5ms\tremaining: 4.49ms\n7:\tlearn: 0.0238148\ttotal: 12.5ms\tremaining: 3.14ms\n8:\tlearn: 0.0195810\ttotal: 14.2ms\tremaining: 1.58ms\n9:\tlearn: 0.0163402\ttotal: 15.7ms\tremaining: 0us\naccuracy_score 0.9984177215189873\n\n10 of kfold 10\nLearning rate set to 0.5\n0:\tlearn: 0.3430103\ttotal: 1.12ms\tremaining: 10.1ms\n1:\tlearn: 0.2115083\ttotal: 2.65ms\tremaining: 10.6ms\n2:\tlearn: 0.1304711\ttotal: 4.23ms\tremaining: 9.87ms\n3:\tlearn: 0.0907276\ttotal: 5.72ms\tremaining: 8.58ms\n4:\tlearn: 0.0597830\ttotal: 7.3ms\tremaining: 7.3ms\n5:\tlearn: 0.0425350\ttotal: 13.8ms\tremaining: 9.17ms\n6:\tlearn: 0.0309884\ttotal: 15.4ms\tremaining: 6.59ms\n7:\tlearn: 0.0251649\ttotal: 16.9ms\tremaining: 4.22ms\n8:\tlearn: 0.0198774\ttotal: 18.4ms\tremaining: 2.04ms\n9:\tlearn: 0.0167924\ttotal: 19.8ms\tremaining: 0us\n"
    },
    {
     "output_type": "execute_result",
     "execution_count": 14,
     "data": {
      "text/plain": "<catboost.core.CatBoostClassifier at 0x7fd4a6715e80>"
     },
     "metadata": {},
     "text": "\n1 of kfold 10\nLearning rate set to 0.5\n0:\tlearn: 0.3427443\ttotal: 47.1ms\tremaining: 424ms\n1:\tlearn: 0.2116205\ttotal: 49ms\tremaining: 196ms\n2:\tlearn: 0.1302981\ttotal: 50.6ms\tremaining: 118ms\n3:\tlearn: 0.0903433\ttotal: 52.6ms\tremaining: 78.9ms\n4:\tlearn: 0.0597758\ttotal: 54.5ms\tremaining: 54.5ms\n5:\tlearn: 0.0425062\ttotal: 56ms\tremaining: 37.4ms\n6:\tlearn: 0.0309803\ttotal: 57.6ms\tremaining: 24.7ms\n7:\tlearn: 0.0251396\ttotal: 59.9ms\tremaining: 15ms\n8:\tlearn: 0.0197988\ttotal: 62.1ms\tremaining: 6.9ms\n9:\tlearn: 0.0167737\ttotal: 64.3ms\tremaining: 0us\naccuracy_score 0.9984202211690363\n\n2 of kfold 10\nLearning rate set to 0.5\n0:\tlearn: 0.3417590\ttotal: 1.45ms\tremaining: 13.1ms\n1:\tlearn: 0.2106097\ttotal: 3.21ms\tremaining: 12.8ms\n2:\tlearn: 0.1294275\ttotal: 4.79ms\tremaining: 11.2ms\n3:\tlearn: 0.0893986\ttotal: 6.3ms\tremaining: 9.45ms\n4:\tlearn: 0.0583601\ttotal: 7.91ms\tremaining: 7.91ms\n5:\tlearn: 0.0411497\ttotal: 9.4ms\tremaining: 6.27ms\n6:\tlearn: 0.0297531\ttotal: 11ms\tremaining: 4.71ms\n7:\tlearn: 0.0228963\ttotal: 12.5ms\tremaining: 3.12ms\n8:\tlearn: 0.0189120\ttotal: 14ms\tremaining: 1.55ms\n9:\tlearn: 0.0159978\ttotal: 15.5ms\tremaining: 0us\naccuracy_score 0.9920886075949367\n\n3 of kfold 10\nLearning rate set to 0.5\n0:\tlearn: 0.3422209\ttotal: 1.57ms\tremaining: 14.1ms\n1:\tlearn: 0.2116037\ttotal: 3.36ms\tremaining: 13.4ms\n2:\tlearn: 0.1299737\ttotal: 4.93ms\tremaining: 11.5ms\n3:\tlearn: 0.0901020\ttotal: 6.46ms\tremaining: 9.69ms\n4:\tlearn: 0.0594546\ttotal: 7.97ms\tremaining: 7.97ms\n5:\tlearn: 0.0422996\ttotal: 9.43ms\tremaining: 6.29ms\n6:\tlearn: 0.0307931\ttotal: 11ms\tremaining: 4.7ms\n7:\tlearn: 0.0249919\ttotal: 12.4ms\tremaining: 3.1ms\n8:\tlearn: 0.0195973\ttotal: 13.9ms\tremaining: 1.54ms\n9:\tlearn: 0.0165523\ttotal: 15.3ms\tremaining: 0us\naccuracy_score 0.9968354430379747\n\n4 of kfold 10\nLearning rate set to 0.5\n0:\tlearn: 0.3420452\ttotal: 1.75ms\tremaining: 15.7ms\n1:\tlearn: 0.2102492\ttotal: 4.22ms\tremaining: 16.9ms\n2:\tlearn: 0.1294677\ttotal: 6.53ms\tremaining: 15.2ms\n3:\tlearn: 0.0894564\ttotal: 8.89ms\tremaining: 13.3ms\n4:\tlearn: 0.0587351\ttotal: 11.2ms\tremaining: 11.2ms\n5:\tlearn: 0.0414238\ttotal: 13.5ms\tremaining: 8.97ms\n6:\tlearn: 0.0300652\ttotal: 15.8ms\tremaining: 6.75ms\n7:\tlearn: 0.0245676\ttotal: 18ms\tremaining: 4.5ms\n8:\tlearn: 0.0190172\ttotal: 20.3ms\tremaining: 2.26ms\n9:\tlearn: 0.0158146\ttotal: 22.6ms\tremaining: 0us\naccuracy_score 0.9984177215189873\n\n5 of kfold 10\nLearning rate set to 0.5\n0:\tlearn: 0.3428245\ttotal: 1.41ms\tremaining: 12.7ms\n1:\tlearn: 0.2114973\ttotal: 3.21ms\tremaining: 12.9ms\n2:\tlearn: 0.1305655\ttotal: 4.78ms\tremaining: 11.2ms\n3:\tlearn: 0.0907406\ttotal: 6.35ms\tremaining: 9.53ms\n4:\tlearn: 0.0595581\ttotal: 7.83ms\tremaining: 7.83ms\n5:\tlearn: 0.0422721\ttotal: 9.38ms\tremaining: 6.26ms\n6:\tlearn: 0.0306157\ttotal: 11ms\tremaining: 4.7ms\n7:\tlearn: 0.0247509\ttotal: 12.5ms\tremaining: 3.13ms\n8:\tlearn: 0.0195591\ttotal: 13.9ms\tremaining: 1.55ms\n9:\tlearn: 0.0166770\ttotal: 15.3ms\tremaining: 0us\naccuracy_score 1.0\n\n6 of kfold 10\nLearning rate set to 0.5\n0:\tlearn: 0.3415989\ttotal: 1.18ms\tremaining: 10.6ms\n1:\tlearn: 0.2103285\ttotal: 2.71ms\tremaining: 10.8ms\n2:\tlearn: 0.1294368\ttotal: 4.26ms\tremaining: 9.94ms\n3:\tlearn: 0.0883392\ttotal: 5.84ms\tremaining: 8.77ms\n4:\tlearn: 0.0578805\ttotal: 7.37ms\tremaining: 7.37ms\n5:\tlearn: 0.0408622\ttotal: 8.87ms\tremaining: 5.91ms\n6:\tlearn: 0.0295664\ttotal: 10.4ms\tremaining: 4.44ms\n7:\tlearn: 0.0242466\ttotal: 11.9ms\tremaining: 2.97ms\n8:\tlearn: 0.0192811\ttotal: 13.5ms\tremaining: 1.5ms\n9:\tlearn: 0.0156204\ttotal: 15ms\tremaining: 0us\naccuracy_score 0.995253164556962\n\n7 of kfold 10\nLearning rate set to 0.5\n0:\tlearn: 0.3421213\ttotal: 1.7ms\tremaining: 15.3ms\n1:\tlearn: 0.2102951\ttotal: 4.07ms\tremaining: 16.3ms\n2:\tlearn: 0.1290648\ttotal: 6.43ms\tremaining: 15ms\n3:\tlearn: 0.0894009\ttotal: 8.77ms\tremaining: 13.2ms\n4:\tlearn: 0.0586504\ttotal: 11.1ms\tremaining: 11.1ms\n5:\tlearn: 0.0404005\ttotal: 13.4ms\tremaining: 8.93ms\n6:\tlearn: 0.0298533\ttotal: 16ms\tremaining: 6.84ms\n7:\tlearn: 0.0239968\ttotal: 18.3ms\tremaining: 4.58ms\n8:\tlearn: 0.0195909\ttotal: 20.6ms\tremaining: 2.29ms\n9:\tlearn: 0.0164924\ttotal: 22.8ms\tremaining: 0us\naccuracy_score 0.995253164556962\n\n8 of kfold 10\nLearning rate set to 0.5\n0:\tlearn: 0.3422915\ttotal: 1.69ms\tremaining: 15.2ms\n1:\tlearn: 0.2106159\ttotal: 4.06ms\tremaining: 16.2ms\n2:\tlearn: 0.1289738\ttotal: 6.44ms\tremaining: 15ms\n3:\tlearn: 0.0892796\ttotal: 9.15ms\tremaining: 13.7ms\n4:\tlearn: 0.0586567\ttotal: 11.6ms\tremaining: 11.6ms\n5:\tlearn: 0.0414463\ttotal: 13.8ms\tremaining: 9.22ms\n6:\tlearn: 0.0300088\ttotal: 16.1ms\tremaining: 6.91ms\n7:\tlearn: 0.0242382\ttotal: 18.5ms\tremaining: 4.61ms\n8:\tlearn: 0.0195388\ttotal: 20.7ms\tremaining: 2.3ms\n9:\tlearn: 0.0159622\ttotal: 23ms\tremaining: 0us\naccuracy_score 0.9968354430379747\n\n9 of kfold 10\nLearning rate set to 0.5\n0:\tlearn: 0.3421498\ttotal: 1.13ms\tremaining: 10.2ms\n1:\tlearn: 0.2109010\ttotal: 2.72ms\tremaining: 10.9ms\n2:\tlearn: 0.1323961\ttotal: 4.28ms\tremaining: 9.98ms\n3:\tlearn: 0.0875671\ttotal: 5.79ms\tremaining: 8.68ms\n4:\tlearn: 0.0594695\ttotal: 7.29ms\tremaining: 7.29ms\n5:\tlearn: 0.0412051\ttotal: 8.8ms\tremaining: 5.86ms\n6:\tlearn: 0.0300127\ttotal: 10.5ms\tremaining: 4.49ms\n7:\tlearn: 0.0238148\ttotal: 12.5ms\tremaining: 3.14ms\n8:\tlearn: 0.0195810\ttotal: 14.2ms\tremaining: 1.58ms\n9:\tlearn: 0.0163402\ttotal: 15.7ms\tremaining: 0us\naccuracy_score 0.9984177215189873\n\n10 of kfold 10\nLearning rate set to 0.5\n0:\tlearn: 0.3430103\ttotal: 1.12ms\tremaining: 10.1ms\n1:\tlearn: 0.2115083\ttotal: 2.65ms\tremaining: 10.6ms\n2:\tlearn: 0.1304711\ttotal: 4.23ms\tremaining: 9.87ms\n3:\tlearn: 0.0907276\ttotal: 5.72ms\tremaining: 8.58ms\n4:\tlearn: 0.0597830\ttotal: 7.3ms\tremaining: 7.3ms\n5:\tlearn: 0.0425350\ttotal: 13.8ms\tremaining: 9.17ms\n6:\tlearn: 0.0309884\ttotal: 15.4ms\tremaining: 6.59ms\n7:\tlearn: 0.0251649\ttotal: 16.9ms\tremaining: 4.22ms\n8:\tlearn: 0.0198774\ttotal: 18.4ms\tremaining: 2.04ms\n9:\tlearn: 0.0167924\ttotal: 19.8ms\tremaining: 0us\naccuracy_score 1.0\n"
    }
   ]
  },
  {
   "cell_type": "code",
   "metadata": {
    "tags": [],
    "deepnote_to_be_reexecuted": false,
    "source_hash": "bc631840",
    "execution_start": 1650215038760,
    "execution_millis": 4,
    "cell_id": "00031-6ee59a29-8804-4650-a97b-fa1f514c423f",
    "deepnote_cell_type": "code",
    "deepnote_cell_height": 243.15625
   },
   "source": "print('\\n Mean Validation Accuracy', mean / (iteration - 1))\nprint('\\n Mean Validation Precisinon', precision / (iteration - 1))\nprint('\\n Mean Validation Recall', recall / (iteration - 1))",
   "execution_count": null,
   "outputs": [
    {
     "name": "stdout",
     "text": "\n Mean Validation Accuracy 0.997152148699182\n\n Mean Validation Precisinon 0.989785488143697\n\n Mean Validation Recall 0.9837137840210712\n",
     "output_type": "stream"
    }
   ]
  },
  {
   "cell_type": "markdown",
   "source": "Boosting is not as effective by a slim margin, so bagging will be kept.",
   "metadata": {
    "tags": [],
    "cell_id": "00032-e90454a8-ce29-42b9-a3bb-2090204003ed",
    "deepnote_cell_type": "markdown",
    "deepnote_cell_height": 52.375
   }
  },
  {
   "cell_type": "markdown",
   "source": "***\n### **Possible Transfer Scenarios**\nSince we do not expect to get every single attribute, we will limit the parameters to ones below 0.5 correlation since that will be on average what we will be working with and is so we can prepare for the less than best scenario. Successive_Outbidding has the largest correlation at 0.9, and it the only one above 0.5 as correlated with class, so it will be removed to try to build a more robust model based off the other attributes. This will contribute to the transfer learnability of the model as well as other datasets may not be able to produce a Successive_Outbidding metric.",
   "metadata": {
    "tags": [],
    "cell_id": "00033-7ce9611d-1422-4b4e-b180-ddf35160217d",
    "deepnote_cell_type": "markdown",
    "deepnote_cell_height": 190.9375
   }
  },
  {
   "cell_type": "code",
   "metadata": {
    "tags": [],
    "deepnote_to_be_reexecuted": false,
    "source_hash": "b2696ff6",
    "execution_start": 1650215038761,
    "execution_millis": 550,
    "cell_id": "00034-32760613-c146-48c9-ac72-041e67eb3adf",
    "deepnote_cell_type": "code",
    "deepnote_cell_height": 618.65625
   },
   "source": "X",
   "execution_count": null,
   "outputs": [
    {
     "output_type": "execute_result",
     "execution_count": 16,
     "data": {
      "application/vnd.deepnote.dataframe.v3+json": {
       "column_count": 10,
       "row_count": 6321,
       "columns": [
        {
         "name": "Bidder_Tendency",
         "dtype": "float64",
         "stats": {
          "unique_count": 489,
          "nan_count": 0,
          "min": "0.0",
          "max": "1.0",
          "histogram": [
           {
            "bin_start": 0,
            "bin_end": 0.1,
            "count": 3887
           },
           {
            "bin_start": 0.1,
            "bin_end": 0.2,
            "count": 961
           },
           {
            "bin_start": 0.2,
            "bin_end": 0.30000000000000004,
            "count": 624
           },
           {
            "bin_start": 0.30000000000000004,
            "bin_end": 0.4,
            "count": 234
           },
           {
            "bin_start": 0.4,
            "bin_end": 0.5,
            "count": 119
           },
           {
            "bin_start": 0.5,
            "bin_end": 0.6000000000000001,
            "count": 236
           },
           {
            "bin_start": 0.6000000000000001,
            "bin_end": 0.7000000000000001,
            "count": 54
           },
           {
            "bin_start": 0.7000000000000001,
            "bin_end": 0.8,
            "count": 45
           },
           {
            "bin_start": 0.8,
            "bin_end": 0.9,
            "count": 28
           },
           {
            "bin_start": 0.9,
            "bin_end": 1,
            "count": 133
           }
          ]
         }
        },
        {
         "name": "Bidding_Ratio",
         "dtype": "float64",
         "stats": {
          "unique_count": 400,
          "nan_count": 0,
          "min": "0.011764706",
          "max": "1.0",
          "histogram": [
           {
            "bin_start": 0.011764706,
            "bin_end": 0.1105882354,
            "count": 3852
           },
           {
            "bin_start": 0.1105882354,
            "bin_end": 0.2094117648,
            "count": 1458
           },
           {
            "bin_start": 0.2094117648,
            "bin_end": 0.3082352942,
            "count": 449
           },
           {
            "bin_start": 0.3082352942,
            "bin_end": 0.4070588236,
            "count": 276
           },
           {
            "bin_start": 0.4070588236,
            "bin_end": 0.505882353,
            "count": 118
           },
           {
            "bin_start": 0.505882353,
            "bin_end": 0.6047058824,
            "count": 79
           },
           {
            "bin_start": 0.6047058824,
            "bin_end": 0.7035294118000001,
            "count": 51
           },
           {
            "bin_start": 0.7035294118000001,
            "bin_end": 0.8023529412,
            "count": 20
           },
           {
            "bin_start": 0.8023529412,
            "bin_end": 0.9011764706,
            "count": 12
           },
           {
            "bin_start": 0.9011764706,
            "bin_end": 1,
            "count": 6
           }
          ]
         }
        },
        {
         "name": "Successive_Outbidding",
         "dtype": "float64",
         "stats": {
          "unique_count": 3,
          "nan_count": 0,
          "min": "0.0",
          "max": "1.0",
          "histogram": [
           {
            "bin_start": 0,
            "bin_end": 0.1,
            "count": 5478
           },
           {
            "bin_start": 0.1,
            "bin_end": 0.2,
            "count": 0
           },
           {
            "bin_start": 0.2,
            "bin_end": 0.30000000000000004,
            "count": 0
           },
           {
            "bin_start": 0.30000000000000004,
            "bin_end": 0.4,
            "count": 0
           },
           {
            "bin_start": 0.4,
            "bin_end": 0.5,
            "count": 0
           },
           {
            "bin_start": 0.5,
            "bin_end": 0.6000000000000001,
            "count": 374
           },
           {
            "bin_start": 0.6000000000000001,
            "bin_end": 0.7000000000000001,
            "count": 0
           },
           {
            "bin_start": 0.7000000000000001,
            "bin_end": 0.8,
            "count": 0
           },
           {
            "bin_start": 0.8,
            "bin_end": 0.9,
            "count": 0
           },
           {
            "bin_start": 0.9,
            "bin_end": 1,
            "count": 469
           }
          ]
         }
        },
        {
         "name": "Last_Bidding",
         "dtype": "float64",
         "stats": {
          "unique_count": 5807,
          "nan_count": 0,
          "min": "0.0",
          "max": "0.999900463",
          "histogram": [
           {
            "bin_start": 0,
            "bin_end": 0.0999900463,
            "count": 1897
           },
           {
            "bin_start": 0.0999900463,
            "bin_end": 0.1999800926,
            "count": 445
           },
           {
            "bin_start": 0.1999800926,
            "bin_end": 0.2999701389,
            "count": 375
           },
           {
            "bin_start": 0.2999701389,
            "bin_end": 0.3999601852,
            "count": 314
           },
           {
            "bin_start": 0.3999601852,
            "bin_end": 0.49995023149999995,
            "count": 285
           },
           {
            "bin_start": 0.49995023149999995,
            "bin_end": 0.5999402778,
            "count": 329
           },
           {
            "bin_start": 0.5999402778,
            "bin_end": 0.6999303241,
            "count": 388
           },
           {
            "bin_start": 0.6999303241,
            "bin_end": 0.7999203704,
            "count": 421
           },
           {
            "bin_start": 0.7999203704,
            "bin_end": 0.8999104166999999,
            "count": 535
           },
           {
            "bin_start": 0.8999104166999999,
            "bin_end": 0.999900463,
            "count": 1332
           }
          ]
         }
        },
        {
         "name": "Auction_Bids",
         "dtype": "float64",
         "stats": {
          "unique_count": 49,
          "nan_count": 0,
          "min": "0.0",
          "max": "0.788235294",
          "histogram": [
           {
            "bin_start": 0,
            "bin_end": 0.07882352940000001,
            "count": 2972
           },
           {
            "bin_start": 0.07882352940000001,
            "bin_end": 0.15764705880000002,
            "count": 351
           },
           {
            "bin_start": 0.15764705880000002,
            "bin_end": 0.23647058820000003,
            "count": 234
           },
           {
            "bin_start": 0.23647058820000003,
            "bin_end": 0.31529411760000003,
            "count": 451
           },
           {
            "bin_start": 0.31529411760000003,
            "bin_end": 0.39411764700000007,
            "count": 348
           },
           {
            "bin_start": 0.39411764700000007,
            "bin_end": 0.47294117640000005,
            "count": 535
           },
           {
            "bin_start": 0.47294117640000005,
            "bin_end": 0.5517647058,
            "count": 382
           },
           {
            "bin_start": 0.5517647058,
            "bin_end": 0.6305882352000001,
            "count": 425
           },
           {
            "bin_start": 0.6305882352000001,
            "bin_end": 0.7094117646000001,
            "count": 415
           },
           {
            "bin_start": 0.7094117646000001,
            "bin_end": 0.788235294,
            "count": 208
           }
          ]
         }
        },
        {
         "name": "Starting_Price_Average",
         "dtype": "float64",
         "stats": {
          "unique_count": 22,
          "nan_count": 0,
          "min": "0.0",
          "max": "0.999935281",
          "histogram": [
           {
            "bin_start": 0,
            "bin_end": 0.09999352809999999,
            "count": 3253
           },
           {
            "bin_start": 0.09999352809999999,
            "bin_end": 0.19998705619999999,
            "count": 0
           },
           {
            "bin_start": 0.19998705619999999,
            "bin_end": 0.29998058429999996,
            "count": 0
           },
           {
            "bin_start": 0.29998058429999996,
            "bin_end": 0.39997411239999997,
            "count": 0
           },
           {
            "bin_start": 0.39997411239999997,
            "bin_end": 0.4999676405,
            "count": 0
           },
           {
            "bin_start": 0.4999676405,
            "bin_end": 0.5999611685999999,
            "count": 52
           },
           {
            "bin_start": 0.5999611685999999,
            "bin_end": 0.6999546967,
            "count": 72
           },
           {
            "bin_start": 0.6999546967,
            "bin_end": 0.7999482247999999,
            "count": 0
           },
           {
            "bin_start": 0.7999482247999999,
            "bin_end": 0.8999417528999999,
            "count": 34
           },
           {
            "bin_start": 0.8999417528999999,
            "bin_end": 0.999935281,
            "count": 2910
           }
          ]
         }
        },
        {
         "name": "Early_Bidding",
         "dtype": "float64",
         "stats": {
          "unique_count": 5690,
          "nan_count": 0,
          "min": "0.0",
          "max": "0.999900463",
          "histogram": [
           {
            "bin_start": 0,
            "bin_end": 0.0999900463,
            "count": 2140
           },
           {
            "bin_start": 0.0999900463,
            "bin_end": 0.1999800926,
            "count": 464
           },
           {
            "bin_start": 0.1999800926,
            "bin_end": 0.2999701389,
            "count": 361
           },
           {
            "bin_start": 0.2999701389,
            "bin_end": 0.3999601852,
            "count": 322
           },
           {
            "bin_start": 0.3999601852,
            "bin_end": 0.49995023149999995,
            "count": 271
           },
           {
            "bin_start": 0.49995023149999995,
            "bin_end": 0.5999402778,
            "count": 293
           },
           {
            "bin_start": 0.5999402778,
            "bin_end": 0.6999303241,
            "count": 358
           },
           {
            "bin_start": 0.6999303241,
            "bin_end": 0.7999203704,
            "count": 398
           },
           {
            "bin_start": 0.7999203704,
            "bin_end": 0.8999104166999999,
            "count": 516
           },
           {
            "bin_start": 0.8999104166999999,
            "bin_end": 0.999900463,
            "count": 1198
           }
          ]
         }
        },
        {
         "name": "Winning_Ratio",
         "dtype": "float64",
         "stats": {
          "unique_count": 72,
          "nan_count": 0,
          "min": "0.0",
          "max": "1.0",
          "histogram": [
           {
            "bin_start": 0,
            "bin_end": 0.1,
            "count": 3640
           },
           {
            "bin_start": 0.1,
            "bin_end": 0.2,
            "count": 0
           },
           {
            "bin_start": 0.2,
            "bin_end": 0.30000000000000004,
            "count": 0
           },
           {
            "bin_start": 0.30000000000000004,
            "bin_end": 0.4,
            "count": 12
           },
           {
            "bin_start": 0.4,
            "bin_end": 0.5,
            "count": 3
           },
           {
            "bin_start": 0.5,
            "bin_end": 0.6000000000000001,
            "count": 104
           },
           {
            "bin_start": 0.6000000000000001,
            "bin_end": 0.7000000000000001,
            "count": 154
           },
           {
            "bin_start": 0.7000000000000001,
            "bin_end": 0.8,
            "count": 355
           },
           {
            "bin_start": 0.8,
            "bin_end": 0.9,
            "count": 820
           },
           {
            "bin_start": 0.9,
            "bin_end": 1,
            "count": 1233
           }
          ]
         }
        },
        {
         "name": "Auction_Duration",
         "dtype": "int64",
         "stats": {
          "unique_count": 5,
          "nan_count": 0,
          "min": "1",
          "max": "10",
          "histogram": [
           {
            "bin_start": 1,
            "bin_end": 1.9,
            "count": 1289
           },
           {
            "bin_start": 1.9,
            "bin_end": 2.8,
            "count": 0
           },
           {
            "bin_start": 2.8,
            "bin_end": 3.7,
            "count": 1408
           },
           {
            "bin_start": 3.7,
            "bin_end": 4.6,
            "count": 0
           },
           {
            "bin_start": 4.6,
            "bin_end": 5.5,
            "count": 1060
           },
           {
            "bin_start": 5.5,
            "bin_end": 6.4,
            "count": 0
           },
           {
            "bin_start": 6.4,
            "bin_end": 7.3,
            "count": 2427
           },
           {
            "bin_start": 7.3,
            "bin_end": 8.2,
            "count": 0
           },
           {
            "bin_start": 8.2,
            "bin_end": 9.1,
            "count": 0
           },
           {
            "bin_start": 9.1,
            "bin_end": 10,
            "count": 137
           }
          ]
         }
        },
        {
         "name": "Continuity",
         "dtype": "float64",
         "stats": {
          "unique_count": 5899,
          "nan_count": 0,
          "min": "0.0",
          "max": "1.0",
          "histogram": [
           {
            "bin_start": 0,
            "bin_end": 0.1,
            "count": 1952
           },
           {
            "bin_start": 0.1,
            "bin_end": 0.2,
            "count": 457
           },
           {
            "bin_start": 0.2,
            "bin_end": 0.30000000000000004,
            "count": 394
           },
           {
            "bin_start": 0.30000000000000004,
            "bin_end": 0.4,
            "count": 343
           },
           {
            "bin_start": 0.4,
            "bin_end": 0.5,
            "count": 319
           },
           {
            "bin_start": 0.5,
            "bin_end": 0.6000000000000001,
            "count": 332
           },
           {
            "bin_start": 0.6000000000000001,
            "bin_end": 0.7000000000000001,
            "count": 372
           },
           {
            "bin_start": 0.7000000000000001,
            "bin_end": 0.8,
            "count": 404
           },
           {
            "bin_start": 0.8,
            "bin_end": 0.9,
            "count": 515
           },
           {
            "bin_start": 0.9,
            "bin_end": 1,
            "count": 1233
           }
          ]
         }
        },
        {
         "name": "_deepnote_index_column",
         "dtype": "int64"
        }
       ],
       "rows": [
        {
         "Bidder_Tendency": 0.2,
         "Bidding_Ratio": 0.4,
         "Successive_Outbidding": 0,
         "Last_Bidding": 0.0000277778,
         "Auction_Bids": 0,
         "Starting_Price_Average": 0.993592814,
         "Early_Bidding": 0.0000277778,
         "Winning_Ratio": 0.666666667,
         "Auction_Duration": 5,
         "Continuity": 0.000027780565194117726,
         "_deepnote_index_column": 0
        },
        {
         "Bidder_Tendency": 0.024390244,
         "Bidding_Ratio": 0.2,
         "Successive_Outbidding": 0,
         "Last_Bidding": 0.0131226852,
         "Auction_Bids": 0,
         "Starting_Price_Average": 0.993592814,
         "Early_Bidding": 0.0131226852,
         "Winning_Ratio": 0.944444444,
         "Auction_Duration": 5,
         "Continuity": 0.013123991522744198,
         "_deepnote_index_column": 1
        },
        {
         "Bidder_Tendency": 0.142857143,
         "Bidding_Ratio": 0.2,
         "Successive_Outbidding": 0,
         "Last_Bidding": 0.0030416667,
         "Auction_Bids": 0,
         "Starting_Price_Average": 0.993592814,
         "Early_Bidding": 0.0030416667,
         "Winning_Ratio": 1,
         "Auction_Duration": 5,
         "Continuity": 0.0030419694885169784,
         "_deepnote_index_column": 2
        },
        {
         "Bidder_Tendency": 0.1,
         "Bidding_Ratio": 0.2,
         "Successive_Outbidding": 0,
         "Last_Bidding": 0.0974768519,
         "Auction_Bids": 0,
         "Starting_Price_Average": 0.993592814,
         "Early_Bidding": 0.0974768519,
         "Winning_Ratio": 1,
         "Auction_Duration": 5,
         "Continuity": 0.09748655541926676,
         "_deepnote_index_column": 3
        },
        {
         "Bidder_Tendency": 0.051282051,
         "Bidding_Ratio": 0.222222222,
         "Successive_Outbidding": 0,
         "Last_Bidding": 0.001317791,
         "Auction_Bids": 0,
         "Starting_Price_Average": 0,
         "Early_Bidding": 0.0012417328,
         "Winning_Ratio": 0.5,
         "Auction_Duration": 7,
         "Continuity": 0.00127988929634089,
         "_deepnote_index_column": 4
        },
        {
         "Bidder_Tendency": 0.038461538,
         "Bidding_Ratio": 0.111111111,
         "Successive_Outbidding": 0,
         "Last_Bidding": 0.0168435847,
         "Auction_Bids": 0,
         "Starting_Price_Average": 0,
         "Early_Bidding": 0.0168435847,
         "Winning_Ratio": 0.8,
         "Auction_Duration": 7,
         "Continuity": 0.016845261426786638,
         "_deepnote_index_column": 5
        },
        {
         "Bidder_Tendency": 0.4,
         "Bidding_Ratio": 0.222222222,
         "Successive_Outbidding": 0,
         "Last_Bidding": 0.006780754,
         "Auction_Bids": 0,
         "Starting_Price_Average": 0,
         "Early_Bidding": 0.0067741402,
         "Winning_Ratio": 0.75,
         "Auction_Duration": 7,
         "Continuity": 0.0067781217739070095,
         "_deepnote_index_column": 6
        },
        {
         "Bidder_Tendency": 0.137931034,
         "Bidding_Ratio": 0.444444444,
         "Successive_Outbidding": 1,
         "Last_Bidding": 0.7680439815,
         "Auction_Bids": 0,
         "Starting_Price_Average": 0,
         "Early_Bidding": 0.0163111772,
         "Winning_Ratio": 1,
         "Auction_Duration": 7,
         "Continuity": 0.39221661941564673,
         "_deepnote_index_column": 7
        },
        {
         "Bidder_Tendency": 0.12195122,
         "Bidding_Ratio": 0.185185185,
         "Successive_Outbidding": 1,
         "Last_Bidding": 0.0350214947,
         "Auction_Bids": 0.333333333,
         "Starting_Price_Average": 0.993528095,
         "Early_Bidding": 0.0239632937,
         "Winning_Ratio": 0.944444444,
         "Auction_Duration": 7,
         "Continuity": 0.02949533007666984,
         "_deepnote_index_column": 8
        },
        {
         "Bidder_Tendency": 0.155172414,
         "Bidding_Ratio": 0.346153846,
         "Successive_Outbidding": 0.5,
         "Last_Bidding": 0.5709937169,
         "Auction_Bids": 0.307692308,
         "Starting_Price_Average": 0.993592814,
         "Early_Bidding": 0.4137880291,
         "Winning_Ratio": 0.611111111,
         "Auction_Duration": 7,
         "Continuity": 0.4924398889892303,
         "_deepnote_index_column": 9
        }
       ]
      },
      "text/plain": "      Bidder_Tendency  Bidding_Ratio  Successive_Outbidding  Last_Bidding  \\\n0                0.20           0.40                   0.00          0.00   \n1                0.02           0.20                   0.00          0.01   \n2                0.14           0.20                   0.00          0.00   \n3                0.10           0.20                   0.00          0.10   \n4                0.05           0.22                   0.00          0.00   \n...               ...            ...                    ...           ...   \n6316             0.33           0.16                   1.00          0.74   \n6317             0.03           0.13                   0.00          0.01   \n6318             0.06           0.04                   0.00          0.02   \n6319             0.08           0.09                   0.00          0.07   \n6320             0.02           0.04                   0.00          0.34   \n\n      Auction_Bids  Starting_Price_Average  Early_Bidding  Winning_Ratio  \\\n0             0.00                    0.99           0.00           0.67   \n1             0.00                    0.99           0.01           0.94   \n2             0.00                    0.99           0.00           1.00   \n3             0.00                    0.99           0.10           1.00   \n4             0.00                    0.00           0.00           0.50   \n...            ...                     ...            ...            ...   \n6316          0.28                    0.99           0.69           0.89   \n6317          0.22                    0.99           0.00           0.88   \n6318          0.22                    0.99           0.02           0.00   \n6319          0.22                    0.99           0.00           0.00   \n6320          0.22                    0.99           0.34           0.00   \n\n      Auction_Duration  Continuity  \n0                    5        0.00  \n1                    5        0.01  \n2                    5        0.00  \n3                    5        0.10  \n4                    7        0.00  \n...                ...         ...  \n6316                 3        0.71  \n6317                 7        0.00  \n6318                 7        0.02  \n6319                 7        0.03  \n6320                 7        0.34  \n\n[6321 rows x 10 columns]",
      "text/html": "<div>\n<style scoped>\n    .dataframe tbody tr th:only-of-type {\n        vertical-align: middle;\n    }\n\n    .dataframe tbody tr th {\n        vertical-align: top;\n    }\n\n    .dataframe thead th {\n        text-align: right;\n    }\n</style>\n<table border=\"1\" class=\"dataframe\">\n  <thead>\n    <tr style=\"text-align: right;\">\n      <th></th>\n      <th>Bidder_Tendency</th>\n      <th>Bidding_Ratio</th>\n      <th>Successive_Outbidding</th>\n      <th>Last_Bidding</th>\n      <th>Auction_Bids</th>\n      <th>Starting_Price_Average</th>\n      <th>Early_Bidding</th>\n      <th>Winning_Ratio</th>\n      <th>Auction_Duration</th>\n      <th>Continuity</th>\n    </tr>\n  </thead>\n  <tbody>\n    <tr>\n      <th>0</th>\n      <td>0.20</td>\n      <td>0.40</td>\n      <td>0.00</td>\n      <td>0.00</td>\n      <td>0.00</td>\n      <td>0.99</td>\n      <td>0.00</td>\n      <td>0.67</td>\n      <td>5</td>\n      <td>0.00</td>\n    </tr>\n    <tr>\n      <th>1</th>\n      <td>0.02</td>\n      <td>0.20</td>\n      <td>0.00</td>\n      <td>0.01</td>\n      <td>0.00</td>\n      <td>0.99</td>\n      <td>0.01</td>\n      <td>0.94</td>\n      <td>5</td>\n      <td>0.01</td>\n    </tr>\n    <tr>\n      <th>2</th>\n      <td>0.14</td>\n      <td>0.20</td>\n      <td>0.00</td>\n      <td>0.00</td>\n      <td>0.00</td>\n      <td>0.99</td>\n      <td>0.00</td>\n      <td>1.00</td>\n      <td>5</td>\n      <td>0.00</td>\n    </tr>\n    <tr>\n      <th>3</th>\n      <td>0.10</td>\n      <td>0.20</td>\n      <td>0.00</td>\n      <td>0.10</td>\n      <td>0.00</td>\n      <td>0.99</td>\n      <td>0.10</td>\n      <td>1.00</td>\n      <td>5</td>\n      <td>0.10</td>\n    </tr>\n    <tr>\n      <th>4</th>\n      <td>0.05</td>\n      <td>0.22</td>\n      <td>0.00</td>\n      <td>0.00</td>\n      <td>0.00</td>\n      <td>0.00</td>\n      <td>0.00</td>\n      <td>0.50</td>\n      <td>7</td>\n      <td>0.00</td>\n    </tr>\n    <tr>\n      <th>...</th>\n      <td>...</td>\n      <td>...</td>\n      <td>...</td>\n      <td>...</td>\n      <td>...</td>\n      <td>...</td>\n      <td>...</td>\n      <td>...</td>\n      <td>...</td>\n      <td>...</td>\n    </tr>\n    <tr>\n      <th>6316</th>\n      <td>0.33</td>\n      <td>0.16</td>\n      <td>1.00</td>\n      <td>0.74</td>\n      <td>0.28</td>\n      <td>0.99</td>\n      <td>0.69</td>\n      <td>0.89</td>\n      <td>3</td>\n      <td>0.71</td>\n    </tr>\n    <tr>\n      <th>6317</th>\n      <td>0.03</td>\n      <td>0.13</td>\n      <td>0.00</td>\n      <td>0.01</td>\n      <td>0.22</td>\n      <td>0.99</td>\n      <td>0.00</td>\n      <td>0.88</td>\n      <td>7</td>\n      <td>0.00</td>\n    </tr>\n    <tr>\n      <th>6318</th>\n      <td>0.06</td>\n      <td>0.04</td>\n      <td>0.00</td>\n      <td>0.02</td>\n      <td>0.22</td>\n      <td>0.99</td>\n      <td>0.02</td>\n      <td>0.00</td>\n      <td>7</td>\n      <td>0.02</td>\n    </tr>\n    <tr>\n      <th>6319</th>\n      <td>0.08</td>\n      <td>0.09</td>\n      <td>0.00</td>\n      <td>0.07</td>\n      <td>0.22</td>\n      <td>0.99</td>\n      <td>0.00</td>\n      <td>0.00</td>\n      <td>7</td>\n      <td>0.03</td>\n    </tr>\n    <tr>\n      <th>6320</th>\n      <td>0.02</td>\n      <td>0.04</td>\n      <td>0.00</td>\n      <td>0.34</td>\n      <td>0.22</td>\n      <td>0.99</td>\n      <td>0.34</td>\n      <td>0.00</td>\n      <td>7</td>\n      <td>0.34</td>\n    </tr>\n  </tbody>\n</table>\n<p>6321 rows × 10 columns</p>\n</div>"
     },
     "metadata": {}
    }
   ]
  },
  {
   "cell_type": "code",
   "metadata": {
    "tags": [],
    "deepnote_to_be_reexecuted": false,
    "source_hash": "b9159e95",
    "execution_start": 1650215038788,
    "execution_millis": 558,
    "cell_id": "00035-7c7a9d97-d341-48e6-b26e-b98de5100b40",
    "deepnote_cell_type": "code",
    "deepnote_cell_height": 1333.125,
    "deepnote_output_heights": [
     null,
     21.1875,
     264
    ]
   },
   "source": "# define dataset\nX = all_data.drop(['Class'], axis=1)\n\n# Testing cases\n\n#X = X.drop(['Successive_Outbidding'], axis=1)\n\n#X = X[['Successive_Outbidding']]\n\nX = X[['Successive_Outbidding','Bidding_Ratio']]\n\n#X = X[['Successive_Outbidding','Bidding_Ratio', 'Winning_Ratio', 'Bidder_Tendency']]\n\n\ny = all_data.Class\nX_train, X_test, y_train, y_test = train_test_split(X, y, train_size=0.6, random_state=1)\nmodel = BaggingClassifier(random_state=1).fit(X_train,y_train)\n\nactual = y_test\npredicted = model.predict(X_test)\n\n# confusion matrix\nprint(\"Confusion matrix: \\n\", confusion_matrix(actual, predicted))\n\n# assign tn, fp, fn, tp\ntn, fp, fn, tp = confusion_matrix(actual, predicted).ravel()\nprint(\"True Positives: \", tp, \"\\nFalse Positives: \", fp, \"\\nFalse Negatives: \", fn, \"\\nTrue Negatives: \", tn)\n\n# accuracy using metrics.precision_score()\nprint(\"Accuracy on test = \", metrics.accuracy_score(actual, predicted))\n\n# precision using metrics.precision_score()\nprint(\"Precision on test = \", metrics.precision_score(actual, predicted))\n\n# recall using metrics.precision_score()\nprint(\"Recall on test = \", metrics.recall_score(actual, predicted))\n\ndisp = ConfusionMatrixDisplay(confusion_matrix(actual, predicted))\ndisp.plot(cmap = \"BuPu\")\nplt.show()",
   "execution_count": null,
   "outputs": [
    {
     "name": "stdout",
     "text": "Confusion matrix: \n [[2235   36]\n [  28  230]]\nTrue Positives:  230 \nFalse Positives:  36 \nFalse Negatives:  28 \nTrue Negatives:  2235\nAccuracy on test =  0.9746935547647292\nPrecision on test =  0.8646616541353384\nRecall on test =  0.8914728682170543\n",
     "output_type": "stream"
    },
    {
     "output_type": "execute_result",
     "execution_count": 17,
     "data": {
      "text/plain": "<sklearn.metrics._plot.confusion_matrix.ConfusionMatrixDisplay at 0x7fd4a9871cd0>"
     },
     "metadata": {}
    },
    {
     "data": {
      "text/plain": "<Figure size 432x288 with 2 Axes>",
      "image/png": "[encoded data removed]"
     },
     "metadata": {
      "needs_background": "light",
      "image/png": {
       "width": 319,
       "height": 262
      }
     },
     "output_type": "display_data"
    }
   ]
  },
  {
   "cell_type": "markdown",
   "source": "This drop in accuracy makes sense. Let's see if boosting can increase it!",
   "metadata": {
    "tags": [],
    "cell_id": "00036-ca29c0f8-7e1a-4279-bebf-a41125ed0d6b",
    "deepnote_cell_type": "markdown",
    "deepnote_cell_height": 52.375
   }
  },
  {
   "cell_type": "code",
   "metadata": {
    "tags": [],
    "deepnote_to_be_reexecuted": false,
    "source_hash": "ad2c52fc",
    "execution_start": 1650215039120,
    "execution_millis": 307,
    "cell_id": "00037-5a9b9a96-9ded-40b2-94d2-225c207d08cb",
    "deepnote_cell_type": "code",
    "deepnote_cell_height": 1214.9375
   },
   "source": "iteration = 1\nmean = 0\nprecision = 0\nrecall = 0\n\n# boosting model\nkf = StratifiedKFold(n_splits=10, random_state=1, shuffle=True)\nfor train_index, test_index in kf.split(X, y):\n    print('\\n{} of kfold {}'.format(iteration, kf.n_splits))\n    xtr, xvl = X.loc[train_index], X.loc[test_index]\n    ytr, yvl = y[train_index], y[test_index]\n    model = CatBoostClassifier(iterations=10)\n    model.fit(xtr, ytr)\n    pred_test = model.predict(xvl)\n    score = accuracy_score(yvl, pred_test)\n    precision += precision_score(yvl, pred_test)\n    recall += recall_score(yvl, pred_test)\n    mean += score\n    print('accuracy_score', score)\n    iteration += 1",
   "execution_count": null,
   "outputs": [
    {
     "name": "stdout",
     "text": "\n1 of kfold 10\nLearning rate set to 0.5\n0:\tlearn: 0.3476671\ttotal: 545us\tremaining: 4.91ms\n1:\tlearn: 0.2076876\ttotal: 1.36ms\tremaining: 5.46ms\n2:\tlearn: 0.1384547\ttotal: 2.09ms\tremaining: 4.88ms\n3:\tlearn: 0.0995232\ttotal: 3.03ms\tremaining: 4.55ms\n4:\tlearn: 0.0766651\ttotal: 3.71ms\tremaining: 3.71ms\n5:\tlearn: 0.0674327\ttotal: 4.2ms\tremaining: 2.8ms\n6:\tlearn: 0.0577529\ttotal: 4.86ms\tremaining: 2.08ms\n7:\tlearn: 0.0523203\ttotal: 6.05ms\tremaining: 1.51ms\n8:\tlearn: 0.0486847\ttotal: 7.05ms\tremaining: 783us\n9:\tlearn: 0.0466862\ttotal: 7.97ms\tremaining: 0us\n",
     "output_type": "stream"
    },
    {
     "output_type": "execute_result",
     "execution_count": 18,
     "data": {
      "text/plain": "<catboost.core.CatBoostClassifier at 0x7fd4a99adfa0>"
     },
     "metadata": {},
     "text": "\n1 of kfold 10\nLearning rate set to 0.5\n0:\tlearn: 0.3476671\ttotal: 545us\tremaining: 4.91ms\n1:\tlearn: 0.2076876\ttotal: 1.36ms\tremaining: 5.46ms\n2:\tlearn: 0.1384547\ttotal: 2.09ms\tremaining: 4.88ms\n3:\tlearn: 0.0995232\ttotal: 3.03ms\tremaining: 4.55ms\n4:\tlearn: 0.0766651\ttotal: 3.71ms\tremaining: 3.71ms\n5:\tlearn: 0.0674327\ttotal: 4.2ms\tremaining: 2.8ms\n6:\tlearn: 0.0577529\ttotal: 4.86ms\tremaining: 2.08ms\n7:\tlearn: 0.0523203\ttotal: 6.05ms\tremaining: 1.51ms\n8:\tlearn: 0.0486847\ttotal: 7.05ms\tremaining: 783us\n9:\tlearn: 0.0466862\ttotal: 7.97ms\tremaining: 0us\naccuracy_score 0.9842022116903634\n\n2 of kfold 10\nLearning rate set to 0.5\n0:\tlearn: 0.3469997\ttotal: 520us\tremaining: 4.69ms\n1:\tlearn: 0.2100514\ttotal: 1.12ms\tremaining: 4.49ms\n2:\tlearn: 0.1379438\ttotal: 1.93ms\tremaining: 4.51ms\n3:\tlearn: 0.0984067\ttotal: 2.9ms\tremaining: 4.34ms\n4:\tlearn: 0.0750578\ttotal: 3.62ms\tremaining: 3.62ms\n5:\tlearn: 0.0616280\ttotal: 4.63ms\tremaining: 3.09ms\n6:\tlearn: 0.0540752\ttotal: 5.37ms\tremaining: 2.3ms\n7:\tlearn: 0.0498155\ttotal: 5.97ms\tremaining: 1.49ms\n8:\tlearn: 0.0464628\ttotal: 7.01ms\tremaining: 778us\n9:\tlearn: 0.0440871\ttotal: 7.98ms\tremaining: 0us\n"
    },
    {
     "output_type": "execute_result",
     "execution_count": 18,
     "data": {
      "text/plain": "<catboost.core.CatBoostClassifier at 0x7fd4a9f4e1f0>"
     },
     "metadata": {},
     "text": "\n1 of kfold 10\nLearning rate set to 0.5\n0:\tlearn: 0.3476671\ttotal: 545us\tremaining: 4.91ms\n1:\tlearn: 0.2076876\ttotal: 1.36ms\tremaining: 5.46ms\n2:\tlearn: 0.1384547\ttotal: 2.09ms\tremaining: 4.88ms\n3:\tlearn: 0.0995232\ttotal: 3.03ms\tremaining: 4.55ms\n4:\tlearn: 0.0766651\ttotal: 3.71ms\tremaining: 3.71ms\n5:\tlearn: 0.0674327\ttotal: 4.2ms\tremaining: 2.8ms\n6:\tlearn: 0.0577529\ttotal: 4.86ms\tremaining: 2.08ms\n7:\tlearn: 0.0523203\ttotal: 6.05ms\tremaining: 1.51ms\n8:\tlearn: 0.0486847\ttotal: 7.05ms\tremaining: 783us\n9:\tlearn: 0.0466862\ttotal: 7.97ms\tremaining: 0us\naccuracy_score 0.9842022116903634\n\n2 of kfold 10\nLearning rate set to 0.5\n0:\tlearn: 0.3469997\ttotal: 520us\tremaining: 4.69ms\n1:\tlearn: 0.2100514\ttotal: 1.12ms\tremaining: 4.49ms\n2:\tlearn: 0.1379438\ttotal: 1.93ms\tremaining: 4.51ms\n3:\tlearn: 0.0984067\ttotal: 2.9ms\tremaining: 4.34ms\n4:\tlearn: 0.0750578\ttotal: 3.62ms\tremaining: 3.62ms\n5:\tlearn: 0.0616280\ttotal: 4.63ms\tremaining: 3.09ms\n6:\tlearn: 0.0540752\ttotal: 5.37ms\tremaining: 2.3ms\n7:\tlearn: 0.0498155\ttotal: 5.97ms\tremaining: 1.49ms\n8:\tlearn: 0.0464628\ttotal: 7.01ms\tremaining: 778us\n9:\tlearn: 0.0440871\ttotal: 7.98ms\tremaining: 0us\naccuracy_score 0.9810126582278481\n\n3 of kfold 10\nLearning rate set to 0.5\n0:\tlearn: 0.3478405\ttotal: 655us\tremaining: 5.9ms\n1:\tlearn: 0.2112958\ttotal: 1.46ms\tremaining: 5.83ms\n2:\tlearn: 0.1394828\ttotal: 2.21ms\tremaining: 5.16ms\n3:\tlearn: 0.1000388\ttotal: 3.25ms\tremaining: 4.87ms\n4:\tlearn: 0.0769205\ttotal: 3.9ms\tremaining: 3.9ms\n5:\tlearn: 0.0635283\ttotal: 4.82ms\tremaining: 3.21ms\n6:\tlearn: 0.0560208\ttotal: 5.51ms\tremaining: 2.36ms\n7:\tlearn: 0.0510461\ttotal: 6.24ms\tremaining: 1.56ms\n8:\tlearn: 0.0488171\ttotal: 6.89ms\tremaining: 765us\n9:\tlearn: 0.0467019\ttotal: 8.19ms\tremaining: 0us\n"
    },
    {
     "output_type": "execute_result",
     "execution_count": 18,
     "data": {
      "text/plain": "<catboost.core.CatBoostClassifier at 0x7fd4a99cb130>"
     },
     "metadata": {},
     "text": "\n1 of kfold 10\nLearning rate set to 0.5\n0:\tlearn: 0.3476671\ttotal: 545us\tremaining: 4.91ms\n1:\tlearn: 0.2076876\ttotal: 1.36ms\tremaining: 5.46ms\n2:\tlearn: 0.1384547\ttotal: 2.09ms\tremaining: 4.88ms\n3:\tlearn: 0.0995232\ttotal: 3.03ms\tremaining: 4.55ms\n4:\tlearn: 0.0766651\ttotal: 3.71ms\tremaining: 3.71ms\n5:\tlearn: 0.0674327\ttotal: 4.2ms\tremaining: 2.8ms\n6:\tlearn: 0.0577529\ttotal: 4.86ms\tremaining: 2.08ms\n7:\tlearn: 0.0523203\ttotal: 6.05ms\tremaining: 1.51ms\n8:\tlearn: 0.0486847\ttotal: 7.05ms\tremaining: 783us\n9:\tlearn: 0.0466862\ttotal: 7.97ms\tremaining: 0us\naccuracy_score 0.9842022116903634\n\n2 of kfold 10\nLearning rate set to 0.5\n0:\tlearn: 0.3469997\ttotal: 520us\tremaining: 4.69ms\n1:\tlearn: 0.2100514\ttotal: 1.12ms\tremaining: 4.49ms\n2:\tlearn: 0.1379438\ttotal: 1.93ms\tremaining: 4.51ms\n3:\tlearn: 0.0984067\ttotal: 2.9ms\tremaining: 4.34ms\n4:\tlearn: 0.0750578\ttotal: 3.62ms\tremaining: 3.62ms\n5:\tlearn: 0.0616280\ttotal: 4.63ms\tremaining: 3.09ms\n6:\tlearn: 0.0540752\ttotal: 5.37ms\tremaining: 2.3ms\n7:\tlearn: 0.0498155\ttotal: 5.97ms\tremaining: 1.49ms\n8:\tlearn: 0.0464628\ttotal: 7.01ms\tremaining: 778us\n9:\tlearn: 0.0440871\ttotal: 7.98ms\tremaining: 0us\naccuracy_score 0.9810126582278481\n\n3 of kfold 10\nLearning rate set to 0.5\n0:\tlearn: 0.3478405\ttotal: 655us\tremaining: 5.9ms\n1:\tlearn: 0.2112958\ttotal: 1.46ms\tremaining: 5.83ms\n2:\tlearn: 0.1394828\ttotal: 2.21ms\tremaining: 5.16ms\n3:\tlearn: 0.1000388\ttotal: 3.25ms\tremaining: 4.87ms\n4:\tlearn: 0.0769205\ttotal: 3.9ms\tremaining: 3.9ms\n5:\tlearn: 0.0635283\ttotal: 4.82ms\tremaining: 3.21ms\n6:\tlearn: 0.0560208\ttotal: 5.51ms\tremaining: 2.36ms\n7:\tlearn: 0.0510461\ttotal: 6.24ms\tremaining: 1.56ms\n8:\tlearn: 0.0488171\ttotal: 6.89ms\tremaining: 765us\n9:\tlearn: 0.0467019\ttotal: 8.19ms\tremaining: 0us\naccuracy_score 0.990506329113924\n\n4 of kfold 10\nLearning rate set to 0.5\n0:\tlearn: 0.3466611\ttotal: 518us\tremaining: 4.67ms\n1:\tlearn: 0.2070033\ttotal: 1.28ms\tremaining: 5.11ms\n2:\tlearn: 0.1377290\ttotal: 1.98ms\tremaining: 4.63ms\n3:\tlearn: 0.0984607\ttotal: 2.87ms\tremaining: 4.31ms\n4:\tlearn: 0.0756334\ttotal: 3.55ms\tremaining: 3.55ms\n5:\tlearn: 0.0663346\ttotal: 4.17ms\tremaining: 2.78ms\n6:\tlearn: 0.0566139\ttotal: 4.96ms\tremaining: 2.13ms\n7:\tlearn: 0.0513714\ttotal: 5.87ms\tremaining: 1.47ms\n8:\tlearn: 0.0481000\ttotal: 6.77ms\tremaining: 752us\n9:\tlearn: 0.0459146\ttotal: 7.67ms\tremaining: 0us\n"
    },
    {
     "output_type": "execute_result",
     "execution_count": 18,
     "data": {
      "text/plain": "<catboost.core.CatBoostClassifier at 0x7fd4a9850130>"
     },
     "metadata": {},
     "text": "\n1 of kfold 10\nLearning rate set to 0.5\n0:\tlearn: 0.3476671\ttotal: 545us\tremaining: 4.91ms\n1:\tlearn: 0.2076876\ttotal: 1.36ms\tremaining: 5.46ms\n2:\tlearn: 0.1384547\ttotal: 2.09ms\tremaining: 4.88ms\n3:\tlearn: 0.0995232\ttotal: 3.03ms\tremaining: 4.55ms\n4:\tlearn: 0.0766651\ttotal: 3.71ms\tremaining: 3.71ms\n5:\tlearn: 0.0674327\ttotal: 4.2ms\tremaining: 2.8ms\n6:\tlearn: 0.0577529\ttotal: 4.86ms\tremaining: 2.08ms\n7:\tlearn: 0.0523203\ttotal: 6.05ms\tremaining: 1.51ms\n8:\tlearn: 0.0486847\ttotal: 7.05ms\tremaining: 783us\n9:\tlearn: 0.0466862\ttotal: 7.97ms\tremaining: 0us\naccuracy_score 0.9842022116903634\n\n2 of kfold 10\nLearning rate set to 0.5\n0:\tlearn: 0.3469997\ttotal: 520us\tremaining: 4.69ms\n1:\tlearn: 0.2100514\ttotal: 1.12ms\tremaining: 4.49ms\n2:\tlearn: 0.1379438\ttotal: 1.93ms\tremaining: 4.51ms\n3:\tlearn: 0.0984067\ttotal: 2.9ms\tremaining: 4.34ms\n4:\tlearn: 0.0750578\ttotal: 3.62ms\tremaining: 3.62ms\n5:\tlearn: 0.0616280\ttotal: 4.63ms\tremaining: 3.09ms\n6:\tlearn: 0.0540752\ttotal: 5.37ms\tremaining: 2.3ms\n7:\tlearn: 0.0498155\ttotal: 5.97ms\tremaining: 1.49ms\n8:\tlearn: 0.0464628\ttotal: 7.01ms\tremaining: 778us\n9:\tlearn: 0.0440871\ttotal: 7.98ms\tremaining: 0us\naccuracy_score 0.9810126582278481\n\n3 of kfold 10\nLearning rate set to 0.5\n0:\tlearn: 0.3478405\ttotal: 655us\tremaining: 5.9ms\n1:\tlearn: 0.2112958\ttotal: 1.46ms\tremaining: 5.83ms\n2:\tlearn: 0.1394828\ttotal: 2.21ms\tremaining: 5.16ms\n3:\tlearn: 0.1000388\ttotal: 3.25ms\tremaining: 4.87ms\n4:\tlearn: 0.0769205\ttotal: 3.9ms\tremaining: 3.9ms\n5:\tlearn: 0.0635283\ttotal: 4.82ms\tremaining: 3.21ms\n6:\tlearn: 0.0560208\ttotal: 5.51ms\tremaining: 2.36ms\n7:\tlearn: 0.0510461\ttotal: 6.24ms\tremaining: 1.56ms\n8:\tlearn: 0.0488171\ttotal: 6.89ms\tremaining: 765us\n9:\tlearn: 0.0467019\ttotal: 8.19ms\tremaining: 0us\naccuracy_score 0.990506329113924\n\n4 of kfold 10\nLearning rate set to 0.5\n0:\tlearn: 0.3466611\ttotal: 518us\tremaining: 4.67ms\n1:\tlearn: 0.2070033\ttotal: 1.28ms\tremaining: 5.11ms\n2:\tlearn: 0.1377290\ttotal: 1.98ms\tremaining: 4.63ms\n3:\tlearn: 0.0984607\ttotal: 2.87ms\tremaining: 4.31ms\n4:\tlearn: 0.0756334\ttotal: 3.55ms\tremaining: 3.55ms\n5:\tlearn: 0.0663346\ttotal: 4.17ms\tremaining: 2.78ms\n6:\tlearn: 0.0566139\ttotal: 4.96ms\tremaining: 2.13ms\n7:\tlearn: 0.0513714\ttotal: 5.87ms\tremaining: 1.47ms\n8:\tlearn: 0.0481000\ttotal: 6.77ms\tremaining: 752us\n9:\tlearn: 0.0459146\ttotal: 7.67ms\tremaining: 0us\naccuracy_score 0.9762658227848101\n\n5 of kfold 10\nLearning rate set to 0.5\n0:\tlearn: 0.3478405\ttotal: 644us\tremaining: 5.8ms\n1:\tlearn: 0.2117267\ttotal: 1.43ms\tremaining: 5.72ms\n2:\tlearn: 0.1392829\ttotal: 2.35ms\tremaining: 5.49ms\n3:\tlearn: 0.0997625\ttotal: 3.58ms\tremaining: 5.38ms\n4:\tlearn: 0.0765432\ttotal: 4.5ms\tremaining: 4.5ms\n5:\tlearn: 0.0630964\ttotal: 5.92ms\tremaining: 3.95ms\n6:\tlearn: 0.0555561\ttotal: 6.78ms\tremaining: 2.9ms\n7:\tlearn: 0.0506114\ttotal: 7.75ms\tremaining: 1.94ms\n8:\tlearn: 0.0483962\ttotal: 8.56ms\tremaining: 951us\n9:\tlearn: 0.0457690\ttotal: 9.71ms\tremaining: 0us\n"
    },
    {
     "output_type": "execute_result",
     "execution_count": 18,
     "data": {
      "text/plain": "<catboost.core.CatBoostClassifier at 0x7fd4a99dffd0>"
     },
     "metadata": {},
     "text": "\n1 of kfold 10\nLearning rate set to 0.5\n0:\tlearn: 0.3476671\ttotal: 545us\tremaining: 4.91ms\n1:\tlearn: 0.2076876\ttotal: 1.36ms\tremaining: 5.46ms\n2:\tlearn: 0.1384547\ttotal: 2.09ms\tremaining: 4.88ms\n3:\tlearn: 0.0995232\ttotal: 3.03ms\tremaining: 4.55ms\n4:\tlearn: 0.0766651\ttotal: 3.71ms\tremaining: 3.71ms\n5:\tlearn: 0.0674327\ttotal: 4.2ms\tremaining: 2.8ms\n6:\tlearn: 0.0577529\ttotal: 4.86ms\tremaining: 2.08ms\n7:\tlearn: 0.0523203\ttotal: 6.05ms\tremaining: 1.51ms\n8:\tlearn: 0.0486847\ttotal: 7.05ms\tremaining: 783us\n9:\tlearn: 0.0466862\ttotal: 7.97ms\tremaining: 0us\naccuracy_score 0.9842022116903634\n\n2 of kfold 10\nLearning rate set to 0.5\n0:\tlearn: 0.3469997\ttotal: 520us\tremaining: 4.69ms\n1:\tlearn: 0.2100514\ttotal: 1.12ms\tremaining: 4.49ms\n2:\tlearn: 0.1379438\ttotal: 1.93ms\tremaining: 4.51ms\n3:\tlearn: 0.0984067\ttotal: 2.9ms\tremaining: 4.34ms\n4:\tlearn: 0.0750578\ttotal: 3.62ms\tremaining: 3.62ms\n5:\tlearn: 0.0616280\ttotal: 4.63ms\tremaining: 3.09ms\n6:\tlearn: 0.0540752\ttotal: 5.37ms\tremaining: 2.3ms\n7:\tlearn: 0.0498155\ttotal: 5.97ms\tremaining: 1.49ms\n8:\tlearn: 0.0464628\ttotal: 7.01ms\tremaining: 778us\n9:\tlearn: 0.0440871\ttotal: 7.98ms\tremaining: 0us\naccuracy_score 0.9810126582278481\n\n3 of kfold 10\nLearning rate set to 0.5\n0:\tlearn: 0.3478405\ttotal: 655us\tremaining: 5.9ms\n1:\tlearn: 0.2112958\ttotal: 1.46ms\tremaining: 5.83ms\n2:\tlearn: 0.1394828\ttotal: 2.21ms\tremaining: 5.16ms\n3:\tlearn: 0.1000388\ttotal: 3.25ms\tremaining: 4.87ms\n4:\tlearn: 0.0769205\ttotal: 3.9ms\tremaining: 3.9ms\n5:\tlearn: 0.0635283\ttotal: 4.82ms\tremaining: 3.21ms\n6:\tlearn: 0.0560208\ttotal: 5.51ms\tremaining: 2.36ms\n7:\tlearn: 0.0510461\ttotal: 6.24ms\tremaining: 1.56ms\n8:\tlearn: 0.0488171\ttotal: 6.89ms\tremaining: 765us\n9:\tlearn: 0.0467019\ttotal: 8.19ms\tremaining: 0us\naccuracy_score 0.990506329113924\n\n4 of kfold 10\nLearning rate set to 0.5\n0:\tlearn: 0.3466611\ttotal: 518us\tremaining: 4.67ms\n1:\tlearn: 0.2070033\ttotal: 1.28ms\tremaining: 5.11ms\n2:\tlearn: 0.1377290\ttotal: 1.98ms\tremaining: 4.63ms\n3:\tlearn: 0.0984607\ttotal: 2.87ms\tremaining: 4.31ms\n4:\tlearn: 0.0756334\ttotal: 3.55ms\tremaining: 3.55ms\n5:\tlearn: 0.0663346\ttotal: 4.17ms\tremaining: 2.78ms\n6:\tlearn: 0.0566139\ttotal: 4.96ms\tremaining: 2.13ms\n7:\tlearn: 0.0513714\ttotal: 5.87ms\tremaining: 1.47ms\n8:\tlearn: 0.0481000\ttotal: 6.77ms\tremaining: 752us\n9:\tlearn: 0.0459146\ttotal: 7.67ms\tremaining: 0us\naccuracy_score 0.9762658227848101\n\n5 of kfold 10\nLearning rate set to 0.5\n0:\tlearn: 0.3478405\ttotal: 644us\tremaining: 5.8ms\n1:\tlearn: 0.2117267\ttotal: 1.43ms\tremaining: 5.72ms\n2:\tlearn: 0.1392829\ttotal: 2.35ms\tremaining: 5.49ms\n3:\tlearn: 0.0997625\ttotal: 3.58ms\tremaining: 5.38ms\n4:\tlearn: 0.0765432\ttotal: 4.5ms\tremaining: 4.5ms\n5:\tlearn: 0.0630964\ttotal: 5.92ms\tremaining: 3.95ms\n6:\tlearn: 0.0555561\ttotal: 6.78ms\tremaining: 2.9ms\n7:\tlearn: 0.0506114\ttotal: 7.75ms\tremaining: 1.94ms\n8:\tlearn: 0.0483962\ttotal: 8.56ms\tremaining: 951us\n9:\tlearn: 0.0457690\ttotal: 9.71ms\tremaining: 0us\naccuracy_score 0.9810126582278481\n\n6 of kfold 10\nLearning rate set to 0.5\n0:\tlearn: 0.3464075\ttotal: 590us\tremaining: 5.32ms\n1:\tlearn: 0.2084441\ttotal: 1.31ms\tremaining: 5.26ms\n2:\tlearn: 0.1367889\ttotal: 2.11ms\tremaining: 4.92ms\n3:\tlearn: 0.0974502\ttotal: 3.14ms\tremaining: 4.71ms\n4:\tlearn: 0.0752237\ttotal: 4.45ms\tremaining: 4.45ms\n5:\tlearn: 0.0616161\ttotal: 5.26ms\tremaining: 3.51ms\n6:\tlearn: 0.0553140\ttotal: 5.9ms\tremaining: 2.53ms\n7:\tlearn: 0.0498513\ttotal: 6.61ms\tremaining: 1.65ms\n8:\tlearn: 0.0467111\ttotal: 7.19ms\tremaining: 799us\n9:\tlearn: 0.0445968\ttotal: 8.09ms\tremaining: 0us\n"
    },
    {
     "output_type": "execute_result",
     "execution_count": 18,
     "data": {
      "text/plain": "<catboost.core.CatBoostClassifier at 0x7fd4a9850550>"
     },
     "metadata": {},
     "text": "\n1 of kfold 10\nLearning rate set to 0.5\n0:\tlearn: 0.3476671\ttotal: 545us\tremaining: 4.91ms\n1:\tlearn: 0.2076876\ttotal: 1.36ms\tremaining: 5.46ms\n2:\tlearn: 0.1384547\ttotal: 2.09ms\tremaining: 4.88ms\n3:\tlearn: 0.0995232\ttotal: 3.03ms\tremaining: 4.55ms\n4:\tlearn: 0.0766651\ttotal: 3.71ms\tremaining: 3.71ms\n5:\tlearn: 0.0674327\ttotal: 4.2ms\tremaining: 2.8ms\n6:\tlearn: 0.0577529\ttotal: 4.86ms\tremaining: 2.08ms\n7:\tlearn: 0.0523203\ttotal: 6.05ms\tremaining: 1.51ms\n8:\tlearn: 0.0486847\ttotal: 7.05ms\tremaining: 783us\n9:\tlearn: 0.0466862\ttotal: 7.97ms\tremaining: 0us\naccuracy_score 0.9842022116903634\n\n2 of kfold 10\nLearning rate set to 0.5\n0:\tlearn: 0.3469997\ttotal: 520us\tremaining: 4.69ms\n1:\tlearn: 0.2100514\ttotal: 1.12ms\tremaining: 4.49ms\n2:\tlearn: 0.1379438\ttotal: 1.93ms\tremaining: 4.51ms\n3:\tlearn: 0.0984067\ttotal: 2.9ms\tremaining: 4.34ms\n4:\tlearn: 0.0750578\ttotal: 3.62ms\tremaining: 3.62ms\n5:\tlearn: 0.0616280\ttotal: 4.63ms\tremaining: 3.09ms\n6:\tlearn: 0.0540752\ttotal: 5.37ms\tremaining: 2.3ms\n7:\tlearn: 0.0498155\ttotal: 5.97ms\tremaining: 1.49ms\n8:\tlearn: 0.0464628\ttotal: 7.01ms\tremaining: 778us\n9:\tlearn: 0.0440871\ttotal: 7.98ms\tremaining: 0us\naccuracy_score 0.9810126582278481\n\n3 of kfold 10\nLearning rate set to 0.5\n0:\tlearn: 0.3478405\ttotal: 655us\tremaining: 5.9ms\n1:\tlearn: 0.2112958\ttotal: 1.46ms\tremaining: 5.83ms\n2:\tlearn: 0.1394828\ttotal: 2.21ms\tremaining: 5.16ms\n3:\tlearn: 0.1000388\ttotal: 3.25ms\tremaining: 4.87ms\n4:\tlearn: 0.0769205\ttotal: 3.9ms\tremaining: 3.9ms\n5:\tlearn: 0.0635283\ttotal: 4.82ms\tremaining: 3.21ms\n6:\tlearn: 0.0560208\ttotal: 5.51ms\tremaining: 2.36ms\n7:\tlearn: 0.0510461\ttotal: 6.24ms\tremaining: 1.56ms\n8:\tlearn: 0.0488171\ttotal: 6.89ms\tremaining: 765us\n9:\tlearn: 0.0467019\ttotal: 8.19ms\tremaining: 0us\naccuracy_score 0.990506329113924\n\n4 of kfold 10\nLearning rate set to 0.5\n0:\tlearn: 0.3466611\ttotal: 518us\tremaining: 4.67ms\n1:\tlearn: 0.2070033\ttotal: 1.28ms\tremaining: 5.11ms\n2:\tlearn: 0.1377290\ttotal: 1.98ms\tremaining: 4.63ms\n3:\tlearn: 0.0984607\ttotal: 2.87ms\tremaining: 4.31ms\n4:\tlearn: 0.0756334\ttotal: 3.55ms\tremaining: 3.55ms\n5:\tlearn: 0.0663346\ttotal: 4.17ms\tremaining: 2.78ms\n6:\tlearn: 0.0566139\ttotal: 4.96ms\tremaining: 2.13ms\n7:\tlearn: 0.0513714\ttotal: 5.87ms\tremaining: 1.47ms\n8:\tlearn: 0.0481000\ttotal: 6.77ms\tremaining: 752us\n9:\tlearn: 0.0459146\ttotal: 7.67ms\tremaining: 0us\naccuracy_score 0.9762658227848101\n\n5 of kfold 10\nLearning rate set to 0.5\n0:\tlearn: 0.3478405\ttotal: 644us\tremaining: 5.8ms\n1:\tlearn: 0.2117267\ttotal: 1.43ms\tremaining: 5.72ms\n2:\tlearn: 0.1392829\ttotal: 2.35ms\tremaining: 5.49ms\n3:\tlearn: 0.0997625\ttotal: 3.58ms\tremaining: 5.38ms\n4:\tlearn: 0.0765432\ttotal: 4.5ms\tremaining: 4.5ms\n5:\tlearn: 0.0630964\ttotal: 5.92ms\tremaining: 3.95ms\n6:\tlearn: 0.0555561\ttotal: 6.78ms\tremaining: 2.9ms\n7:\tlearn: 0.0506114\ttotal: 7.75ms\tremaining: 1.94ms\n8:\tlearn: 0.0483962\ttotal: 8.56ms\tremaining: 951us\n9:\tlearn: 0.0457690\ttotal: 9.71ms\tremaining: 0us\naccuracy_score 0.9810126582278481\n\n6 of kfold 10\nLearning rate set to 0.5\n0:\tlearn: 0.3464075\ttotal: 590us\tremaining: 5.32ms\n1:\tlearn: 0.2084441\ttotal: 1.31ms\tremaining: 5.26ms\n2:\tlearn: 0.1367889\ttotal: 2.11ms\tremaining: 4.92ms\n3:\tlearn: 0.0974502\ttotal: 3.14ms\tremaining: 4.71ms\n4:\tlearn: 0.0752237\ttotal: 4.45ms\tremaining: 4.45ms\n5:\tlearn: 0.0616161\ttotal: 5.26ms\tremaining: 3.51ms\n6:\tlearn: 0.0553140\ttotal: 5.9ms\tremaining: 2.53ms\n7:\tlearn: 0.0498513\ttotal: 6.61ms\tremaining: 1.65ms\n8:\tlearn: 0.0467111\ttotal: 7.19ms\tremaining: 799us\n9:\tlearn: 0.0445968\ttotal: 8.09ms\tremaining: 0us\naccuracy_score 0.9778481012658228\n\n7 of kfold 10\nLearning rate set to 0.5\n0:\tlearn: 0.3469884\ttotal: 674us\tremaining: 6.07ms\n1:\tlearn: 0.2056185\ttotal: 1.67ms\tremaining: 6.69ms\n2:\tlearn: 0.1360202\ttotal: 2.62ms\tremaining: 6.12ms\n3:\tlearn: 0.0971077\ttotal: 3.79ms\tremaining: 5.69ms\n4:\tlearn: 0.0741224\ttotal: 4.65ms\tremaining: 4.65ms\n5:\tlearn: 0.0647456\ttotal: 5.24ms\tremaining: 3.5ms\n6:\tlearn: 0.0551218\ttotal: 6.21ms\tremaining: 2.66ms\n7:\tlearn: 0.0496666\ttotal: 7.18ms\tremaining: 1.8ms\n8:\tlearn: 0.0461647\ttotal: 8.39ms\tremaining: 931us\n9:\tlearn: 0.0441526\ttotal: 9.59ms\tremaining: 0us\n"
    },
    {
     "output_type": "execute_result",
     "execution_count": 18,
     "data": {
      "text/plain": "<catboost.core.CatBoostClassifier at 0x7fd4a6705880>"
     },
     "metadata": {},
     "text": "\n1 of kfold 10\nLearning rate set to 0.5\n0:\tlearn: 0.3476671\ttotal: 545us\tremaining: 4.91ms\n1:\tlearn: 0.2076876\ttotal: 1.36ms\tremaining: 5.46ms\n2:\tlearn: 0.1384547\ttotal: 2.09ms\tremaining: 4.88ms\n3:\tlearn: 0.0995232\ttotal: 3.03ms\tremaining: 4.55ms\n4:\tlearn: 0.0766651\ttotal: 3.71ms\tremaining: 3.71ms\n5:\tlearn: 0.0674327\ttotal: 4.2ms\tremaining: 2.8ms\n6:\tlearn: 0.0577529\ttotal: 4.86ms\tremaining: 2.08ms\n7:\tlearn: 0.0523203\ttotal: 6.05ms\tremaining: 1.51ms\n8:\tlearn: 0.0486847\ttotal: 7.05ms\tremaining: 783us\n9:\tlearn: 0.0466862\ttotal: 7.97ms\tremaining: 0us\naccuracy_score 0.9842022116903634\n\n2 of kfold 10\nLearning rate set to 0.5\n0:\tlearn: 0.3469997\ttotal: 520us\tremaining: 4.69ms\n1:\tlearn: 0.2100514\ttotal: 1.12ms\tremaining: 4.49ms\n2:\tlearn: 0.1379438\ttotal: 1.93ms\tremaining: 4.51ms\n3:\tlearn: 0.0984067\ttotal: 2.9ms\tremaining: 4.34ms\n4:\tlearn: 0.0750578\ttotal: 3.62ms\tremaining: 3.62ms\n5:\tlearn: 0.0616280\ttotal: 4.63ms\tremaining: 3.09ms\n6:\tlearn: 0.0540752\ttotal: 5.37ms\tremaining: 2.3ms\n7:\tlearn: 0.0498155\ttotal: 5.97ms\tremaining: 1.49ms\n8:\tlearn: 0.0464628\ttotal: 7.01ms\tremaining: 778us\n9:\tlearn: 0.0440871\ttotal: 7.98ms\tremaining: 0us\naccuracy_score 0.9810126582278481\n\n3 of kfold 10\nLearning rate set to 0.5\n0:\tlearn: 0.3478405\ttotal: 655us\tremaining: 5.9ms\n1:\tlearn: 0.2112958\ttotal: 1.46ms\tremaining: 5.83ms\n2:\tlearn: 0.1394828\ttotal: 2.21ms\tremaining: 5.16ms\n3:\tlearn: 0.1000388\ttotal: 3.25ms\tremaining: 4.87ms\n4:\tlearn: 0.0769205\ttotal: 3.9ms\tremaining: 3.9ms\n5:\tlearn: 0.0635283\ttotal: 4.82ms\tremaining: 3.21ms\n6:\tlearn: 0.0560208\ttotal: 5.51ms\tremaining: 2.36ms\n7:\tlearn: 0.0510461\ttotal: 6.24ms\tremaining: 1.56ms\n8:\tlearn: 0.0488171\ttotal: 6.89ms\tremaining: 765us\n9:\tlearn: 0.0467019\ttotal: 8.19ms\tremaining: 0us\naccuracy_score 0.990506329113924\n\n4 of kfold 10\nLearning rate set to 0.5\n0:\tlearn: 0.3466611\ttotal: 518us\tremaining: 4.67ms\n1:\tlearn: 0.2070033\ttotal: 1.28ms\tremaining: 5.11ms\n2:\tlearn: 0.1377290\ttotal: 1.98ms\tremaining: 4.63ms\n3:\tlearn: 0.0984607\ttotal: 2.87ms\tremaining: 4.31ms\n4:\tlearn: 0.0756334\ttotal: 3.55ms\tremaining: 3.55ms\n5:\tlearn: 0.0663346\ttotal: 4.17ms\tremaining: 2.78ms\n6:\tlearn: 0.0566139\ttotal: 4.96ms\tremaining: 2.13ms\n7:\tlearn: 0.0513714\ttotal: 5.87ms\tremaining: 1.47ms\n8:\tlearn: 0.0481000\ttotal: 6.77ms\tremaining: 752us\n9:\tlearn: 0.0459146\ttotal: 7.67ms\tremaining: 0us\naccuracy_score 0.9762658227848101\n\n5 of kfold 10\nLearning rate set to 0.5\n0:\tlearn: 0.3478405\ttotal: 644us\tremaining: 5.8ms\n1:\tlearn: 0.2117267\ttotal: 1.43ms\tremaining: 5.72ms\n2:\tlearn: 0.1392829\ttotal: 2.35ms\tremaining: 5.49ms\n3:\tlearn: 0.0997625\ttotal: 3.58ms\tremaining: 5.38ms\n4:\tlearn: 0.0765432\ttotal: 4.5ms\tremaining: 4.5ms\n5:\tlearn: 0.0630964\ttotal: 5.92ms\tremaining: 3.95ms\n6:\tlearn: 0.0555561\ttotal: 6.78ms\tremaining: 2.9ms\n7:\tlearn: 0.0506114\ttotal: 7.75ms\tremaining: 1.94ms\n8:\tlearn: 0.0483962\ttotal: 8.56ms\tremaining: 951us\n9:\tlearn: 0.0457690\ttotal: 9.71ms\tremaining: 0us\naccuracy_score 0.9810126582278481\n\n6 of kfold 10\nLearning rate set to 0.5\n0:\tlearn: 0.3464075\ttotal: 590us\tremaining: 5.32ms\n1:\tlearn: 0.2084441\ttotal: 1.31ms\tremaining: 5.26ms\n2:\tlearn: 0.1367889\ttotal: 2.11ms\tremaining: 4.92ms\n3:\tlearn: 0.0974502\ttotal: 3.14ms\tremaining: 4.71ms\n4:\tlearn: 0.0752237\ttotal: 4.45ms\tremaining: 4.45ms\n5:\tlearn: 0.0616161\ttotal: 5.26ms\tremaining: 3.51ms\n6:\tlearn: 0.0553140\ttotal: 5.9ms\tremaining: 2.53ms\n7:\tlearn: 0.0498513\ttotal: 6.61ms\tremaining: 1.65ms\n8:\tlearn: 0.0467111\ttotal: 7.19ms\tremaining: 799us\n9:\tlearn: 0.0445968\ttotal: 8.09ms\tremaining: 0us\naccuracy_score 0.9778481012658228\n\n7 of kfold 10\nLearning rate set to 0.5\n0:\tlearn: 0.3469884\ttotal: 674us\tremaining: 6.07ms\n1:\tlearn: 0.2056185\ttotal: 1.67ms\tremaining: 6.69ms\n2:\tlearn: 0.1360202\ttotal: 2.62ms\tremaining: 6.12ms\n3:\tlearn: 0.0971077\ttotal: 3.79ms\tremaining: 5.69ms\n4:\tlearn: 0.0741224\ttotal: 4.65ms\tremaining: 4.65ms\n5:\tlearn: 0.0647456\ttotal: 5.24ms\tremaining: 3.5ms\n6:\tlearn: 0.0551218\ttotal: 6.21ms\tremaining: 2.66ms\n7:\tlearn: 0.0496666\ttotal: 7.18ms\tremaining: 1.8ms\n8:\tlearn: 0.0461647\ttotal: 8.39ms\tremaining: 931us\n9:\tlearn: 0.0441526\ttotal: 9.59ms\tremaining: 0us\naccuracy_score 0.9746835443037974\n\n8 of kfold 10\nLearning rate set to 0.5\n0:\tlearn: 0.3472438\ttotal: 473us\tremaining: 4.26ms\n1:\tlearn: 0.2090932\ttotal: 1.1ms\tremaining: 4.41ms\n2:\tlearn: 0.1376807\ttotal: 1.83ms\tremaining: 4.27ms\n3:\tlearn: 0.0981830\ttotal: 2.73ms\tremaining: 4.09ms\n4:\tlearn: 0.0754283\ttotal: 4.16ms\tremaining: 4.16ms\n5:\tlearn: 0.0618139\ttotal: 5.05ms\tremaining: 3.37ms\n6:\tlearn: 0.0542213\ttotal: 6.17ms\tremaining: 2.65ms\n7:\tlearn: 0.0495012\ttotal: 7.1ms\tremaining: 1.77ms\n8:\tlearn: 0.0477087\ttotal: 7.58ms\tremaining: 842us\n9:\tlearn: 0.0454260\ttotal: 8.45ms\tremaining: 0us\n"
    },
    {
     "output_type": "execute_result",
     "execution_count": 18,
     "data": {
      "text/plain": "<catboost.core.CatBoostClassifier at 0x7fd4a9f4e1f0>"
     },
     "metadata": {},
     "text": "\n1 of kfold 10\nLearning rate set to 0.5\n0:\tlearn: 0.3476671\ttotal: 545us\tremaining: 4.91ms\n1:\tlearn: 0.2076876\ttotal: 1.36ms\tremaining: 5.46ms\n2:\tlearn: 0.1384547\ttotal: 2.09ms\tremaining: 4.88ms\n3:\tlearn: 0.0995232\ttotal: 3.03ms\tremaining: 4.55ms\n4:\tlearn: 0.0766651\ttotal: 3.71ms\tremaining: 3.71ms\n5:\tlearn: 0.0674327\ttotal: 4.2ms\tremaining: 2.8ms\n6:\tlearn: 0.0577529\ttotal: 4.86ms\tremaining: 2.08ms\n7:\tlearn: 0.0523203\ttotal: 6.05ms\tremaining: 1.51ms\n8:\tlearn: 0.0486847\ttotal: 7.05ms\tremaining: 783us\n9:\tlearn: 0.0466862\ttotal: 7.97ms\tremaining: 0us\naccuracy_score 0.9842022116903634\n\n2 of kfold 10\nLearning rate set to 0.5\n0:\tlearn: 0.3469997\ttotal: 520us\tremaining: 4.69ms\n1:\tlearn: 0.2100514\ttotal: 1.12ms\tremaining: 4.49ms\n2:\tlearn: 0.1379438\ttotal: 1.93ms\tremaining: 4.51ms\n3:\tlearn: 0.0984067\ttotal: 2.9ms\tremaining: 4.34ms\n4:\tlearn: 0.0750578\ttotal: 3.62ms\tremaining: 3.62ms\n5:\tlearn: 0.0616280\ttotal: 4.63ms\tremaining: 3.09ms\n6:\tlearn: 0.0540752\ttotal: 5.37ms\tremaining: 2.3ms\n7:\tlearn: 0.0498155\ttotal: 5.97ms\tremaining: 1.49ms\n8:\tlearn: 0.0464628\ttotal: 7.01ms\tremaining: 778us\n9:\tlearn: 0.0440871\ttotal: 7.98ms\tremaining: 0us\naccuracy_score 0.9810126582278481\n\n3 of kfold 10\nLearning rate set to 0.5\n0:\tlearn: 0.3478405\ttotal: 655us\tremaining: 5.9ms\n1:\tlearn: 0.2112958\ttotal: 1.46ms\tremaining: 5.83ms\n2:\tlearn: 0.1394828\ttotal: 2.21ms\tremaining: 5.16ms\n3:\tlearn: 0.1000388\ttotal: 3.25ms\tremaining: 4.87ms\n4:\tlearn: 0.0769205\ttotal: 3.9ms\tremaining: 3.9ms\n5:\tlearn: 0.0635283\ttotal: 4.82ms\tremaining: 3.21ms\n6:\tlearn: 0.0560208\ttotal: 5.51ms\tremaining: 2.36ms\n7:\tlearn: 0.0510461\ttotal: 6.24ms\tremaining: 1.56ms\n8:\tlearn: 0.0488171\ttotal: 6.89ms\tremaining: 765us\n9:\tlearn: 0.0467019\ttotal: 8.19ms\tremaining: 0us\naccuracy_score 0.990506329113924\n\n4 of kfold 10\nLearning rate set to 0.5\n0:\tlearn: 0.3466611\ttotal: 518us\tremaining: 4.67ms\n1:\tlearn: 0.2070033\ttotal: 1.28ms\tremaining: 5.11ms\n2:\tlearn: 0.1377290\ttotal: 1.98ms\tremaining: 4.63ms\n3:\tlearn: 0.0984607\ttotal: 2.87ms\tremaining: 4.31ms\n4:\tlearn: 0.0756334\ttotal: 3.55ms\tremaining: 3.55ms\n5:\tlearn: 0.0663346\ttotal: 4.17ms\tremaining: 2.78ms\n6:\tlearn: 0.0566139\ttotal: 4.96ms\tremaining: 2.13ms\n7:\tlearn: 0.0513714\ttotal: 5.87ms\tremaining: 1.47ms\n8:\tlearn: 0.0481000\ttotal: 6.77ms\tremaining: 752us\n9:\tlearn: 0.0459146\ttotal: 7.67ms\tremaining: 0us\naccuracy_score 0.9762658227848101\n\n5 of kfold 10\nLearning rate set to 0.5\n0:\tlearn: 0.3478405\ttotal: 644us\tremaining: 5.8ms\n1:\tlearn: 0.2117267\ttotal: 1.43ms\tremaining: 5.72ms\n2:\tlearn: 0.1392829\ttotal: 2.35ms\tremaining: 5.49ms\n3:\tlearn: 0.0997625\ttotal: 3.58ms\tremaining: 5.38ms\n4:\tlearn: 0.0765432\ttotal: 4.5ms\tremaining: 4.5ms\n5:\tlearn: 0.0630964\ttotal: 5.92ms\tremaining: 3.95ms\n6:\tlearn: 0.0555561\ttotal: 6.78ms\tremaining: 2.9ms\n7:\tlearn: 0.0506114\ttotal: 7.75ms\tremaining: 1.94ms\n8:\tlearn: 0.0483962\ttotal: 8.56ms\tremaining: 951us\n9:\tlearn: 0.0457690\ttotal: 9.71ms\tremaining: 0us\naccuracy_score 0.9810126582278481\n\n6 of kfold 10\nLearning rate set to 0.5\n0:\tlearn: 0.3464075\ttotal: 590us\tremaining: 5.32ms\n1:\tlearn: 0.2084441\ttotal: 1.31ms\tremaining: 5.26ms\n2:\tlearn: 0.1367889\ttotal: 2.11ms\tremaining: 4.92ms\n3:\tlearn: 0.0974502\ttotal: 3.14ms\tremaining: 4.71ms\n4:\tlearn: 0.0752237\ttotal: 4.45ms\tremaining: 4.45ms\n5:\tlearn: 0.0616161\ttotal: 5.26ms\tremaining: 3.51ms\n6:\tlearn: 0.0553140\ttotal: 5.9ms\tremaining: 2.53ms\n7:\tlearn: 0.0498513\ttotal: 6.61ms\tremaining: 1.65ms\n8:\tlearn: 0.0467111\ttotal: 7.19ms\tremaining: 799us\n9:\tlearn: 0.0445968\ttotal: 8.09ms\tremaining: 0us\naccuracy_score 0.9778481012658228\n\n7 of kfold 10\nLearning rate set to 0.5\n0:\tlearn: 0.3469884\ttotal: 674us\tremaining: 6.07ms\n1:\tlearn: 0.2056185\ttotal: 1.67ms\tremaining: 6.69ms\n2:\tlearn: 0.1360202\ttotal: 2.62ms\tremaining: 6.12ms\n3:\tlearn: 0.0971077\ttotal: 3.79ms\tremaining: 5.69ms\n4:\tlearn: 0.0741224\ttotal: 4.65ms\tremaining: 4.65ms\n5:\tlearn: 0.0647456\ttotal: 5.24ms\tremaining: 3.5ms\n6:\tlearn: 0.0551218\ttotal: 6.21ms\tremaining: 2.66ms\n7:\tlearn: 0.0496666\ttotal: 7.18ms\tremaining: 1.8ms\n8:\tlearn: 0.0461647\ttotal: 8.39ms\tremaining: 931us\n9:\tlearn: 0.0441526\ttotal: 9.59ms\tremaining: 0us\naccuracy_score 0.9746835443037974\n\n8 of kfold 10\nLearning rate set to 0.5\n0:\tlearn: 0.3472438\ttotal: 473us\tremaining: 4.26ms\n1:\tlearn: 0.2090932\ttotal: 1.1ms\tremaining: 4.41ms\n2:\tlearn: 0.1376807\ttotal: 1.83ms\tremaining: 4.27ms\n3:\tlearn: 0.0981830\ttotal: 2.73ms\tremaining: 4.09ms\n4:\tlearn: 0.0754283\ttotal: 4.16ms\tremaining: 4.16ms\n5:\tlearn: 0.0618139\ttotal: 5.05ms\tremaining: 3.37ms\n6:\tlearn: 0.0542213\ttotal: 6.17ms\tremaining: 2.65ms\n7:\tlearn: 0.0495012\ttotal: 7.1ms\tremaining: 1.77ms\n8:\tlearn: 0.0477087\ttotal: 7.58ms\tremaining: 842us\n9:\tlearn: 0.0454260\ttotal: 8.45ms\tremaining: 0us\naccuracy_score 0.9794303797468354\n\n9 of kfold 10\nLearning rate set to 0.5\n0:\tlearn: 0.3473258\ttotal: 768us\tremaining: 6.92ms\n1:\tlearn: 0.2107848\ttotal: 1.6ms\tremaining: 6.42ms\n2:\tlearn: 0.1375759\ttotal: 2.62ms\tremaining: 6.12ms\n3:\tlearn: 0.0984803\ttotal: 3.8ms\tremaining: 5.7ms\n4:\tlearn: 0.0753111\ttotal: 4.69ms\tremaining: 4.69ms\n5:\tlearn: 0.0618355\ttotal: 5.61ms\tremaining: 3.74ms\n6:\tlearn: 0.0543184\ttotal: 6.26ms\tremaining: 2.68ms\n7:\tlearn: 0.0495681\ttotal: 7.13ms\tremaining: 1.78ms\n8:\tlearn: 0.0466365\ttotal: 8.03ms\tremaining: 892us\n9:\tlearn: 0.0443258\ttotal: 9.33ms\tremaining: 0us\n"
    },
    {
     "output_type": "execute_result",
     "execution_count": 18,
     "data": {
      "text/plain": "<catboost.core.CatBoostClassifier at 0x7fd4a99adfa0>"
     },
     "metadata": {},
     "text": "\n1 of kfold 10\nLearning rate set to 0.5\n0:\tlearn: 0.3476671\ttotal: 545us\tremaining: 4.91ms\n1:\tlearn: 0.2076876\ttotal: 1.36ms\tremaining: 5.46ms\n2:\tlearn: 0.1384547\ttotal: 2.09ms\tremaining: 4.88ms\n3:\tlearn: 0.0995232\ttotal: 3.03ms\tremaining: 4.55ms\n4:\tlearn: 0.0766651\ttotal: 3.71ms\tremaining: 3.71ms\n5:\tlearn: 0.0674327\ttotal: 4.2ms\tremaining: 2.8ms\n6:\tlearn: 0.0577529\ttotal: 4.86ms\tremaining: 2.08ms\n7:\tlearn: 0.0523203\ttotal: 6.05ms\tremaining: 1.51ms\n8:\tlearn: 0.0486847\ttotal: 7.05ms\tremaining: 783us\n9:\tlearn: 0.0466862\ttotal: 7.97ms\tremaining: 0us\naccuracy_score 0.9842022116903634\n\n2 of kfold 10\nLearning rate set to 0.5\n0:\tlearn: 0.3469997\ttotal: 520us\tremaining: 4.69ms\n1:\tlearn: 0.2100514\ttotal: 1.12ms\tremaining: 4.49ms\n2:\tlearn: 0.1379438\ttotal: 1.93ms\tremaining: 4.51ms\n3:\tlearn: 0.0984067\ttotal: 2.9ms\tremaining: 4.34ms\n4:\tlearn: 0.0750578\ttotal: 3.62ms\tremaining: 3.62ms\n5:\tlearn: 0.0616280\ttotal: 4.63ms\tremaining: 3.09ms\n6:\tlearn: 0.0540752\ttotal: 5.37ms\tremaining: 2.3ms\n7:\tlearn: 0.0498155\ttotal: 5.97ms\tremaining: 1.49ms\n8:\tlearn: 0.0464628\ttotal: 7.01ms\tremaining: 778us\n9:\tlearn: 0.0440871\ttotal: 7.98ms\tremaining: 0us\naccuracy_score 0.9810126582278481\n\n3 of kfold 10\nLearning rate set to 0.5\n0:\tlearn: 0.3478405\ttotal: 655us\tremaining: 5.9ms\n1:\tlearn: 0.2112958\ttotal: 1.46ms\tremaining: 5.83ms\n2:\tlearn: 0.1394828\ttotal: 2.21ms\tremaining: 5.16ms\n3:\tlearn: 0.1000388\ttotal: 3.25ms\tremaining: 4.87ms\n4:\tlearn: 0.0769205\ttotal: 3.9ms\tremaining: 3.9ms\n5:\tlearn: 0.0635283\ttotal: 4.82ms\tremaining: 3.21ms\n6:\tlearn: 0.0560208\ttotal: 5.51ms\tremaining: 2.36ms\n7:\tlearn: 0.0510461\ttotal: 6.24ms\tremaining: 1.56ms\n8:\tlearn: 0.0488171\ttotal: 6.89ms\tremaining: 765us\n9:\tlearn: 0.0467019\ttotal: 8.19ms\tremaining: 0us\naccuracy_score 0.990506329113924\n\n4 of kfold 10\nLearning rate set to 0.5\n0:\tlearn: 0.3466611\ttotal: 518us\tremaining: 4.67ms\n1:\tlearn: 0.2070033\ttotal: 1.28ms\tremaining: 5.11ms\n2:\tlearn: 0.1377290\ttotal: 1.98ms\tremaining: 4.63ms\n3:\tlearn: 0.0984607\ttotal: 2.87ms\tremaining: 4.31ms\n4:\tlearn: 0.0756334\ttotal: 3.55ms\tremaining: 3.55ms\n5:\tlearn: 0.0663346\ttotal: 4.17ms\tremaining: 2.78ms\n6:\tlearn: 0.0566139\ttotal: 4.96ms\tremaining: 2.13ms\n7:\tlearn: 0.0513714\ttotal: 5.87ms\tremaining: 1.47ms\n8:\tlearn: 0.0481000\ttotal: 6.77ms\tremaining: 752us\n9:\tlearn: 0.0459146\ttotal: 7.67ms\tremaining: 0us\naccuracy_score 0.9762658227848101\n\n5 of kfold 10\nLearning rate set to 0.5\n0:\tlearn: 0.3478405\ttotal: 644us\tremaining: 5.8ms\n1:\tlearn: 0.2117267\ttotal: 1.43ms\tremaining: 5.72ms\n2:\tlearn: 0.1392829\ttotal: 2.35ms\tremaining: 5.49ms\n3:\tlearn: 0.0997625\ttotal: 3.58ms\tremaining: 5.38ms\n4:\tlearn: 0.0765432\ttotal: 4.5ms\tremaining: 4.5ms\n5:\tlearn: 0.0630964\ttotal: 5.92ms\tremaining: 3.95ms\n6:\tlearn: 0.0555561\ttotal: 6.78ms\tremaining: 2.9ms\n7:\tlearn: 0.0506114\ttotal: 7.75ms\tremaining: 1.94ms\n8:\tlearn: 0.0483962\ttotal: 8.56ms\tremaining: 951us\n9:\tlearn: 0.0457690\ttotal: 9.71ms\tremaining: 0us\naccuracy_score 0.9810126582278481\n\n6 of kfold 10\nLearning rate set to 0.5\n0:\tlearn: 0.3464075\ttotal: 590us\tremaining: 5.32ms\n1:\tlearn: 0.2084441\ttotal: 1.31ms\tremaining: 5.26ms\n2:\tlearn: 0.1367889\ttotal: 2.11ms\tremaining: 4.92ms\n3:\tlearn: 0.0974502\ttotal: 3.14ms\tremaining: 4.71ms\n4:\tlearn: 0.0752237\ttotal: 4.45ms\tremaining: 4.45ms\n5:\tlearn: 0.0616161\ttotal: 5.26ms\tremaining: 3.51ms\n6:\tlearn: 0.0553140\ttotal: 5.9ms\tremaining: 2.53ms\n7:\tlearn: 0.0498513\ttotal: 6.61ms\tremaining: 1.65ms\n8:\tlearn: 0.0467111\ttotal: 7.19ms\tremaining: 799us\n9:\tlearn: 0.0445968\ttotal: 8.09ms\tremaining: 0us\naccuracy_score 0.9778481012658228\n\n7 of kfold 10\nLearning rate set to 0.5\n0:\tlearn: 0.3469884\ttotal: 674us\tremaining: 6.07ms\n1:\tlearn: 0.2056185\ttotal: 1.67ms\tremaining: 6.69ms\n2:\tlearn: 0.1360202\ttotal: 2.62ms\tremaining: 6.12ms\n3:\tlearn: 0.0971077\ttotal: 3.79ms\tremaining: 5.69ms\n4:\tlearn: 0.0741224\ttotal: 4.65ms\tremaining: 4.65ms\n5:\tlearn: 0.0647456\ttotal: 5.24ms\tremaining: 3.5ms\n6:\tlearn: 0.0551218\ttotal: 6.21ms\tremaining: 2.66ms\n7:\tlearn: 0.0496666\ttotal: 7.18ms\tremaining: 1.8ms\n8:\tlearn: 0.0461647\ttotal: 8.39ms\tremaining: 931us\n9:\tlearn: 0.0441526\ttotal: 9.59ms\tremaining: 0us\naccuracy_score 0.9746835443037974\n\n8 of kfold 10\nLearning rate set to 0.5\n0:\tlearn: 0.3472438\ttotal: 473us\tremaining: 4.26ms\n1:\tlearn: 0.2090932\ttotal: 1.1ms\tremaining: 4.41ms\n2:\tlearn: 0.1376807\ttotal: 1.83ms\tremaining: 4.27ms\n3:\tlearn: 0.0981830\ttotal: 2.73ms\tremaining: 4.09ms\n4:\tlearn: 0.0754283\ttotal: 4.16ms\tremaining: 4.16ms\n5:\tlearn: 0.0618139\ttotal: 5.05ms\tremaining: 3.37ms\n6:\tlearn: 0.0542213\ttotal: 6.17ms\tremaining: 2.65ms\n7:\tlearn: 0.0495012\ttotal: 7.1ms\tremaining: 1.77ms\n8:\tlearn: 0.0477087\ttotal: 7.58ms\tremaining: 842us\n9:\tlearn: 0.0454260\ttotal: 8.45ms\tremaining: 0us\naccuracy_score 0.9794303797468354\n\n9 of kfold 10\nLearning rate set to 0.5\n0:\tlearn: 0.3473258\ttotal: 768us\tremaining: 6.92ms\n1:\tlearn: 0.2107848\ttotal: 1.6ms\tremaining: 6.42ms\n2:\tlearn: 0.1375759\ttotal: 2.62ms\tremaining: 6.12ms\n3:\tlearn: 0.0984803\ttotal: 3.8ms\tremaining: 5.7ms\n4:\tlearn: 0.0753111\ttotal: 4.69ms\tremaining: 4.69ms\n5:\tlearn: 0.0618355\ttotal: 5.61ms\tremaining: 3.74ms\n6:\tlearn: 0.0543184\ttotal: 6.26ms\tremaining: 2.68ms\n7:\tlearn: 0.0495681\ttotal: 7.13ms\tremaining: 1.78ms\n8:\tlearn: 0.0466365\ttotal: 8.03ms\tremaining: 892us\n9:\tlearn: 0.0443258\ttotal: 9.33ms\tremaining: 0us\naccuracy_score 0.9810126582278481\n\n10 of kfold 10\nLearning rate set to 0.5\n0:\tlearn: 0.3478290\ttotal: 746us\tremaining: 6.72ms\n1:\tlearn: 0.2078865\ttotal: 1.76ms\tremaining: 7.06ms\n2:\tlearn: 0.1387113\ttotal: 2.54ms\tremaining: 5.94ms\n3:\tlearn: 0.0997107\ttotal: 3.46ms\tremaining: 5.19ms\n4:\tlearn: 0.0766691\ttotal: 4.15ms\tremaining: 4.15ms\n5:\tlearn: 0.0674722\ttotal: 4.67ms\tremaining: 3.12ms\n6:\tlearn: 0.0576652\ttotal: 5.2ms\tremaining: 2.23ms\n7:\tlearn: 0.0521365\ttotal: 6.07ms\tremaining: 1.52ms\n8:\tlearn: 0.0488698\ttotal: 6.83ms\tremaining: 759us\n9:\tlearn: 0.0467575\ttotal: 7.66ms\tremaining: 0us\n"
    },
    {
     "output_type": "execute_result",
     "execution_count": 18,
     "data": {
      "text/plain": "<catboost.core.CatBoostClassifier at 0x7fd4a99adf70>"
     },
     "metadata": {},
     "text": "\n1 of kfold 10\nLearning rate set to 0.5\n0:\tlearn: 0.3476671\ttotal: 545us\tremaining: 4.91ms\n1:\tlearn: 0.2076876\ttotal: 1.36ms\tremaining: 5.46ms\n2:\tlearn: 0.1384547\ttotal: 2.09ms\tremaining: 4.88ms\n3:\tlearn: 0.0995232\ttotal: 3.03ms\tremaining: 4.55ms\n4:\tlearn: 0.0766651\ttotal: 3.71ms\tremaining: 3.71ms\n5:\tlearn: 0.0674327\ttotal: 4.2ms\tremaining: 2.8ms\n6:\tlearn: 0.0577529\ttotal: 4.86ms\tremaining: 2.08ms\n7:\tlearn: 0.0523203\ttotal: 6.05ms\tremaining: 1.51ms\n8:\tlearn: 0.0486847\ttotal: 7.05ms\tremaining: 783us\n9:\tlearn: 0.0466862\ttotal: 7.97ms\tremaining: 0us\naccuracy_score 0.9842022116903634\n\n2 of kfold 10\nLearning rate set to 0.5\n0:\tlearn: 0.3469997\ttotal: 520us\tremaining: 4.69ms\n1:\tlearn: 0.2100514\ttotal: 1.12ms\tremaining: 4.49ms\n2:\tlearn: 0.1379438\ttotal: 1.93ms\tremaining: 4.51ms\n3:\tlearn: 0.0984067\ttotal: 2.9ms\tremaining: 4.34ms\n4:\tlearn: 0.0750578\ttotal: 3.62ms\tremaining: 3.62ms\n5:\tlearn: 0.0616280\ttotal: 4.63ms\tremaining: 3.09ms\n6:\tlearn: 0.0540752\ttotal: 5.37ms\tremaining: 2.3ms\n7:\tlearn: 0.0498155\ttotal: 5.97ms\tremaining: 1.49ms\n8:\tlearn: 0.0464628\ttotal: 7.01ms\tremaining: 778us\n9:\tlearn: 0.0440871\ttotal: 7.98ms\tremaining: 0us\naccuracy_score 0.9810126582278481\n\n3 of kfold 10\nLearning rate set to 0.5\n0:\tlearn: 0.3478405\ttotal: 655us\tremaining: 5.9ms\n1:\tlearn: 0.2112958\ttotal: 1.46ms\tremaining: 5.83ms\n2:\tlearn: 0.1394828\ttotal: 2.21ms\tremaining: 5.16ms\n3:\tlearn: 0.1000388\ttotal: 3.25ms\tremaining: 4.87ms\n4:\tlearn: 0.0769205\ttotal: 3.9ms\tremaining: 3.9ms\n5:\tlearn: 0.0635283\ttotal: 4.82ms\tremaining: 3.21ms\n6:\tlearn: 0.0560208\ttotal: 5.51ms\tremaining: 2.36ms\n7:\tlearn: 0.0510461\ttotal: 6.24ms\tremaining: 1.56ms\n8:\tlearn: 0.0488171\ttotal: 6.89ms\tremaining: 765us\n9:\tlearn: 0.0467019\ttotal: 8.19ms\tremaining: 0us\naccuracy_score 0.990506329113924\n\n4 of kfold 10\nLearning rate set to 0.5\n0:\tlearn: 0.3466611\ttotal: 518us\tremaining: 4.67ms\n1:\tlearn: 0.2070033\ttotal: 1.28ms\tremaining: 5.11ms\n2:\tlearn: 0.1377290\ttotal: 1.98ms\tremaining: 4.63ms\n3:\tlearn: 0.0984607\ttotal: 2.87ms\tremaining: 4.31ms\n4:\tlearn: 0.0756334\ttotal: 3.55ms\tremaining: 3.55ms\n5:\tlearn: 0.0663346\ttotal: 4.17ms\tremaining: 2.78ms\n6:\tlearn: 0.0566139\ttotal: 4.96ms\tremaining: 2.13ms\n7:\tlearn: 0.0513714\ttotal: 5.87ms\tremaining: 1.47ms\n8:\tlearn: 0.0481000\ttotal: 6.77ms\tremaining: 752us\n9:\tlearn: 0.0459146\ttotal: 7.67ms\tremaining: 0us\naccuracy_score 0.9762658227848101\n\n5 of kfold 10\nLearning rate set to 0.5\n0:\tlearn: 0.3478405\ttotal: 644us\tremaining: 5.8ms\n1:\tlearn: 0.2117267\ttotal: 1.43ms\tremaining: 5.72ms\n2:\tlearn: 0.1392829\ttotal: 2.35ms\tremaining: 5.49ms\n3:\tlearn: 0.0997625\ttotal: 3.58ms\tremaining: 5.38ms\n4:\tlearn: 0.0765432\ttotal: 4.5ms\tremaining: 4.5ms\n5:\tlearn: 0.0630964\ttotal: 5.92ms\tremaining: 3.95ms\n6:\tlearn: 0.0555561\ttotal: 6.78ms\tremaining: 2.9ms\n7:\tlearn: 0.0506114\ttotal: 7.75ms\tremaining: 1.94ms\n8:\tlearn: 0.0483962\ttotal: 8.56ms\tremaining: 951us\n9:\tlearn: 0.0457690\ttotal: 9.71ms\tremaining: 0us\naccuracy_score 0.9810126582278481\n\n6 of kfold 10\nLearning rate set to 0.5\n0:\tlearn: 0.3464075\ttotal: 590us\tremaining: 5.32ms\n1:\tlearn: 0.2084441\ttotal: 1.31ms\tremaining: 5.26ms\n2:\tlearn: 0.1367889\ttotal: 2.11ms\tremaining: 4.92ms\n3:\tlearn: 0.0974502\ttotal: 3.14ms\tremaining: 4.71ms\n4:\tlearn: 0.0752237\ttotal: 4.45ms\tremaining: 4.45ms\n5:\tlearn: 0.0616161\ttotal: 5.26ms\tremaining: 3.51ms\n6:\tlearn: 0.0553140\ttotal: 5.9ms\tremaining: 2.53ms\n7:\tlearn: 0.0498513\ttotal: 6.61ms\tremaining: 1.65ms\n8:\tlearn: 0.0467111\ttotal: 7.19ms\tremaining: 799us\n9:\tlearn: 0.0445968\ttotal: 8.09ms\tremaining: 0us\naccuracy_score 0.9778481012658228\n\n7 of kfold 10\nLearning rate set to 0.5\n0:\tlearn: 0.3469884\ttotal: 674us\tremaining: 6.07ms\n1:\tlearn: 0.2056185\ttotal: 1.67ms\tremaining: 6.69ms\n2:\tlearn: 0.1360202\ttotal: 2.62ms\tremaining: 6.12ms\n3:\tlearn: 0.0971077\ttotal: 3.79ms\tremaining: 5.69ms\n4:\tlearn: 0.0741224\ttotal: 4.65ms\tremaining: 4.65ms\n5:\tlearn: 0.0647456\ttotal: 5.24ms\tremaining: 3.5ms\n6:\tlearn: 0.0551218\ttotal: 6.21ms\tremaining: 2.66ms\n7:\tlearn: 0.0496666\ttotal: 7.18ms\tremaining: 1.8ms\n8:\tlearn: 0.0461647\ttotal: 8.39ms\tremaining: 931us\n9:\tlearn: 0.0441526\ttotal: 9.59ms\tremaining: 0us\naccuracy_score 0.9746835443037974\n\n8 of kfold 10\nLearning rate set to 0.5\n0:\tlearn: 0.3472438\ttotal: 473us\tremaining: 4.26ms\n1:\tlearn: 0.2090932\ttotal: 1.1ms\tremaining: 4.41ms\n2:\tlearn: 0.1376807\ttotal: 1.83ms\tremaining: 4.27ms\n3:\tlearn: 0.0981830\ttotal: 2.73ms\tremaining: 4.09ms\n4:\tlearn: 0.0754283\ttotal: 4.16ms\tremaining: 4.16ms\n5:\tlearn: 0.0618139\ttotal: 5.05ms\tremaining: 3.37ms\n6:\tlearn: 0.0542213\ttotal: 6.17ms\tremaining: 2.65ms\n7:\tlearn: 0.0495012\ttotal: 7.1ms\tremaining: 1.77ms\n8:\tlearn: 0.0477087\ttotal: 7.58ms\tremaining: 842us\n9:\tlearn: 0.0454260\ttotal: 8.45ms\tremaining: 0us\naccuracy_score 0.9794303797468354\n\n9 of kfold 10\nLearning rate set to 0.5\n0:\tlearn: 0.3473258\ttotal: 768us\tremaining: 6.92ms\n1:\tlearn: 0.2107848\ttotal: 1.6ms\tremaining: 6.42ms\n2:\tlearn: 0.1375759\ttotal: 2.62ms\tremaining: 6.12ms\n3:\tlearn: 0.0984803\ttotal: 3.8ms\tremaining: 5.7ms\n4:\tlearn: 0.0753111\ttotal: 4.69ms\tremaining: 4.69ms\n5:\tlearn: 0.0618355\ttotal: 5.61ms\tremaining: 3.74ms\n6:\tlearn: 0.0543184\ttotal: 6.26ms\tremaining: 2.68ms\n7:\tlearn: 0.0495681\ttotal: 7.13ms\tremaining: 1.78ms\n8:\tlearn: 0.0466365\ttotal: 8.03ms\tremaining: 892us\n9:\tlearn: 0.0443258\ttotal: 9.33ms\tremaining: 0us\naccuracy_score 0.9810126582278481\n\n10 of kfold 10\nLearning rate set to 0.5\n0:\tlearn: 0.3478290\ttotal: 746us\tremaining: 6.72ms\n1:\tlearn: 0.2078865\ttotal: 1.76ms\tremaining: 7.06ms\n2:\tlearn: 0.1387113\ttotal: 2.54ms\tremaining: 5.94ms\n3:\tlearn: 0.0997107\ttotal: 3.46ms\tremaining: 5.19ms\n4:\tlearn: 0.0766691\ttotal: 4.15ms\tremaining: 4.15ms\n5:\tlearn: 0.0674722\ttotal: 4.67ms\tremaining: 3.12ms\n6:\tlearn: 0.0576652\ttotal: 5.2ms\tremaining: 2.23ms\n7:\tlearn: 0.0521365\ttotal: 6.07ms\tremaining: 1.52ms\n8:\tlearn: 0.0488698\ttotal: 6.83ms\tremaining: 759us\n9:\tlearn: 0.0467575\ttotal: 7.66ms\tremaining: 0us\naccuracy_score 0.9857594936708861\n"
    }
   ]
  },
  {
   "cell_type": "code",
   "metadata": {
    "tags": [],
    "deepnote_to_be_reexecuted": false,
    "source_hash": "bc631840",
    "execution_start": 1650215039427,
    "execution_millis": 5,
    "cell_id": "00038-4a6b980a-286e-433e-9df3-5b466c11c940",
    "deepnote_cell_type": "code",
    "deepnote_cell_height": 243.125
   },
   "source": "print('\\n Mean Validation Accuracy', mean / (iteration - 1))\nprint('\\n Mean Validation Precisinon', precision / (iteration - 1))\nprint('\\n Mean Validation Recall', recall / (iteration - 1))",
   "execution_count": null,
   "outputs": [
    {
     "name": "stdout",
     "text": "\n Mean Validation Accuracy 0.9811733857259984\n\n Mean Validation Precisinon 0.8573832236244737\n\n Mean Validation Recall 0.9896400351185249\n",
     "output_type": "stream"
    }
   ]
  },
  {
   "cell_type": "markdown",
   "source": "Bagging turns out to be more effective for when a high correlation column is missing. We will now do hyper parameter tuning to try to increase it's precision. Since there is a data imbalance, SMOTE will be used to artificially oversmaple the data to improve model outcome. Cross-validation will also be used to decrease bias and increase accuracy above the 86.5% achieved without tuning.",
   "metadata": {
    "tags": [],
    "cell_id": "00039-c46e8912-659a-4f02-84ca-c238a85d0f01",
    "deepnote_cell_type": "markdown",
    "deepnote_cell_height": 97.15625
   }
  },
  {
   "cell_type": "markdown",
   "source": "### Bagging with Hyperparameter Tuning",
   "metadata": {
    "cell_id": "2f60839fa37e4b29a00324fb5b7383a8",
    "tags": [],
    "deepnote_cell_type": "markdown",
    "deepnote_cell_height": 61.9375
   }
  },
  {
   "cell_type": "code",
   "metadata": {
    "cell_id": "50c72359255243b3932cf7325a89f5f5",
    "tags": [],
    "deepnote_to_be_reexecuted": false,
    "source_hash": "fe8ba219",
    "execution_start": 1650215039467,
    "execution_millis": 35486,
    "deepnote_cell_type": "code",
    "deepnote_cell_height": 1075.921875
   },
   "source": "from sklearn.model_selection import GridSearchCV\nfrom sklearn.model_selection import StratifiedKFold\n\n# set parameters to be tested\nparameters = {\"n_estimators\": [2, 3, 4, 5, 6, 7, 8, 9, 10, 15, 20, 25],\n              \"max_samples\": [0.1, 0.2, 0.5,0.8, 1],\n              \"warm_start\": [True, False]}\nmodel = BaggingClassifier(random_state=1, n_jobs=-1)\n\n# set how dataset is to be cross-validated\nstratified_kfold = StratifiedKFold(n_splits=10,\n                                   shuffle=True,\n                                   random_state=1)\n# fits model\ngrid_search = GridSearchCV(estimator=model, param_grid = parameters, cv = stratified_kfold, n_jobs=-1,\n                           scoring = \n                            # 'accuracy'\n                            # 'precision'\n                            # 'recall'\n                            'f1'\n                            )\ngrid_search.fit(X_train, y_train)\ncv_score = grid_search.best_score_\n\n# prints output of hyper-parameterization\nprint(\" Results from Grid Search \" )\nprint(\"\\n The best estimator across ALL searched params:\\n\", grid_search.best_estimator_)\nprint(\"\\n The best score across ALL searched params:\\n\", grid_search.best_score_)\nprint(\"\\n The best parameters across ALL searched params:\\n\", grid_search.best_params_)\n\ntest_score = grid_search.score(X_test, y_test)\nprint(f'Training f1 score: {cv_score}\\nTesting f1 score: {test_score}')",
   "execution_count": null,
   "outputs": [
    {
     "output_type": "execute_result",
     "execution_count": 20,
     "data": {
      "text/plain": "GridSearchCV(cv=StratifiedKFold(n_splits=10, random_state=1, shuffle=True),\n             estimator=BaggingClassifier(n_jobs=-1, random_state=1), n_jobs=-1,\n             param_grid={'max_samples': [0.1, 0.2, 0.5, 0.8, 1],\n                         'n_estimators': [2, 3, 4, 5, 6, 7, 8, 9, 10, 15, 20,\n                                          25],\n                         'warm_start': [True, False]},\n             scoring='f1')"
     },
     "metadata": {}
    },
    {
     "name": "stdout",
     "text": " Results from Grid Search \n\n The best estimator across ALL searched params:\n BaggingClassifier(max_samples=0.1, n_estimators=25, n_jobs=-1, random_state=1,\n                  warm_start=True)\n\n The best score across ALL searched params:\n 0.9196320036433615\n\n The best parameters across ALL searched params:\n {'max_samples': 0.1, 'n_estimators': 25, 'warm_start': True}\nTraining f1 score: 0.9196320036433615\nTesting f1 score: 0.9074410163339383\n",
     "output_type": "stream"
    }
   ]
  },
  {
   "cell_type": "markdown",
   "source": "### Bagging with Hyperparameter Tuning and SMOTE",
   "metadata": {
    "cell_id": "398e731be0494904ab14d2f353733553",
    "tags": [],
    "deepnote_cell_type": "markdown",
    "deepnote_cell_height": 61.9375
   }
  },
  {
   "cell_type": "code",
   "metadata": {
    "cell_id": "4341d2d91b6a48fe81ce8250b58c43b1",
    "tags": [],
    "deepnote_to_be_reexecuted": false,
    "source_hash": "df8360a2",
    "execution_start": 1650215074953,
    "execution_millis": 46967,
    "deepnote_cell_type": "code",
    "deepnote_cell_height": 1372.9375
   },
   "source": "from imblearn.over_sampling import SMOTE\nfrom imblearn.pipeline import Pipeline as imbpipeline\nfrom sklearn.model_selection import GridSearchCV\nfrom sklearn.model_selection import StratifiedKFold\n\n# set pipeline\npipeline = imbpipeline(steps = [['smote', SMOTE(random_state=1)],\n                                ['model', BaggingClassifier(random_state=1, n_jobs=-1)]])\n\n# set how dataset is to be cross-validated\nstratified_kfold = StratifiedKFold(n_splits=10,\n                                   shuffle=True,\n                                   random_state=1)\n\n# set parameters to be tested\nparameters = {\"model__n_estimators\": [2, 3, 4, 5, 6, 7, 8, 9, 10, 15, 20, 25],\n              \"model__max_samples\": [0.1, 0.2, 0.5,0.8, 1],\n              \"model__warm_start\": [True, False]}\ngrid_search = GridSearchCV(estimator=pipeline,\n                           param_grid=parameters,\n                           cv=stratified_kfold,\n                           n_jobs=-1,\n                           scoring = \n                            # 'accuracy'\n                            #'precision'\n                            # 'recall'\n                            'f1'\n                            )\n\n# fits model\ngrid_search.fit(X_train, y_train)\ncv_score = grid_search.best_score_\n\n# prints output\nprint(\" Results from Grid Search \" )\nprint(\"\\n The best estimator across ALL searched params:\\n\", grid_search.best_estimator_)\nprint(\"\\n The best score across ALL searched params:\\n\", grid_search.best_score_)\nprint(\"\\n The best parameters across ALL searched params:\\n\", grid_search.best_params_)\n\ntest_score = grid_search.score(X_test, y_test)\n\nprint(f'Training f1 score: {cv_score}\\nTesting f1 score: {test_score}')",
   "execution_count": null,
   "outputs": [
    {
     "output_type": "execute_result",
     "execution_count": 21,
     "data": {
      "text/plain": "GridSearchCV(cv=StratifiedKFold(n_splits=10, random_state=1, shuffle=True),\n             estimator=Pipeline(steps=[['smote', SMOTE(random_state=1)],\n                                       ['model',\n                                        BaggingClassifier(n_jobs=-1,\n                                                          random_state=1)]]),\n             n_jobs=-1,\n             param_grid={'model__max_samples': [0.1, 0.2, 0.5, 0.8, 1],\n                         'model__n_estimators': [2, 3, 4, 5, 6, 7, 8, 9, 10, 15,\n                                                 20, 25],\n                         'model__warm_start': [True, False]},\n             scoring='f1')"
     },
     "metadata": {}
    },
    {
     "name": "stdout",
     "text": " Results from Grid Search \n\n The best estimator across ALL searched params:\n Pipeline(steps=[('smote', SMOTE(random_state=1)),\n                ['model',\n                 BaggingClassifier(max_samples=0.1, n_estimators=4, n_jobs=-1,\n                                   random_state=1, warm_start=True)]])\n\n The best score across ALL searched params:\n 0.9179055438911627\n\n The best parameters across ALL searched params:\n {'model__max_samples': 0.1, 'model__n_estimators': 4, 'model__warm_start': True}\nTraining f1 score: 0.9179055438911627\nTesting f1 score: 0.9032258064516129\n",
     "output_type": "stream"
    }
   ]
  },
  {
   "cell_type": "markdown",
   "source": "### Applying Bagging with Hyperparameter Tuning & SMOTE to Model",
   "metadata": {
    "cell_id": "fba9e94f5a994676bd430e63d86e1faf",
    "tags": [],
    "deepnote_cell_type": "markdown",
    "deepnote_cell_height": 61.9375
   }
  },
  {
   "cell_type": "code",
   "metadata": {
    "cell_id": "7b50d3e9d69e42e0b4813e228137608e",
    "tags": [],
    "deepnote_to_be_reexecuted": false,
    "source_hash": "95088703",
    "execution_start": 1650215121925,
    "execution_millis": 604,
    "deepnote_cell_type": "code",
    "deepnote_cell_height": 1569.515625
   },
   "source": "from collections import Counter\n\n# define dataset\nX = all_data.drop(['Class'], axis=1)\n\n# Testing cases\n\n#X = X.drop(['Successive_Outbidding'], axis=1)\n\n#X = X[['Successive_Outbidding']]\n\nX = X[['Successive_Outbidding','Bidding_Ratio']]\n\n#X = X[['Successive_Outbidding','Bidding_Ratio', 'Winning_Ratio', 'Bidder_Tendency']]\n\n\ny = all_data.Class\n\nX_train, X_test, y_train, y_test = train_test_split(X, y, train_size=0.6, random_state=1)\n\ncounter = Counter(y_train)\nprint('Before SMOTE',counter)\nX_train, y_train = SMOTE(random_state=1).fit_resample(X_train, y_train)\ncounter = Counter(y_train)\nprint('After SMOTE',counter)\n\nmodel =  BaggingClassifier(max_samples=0.2, n_estimators=25, n_jobs=-1, random_state=1,\n                  warm_start=True).fit(X_train,y_train)\n\nactual = y_test\npredicted = model.predict(X_test)\n\n# confusion matrix\nprint(\"Confusion matrix: \\n\", confusion_matrix(actual, predicted))\n\n# assign tn, fp, fn, tp\ntn, fp, fn, tp = confusion_matrix(actual, predicted).ravel()\nprint(\"True Positives: \", tp, \"\\nFalse Positives: \", fp, \"\\nFalse Negatives: \", fn, \"\\nTrue Negatives: \", tn)\n\n# accuracy using metrics.precision_score()\nprint(\"Accuracy on test = \", metrics.accuracy_score(actual, predicted))\n\n# precision using metrics.precision_score()\nprint(\"Precision on test = \", metrics.precision_score(actual, predicted))\n\n# recall using metrics.precision_score()\nprint(\"Recall on test = \", metrics.recall_score(actual, predicted))\n\ndisp = ConfusionMatrixDisplay(confusion_matrix(actual, predicted))\ndisp.plot(cmap = \"BuPu\")\nplt.show()",
   "execution_count": null,
   "outputs": [
    {
     "name": "stdout",
     "text": "Before SMOTE Counter({0: 3375, 1: 417})\nAfter SMOTE Counter({0: 3375, 1: 3375})\nConfusion matrix: \n [[2221   50]\n [   4  254]]\nTrue Positives:  254 \nFalse Positives:  50 \nFalse Negatives:  4 \nTrue Negatives:  2221\nAccuracy on test =  0.9786476868327402\nPrecision on test =  0.8355263157894737\nRecall on test =  0.9844961240310077\n",
     "output_type": "stream"
    },
    {
     "output_type": "execute_result",
     "execution_count": 22,
     "data": {
      "text/plain": "<sklearn.metrics._plot.confusion_matrix.ConfusionMatrixDisplay at 0x7fd49b22b9d0>"
     },
     "metadata": {}
    },
    {
     "data": {
      "text/plain": "<Figure size 432x288 with 2 Axes>",
      "image/png": "[encoded data removed]"
     },
     "metadata": {
      "needs_background": "light",
      "image/png": {
       "width": 319,
       "height": 262
      }
     },
     "output_type": "display_data"
    }
   ]
  },
  {
   "cell_type": "markdown",
   "source": "The precision dropped to 83.6% but but recall went up to 98.4% which is very good as that idicates that there is less than a 1/500 chance a shill bidder is not detected! The precision is lower as a result but that is ok, as it it better to further investigate someone and find nothing than to let more criminals get away with it.",
   "metadata": {
    "cell_id": "c6cfffb828ce490c897df7973819893a",
    "tags": [],
    "deepnote_cell_type": "markdown",
    "deepnote_cell_height": 97.15625
   }
  },
  {
   "cell_type": "markdown",
   "source": "***\n### **Transfer Learning**\nWe will now import our NFT dataset and make necessary changes to it",
   "metadata": {
    "tags": [],
    "cell_id": "00040-2bdc8044-1d29-4b6f-9ab8-eac052f6867d",
    "deepnote_cell_type": "markdown",
    "deepnote_cell_height": 101.328125
   }
  },
  {
   "cell_type": "code",
   "metadata": {
    "tags": [],
    "deepnote_to_be_reexecuted": false,
    "source_hash": "f7f2283c",
    "execution_start": 1650215122280,
    "execution_millis": 527,
    "cell_id": "00041-739d7e47-53a7-41a2-b101-e05e6c5b38e7",
    "deepnote_cell_type": "code",
    "deepnote_cell_height": 767.9375
   },
   "source": "#read dataframe from csv file\ndf_nft = pd.read_csv(\n    \"NFT Data 2.csv\")\n\n\nprint(df_nft.columns)\n\n# Show data types and Na.\ndf_nft.info()\n\n#you can easily check for all numeric columns\n#df_nft.describe()",
   "execution_count": null,
   "outputs": [
    {
     "name": "stdout",
     "text": "Index(['Unnamed: 0', 'txn_type', 'from', 'to', 'date', 'timestamp', 'source',\n       'eth', 'punk_id', 'from_wallet_address', 'to_wallet_address', 'type',\n       'accessories'],\n      dtype='object')\n<class 'pandas.core.frame.DataFrame'>\nRangeIndex: 167492 entries, 0 to 167491\nData columns (total 13 columns):\n #   Column               Non-Null Count   Dtype  \n---  ------               --------------   -----  \n 0   Unnamed: 0           167492 non-null  int64  \n 1   txn_type             167492 non-null  object \n 2   from                 83648 non-null   object \n 3   to                   48878 non-null   object \n 4   date                 167492 non-null  object \n 5   timestamp            167492 non-null  object \n 6   source               167492 non-null  object \n 7   eth                  127542 non-null  float64\n 8   punk_id              167492 non-null  int64  \n 9   from_wallet_address  419 non-null     object \n 10  to_wallet_address    23 non-null      object \n 11  type                 167492 non-null  object \n 12  accessories          167492 non-null  object \ndtypes: float64(1), int64(2), object(10)\nmemory usage: 16.6+ MB\n",
     "output_type": "stream"
    }
   ]
  },
  {
   "cell_type": "code",
   "metadata": {
    "tags": [],
    "deepnote_to_be_reexecuted": false,
    "source_hash": "2d8c9572",
    "execution_start": 1650215122805,
    "execution_millis": 80,
    "cell_id": "00042-51524c66-ce94-4e59-8862-b605588e5693",
    "deepnote_cell_type": "code",
    "deepnote_cell_height": 635.84375
   },
   "source": "df_bids = df_nft.drop(['Unnamed: 0', 'to', 'date', 'from_wallet_address', 'to_wallet_address', 'type', 'accessories'], axis = 1)\ndf_bids = df_bids.loc[df_bids['txn_type'] == 'Bid']\ndf_bids",
   "execution_count": null,
   "outputs": [
    {
     "output_type": "execute_result",
     "execution_count": 24,
     "data": {
      "application/vnd.deepnote.dataframe.v3+json": {
       "column_count": 6,
       "row_count": 26808,
       "columns": [
        {
         "name": "txn_type",
         "dtype": "object",
         "stats": {
          "unique_count": 1,
          "nan_count": 0,
          "categories": [
           {
            "name": "Bid",
            "count": 26808
           }
          ]
         }
        },
        {
         "name": "from",
         "dtype": "object",
         "stats": {
          "unique_count": 3711,
          "nan_count": 0,
          "categories": [
           {
            "name": "0x717403",
            "count": 1721
           },
           {
            "name": "0x7760e0",
            "count": 835
           },
           {
            "name": "3709 others",
            "count": 24252
           }
          ]
         }
        },
        {
         "name": "timestamp",
         "dtype": "object",
         "stats": {
          "unique_count": 1396,
          "nan_count": 0,
          "categories": [
           {
            "name": "2017-06-26 00:00:00",
            "count": 1020
           },
           {
            "name": "2017-06-25 00:00:00",
            "count": 685
           },
           {
            "name": "1394 others",
            "count": 25103
           }
          ]
         }
        },
        {
         "name": "source",
         "dtype": "object"
        },
        {
         "name": "eth",
         "dtype": "float64"
        },
        {
         "name": "punk_id",
         "dtype": "int64"
        },
        {
         "name": "_deepnote_index_column",
         "dtype": "int64"
        }
       ],
       "rows": [
        {
         "txn_type": "Bid",
         "from": "0xe73a1d",
         "timestamp": "2021-09-01 00:00:00",
         "source": "larvalabs",
         "eth": 321,
         "punk_id": 0,
         "_deepnote_index_column": 1
        },
        {
         "txn_type": "Bid",
         "from": "0x2e5e22",
         "timestamp": "2021-09-01 00:00:00",
         "source": "larvalabs",
         "eth": 320,
         "punk_id": 0,
         "_deepnote_index_column": 3
        },
        {
         "txn_type": "Bid",
         "from": "0x2e5e22",
         "timestamp": "2021-08-29 00:00:00",
         "source": "larvalabs",
         "eth": 263,
         "punk_id": 0,
         "_deepnote_index_column": 5
        },
        {
         "txn_type": "Bid",
         "from": "0x983ace",
         "timestamp": "2021-04-11 00:00:00",
         "source": "larvalabs",
         "eth": 250,
         "punk_id": 0,
         "_deepnote_index_column": 7
        },
        {
         "txn_type": "Bid",
         "from": "0xd7510a",
         "timestamp": "2021-02-20 00:00:00",
         "source": "larvalabs",
         "eth": 100,
         "punk_id": 0,
         "_deepnote_index_column": 9
        },
        {
         "txn_type": "Bid",
         "from": "natealex",
         "timestamp": "2020-09-15 00:00:00",
         "source": "larvalabs",
         "eth": 69,
         "punk_id": 0,
         "_deepnote_index_column": 11
        },
        {
         "txn_type": "Bid",
         "from": "natealex",
         "timestamp": "2020-01-09 00:00:00",
         "source": "larvalabs",
         "eth": 49,
         "punk_id": 0,
         "_deepnote_index_column": 13
        },
        {
         "txn_type": "Bid",
         "from": "natealex",
         "timestamp": "2019-12-30 00:00:00",
         "source": "larvalabs",
         "eth": 44,
         "punk_id": 0,
         "_deepnote_index_column": 15
        },
        {
         "txn_type": "Bid",
         "from": "natealex",
         "timestamp": "2019-12-30 00:00:00",
         "source": "larvalabs",
         "eth": 0,
         "punk_id": 0,
         "_deepnote_index_column": 17
        },
        {
         "txn_type": "Bid",
         "from": "GoWest23",
         "timestamp": "2019-05-22 00:00:00",
         "source": "larvalabs",
         "eth": 18.5,
         "punk_id": 0,
         "_deepnote_index_column": 19
        }
       ]
      },
      "text/plain": "       txn_type      from            timestamp     source    eth  punk_id\n1           Bid  0xe73a1d  2021-09-01 00:00:00  larvalabs 321.00        0\n3           Bid  0x2e5e22  2021-09-01 00:00:00  larvalabs 320.00        0\n5           Bid  0x2e5e22  2021-08-29 00:00:00  larvalabs 263.00        0\n7           Bid  0x983ace  2021-04-11 00:00:00  larvalabs 250.00        0\n9           Bid  0xd7510a  2021-02-20 00:00:00  larvalabs 100.00        0\n...         ...       ...                  ...        ...    ...      ...\n167486      Bid  0x7760e0  2017-07-03 00:00:00  larvalabs   0.25     9999\n167487      Bid  0xa0a59c  2017-07-03 00:00:00  larvalabs   0.25     9999\n167488      Bid  0x717403  2017-06-26 00:00:00  larvalabs   0.20     9999\n167489      Bid  ddaavvee  2017-06-23 00:00:00  larvalabs   0.20     9999\n167490      Bid  0x5b098b  2017-06-23 00:00:00  larvalabs   0.15     9999\n\n[26808 rows x 6 columns]",
      "text/html": "<div>\n<style scoped>\n    .dataframe tbody tr th:only-of-type {\n        vertical-align: middle;\n    }\n\n    .dataframe tbody tr th {\n        vertical-align: top;\n    }\n\n    .dataframe thead th {\n        text-align: right;\n    }\n</style>\n<table border=\"1\" class=\"dataframe\">\n  <thead>\n    <tr style=\"text-align: right;\">\n      <th></th>\n      <th>txn_type</th>\n      <th>from</th>\n      <th>timestamp</th>\n      <th>source</th>\n      <th>eth</th>\n      <th>punk_id</th>\n    </tr>\n  </thead>\n  <tbody>\n    <tr>\n      <th>1</th>\n      <td>Bid</td>\n      <td>0xe73a1d</td>\n      <td>2021-09-01 00:00:00</td>\n      <td>larvalabs</td>\n      <td>321.00</td>\n      <td>0</td>\n    </tr>\n    <tr>\n      <th>3</th>\n      <td>Bid</td>\n      <td>0x2e5e22</td>\n      <td>2021-09-01 00:00:00</td>\n      <td>larvalabs</td>\n      <td>320.00</td>\n      <td>0</td>\n    </tr>\n    <tr>\n      <th>5</th>\n      <td>Bid</td>\n      <td>0x2e5e22</td>\n      <td>2021-08-29 00:00:00</td>\n      <td>larvalabs</td>\n      <td>263.00</td>\n      <td>0</td>\n    </tr>\n    <tr>\n      <th>7</th>\n      <td>Bid</td>\n      <td>0x983ace</td>\n      <td>2021-04-11 00:00:00</td>\n      <td>larvalabs</td>\n      <td>250.00</td>\n      <td>0</td>\n    </tr>\n    <tr>\n      <th>9</th>\n      <td>Bid</td>\n      <td>0xd7510a</td>\n      <td>2021-02-20 00:00:00</td>\n      <td>larvalabs</td>\n      <td>100.00</td>\n      <td>0</td>\n    </tr>\n    <tr>\n      <th>...</th>\n      <td>...</td>\n      <td>...</td>\n      <td>...</td>\n      <td>...</td>\n      <td>...</td>\n      <td>...</td>\n    </tr>\n    <tr>\n      <th>167486</th>\n      <td>Bid</td>\n      <td>0x7760e0</td>\n      <td>2017-07-03 00:00:00</td>\n      <td>larvalabs</td>\n      <td>0.25</td>\n      <td>9999</td>\n    </tr>\n    <tr>\n      <th>167487</th>\n      <td>Bid</td>\n      <td>0xa0a59c</td>\n      <td>2017-07-03 00:00:00</td>\n      <td>larvalabs</td>\n      <td>0.25</td>\n      <td>9999</td>\n    </tr>\n    <tr>\n      <th>167488</th>\n      <td>Bid</td>\n      <td>0x717403</td>\n      <td>2017-06-26 00:00:00</td>\n      <td>larvalabs</td>\n      <td>0.20</td>\n      <td>9999</td>\n    </tr>\n    <tr>\n      <th>167489</th>\n      <td>Bid</td>\n      <td>ddaavvee</td>\n      <td>2017-06-23 00:00:00</td>\n      <td>larvalabs</td>\n      <td>0.20</td>\n      <td>9999</td>\n    </tr>\n    <tr>\n      <th>167490</th>\n      <td>Bid</td>\n      <td>0x5b098b</td>\n      <td>2017-06-23 00:00:00</td>\n      <td>larvalabs</td>\n      <td>0.15</td>\n      <td>9999</td>\n    </tr>\n  </tbody>\n</table>\n<p>26808 rows × 6 columns</p>\n</div>"
     },
     "metadata": {}
    }
   ]
  },
  {
   "cell_type": "code",
   "metadata": {
    "tags": [],
    "deepnote_to_be_reexecuted": false,
    "source_hash": "506118b6",
    "execution_start": 1650215122890,
    "execution_millis": 9,
    "cell_id": "00043-ff7260aa-d4a4-498c-b2f4-d2a1a1b661dc",
    "deepnote_cell_type": "code",
    "deepnote_cell_height": 118.125
   },
   "source": "df_bids.shape",
   "execution_count": null,
   "outputs": [
    {
     "output_type": "execute_result",
     "execution_count": 25,
     "data": {
      "text/plain": "(26808, 6)"
     },
     "metadata": {}
    }
   ]
  },
  {
   "cell_type": "code",
   "metadata": {
    "tags": [],
    "deepnote_to_be_reexecuted": false,
    "source_hash": "cfefdbad",
    "execution_start": 1650215122906,
    "execution_millis": 14,
    "cell_id": "00044-121615e0-d4db-4071-8149-98a13064d6b2",
    "deepnote_cell_type": "code",
    "deepnote_cell_height": 635.84375
   },
   "source": "df_temp = df_bids['from'].value_counts()\ndf_bidding_count= pd.DataFrame({'from':df_temp.index, 'count':df_temp.values})\ndf_bidding_count",
   "execution_count": null,
   "outputs": [
    {
     "output_type": "execute_result",
     "execution_count": 26,
     "data": {
      "application/vnd.deepnote.dataframe.v3+json": {
       "column_count": 2,
       "row_count": 3711,
       "columns": [
        {
         "name": "from",
         "dtype": "object",
         "stats": {
          "unique_count": 3711,
          "nan_count": 0,
          "categories": [
           {
            "name": "0x717403",
            "count": 1
           },
           {
            "name": "0x7760e0",
            "count": 1
           },
           {
            "name": "3709 others",
            "count": 3709
           }
          ]
         }
        },
        {
         "name": "count",
         "dtype": "int64",
         "stats": {
          "unique_count": 110,
          "nan_count": 0,
          "min": "1",
          "max": "1721",
          "histogram": [
           {
            "bin_start": 1,
            "bin_end": 173,
            "count": 3697
           },
           {
            "bin_start": 173,
            "bin_end": 345,
            "count": 9
           },
           {
            "bin_start": 345,
            "bin_end": 517,
            "count": 2
           },
           {
            "bin_start": 517,
            "bin_end": 689,
            "count": 0
           },
           {
            "bin_start": 689,
            "bin_end": 861,
            "count": 2
           },
           {
            "bin_start": 861,
            "bin_end": 1033,
            "count": 0
           },
           {
            "bin_start": 1033,
            "bin_end": 1205,
            "count": 0
           },
           {
            "bin_start": 1205,
            "bin_end": 1377,
            "count": 0
           },
           {
            "bin_start": 1377,
            "bin_end": 1549,
            "count": 0
           },
           {
            "bin_start": 1549,
            "bin_end": 1721,
            "count": 1
           }
          ]
         }
        },
        {
         "name": "_deepnote_index_column",
         "dtype": "int64"
        }
       ],
       "rows": [
        {
         "from": "0x717403",
         "count": 1721,
         "_deepnote_index_column": 0
        },
        {
         "from": "0x7760e0",
         "count": 835,
         "_deepnote_index_column": 1
        },
        {
         "from": "Pranksy",
         "count": 768,
         "_deepnote_index_column": 2
        },
        {
         "from": "0xc7c6b9",
         "count": 430,
         "_deepnote_index_column": 3
        },
        {
         "from": "jmg",
         "count": 406,
         "_deepnote_index_column": 4
        },
        {
         "from": "0xa0a59c",
         "count": 334,
         "_deepnote_index_column": 5
        },
        {
         "from": "wookie.e…",
         "count": 289,
         "_deepnote_index_column": 6
        },
        {
         "from": "beautifu…",
         "count": 266,
         "_deepnote_index_column": 7
        },
        {
         "from": "0x6611fe",
         "count": 263,
         "_deepnote_index_column": 8
        },
        {
         "from": "0xf3016b",
         "count": 253,
         "_deepnote_index_column": 9
        }
       ]
      },
      "text/plain": "           from  count\n0      0x717403   1721\n1      0x7760e0    835\n2       Pranksy    768\n3      0xc7c6b9    430\n4           jmg    406\n...         ...    ...\n3706   0x9f6176      1\n3707   0xa2114c      1\n3708   0x802984      1\n3709  br0se.et…      1\n3710  rushyyy.…      1\n\n[3711 rows x 2 columns]",
      "text/html": "<div>\n<style scoped>\n    .dataframe tbody tr th:only-of-type {\n        vertical-align: middle;\n    }\n\n    .dataframe tbody tr th {\n        vertical-align: top;\n    }\n\n    .dataframe thead th {\n        text-align: right;\n    }\n</style>\n<table border=\"1\" class=\"dataframe\">\n  <thead>\n    <tr style=\"text-align: right;\">\n      <th></th>\n      <th>from</th>\n      <th>count</th>\n    </tr>\n  </thead>\n  <tbody>\n    <tr>\n      <th>0</th>\n      <td>0x717403</td>\n      <td>1721</td>\n    </tr>\n    <tr>\n      <th>1</th>\n      <td>0x7760e0</td>\n      <td>835</td>\n    </tr>\n    <tr>\n      <th>2</th>\n      <td>Pranksy</td>\n      <td>768</td>\n    </tr>\n    <tr>\n      <th>3</th>\n      <td>0xc7c6b9</td>\n      <td>430</td>\n    </tr>\n    <tr>\n      <th>4</th>\n      <td>jmg</td>\n      <td>406</td>\n    </tr>\n    <tr>\n      <th>...</th>\n      <td>...</td>\n      <td>...</td>\n    </tr>\n    <tr>\n      <th>3706</th>\n      <td>0x9f6176</td>\n      <td>1</td>\n    </tr>\n    <tr>\n      <th>3707</th>\n      <td>0xa2114c</td>\n      <td>1</td>\n    </tr>\n    <tr>\n      <th>3708</th>\n      <td>0x802984</td>\n      <td>1</td>\n    </tr>\n    <tr>\n      <th>3709</th>\n      <td>br0se.et…</td>\n      <td>1</td>\n    </tr>\n    <tr>\n      <th>3710</th>\n      <td>rushyyy.…</td>\n      <td>1</td>\n    </tr>\n  </tbody>\n</table>\n<p>3711 rows × 2 columns</p>\n</div>"
     },
     "metadata": {}
    }
   ]
  },
  {
   "cell_type": "code",
   "metadata": {
    "tags": [],
    "deepnote_to_be_reexecuted": false,
    "source_hash": "96efa350",
    "execution_start": 1650215122931,
    "execution_millis": 3,
    "deepnote_table_state": {
     "pageSize": 10,
     "pageIndex": 1,
     "filters": [],
     "sortBy": []
    },
    "deepnote_table_loading": false,
    "cell_id": "00045-6bd908d6-e443-4230-8085-1c888b83a4d5",
    "deepnote_cell_type": "code",
    "deepnote_cell_height": 366.875
   },
   "source": "bidding_threshold = 200 # 500 produces top 3 bidders for quick example, lower threshold for more data creation\n\ndf_bidders_above_threshold = df_bidding_count.loc[df_bidding_count['count'] >= bidding_threshold]\ndf_bidders_above_threshold",
   "execution_count": null,
   "outputs": [
    {
     "output_type": "execute_result",
     "execution_count": 27,
     "data": {
      "application/vnd.deepnote.dataframe.v3+json": {
       "column_count": 2,
       "row_count": 13,
       "columns": [
        {
         "name": "from",
         "dtype": "object",
         "stats": {
          "unique_count": 13,
          "nan_count": 0,
          "categories": [
           {
            "name": "0x717403",
            "count": 1
           },
           {
            "name": "0x7760e0",
            "count": 1
           },
           {
            "name": "11 others",
            "count": 11
           }
          ]
         }
        },
        {
         "name": "count",
         "dtype": "int64",
         "stats": {
          "unique_count": 13,
          "nan_count": 0,
          "min": "205",
          "max": "1721",
          "histogram": [
           {
            "bin_start": 205,
            "bin_end": 356.6,
            "count": 8
           },
           {
            "bin_start": 356.6,
            "bin_end": 508.2,
            "count": 2
           },
           {
            "bin_start": 508.2,
            "bin_end": 659.8,
            "count": 0
           },
           {
            "bin_start": 659.8,
            "bin_end": 811.4,
            "count": 1
           },
           {
            "bin_start": 811.4,
            "bin_end": 963,
            "count": 1
           },
           {
            "bin_start": 963,
            "bin_end": 1114.6,
            "count": 0
           },
           {
            "bin_start": 1114.6,
            "bin_end": 1266.2,
            "count": 0
           },
           {
            "bin_start": 1266.2,
            "bin_end": 1417.8,
            "count": 0
           },
           {
            "bin_start": 1417.8,
            "bin_end": 1569.3999999999999,
            "count": 0
           },
           {
            "bin_start": 1569.3999999999999,
            "bin_end": 1721,
            "count": 1
           }
          ]
         }
        },
        {
         "name": "_deepnote_index_column",
         "dtype": "int64"
        }
       ],
       "rows": [
        {
         "from": "Dude_Nak…",
         "count": 222,
         "_deepnote_index_column": 10
        },
        {
         "from": "0x00bd3a",
         "count": 210,
         "_deepnote_index_column": 11
        },
        {
         "from": "TokenAng…",
         "count": 205,
         "_deepnote_index_column": 12
        }
       ]
      },
      "text/plain": "         from  count\n0    0x717403   1721\n1    0x7760e0    835\n2     Pranksy    768\n3    0xc7c6b9    430\n4         jmg    406\n5    0xa0a59c    334\n6   wookie.e…    289\n7   beautifu…    266\n8    0x6611fe    263\n9    0xf3016b    253\n10  Dude_Nak…    222\n11   0x00bd3a    210\n12  TokenAng…    205",
      "text/html": "<div>\n<style scoped>\n    .dataframe tbody tr th:only-of-type {\n        vertical-align: middle;\n    }\n\n    .dataframe tbody tr th {\n        vertical-align: top;\n    }\n\n    .dataframe thead th {\n        text-align: right;\n    }\n</style>\n<table border=\"1\" class=\"dataframe\">\n  <thead>\n    <tr style=\"text-align: right;\">\n      <th></th>\n      <th>from</th>\n      <th>count</th>\n    </tr>\n  </thead>\n  <tbody>\n    <tr>\n      <th>0</th>\n      <td>0x717403</td>\n      <td>1721</td>\n    </tr>\n    <tr>\n      <th>1</th>\n      <td>0x7760e0</td>\n      <td>835</td>\n    </tr>\n    <tr>\n      <th>2</th>\n      <td>Pranksy</td>\n      <td>768</td>\n    </tr>\n    <tr>\n      <th>3</th>\n      <td>0xc7c6b9</td>\n      <td>430</td>\n    </tr>\n    <tr>\n      <th>4</th>\n      <td>jmg</td>\n      <td>406</td>\n    </tr>\n    <tr>\n      <th>5</th>\n      <td>0xa0a59c</td>\n      <td>334</td>\n    </tr>\n    <tr>\n      <th>6</th>\n      <td>wookie.e…</td>\n      <td>289</td>\n    </tr>\n    <tr>\n      <th>7</th>\n      <td>beautifu…</td>\n      <td>266</td>\n    </tr>\n    <tr>\n      <th>8</th>\n      <td>0x6611fe</td>\n      <td>263</td>\n    </tr>\n    <tr>\n      <th>9</th>\n      <td>0xf3016b</td>\n      <td>253</td>\n    </tr>\n    <tr>\n      <th>10</th>\n      <td>Dude_Nak…</td>\n      <td>222</td>\n    </tr>\n    <tr>\n      <th>11</th>\n      <td>0x00bd3a</td>\n      <td>210</td>\n    </tr>\n    <tr>\n      <th>12</th>\n      <td>TokenAng…</td>\n      <td>205</td>\n    </tr>\n  </tbody>\n</table>\n</div>"
     },
     "metadata": {}
    }
   ]
  },
  {
   "cell_type": "code",
   "metadata": {
    "tags": [],
    "deepnote_to_be_reexecuted": false,
    "source_hash": "193ac149",
    "execution_start": 1650215122969,
    "execution_millis": 0,
    "cell_id": "00046-9c26f046-2c58-4d20-b371-59a0c6a14323",
    "deepnote_cell_type": "code",
    "deepnote_cell_height": 80.9375
   },
   "source": "df_bids = df_bids.reset_index() # make sure indexes pair with number of rows",
   "execution_count": null,
   "outputs": []
  },
  {
   "cell_type": "code",
   "metadata": {
    "tags": [],
    "deepnote_to_be_reexecuted": false,
    "source_hash": "b3d96114",
    "execution_start": 1650215122970,
    "execution_millis": 0,
    "cell_id": "00047-c459b345-dea8-412c-9f46-ba5536c3902e",
    "deepnote_cell_type": "code",
    "deepnote_cell_height": 1574.9375
   },
   "source": "def nft_data_transformer(bidding_threshold = 5, bidders_inspected = 50, verbose = False, random_state = None): # default 500 produces top 3 bidders for quick example, lower threshold for more data creation\n    df_bidders_above_threshold = df_bidding_count.loc[df_bidding_count['count'] >= bidding_threshold]\n    df_bidders_above_threshold = df_bidders_above_threshold.sample(frac=1, random_state = random_state).reset_index(drop=True) # shuffles rows in selected bidders\n    \n    if len(df_bidders_above_threshold) < bidders_inspected:\n        print(\"Not enough bidders to satisfy bidders_inspected so next highest count will be used:\", len(df_bidders_above_threshold))\n        bidders_inspected = len(df_bidders_above_threshold)\n    \n    df_transformed = df_bidders_above_threshold[:bidders_inspected][['from']]\n    \n    result_successive_bidding = []\n    result_bidding_ratio = []\n    \n    count = 0\n    print(\"Amount of bidders inspecting:\", len(df_transformed))\n    print(\"Estimated time for inspecting:\", len(df_transformed) * 1/3, \"minutes\") # based on average budget laptop\n\n    for bidder_inspected in df_transformed['from']:\n        i = 0\n        j = 0\n        x = 1 # minimum number of auctions, set to one because one count will always be skipped in code\n        y = 0\n        z = 0\n        number_of_auctions = 0 # number of auctions the bidder_inspected is in\n\n        print(\"Inspecting bidder:\",bidder_inspected)\n\n        for index, row in df_bids[['from']].iterrows():\n            new_bidder = df_bids.iloc[index-1]['from']\n            previous_bidder = df_bids.iloc[index]['from']\n\n            new_auction = df_bids.iloc[index-1]['punk_id'].tolist()\n            previous_auction = df_bids.iloc[index]['punk_id'].tolist()\n\n            # excludes any people that rebid for the same price\n            new_price = df_bids.iloc[index-1]['eth'].tolist()\n            previous_price = df_bids.iloc[index]['eth'].tolist()\n\n            if new_bidder == bidder_inspected and new_bidder == previous_bidder and new_auction == previous_auction and new_price > previous_price:\n                if verbose == True:\n                    print(\"Successive_Outbidding for punk_id\", new_auction,\"at index\", index)\n                i += 1\n            \n            # stores the max Successive_Outbidding out of all auctions\n            if new_auction != previous_auction:\n                j = max(i, j) # stores max number of Successive_Bidding in a single auction\n                i = 0\n                \n                if new_bidder == bidder_inspected: # runs once after new auction is found so that it can check if the earliest bid (last index) of an auction is the bidder_inspected as well\n                    y += 1\n                y = y / x\n                z = y + z # stores total of Bidding_Ratio in a single auction\n                if y != 0: # only counts auction if bidder_inspected participates it    \n                    number_of_auctions += 1\n                x = 1\n                y = 0\n\n            if new_auction == previous_auction:\n                x += 1\n\n                if new_bidder == bidder_inspected:\n                    y += 1\n\n        \n        print(\"Done inspecting bidder:\",bidder_inspected)\n        \n        count += 1\n        print(\"Percent done : \" + str(round(count / len(df_transformed) * 100, 2))+\"%\\n\")    \n        \n        if j >= 4:\n            result_successive_bidding.append(1)\n        elif j >= 3:\n            result_successive_bidding.append(0.5)\n        else:\n            result_successive_bidding.append(0)\n        \n        result_bidding_ratio.append(z / number_of_auctions)\n\n    print(\"All bidding inspection done.\")\n    \n    df_transformed['Successive_Outbidding'] = result_successive_bidding\n    df_transformed['Bidding_Ratio'] = result_bidding_ratio\n    \n    return df_transformed",
   "execution_count": null,
   "outputs": []
  },
  {
   "cell_type": "markdown",
   "source": "#### Sample of Three Bidders Inspected",
   "metadata": {
    "tags": [],
    "cell_id": "00048-6e3fcdb2-4543-4708-b27b-bb8faf328fca",
    "deepnote_cell_type": "markdown",
    "deepnote_cell_height": 53.9375
   }
  },
  {
   "cell_type": "code",
   "metadata": {
    "tags": [],
    "deepnote_to_be_reexecuted": false,
    "source_hash": "c1ad2c53",
    "execution_start": 1650215122972,
    "execution_millis": 64359,
    "deepnote_table_state": {
     "pageSize": 10,
     "pageIndex": 0,
     "filters": [],
     "sortBy": []
    },
    "deepnote_table_loading": false,
    "cell_id": "00049-eb6df470-e7c4-48d7-b59b-4135e87480b2",
    "deepnote_cell_type": "code",
    "deepnote_cell_height": 798.5625
   },
   "source": "df_nft_transformed_example = nft_data_transformer(bidding_threshold = 5, bidders_inspected = 3, verbose = True, random_state=351)\ndf_nft_transformed_example",
   "execution_count": null,
   "outputs": [
    {
     "name": "stdout",
     "text": "Amount of bidders inspecting: 3\nEstimated time for inspecting: 1.0 minutes\nInspecting bidder: 0xb16386\nSuccessive_Outbidding for punk_id 2956 at index 7194\nSuccessive_Outbidding for punk_id 2959 at index 7196\nSuccessive_Outbidding for punk_id 3411 at index 8468\nSuccessive_Outbidding for punk_id 5655 at index 14500\nSuccessive_Outbidding for punk_id 6544 at index 16980\nSuccessive_Outbidding for punk_id 6544 at index 16981\nSuccessive_Outbidding for punk_id 6638 at index 17319\nSuccessive_Outbidding for punk_id 8643 at index 22897\nDone inspecting bidder: 0xb16386\nPercent done : 33.33%\n\nInspecting bidder: 0x0553de\nDone inspecting bidder: 0x0553de\nPercent done : 66.67%\n\nInspecting bidder: 0x0455ea\nDone inspecting bidder: 0x0455ea\nPercent done : 100.0%\n\nAll bidding inspection done.\n",
     "output_type": "stream"
    },
    {
     "output_type": "execute_result",
     "execution_count": 30,
     "data": {
      "application/vnd.deepnote.dataframe.v3+json": {
       "column_count": 3,
       "row_count": 3,
       "columns": [
        {
         "name": "from",
         "dtype": "object",
         "stats": {
          "unique_count": 3,
          "nan_count": 0,
          "categories": [
           {
            "name": "0xb16386",
            "count": 1
           },
           {
            "name": "0x0553de",
            "count": 1
           },
           {
            "name": "0x0455ea",
            "count": 1
           }
          ]
         }
        },
        {
         "name": "Successive_Outbidding",
         "dtype": "int64",
         "stats": {
          "unique_count": 1,
          "nan_count": 0,
          "min": "0",
          "max": "0",
          "histogram": [
           {
            "bin_start": -0.5,
            "bin_end": -0.4,
            "count": 0
           },
           {
            "bin_start": -0.4,
            "bin_end": -0.3,
            "count": 0
           },
           {
            "bin_start": -0.3,
            "bin_end": -0.19999999999999996,
            "count": 0
           },
           {
            "bin_start": -0.19999999999999996,
            "bin_end": -0.09999999999999998,
            "count": 0
           },
           {
            "bin_start": -0.09999999999999998,
            "bin_end": 0,
            "count": 0
           },
           {
            "bin_start": 0,
            "bin_end": 0.10000000000000009,
            "count": 3
           },
           {
            "bin_start": 0.10000000000000009,
            "bin_end": 0.20000000000000007,
            "count": 0
           },
           {
            "bin_start": 0.20000000000000007,
            "bin_end": 0.30000000000000004,
            "count": 0
           },
           {
            "bin_start": 0.30000000000000004,
            "bin_end": 0.4,
            "count": 0
           },
           {
            "bin_start": 0.4,
            "bin_end": 0.5,
            "count": 0
           }
          ]
         }
        },
        {
         "name": "Bidding_Ratio",
         "dtype": "float64",
         "stats": {
          "unique_count": 3,
          "nan_count": 0,
          "min": "0.17195201917424138",
          "max": "0.31661963905796925",
          "histogram": [
           {
            "bin_start": 0.17195201917424138,
            "bin_end": 0.18641878116261418,
            "count": 1
           },
           {
            "bin_start": 0.18641878116261418,
            "bin_end": 0.20088554315098694,
            "count": 0
           },
           {
            "bin_start": 0.20088554315098694,
            "bin_end": 0.21535230513935974,
            "count": 0
           },
           {
            "bin_start": 0.21535230513935974,
            "bin_end": 0.22981906712773253,
            "count": 0
           },
           {
            "bin_start": 0.22981906712773253,
            "bin_end": 0.2442858291161053,
            "count": 0
           },
           {
            "bin_start": 0.2442858291161053,
            "bin_end": 0.2587525911044781,
            "count": 0
           },
           {
            "bin_start": 0.2587525911044781,
            "bin_end": 0.2732193530928509,
            "count": 0
           },
           {
            "bin_start": 0.2732193530928509,
            "bin_end": 0.28768611508122366,
            "count": 0
           },
           {
            "bin_start": 0.28768611508122366,
            "bin_end": 0.3021528770695965,
            "count": 1
           },
           {
            "bin_start": 0.3021528770695965,
            "bin_end": 0.31661963905796925,
            "count": 1
           }
          ]
         }
        },
        {
         "name": "_deepnote_index_column",
         "dtype": "int64"
        }
       ],
       "rows": [
        {
         "from": "0xb16386",
         "Successive_Outbidding": 0,
         "Bidding_Ratio": 0.296271457300869,
         "_deepnote_index_column": 0
        },
        {
         "from": "0x0553de",
         "Successive_Outbidding": 0,
         "Bidding_Ratio": 0.31661963905796925,
         "_deepnote_index_column": 1
        },
        {
         "from": "0x0455ea",
         "Successive_Outbidding": 0,
         "Bidding_Ratio": 0.17195201917424138,
         "_deepnote_index_column": 2
        }
       ]
      },
      "text/plain": "       from  Successive_Outbidding  Bidding_Ratio\n0  0xb16386                      0           0.30\n1  0x0553de                      0           0.32\n2  0x0455ea                      0           0.17",
      "text/html": "<div>\n<style scoped>\n    .dataframe tbody tr th:only-of-type {\n        vertical-align: middle;\n    }\n\n    .dataframe tbody tr th {\n        vertical-align: top;\n    }\n\n    .dataframe thead th {\n        text-align: right;\n    }\n</style>\n<table border=\"1\" class=\"dataframe\">\n  <thead>\n    <tr style=\"text-align: right;\">\n      <th></th>\n      <th>from</th>\n      <th>Successive_Outbidding</th>\n      <th>Bidding_Ratio</th>\n    </tr>\n  </thead>\n  <tbody>\n    <tr>\n      <th>0</th>\n      <td>0xb16386</td>\n      <td>0</td>\n      <td>0.30</td>\n    </tr>\n    <tr>\n      <th>1</th>\n      <td>0x0553de</td>\n      <td>0</td>\n      <td>0.32</td>\n    </tr>\n    <tr>\n      <th>2</th>\n      <td>0x0455ea</td>\n      <td>0</td>\n      <td>0.17</td>\n    </tr>\n  </tbody>\n</table>\n</div>"
     },
     "metadata": {}
    }
   ]
  },
  {
   "cell_type": "code",
   "metadata": {
    "tags": [],
    "deepnote_to_be_reexecuted": false,
    "source_hash": "2f1e3395",
    "execution_start": 1650215186815,
    "execution_millis": 527,
    "cell_id": "00050-278b3cda-8597-47f9-8cf5-37eaa6691d79",
    "deepnote_cell_type": "code",
    "deepnote_cell_height": 136.125
   },
   "source": "predicted_nft = model.predict(df_nft_transformed_example[['Successive_Outbidding','Bidding_Ratio']])\npredicted_nft",
   "execution_count": null,
   "outputs": [
    {
     "output_type": "execute_result",
     "execution_count": 31,
     "data": {
      "text/plain": "array([0, 0, 0])"
     },
     "metadata": {}
    }
   ]
  },
  {
   "cell_type": "code",
   "metadata": {
    "tags": [],
    "deepnote_to_be_reexecuted": false,
    "source_hash": "8a84e689",
    "execution_start": 1650215186836,
    "execution_millis": 514,
    "cell_id": "00051-c7fc07b0-3740-4a27-855c-e8271a00ea70",
    "deepnote_cell_type": "code",
    "deepnote_cell_height": 848.265625
   },
   "source": "df_nft_transformed_example['Class'] = predicted_nft\n\nall_data['Class'].value_counts().plot.bar().set_title('eBay Data')\nplt.show()\ndf_nft_transformed_example['Class'].value_counts().plot.bar().set_title('NFT Data')\nplt.show()",
   "execution_count": null,
   "outputs": [
    {
     "output_type": "execute_result",
     "execution_count": 32,
     "data": {
      "text/plain": "Text(0.5, 1.0, 'eBay Data')"
     },
     "metadata": {}
    },
    {
     "data": {
      "text/plain": "<Figure size 432x288 with 1 Axes>",
      "image/png": "[encoded data removed]"
     },
     "metadata": {
      "needs_background": "light",
      "image/png": {
       "width": 381,
       "height": 261
      }
     },
     "output_type": "display_data"
    },
    {
     "output_type": "execute_result",
     "execution_count": 32,
     "data": {
      "text/plain": "Text(0.5, 1.0, 'NFT Data')"
     },
     "metadata": {}
    },
    {
     "data": {
      "text/plain": "<Figure size 432x288 with 1 Axes>",
      "image/png": "[encoded data removed]"
     },
     "metadata": {
      "needs_background": "light",
      "image/png": {
       "width": 372,
       "height": 261
      }
     },
     "output_type": "display_data"
    }
   ]
  },
  {
   "cell_type": "markdown",
   "source": "#### **Note: Don't run code below unless you have time to (estimated runtime on budget laptop: 33 minutes)**\n#### It is there as a larger sample size example you can already see the output of\n#### If you still want to run it, type \"continue\" in the prompt\n#### If you want to stop and look at the results already calculated (can still manually run the lines later), type \"quit\"",
   "metadata": {
    "tags": [],
    "cell_id": "00052-fa7c36cc-39d9-48b7-8a7e-0e63d219422c",
    "deepnote_cell_type": "markdown",
    "deepnote_cell_height": 209.90625
   }
  },
  {
   "cell_type": "code",
   "metadata": {
    "tags": [],
    "deepnote_to_be_reexecuted": false,
    "source_hash": "14a9973b",
    "execution_start": 1650215187234,
    "execution_millis": 9354,
    "cell_id": "00053-1ecb9875-7a39-4d07-b2b1-d194c6e0fe06",
    "deepnote_cell_type": "code",
    "deepnote_cell_height": 245.546875
   },
   "source": "from IPython.core.debugger import Pdb; Pdb().set_trace()",
   "execution_count": null,
   "outputs": [
    {
     "name": "stdout",
     "text": "--Call--\n> \u001b[0;32m/shared-libs/python3.9/py-core/lib/python3.9/site-packages/IPython/core/displayhook.py\u001b[0m(252)\u001b[0;36m__call__\u001b[0;34m()\u001b[0m\n\u001b[0;32m    250 \u001b[0;31m        \u001b[0msys\u001b[0m\u001b[0;34m.\u001b[0m\u001b[0mstdout\u001b[0m\u001b[0;34m.\u001b[0m\u001b[0mflush\u001b[0m\u001b[0;34m(\u001b[0m\u001b[0;34m)\u001b[0m\u001b[0;34m\u001b[0m\u001b[0;34m\u001b[0m\u001b[0m\n\u001b[0m\u001b[0;32m    251 \u001b[0;31m\u001b[0;34m\u001b[0m\u001b[0m\n\u001b[0m\u001b[0;32m--> 252 \u001b[0;31m    \u001b[0;32mdef\u001b[0m \u001b[0m__call__\u001b[0m\u001b[0;34m(\u001b[0m\u001b[0mself\u001b[0m\u001b[0;34m,\u001b[0m \u001b[0mresult\u001b[0m\u001b[0;34m=\u001b[0m\u001b[0;32mNone\u001b[0m\u001b[0;34m)\u001b[0m\u001b[0;34m:\u001b[0m\u001b[0;34m\u001b[0m\u001b[0;34m\u001b[0m\u001b[0m\n\u001b[0m\u001b[0;32m    253 \u001b[0;31m        \"\"\"Printing with history cache management.\n\u001b[0m\u001b[0;32m    254 \u001b[0;31m\u001b[0;34m\u001b[0m\u001b[0m\n\u001b[0m\n",
     "output_type": "stream"
    }
   ]
  },
  {
   "cell_type": "code",
   "metadata": {
    "tags": [],
    "deepnote_to_be_reexecuted": false,
    "source_hash": "387cc3b5",
    "execution_start": 1650215196625,
    "execution_millis": 2084569,
    "deepnote_table_state": {
     "pageSize": 10,
     "pageIndex": 9,
     "filters": [],
     "sortBy": []
    },
    "deepnote_table_loading": false,
    "cell_id": "00054-fe266a8f-13d4-47b5-bb72-812936fc131e",
    "deepnote_cell_type": "code",
    "deepnote_cell_height": 1252.9375
   },
   "source": "df_nft_transformed = nft_data_transformer(bidding_threshold = 5, bidders_inspected = 100, verbose = False, random_state=351)\ndf_nft_transformed",
   "execution_count": null,
   "outputs": [
    {
     "name": "stdout",
     "text": "Amount of bidders inspecting: 100\nEstimated time for inspecting: 33.333333333333336 minutes\nInspecting bidder: 0xb16386\nDone inspecting bidder: 0xb16386\nPercent done : 1.0%\n\nInspecting bidder: 0x0553de\nDone inspecting bidder: 0x0553de\nPercent done : 2.0%\n\nInspecting bidder: 0x0455ea\nDone inspecting bidder: 0x0455ea\nPercent done : 3.0%\n\nInspecting bidder: 0xa58ff1\nDone inspecting bidder: 0xa58ff1\nPercent done : 4.0%\n\nInspecting bidder: 0x491be7\nDone inspecting bidder: 0x491be7\nPercent done : 5.0%\n\nInspecting bidder: “cryptop…\nDone inspecting bidder: “cryptop…\nPercent done : 6.0%\n\nInspecting bidder: 0xe3c98c\nDone inspecting bidder: 0xe3c98c\nPercent done : 7.0%\n\nInspecting bidder: 0x483ec3\nDone inspecting bidder: 0x483ec3\nPercent done : 8.0%\n\nInspecting bidder: Kenney\nDone inspecting bidder: Kenney\nPercent done : 9.0%\n\nInspecting bidder: PM_disco…\nDone inspecting bidder: PM_disco…\nPercent done : 10.0%\n\nInspecting bidder: 0xd94be5\nDone inspecting bidder: 0xd94be5\nPercent done : 11.0%\n\nInspecting bidder: 0xe4f0ac\nDone inspecting bidder: 0xe4f0ac\nPercent done : 12.0%\n\nInspecting bidder: 0x8847be\nDone inspecting bidder: 0x8847be\nPercent done : 13.0%\n\nInspecting bidder: 0xdc5556\nDone inspecting bidder: 0xdc5556\nPercent done : 14.0%\n\nInspecting bidder: iandoz\nDone inspecting bidder: iandoz\nPercent done : 15.0%\n\nInspecting bidder: 0xb5b84e\nDone inspecting bidder: 0xb5b84e\nPercent done : 16.0%\n\nInspecting bidder: 0x43588d\nDone inspecting bidder: 0x43588d\nPercent done : 17.0%\n\nInspecting bidder: 0x0d82eb\nDone inspecting bidder: 0x0d82eb\nPercent done : 18.0%\n\nInspecting bidder: cryptobo…\nDone inspecting bidder: cryptobo…\nPercent done : 19.0%\n\nInspecting bidder: niwin\nDone inspecting bidder: niwin\nPercent done : 20.0%\n\nInspecting bidder: 0x7a612b\nDone inspecting bidder: 0x7a612b\nPercent done : 21.0%\n\nInspecting bidder: 0x0e9aed\nDone inspecting bidder: 0x0e9aed\nPercent done : 22.0%\n\nInspecting bidder: goody.et…\nDone inspecting bidder: goody.et…\nPercent done : 23.0%\n\nInspecting bidder: Tschuuul…\nDone inspecting bidder: Tschuuul…\nPercent done : 24.0%\n\nInspecting bidder: sighduck…\nDone inspecting bidder: sighduck…\nPercent done : 25.0%\n\nInspecting bidder: 0xa0a59c\nDone inspecting bidder: 0xa0a59c\nPercent done : 26.0%\n\nInspecting bidder: Nalesnik…\nDone inspecting bidder: Nalesnik…\nPercent done : 27.0%\n\nInspecting bidder: 0xce9000\nDone inspecting bidder: 0xce9000\nPercent done : 28.0%\n\nInspecting bidder: 0xff2854\nDone inspecting bidder: 0xff2854\nPercent done : 29.0%\n\nInspecting bidder: 0x1649b2\nDone inspecting bidder: 0x1649b2\nPercent done : 30.0%\n\nInspecting bidder: dexer.et…\nDone inspecting bidder: dexer.et…\nPercent done : 31.0%\n\nInspecting bidder: Michel_M…\nDone inspecting bidder: Michel_M…\nPercent done : 32.0%\n\nInspecting bidder: 0x99c8ae\nDone inspecting bidder: 0x99c8ae\nPercent done : 33.0%\n\nInspecting bidder: 0xe9137b\nDone inspecting bidder: 0xe9137b\nPercent done : 34.0%\n\nInspecting bidder: 0x279679\nDone inspecting bidder: 0x279679\nPercent done : 35.0%\n\nInspecting bidder: 0x73a6a0\nDone inspecting bidder: 0x73a6a0\nPercent done : 36.0%\n\nInspecting bidder: 0xf3d10d\nDone inspecting bidder: 0xf3d10d\nPercent done : 37.0%\n\nInspecting bidder: 0x9ee4ca\nDone inspecting bidder: 0x9ee4ca\nPercent done : 38.0%\n\nInspecting bidder: runhot99…\nDone inspecting bidder: runhot99…\nPercent done : 39.0%\n\nInspecting bidder: 0x13579f\nDone inspecting bidder: 0x13579f\nPercent done : 40.0%\n\nInspecting bidder: 0xb5e6ac\nDone inspecting bidder: 0xb5e6ac\nPercent done : 41.0%\n\nInspecting bidder: Korniej\nDone inspecting bidder: Korniej\nPercent done : 42.0%\n\nInspecting bidder: 0xd88641\nDone inspecting bidder: 0xd88641\nPercent done : 43.0%\n\nInspecting bidder: 0xcf6165\nDone inspecting bidder: 0xcf6165\nPercent done : 44.0%\n\nInspecting bidder: 0x54ca97\nDone inspecting bidder: 0x54ca97\nPercent done : 45.0%\n\nInspecting bidder: nnscapit…\nDone inspecting bidder: nnscapit…\nPercent done : 46.0%\n\nInspecting bidder: 0x4affe1\nDone inspecting bidder: 0x4affe1\nPercent done : 47.0%\n\nInspecting bidder: charley\nDone inspecting bidder: charley\nPercent done : 48.0%\n\nInspecting bidder: 0x67e095\nDone inspecting bidder: 0x67e095\nPercent done : 49.0%\n\nInspecting bidder: zerog.et…\nDone inspecting bidder: zerog.et…\nPercent done : 50.0%\n\nInspecting bidder: beautifulpunks.eth\nDone inspecting bidder: beautifulpunks.eth\nPercent done : 51.0%\n\nInspecting bidder: 0xdf8b1a\nDone inspecting bidder: 0xdf8b1a\nPercent done : 52.0%\n\nInspecting bidder: 0xce6259\nDone inspecting bidder: 0xce6259\nPercent done : 53.0%\n\nInspecting bidder: 0xca63cd\nDone inspecting bidder: 0xca63cd\nPercent done : 54.0%\n\nInspecting bidder: Pixls\nDone inspecting bidder: Pixls\nPercent done : 55.0%\n\nInspecting bidder: 0xf249bf\nDone inspecting bidder: 0xf249bf\nPercent done : 56.0%\n\nInspecting bidder: 0x8234c5\nDone inspecting bidder: 0x8234c5\nPercent done : 57.0%\n\nInspecting bidder: sexpunks…\nDone inspecting bidder: sexpunks…\nPercent done : 58.0%\n\nInspecting bidder: 0xb166dd\nDone inspecting bidder: 0xb166dd\nPercent done : 59.0%\n\nInspecting bidder: 0x011e44\nDone inspecting bidder: 0x011e44\nPercent done : 60.0%\n\nInspecting bidder: 0x05256b\nDone inspecting bidder: 0x05256b\nPercent done : 61.0%\n\nInspecting bidder: 0x809e1e\nDone inspecting bidder: 0x809e1e\nPercent done : 62.0%\n\nInspecting bidder: 0xe85740\nDone inspecting bidder: 0xe85740\nPercent done : 63.0%\n\nInspecting bidder: AcceptMy…\nDone inspecting bidder: AcceptMy…\nPercent done : 64.0%\n\nInspecting bidder: thegoodn…\nDone inspecting bidder: thegoodn…\nPercent done : 65.0%\n\nInspecting bidder: 0xf3016b\nDone inspecting bidder: 0xf3016b\nPercent done : 66.0%\n\nInspecting bidder: 0x2e2e26\nDone inspecting bidder: 0x2e2e26\nPercent done : 67.0%\n\nInspecting bidder: 0xa14a8d\nDone inspecting bidder: 0xa14a8d\nPercent done : 68.0%\n\nInspecting bidder: Bendicio…\nDone inspecting bidder: Bendicio…\nPercent done : 69.0%\n\nInspecting bidder: 0xdf4c62\nDone inspecting bidder: 0xdf4c62\nPercent done : 70.0%\n\nInspecting bidder: AZonneve…\nDone inspecting bidder: AZonneve…\nPercent done : 71.0%\n\nInspecting bidder: pegsamue…\nDone inspecting bidder: pegsamue…\nPercent done : 72.0%\n\nInspecting bidder: 0xbae25a\nDone inspecting bidder: 0xbae25a\nPercent done : 73.0%\n\nInspecting bidder: 0xa6bb24\nDone inspecting bidder: 0xa6bb24\nPercent done : 74.0%\n\nInspecting bidder: 0x603e3f\nDone inspecting bidder: 0x603e3f\nPercent done : 75.0%\n\nInspecting bidder: 0xff70ec\nDone inspecting bidder: 0xff70ec\nPercent done : 76.0%\n\nInspecting bidder: skidblad…\nDone inspecting bidder: skidblad…\nPercent done : 77.0%\n\nInspecting bidder: 0x9c5703\nDone inspecting bidder: 0x9c5703\nPercent done : 78.0%\n\nInspecting bidder: Gmugr\nDone inspecting bidder: Gmugr\nPercent done : 79.0%\n\nInspecting bidder: 0x4c9692\nDone inspecting bidder: 0x4c9692\nPercent done : 80.0%\n\nInspecting bidder: 0x0154d2\nDone inspecting bidder: 0x0154d2\nPercent done : 81.0%\n\nInspecting bidder: 0xfd2ee1\nDone inspecting bidder: 0xfd2ee1\nPercent done : 82.0%\n\nInspecting bidder: opal.eth\nDone inspecting bidder: opal.eth\nPercent done : 83.0%\n\nInspecting bidder: mintybur…\nDone inspecting bidder: mintybur…\nPercent done : 84.0%\n\nInspecting bidder: tonyherr…\nDone inspecting bidder: tonyherr…\nPercent done : 85.0%\n\nInspecting bidder: 0xe3bf86\nDone inspecting bidder: 0xe3bf86\nPercent done : 86.0%\n\nInspecting bidder: 0xa2dcba\nDone inspecting bidder: 0xa2dcba\nPercent done : 87.0%\n\nInspecting bidder: 0x976644\nDone inspecting bidder: 0x976644\nPercent done : 88.0%\n\nInspecting bidder: 0x08562e\nDone inspecting bidder: 0x08562e\nPercent done : 89.0%\n\nInspecting bidder: Coldie\nDone inspecting bidder: Coldie\nPercent done : 90.0%\n\nInspecting bidder: renaissa…\nDone inspecting bidder: renaissa…\nPercent done : 91.0%\n\nInspecting bidder: daddykal…\nDone inspecting bidder: daddykal…\nPercent done : 92.0%\n\nInspecting bidder: 0x338fd1\nDone inspecting bidder: 0x338fd1\nPercent done : 93.0%\n\nInspecting bidder: 0x23b50b\nDone inspecting bidder: 0x23b50b\nPercent done : 94.0%\n\nInspecting bidder: izebel.e…\nDone inspecting bidder: izebel.e…\nPercent done : 95.0%\n\nInspecting bidder: 0x876878\nDone inspecting bidder: 0x876878\nPercent done : 96.0%\n\nInspecting bidder: Ranger\nDone inspecting bidder: Ranger\nPercent done : 97.0%\n\nInspecting bidder: 0xccf207\nDone inspecting bidder: 0xccf207\nPercent done : 98.0%\n\nInspecting bidder: 0x273c25\nDone inspecting bidder: 0x273c25\nPercent done : 99.0%\n\nInspecting bidder: justinva…\nDone inspecting bidder: justinva…\nPercent done : 100.0%\n\nAll bidding inspection done.\n",
     "output_type": "stream"
    },
    {
     "output_type": "execute_result",
     "execution_count": 40,
     "data": {
      "application/vnd.deepnote.dataframe.v3+json": {
       "column_count": 4,
       "row_count": 100,
       "columns": [
        {
         "name": "from",
         "dtype": "object",
         "stats": {
          "unique_count": 100,
          "nan_count": 0,
          "categories": [
           {
            "name": "0xb16386",
            "count": 1
           },
           {
            "name": "0x0553de",
            "count": 1
           },
           {
            "name": "98 others",
            "count": 98
           }
          ]
         }
        },
        {
         "name": "Successive_Outbidding",
         "dtype": "float64",
         "stats": {
          "unique_count": 3,
          "nan_count": 0,
          "min": "0.0",
          "max": "1.0",
          "histogram": [
           {
            "bin_start": 0,
            "bin_end": 0.1,
            "count": 90
           },
           {
            "bin_start": 0.1,
            "bin_end": 0.2,
            "count": 0
           },
           {
            "bin_start": 0.2,
            "bin_end": 0.30000000000000004,
            "count": 0
           },
           {
            "bin_start": 0.30000000000000004,
            "bin_end": 0.4,
            "count": 0
           },
           {
            "bin_start": 0.4,
            "bin_end": 0.5,
            "count": 0
           },
           {
            "bin_start": 0.5,
            "bin_end": 0.6000000000000001,
            "count": 5
           },
           {
            "bin_start": 0.6000000000000001,
            "bin_end": 0.7000000000000001,
            "count": 0
           },
           {
            "bin_start": 0.7000000000000001,
            "bin_end": 0.8,
            "count": 0
           },
           {
            "bin_start": 0.8,
            "bin_end": 0.9,
            "count": 0
           },
           {
            "bin_start": 0.9,
            "bin_end": 1,
            "count": 5
           }
          ]
         }
        },
        {
         "name": "Bidding_Ratio",
         "dtype": "float64",
         "stats": {
          "unique_count": 100,
          "nan_count": 0,
          "min": "0.059830769914803524",
          "max": "0.8333333333333334",
          "histogram": [
           {
            "bin_start": 0.059830769914803524,
            "bin_end": 0.1371810262566565,
            "count": 6
           },
           {
            "bin_start": 0.1371810262566565,
            "bin_end": 0.21453128259850948,
            "count": 20
           },
           {
            "bin_start": 0.21453128259850948,
            "bin_end": 0.29188153894036245,
            "count": 24
           },
           {
            "bin_start": 0.29188153894036245,
            "bin_end": 0.36923179528221545,
            "count": 24
           },
           {
            "bin_start": 0.36923179528221545,
            "bin_end": 0.44658205162406844,
            "count": 13
           },
           {
            "bin_start": 0.44658205162406844,
            "bin_end": 0.5239323079659214,
            "count": 8
           },
           {
            "bin_start": 0.5239323079659214,
            "bin_end": 0.6012825643077744,
            "count": 2
           },
           {
            "bin_start": 0.6012825643077744,
            "bin_end": 0.6786328206496274,
            "count": 1
           },
           {
            "bin_start": 0.6786328206496274,
            "bin_end": 0.7559830769914804,
            "count": 1
           },
           {
            "bin_start": 0.7559830769914804,
            "bin_end": 0.8333333333333334,
            "count": 1
           }
          ]
         }
        },
        {
         "name": "Class",
         "dtype": "int64",
         "stats": {
          "unique_count": 2,
          "nan_count": 0,
          "min": "0",
          "max": "1",
          "histogram": [
           {
            "bin_start": 0,
            "bin_end": 0.1,
            "count": 91
           },
           {
            "bin_start": 0.1,
            "bin_end": 0.2,
            "count": 0
           },
           {
            "bin_start": 0.2,
            "bin_end": 0.30000000000000004,
            "count": 0
           },
           {
            "bin_start": 0.30000000000000004,
            "bin_end": 0.4,
            "count": 0
           },
           {
            "bin_start": 0.4,
            "bin_end": 0.5,
            "count": 0
           },
           {
            "bin_start": 0.5,
            "bin_end": 0.6000000000000001,
            "count": 0
           },
           {
            "bin_start": 0.6000000000000001,
            "bin_end": 0.7000000000000001,
            "count": 0
           },
           {
            "bin_start": 0.7000000000000001,
            "bin_end": 0.8,
            "count": 0
           },
           {
            "bin_start": 0.8,
            "bin_end": 0.9,
            "count": 0
           },
           {
            "bin_start": 0.9,
            "bin_end": 1,
            "count": 9
           }
          ]
         }
        },
        {
         "name": "_deepnote_index_column",
         "dtype": "int64"
        }
       ],
       "rows": [
        {
         "from": "renaissa…",
         "Successive_Outbidding": 0,
         "Bidding_Ratio": 0.31481296481296484,
         "Class": 0,
         "_deepnote_index_column": 90
        },
        {
         "from": "daddykal…",
         "Successive_Outbidding": 0.5,
         "Bidding_Ratio": 0.2295311603050813,
         "Class": 0,
         "_deepnote_index_column": 91
        },
        {
         "from": "0x338fd1",
         "Successive_Outbidding": 0,
         "Bidding_Ratio": 0.33035714285714285,
         "Class": 0,
         "_deepnote_index_column": 92
        },
        {
         "from": "0x23b50b",
         "Successive_Outbidding": 0,
         "Bidding_Ratio": 0.23497732426303855,
         "Class": 0,
         "_deepnote_index_column": 93
        },
        {
         "from": "izebel.e…",
         "Successive_Outbidding": 0,
         "Bidding_Ratio": 0.217032967032967,
         "Class": 0,
         "_deepnote_index_column": 94
        },
        {
         "from": "0x876878",
         "Successive_Outbidding": 0,
         "Bidding_Ratio": 0.22450396825396826,
         "Class": 0,
         "_deepnote_index_column": 95
        },
        {
         "from": "Ranger",
         "Successive_Outbidding": 0,
         "Bidding_Ratio": 0.2319047619047619,
         "Class": 0,
         "_deepnote_index_column": 96
        },
        {
         "from": "0xccf207",
         "Successive_Outbidding": 0,
         "Bidding_Ratio": 0.45,
         "Class": 0,
         "_deepnote_index_column": 97
        },
        {
         "from": "0x273c25",
         "Successive_Outbidding": 0,
         "Bidding_Ratio": 0.3222222222222222,
         "Class": 0,
         "_deepnote_index_column": 98
        },
        {
         "from": "justinva…",
         "Successive_Outbidding": 0,
         "Bidding_Ratio": 0.5128968253968254,
         "Class": 0,
         "_deepnote_index_column": 99
        }
       ]
      },
      "text/plain": "         from  Successive_Outbidding  Bidding_Ratio  Class\n0    0xb16386                   0.00           0.30      0\n1    0x0553de                   0.00           0.32      0\n2    0x0455ea                   0.00           0.17      0\n3    0xa58ff1                   0.00           0.42      0\n4    0x491be7                   0.00           0.22      0\n..        ...                    ...            ...    ...\n95   0x876878                   0.00           0.22      0\n96     Ranger                   0.00           0.23      0\n97   0xccf207                   0.00           0.45      0\n98   0x273c25                   0.00           0.32      0\n99  justinva…                   0.00           0.51      0\n\n[100 rows x 4 columns]",
      "text/html": "<div>\n<style scoped>\n    .dataframe tbody tr th:only-of-type {\n        vertical-align: middle;\n    }\n\n    .dataframe tbody tr th {\n        vertical-align: top;\n    }\n\n    .dataframe thead th {\n        text-align: right;\n    }\n</style>\n<table border=\"1\" class=\"dataframe\">\n  <thead>\n    <tr style=\"text-align: right;\">\n      <th></th>\n      <th>from</th>\n      <th>Successive_Outbidding</th>\n      <th>Bidding_Ratio</th>\n      <th>Class</th>\n    </tr>\n  </thead>\n  <tbody>\n    <tr>\n      <th>0</th>\n      <td>0xb16386</td>\n      <td>0.00</td>\n      <td>0.30</td>\n      <td>0</td>\n    </tr>\n    <tr>\n      <th>1</th>\n      <td>0x0553de</td>\n      <td>0.00</td>\n      <td>0.32</td>\n      <td>0</td>\n    </tr>\n    <tr>\n      <th>2</th>\n      <td>0x0455ea</td>\n      <td>0.00</td>\n      <td>0.17</td>\n      <td>0</td>\n    </tr>\n    <tr>\n      <th>3</th>\n      <td>0xa58ff1</td>\n      <td>0.00</td>\n      <td>0.42</td>\n      <td>0</td>\n    </tr>\n    <tr>\n      <th>4</th>\n      <td>0x491be7</td>\n      <td>0.00</td>\n      <td>0.22</td>\n      <td>0</td>\n    </tr>\n    <tr>\n      <th>...</th>\n      <td>...</td>\n      <td>...</td>\n      <td>...</td>\n      <td>...</td>\n    </tr>\n    <tr>\n      <th>95</th>\n      <td>0x876878</td>\n      <td>0.00</td>\n      <td>0.22</td>\n      <td>0</td>\n    </tr>\n    <tr>\n      <th>96</th>\n      <td>Ranger</td>\n      <td>0.00</td>\n      <td>0.23</td>\n      <td>0</td>\n    </tr>\n    <tr>\n      <th>97</th>\n      <td>0xccf207</td>\n      <td>0.00</td>\n      <td>0.45</td>\n      <td>0</td>\n    </tr>\n    <tr>\n      <th>98</th>\n      <td>0x273c25</td>\n      <td>0.00</td>\n      <td>0.32</td>\n      <td>0</td>\n    </tr>\n    <tr>\n      <th>99</th>\n      <td>justinva…</td>\n      <td>0.00</td>\n      <td>0.51</td>\n      <td>0</td>\n    </tr>\n  </tbody>\n</table>\n<p>100 rows × 4 columns</p>\n</div>"
     },
     "metadata": {}
    }
   ]
  },
  {
   "cell_type": "code",
   "metadata": {
    "tags": [],
    "deepnote_to_be_reexecuted": false,
    "source_hash": "1b98b9f9",
    "execution_start": 1650217281199,
    "execution_millis": 1225,
    "cell_id": "00055-0a35990e-fa39-4217-bfff-7dd4274d4037",
    "deepnote_cell_type": "code",
    "deepnote_cell_height": 212.875
   },
   "source": "predicted_nft = model.predict(df_nft_transformed[['Successive_Outbidding','Bidding_Ratio']])\npredicted_nft",
   "execution_count": null,
   "outputs": [
    {
     "output_type": "execute_result",
     "execution_count": 35,
     "data": {
      "text/plain": "array([0, 0, 0, 0, 0, 0, 0, 1, 0, 0, 0, 0, 0, 1, 0, 0, 0, 0, 0, 0, 0, 0,\n       0, 0, 0, 0, 0, 0, 0, 1, 0, 1, 0, 0, 0, 1, 0, 0, 1, 0, 0, 0, 0, 0,\n       0, 0, 0, 0, 0, 0, 0, 0, 0, 0, 0, 0, 0, 0, 0, 0, 0, 0, 0, 0, 0, 1,\n       0, 0, 0, 0, 0, 0, 0, 0, 0, 1, 0, 0, 0, 0, 0, 0, 0, 0, 0, 1, 0, 0,\n       0, 0, 0, 0, 0, 0, 0, 0, 0, 0, 0, 0])"
     },
     "metadata": {}
    }
   ]
  },
  {
   "cell_type": "code",
   "metadata": {
    "cell_id": "0b931db56c614bcf8b6772de620ce9d3",
    "tags": [],
    "deepnote_to_be_reexecuted": false,
    "source_hash": "43f9a139",
    "execution_start": 1650218052726,
    "execution_millis": 5,
    "deepnote_cell_type": "code",
    "deepnote_cell_height": 517.875
   },
   "source": "pd.DataFrame(predicted_nft).describe()",
   "execution_count": null,
   "outputs": [
    {
     "output_type": "execute_result",
     "execution_count": 42,
     "data": {
      "application/vnd.deepnote.dataframe.v3+json": {
       "column_count": 1,
       "row_count": 8,
       "columns": [
        {
         "name": 0,
         "dtype": "float64",
         "stats": {
          "unique_count": 5,
          "nan_count": 0,
          "min": "0.0",
          "max": "100.0",
          "histogram": [
           {
            "bin_start": 0,
            "bin_end": 10,
            "count": 7
           },
           {
            "bin_start": 10,
            "bin_end": 20,
            "count": 0
           },
           {
            "bin_start": 20,
            "bin_end": 30,
            "count": 0
           },
           {
            "bin_start": 30,
            "bin_end": 40,
            "count": 0
           },
           {
            "bin_start": 40,
            "bin_end": 50,
            "count": 0
           },
           {
            "bin_start": 50,
            "bin_end": 60,
            "count": 0
           },
           {
            "bin_start": 60,
            "bin_end": 70,
            "count": 0
           },
           {
            "bin_start": 70,
            "bin_end": 80,
            "count": 0
           },
           {
            "bin_start": 80,
            "bin_end": 90,
            "count": 0
           },
           {
            "bin_start": 90,
            "bin_end": 100,
            "count": 1
           }
          ]
         }
        },
        {
         "name": "_deepnote_index_column",
         "dtype": "object"
        }
       ],
       "rows": [
        {
         "0": 100,
         "_deepnote_index_column": "count"
        },
        {
         "0": 0.09,
         "_deepnote_index_column": "mean"
        },
        {
         "0": 0.2876234912646614,
         "_deepnote_index_column": "std"
        },
        {
         "0": 0,
         "_deepnote_index_column": "min"
        },
        {
         "0": 0,
         "_deepnote_index_column": "25%"
        },
        {
         "0": 0,
         "_deepnote_index_column": "50%"
        },
        {
         "0": 0,
         "_deepnote_index_column": "75%"
        },
        {
         "0": 1,
         "_deepnote_index_column": "max"
        }
       ]
      },
      "text/plain": "           0\ncount 100.00\nmean    0.09\nstd     0.29\nmin     0.00\n25%     0.00\n50%     0.00\n75%     0.00\nmax     1.00",
      "text/html": "<div>\n<style scoped>\n    .dataframe tbody tr th:only-of-type {\n        vertical-align: middle;\n    }\n\n    .dataframe tbody tr th {\n        vertical-align: top;\n    }\n\n    .dataframe thead th {\n        text-align: right;\n    }\n</style>\n<table border=\"1\" class=\"dataframe\">\n  <thead>\n    <tr style=\"text-align: right;\">\n      <th></th>\n      <th>0</th>\n    </tr>\n  </thead>\n  <tbody>\n    <tr>\n      <th>count</th>\n      <td>100.00</td>\n    </tr>\n    <tr>\n      <th>mean</th>\n      <td>0.09</td>\n    </tr>\n    <tr>\n      <th>std</th>\n      <td>0.29</td>\n    </tr>\n    <tr>\n      <th>min</th>\n      <td>0.00</td>\n    </tr>\n    <tr>\n      <th>25%</th>\n      <td>0.00</td>\n    </tr>\n    <tr>\n      <th>50%</th>\n      <td>0.00</td>\n    </tr>\n    <tr>\n      <th>75%</th>\n      <td>0.00</td>\n    </tr>\n    <tr>\n      <th>max</th>\n      <td>1.00</td>\n    </tr>\n  </tbody>\n</table>\n</div>"
     },
     "metadata": {}
    }
   ]
  },
  {
   "cell_type": "code",
   "metadata": {
    "tags": [],
    "deepnote_to_be_reexecuted": false,
    "source_hash": "a97f8f30",
    "execution_start": 1650217282346,
    "execution_millis": 384,
    "cell_id": "00057-0f327758-7142-4802-b6c2-373effe868d9",
    "deepnote_cell_type": "code",
    "deepnote_cell_height": 993.921875
   },
   "source": "df_nft_transformed['Class'] = predicted_nft\n\nall_data['Class'].value_counts().plot.bar().set_title('eBay Data')\nplt.show()\nprint(\"% eBay identified as shill bidding:\" + str(round(all_data['Class'].value_counts(\"0\")[1]*100, 2)) + \"%\")\n\ndf_nft_transformed['Class'].value_counts().plot.bar().set_title('NFT Data')\nplt.show()\nprint(\"% NFT identified as shill bidding:\" + str(round(df_nft_transformed['Class'].value_counts(\"0\")[1]*100, 2)) + \"%\")",
   "execution_count": null,
   "outputs": [
    {
     "output_type": "execute_result",
     "execution_count": 37,
     "data": {
      "text/plain": "Text(0.5, 1.0, 'eBay Data')"
     },
     "metadata": {}
    },
    {
     "data": {
      "text/plain": "<Figure size 432x288 with 1 Axes>",
      "image/png": "[encoded data removed]"
     },
     "metadata": {
      "needs_background": "light",
      "image/png": {
       "width": 381,
       "height": 261
      }
     },
     "output_type": "display_data"
    },
    {
     "name": "stdout",
     "text": "% eBay identified as shill bidding:10.68%\n",
     "output_type": "stream"
    },
    {
     "output_type": "execute_result",
     "execution_count": 37,
     "data": {
      "text/plain": "Text(0.5, 1.0, 'NFT Data')"
     },
     "metadata": {}
    },
    {
     "data": {
      "text/plain": "<Figure size 432x288 with 1 Axes>",
      "image/png": "[encoded data removed]"
     },
     "metadata": {
      "needs_background": "light",
      "image/png": {
       "width": 368,
       "height": 261
      }
     },
     "output_type": "display_data"
    },
    {
     "name": "stdout",
     "text": "% NFT identified as shill bidding:9.0%\n",
     "output_type": "stream"
    }
   ]
  },
  {
   "cell_type": "code",
   "metadata": {
    "tags": [],
    "deepnote_to_be_reexecuted": false,
    "source_hash": "20492d58",
    "execution_start": 1650217282732,
    "execution_millis": 438,
    "cell_id": "00058-d062e25c-ea2e-4b2c-ab8b-739356f607dd",
    "deepnote_cell_type": "code",
    "deepnote_cell_height": 818.265625
   },
   "source": "all_data['Successive_Outbidding'].plot.hist().set_title('eBay Data')\nplt.show()\ndf_nft_transformed['Successive_Outbidding'].plot.hist().set_title('NFT Data')\nplt.show()",
   "execution_count": null,
   "outputs": [
    {
     "output_type": "execute_result",
     "execution_count": 38,
     "data": {
      "text/plain": "Text(0.5, 1.0, 'eBay Data')"
     },
     "metadata": {}
    },
    {
     "data": {
      "text/plain": "<Figure size 432x288 with 1 Axes>",
      "image/png": "[encoded data removed]"
     },
     "metadata": {
      "needs_background": "light",
      "image/png": {
       "width": 395,
       "height": 264
      }
     },
     "output_type": "display_data"
    },
    {
     "output_type": "execute_result",
     "execution_count": 38,
     "data": {
      "text/plain": "Text(0.5, 1.0, 'NFT Data')"
     },
     "metadata": {}
    },
    {
     "data": {
      "text/plain": "<Figure size 432x288 with 1 Axes>",
      "image/png": "[encoded data removed]"
     },
     "metadata": {
      "needs_background": "light",
      "image/png": {
       "width": 382,
       "height": 264
      }
     },
     "output_type": "display_data"
    }
   ]
  },
  {
   "cell_type": "code",
   "metadata": {
    "tags": [],
    "deepnote_to_be_reexecuted": false,
    "source_hash": "c993f98e",
    "execution_start": 1650217283171,
    "execution_millis": 617,
    "cell_id": "00059-dca718b0-8757-49de-be6e-90d92c35e7f2",
    "deepnote_cell_type": "code",
    "deepnote_cell_height": 818.265625
   },
   "source": "all_data['Bidding_Ratio'].plot.hist().set_title('eBay Data')\nplt.show()\ndf_nft_transformed['Bidding_Ratio'].plot.hist().set_title('NFT Data')\nplt.show()",
   "execution_count": null,
   "outputs": [
    {
     "output_type": "execute_result",
     "execution_count": 39,
     "data": {
      "text/plain": "Text(0.5, 1.0, 'eBay Data')"
     },
     "metadata": {}
    },
    {
     "data": {
      "text/plain": "<Figure size 432x288 with 1 Axes>",
      "image/png": "[encoded data removed]"
     },
     "metadata": {
      "needs_background": "light",
      "image/png": {
       "width": 395,
       "height": 264
      }
     },
     "output_type": "display_data"
    },
    {
     "output_type": "execute_result",
     "execution_count": 39,
     "data": {
      "text/plain": "Text(0.5, 1.0, 'NFT Data')"
     },
     "metadata": {}
    },
    {
     "data": {
      "text/plain": "<Figure size 432x288 with 1 Axes>",
      "image/png": "[encoded data removed]"
     },
     "metadata": {
      "needs_background": "light",
      "image/png": {
       "width": 382,
       "height": 264
      }
     },
     "output_type": "display_data"
    }
   ]
  },
  {
   "cell_type": "markdown",
   "source": "<a style='text-decoration:none;line-height:16px;display:flex;color:#5B5B62;padding:10px;justify-content:end;' href='https://deepnote.com?utm_source=created-in-deepnote-cell&projectId=7a269480-2437-4c5f-9433-857d32266b58' target=\"_blank\">\n<img alt='Created in deepnote.com' style='display:inline;max-height:16px;margin:0px;margin-right:7.5px;' src='data:image/svg+xml;base64,PD94bWwgdmVyc2lvbj0iMS4wIiBlbmNvZGluZz0iVVRGLTgiPz4KPHN2ZyB3aWR0aD0iODBweCIgaGVpZ2h0PSI4MHB4IiB2aWV3Qm94PSIwIDAgODAgODAiIHZlcnNpb249IjEuMSIgeG1sbnM9Imh0dHA6Ly93d3cudzMub3JnLzIwMDAvc3ZnIiB4bWxuczp4bGluaz0iaHR0cDovL3d3dy53My5vcmcvMTk5OS94bGluayI+CiAgICA8IS0tIEdlbmVyYXRvcjogU2tldGNoIDU0LjEgKDc2NDkwKSAtIGh0dHBzOi8vc2tldGNoYXBwLmNvbSAtLT4KICAgIDx0aXRsZT5Hcm91cCAzPC90aXRsZT4KICAgIDxkZXNjPkNyZWF0ZWQgd2l0aCBTa2V0Y2guPC9kZXNjPgogICAgPGcgaWQ9IkxhbmRpbmciIHN0cm9rZT0ibm9uZSIgc3Ryb2tlLXdpZHRoPSIxIiBmaWxsPSJub25lIiBmaWxsLXJ1bGU9ImV2ZW5vZGQiPgogICAgICAgIDxnIGlkPSJBcnRib2FyZCIgdHJhbnNmb3JtPSJ0cmFuc2xhdGUoLTEyMzUuMDAwMDAwLCAtNzkuMDAwMDAwKSI+CiAgICAgICAgICAgIDxnIGlkPSJHcm91cC0zIiB0cmFuc2Zvcm09InRyYW5zbGF0ZSgxMjM1LjAwMDAwMCwgNzkuMDAwMDAwKSI+CiAgICAgICAgICAgICAgICA8cG9seWdvbiBpZD0iUGF0aC0yMCIgZmlsbD0iIzAyNjVCNCIgcG9pbnRzPSIyLjM3NjIzNzYyIDgwIDM4LjA0NzY2NjcgODAgNTcuODIxNzgyMiA3My44MDU3NTkyIDU3LjgyMTc4MjIgMzIuNzU5MjczOSAzOS4xNDAyMjc4IDMxLjY4MzE2ODMiPjwvcG9seWdvbj4KICAgICAgICAgICAgICAgIDxwYXRoIGQ9Ik0zNS4wMDc3MTgsODAgQzQyLjkwNjIwMDcsNzYuNDU0OTM1OCA0Ny41NjQ5MTY3LDcxLjU0MjI2NzEgNDguOTgzODY2LDY1LjI2MTk5MzkgQzUxLjExMjI4OTksNTUuODQxNTg0MiA0MS42NzcxNzk1LDQ5LjIxMjIyODQgMjUuNjIzOTg0Niw0OS4yMTIyMjg0IEMyNS40ODQ5Mjg5LDQ5LjEyNjg0NDggMjkuODI2MTI5Niw0My4yODM4MjQ4IDM4LjY0NzU4NjksMzEuNjgzMTY4MyBMNzIuODcxMjg3MSwzMi41NTQ0MjUgTDY1LjI4MDk3Myw2Ny42NzYzNDIxIEw1MS4xMTIyODk5LDc3LjM3NjE0NCBMMzUuMDA3NzE4LDgwIFoiIGlkPSJQYXRoLTIyIiBmaWxsPSIjMDAyODY4Ij48L3BhdGg+CiAgICAgICAgICAgICAgICA8cGF0aCBkPSJNMCwzNy43MzA0NDA1IEwyNy4xMTQ1MzcsMC4yNTcxMTE0MzYgQzYyLjM3MTUxMjMsLTEuOTkwNzE3MDEgODAsMTAuNTAwMzkyNyA4MCwzNy43MzA0NDA1IEM4MCw2NC45NjA0ODgyIDY0Ljc3NjUwMzgsNzkuMDUwMzQxNCAzNC4zMjk1MTEzLDgwIEM0Ny4wNTUzNDg5LDc3LjU2NzA4MDggNTMuNDE4MjY3Nyw3MC4zMTM2MTAzIDUzLjQxODI2NzcsNTguMjM5NTg4NSBDNTMuNDE4MjY3Nyw0MC4xMjg1NTU3IDM2LjMwMzk1NDQsMzcuNzMwNDQwNSAyNS4yMjc0MTcsMzcuNzMwNDQwNSBDMTcuODQzMDU4NiwzNy43MzA0NDA1IDkuNDMzOTE5NjYsMzcuNzMwNDQwNSAwLDM3LjczMDQ0MDUgWiIgaWQ9IlBhdGgtMTkiIGZpbGw9IiMzNzkzRUYiPjwvcGF0aD4KICAgICAgICAgICAgPC9nPgogICAgICAgIDwvZz4KICAgIDwvZz4KPC9zdmc+' > </img>\nCreated in <span style='font-weight:600;margin-left:4px;'>Deepnote</span></a>",
   "metadata": {
    "tags": [],
    "created_in_deepnote_cell": true,
    "deepnote_cell_type": "markdown"
   }
  }
 ],
 "nbformat": 4,
 "nbformat_minor": 2,
 "metadata": {
  "orig_nbformat": 2,
  "deepnote": {
   "is_reactive": false
  },
  "deepnote_notebook_id": "c6c6007c-2143-458c-b408-1eebc872e71a",
  "deepnote_execution_queue": []
 }
}